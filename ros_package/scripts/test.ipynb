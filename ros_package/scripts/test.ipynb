{
 "cells": [
  {
   "cell_type": "code",
   "execution_count": 1,
   "metadata": {},
   "outputs": [
    {
     "name": "stdout",
     "output_type": "stream",
     "text": [
      "Ontology loaded. \n"
     ]
    },
    {
     "name": "stderr",
     "output_type": "stream",
     "text": [
      "* Owlready2 * Running Pellet...\n",
      "    /usr/bin/java -Xmx2000M -cp /home/juanmhl/miniconda3/envs/uma-ontology/lib/python3.12/site-packages/owlready2/pellet/jcl-over-slf4j-1.6.4.jar:/home/juanmhl/miniconda3/envs/uma-ontology/lib/python3.12/site-packages/owlready2/pellet/httpcore-4.2.2.jar:/home/juanmhl/miniconda3/envs/uma-ontology/lib/python3.12/site-packages/owlready2/pellet/jena-iri-0.9.5.jar:/home/juanmhl/miniconda3/envs/uma-ontology/lib/python3.12/site-packages/owlready2/pellet/owlapi-distribution-3.4.3-bin.jar:/home/juanmhl/miniconda3/envs/uma-ontology/lib/python3.12/site-packages/owlready2/pellet/slf4j-api-1.6.4.jar:/home/juanmhl/miniconda3/envs/uma-ontology/lib/python3.12/site-packages/owlready2/pellet/xercesImpl-2.10.0.jar:/home/juanmhl/miniconda3/envs/uma-ontology/lib/python3.12/site-packages/owlready2/pellet/slf4j-log4j12-1.6.4.jar:/home/juanmhl/miniconda3/envs/uma-ontology/lib/python3.12/site-packages/owlready2/pellet/jena-tdb-0.10.0.jar:/home/juanmhl/miniconda3/envs/uma-ontology/lib/python3.12/site-packages/owlready2/pellet/jena-arq-2.10.0.jar:/home/juanmhl/miniconda3/envs/uma-ontology/lib/python3.12/site-packages/owlready2/pellet/log4j-core-2.19.0.jar:/home/juanmhl/miniconda3/envs/uma-ontology/lib/python3.12/site-packages/owlready2/pellet/log4j-api-2.19.0.jar:/home/juanmhl/miniconda3/envs/uma-ontology/lib/python3.12/site-packages/owlready2/pellet/jena-core-2.10.0.jar:/home/juanmhl/miniconda3/envs/uma-ontology/lib/python3.12/site-packages/owlready2/pellet/xml-apis-1.4.01.jar:/home/juanmhl/miniconda3/envs/uma-ontology/lib/python3.12/site-packages/owlready2/pellet/httpclient-4.2.3.jar:/home/juanmhl/miniconda3/envs/uma-ontology/lib/python3.12/site-packages/owlready2/pellet/pellet-2.3.1.jar:/home/juanmhl/miniconda3/envs/uma-ontology/lib/python3.12/site-packages/owlready2/pellet/antlr-3.2.jar:/home/juanmhl/miniconda3/envs/uma-ontology/lib/python3.12/site-packages/owlready2/pellet/antlr-runtime-3.2.jar:/home/juanmhl/miniconda3/envs/uma-ontology/lib/python3.12/site-packages/owlready2/pellet/jgrapht-jdk1.5.jar:/home/juanmhl/miniconda3/envs/uma-ontology/lib/python3.12/site-packages/owlready2/pellet/aterm-java-1.6.jar:/home/juanmhl/miniconda3/envs/uma-ontology/lib/python3.12/site-packages/owlready2/pellet/commons-codec-1.6.jar:/home/juanmhl/miniconda3/envs/uma-ontology/lib/python3.12/site-packages/owlready2/pellet/log4j-1.2-api-2.19.0.jar pellet.Pellet realize --loader Jena --input-format N-Triples --infer-prop-values --infer-data-prop-values --ignore-imports /tmp/tmpugzbefmc\n"
     ]
    },
    {
     "name": "stdout",
     "output_type": "stream",
     "text": [
      "After initialization\n",
      "Phase: NONE, Action: NONE, Suture Point: NONE, Near: NONE\n",
      "After start\n",
      "Phase: NONE, Action: NONE, Suture Point: NONE, Near: NONE\n"
     ]
    },
    {
     "name": "stderr",
     "output_type": "stream",
     "text": [
      "* Owlready2 * Pellet took 0.6977951526641846 seconds\n",
      "* Owlready * (NB: only changes on entities loaded in Python are shown, other changes are done but not listed)\n"
     ]
    }
   ],
   "source": [
    "from inferenceengine import *\n",
    "\n",
    "repo_implementation = CommandRepositoryOntology\n",
    "service = InferenceMotorService(repo_implementation)\n",
    "\n",
    "# Initiazlize the service\n",
    "service.initialize(n_points=3, ontology_path='/home/juanmhl/ontology.owl')\n",
    "print('After initialization')\n",
    "print(service.get_command())\n",
    "\n",
    "# Start the service and print the command\n",
    "service.start()\n",
    "print('After start')\n",
    "print(service.get_command())"
   ]
  },
  {
   "cell_type": "code",
   "execution_count": 3,
   "metadata": {},
   "outputs": [],
   "source": [
    "vp1 = [True, False, False, False, False, False, True, [False, False, False]]\n",
    "vp2 = [True, False, False, False, True, False, True, [False, False, False]]\n",
    "vp3 = [True, False, False, False, True, True, False, [False, False, False]]\n",
    "vp4 = [True, True, False, False, True, True, False, [False, False, False]]\n",
    "vp5 = [False, True, False, False, True, True, False, [False, False, False]]\n",
    "vp6 = [False, True, False, True, True, False, False, [False, False, False]]\n",
    "vp7 = [False, True, True, True, False, False, False, [False, False, False]]\n",
    "vp8 = [True, True, True, True, False, False, False, [False, False, False]]\n",
    "vp9 = [True, False, True, True, False, False, False, [False, False, False]]\n",
    "vpt = [True, True, True, True, True, True, True, [False, False, False]]\n",
    "vpf = [False, False, False, False, False, False, False, [False, False, False]]\n",
    "\n",
    "predicates_vectors = [vp1, vp2, vp3, vp4, vp5, vp6, vp7, vp8, vp9, vpt, vpf, vp2, vp3, vp5]"
   ]
  },
  {
   "cell_type": "code",
   "execution_count": 4,
   "metadata": {},
   "outputs": [
    {
     "name": "stderr",
     "output_type": "stream",
     "text": [
      "* Owlready2 * Running Pellet...\n",
      "    /usr/bin/java -Xmx2000M -cp /home/juanmhl/miniconda3/envs/uma-ontology/lib/python3.12/site-packages/owlready2/pellet/jcl-over-slf4j-1.6.4.jar:/home/juanmhl/miniconda3/envs/uma-ontology/lib/python3.12/site-packages/owlready2/pellet/httpcore-4.2.2.jar:/home/juanmhl/miniconda3/envs/uma-ontology/lib/python3.12/site-packages/owlready2/pellet/jena-iri-0.9.5.jar:/home/juanmhl/miniconda3/envs/uma-ontology/lib/python3.12/site-packages/owlready2/pellet/owlapi-distribution-3.4.3-bin.jar:/home/juanmhl/miniconda3/envs/uma-ontology/lib/python3.12/site-packages/owlready2/pellet/slf4j-api-1.6.4.jar:/home/juanmhl/miniconda3/envs/uma-ontology/lib/python3.12/site-packages/owlready2/pellet/xercesImpl-2.10.0.jar:/home/juanmhl/miniconda3/envs/uma-ontology/lib/python3.12/site-packages/owlready2/pellet/slf4j-log4j12-1.6.4.jar:/home/juanmhl/miniconda3/envs/uma-ontology/lib/python3.12/site-packages/owlready2/pellet/jena-tdb-0.10.0.jar:/home/juanmhl/miniconda3/envs/uma-ontology/lib/python3.12/site-packages/owlready2/pellet/jena-arq-2.10.0.jar:/home/juanmhl/miniconda3/envs/uma-ontology/lib/python3.12/site-packages/owlready2/pellet/log4j-core-2.19.0.jar:/home/juanmhl/miniconda3/envs/uma-ontology/lib/python3.12/site-packages/owlready2/pellet/log4j-api-2.19.0.jar:/home/juanmhl/miniconda3/envs/uma-ontology/lib/python3.12/site-packages/owlready2/pellet/jena-core-2.10.0.jar:/home/juanmhl/miniconda3/envs/uma-ontology/lib/python3.12/site-packages/owlready2/pellet/xml-apis-1.4.01.jar:/home/juanmhl/miniconda3/envs/uma-ontology/lib/python3.12/site-packages/owlready2/pellet/httpclient-4.2.3.jar:/home/juanmhl/miniconda3/envs/uma-ontology/lib/python3.12/site-packages/owlready2/pellet/pellet-2.3.1.jar:/home/juanmhl/miniconda3/envs/uma-ontology/lib/python3.12/site-packages/owlready2/pellet/antlr-3.2.jar:/home/juanmhl/miniconda3/envs/uma-ontology/lib/python3.12/site-packages/owlready2/pellet/antlr-runtime-3.2.jar:/home/juanmhl/miniconda3/envs/uma-ontology/lib/python3.12/site-packages/owlready2/pellet/jgrapht-jdk1.5.jar:/home/juanmhl/miniconda3/envs/uma-ontology/lib/python3.12/site-packages/owlready2/pellet/aterm-java-1.6.jar:/home/juanmhl/miniconda3/envs/uma-ontology/lib/python3.12/site-packages/owlready2/pellet/commons-codec-1.6.jar:/home/juanmhl/miniconda3/envs/uma-ontology/lib/python3.12/site-packages/owlready2/pellet/log4j-1.2-api-2.19.0.jar pellet.Pellet realize --loader Jena --input-format N-Triples --infer-prop-values --infer-data-prop-values --ignore-imports /tmp/tmphc1kblz_\n",
      "* Owlready2 * Pellet took 0.5897777080535889 seconds\n",
      "* Owlready * (NB: only changes on entities loaded in Python are shown, other changes are done but not listed)\n",
      "* Owlready2 * Running Pellet...\n",
      "    /usr/bin/java -Xmx2000M -cp /home/juanmhl/miniconda3/envs/uma-ontology/lib/python3.12/site-packages/owlready2/pellet/jcl-over-slf4j-1.6.4.jar:/home/juanmhl/miniconda3/envs/uma-ontology/lib/python3.12/site-packages/owlready2/pellet/httpcore-4.2.2.jar:/home/juanmhl/miniconda3/envs/uma-ontology/lib/python3.12/site-packages/owlready2/pellet/jena-iri-0.9.5.jar:/home/juanmhl/miniconda3/envs/uma-ontology/lib/python3.12/site-packages/owlready2/pellet/owlapi-distribution-3.4.3-bin.jar:/home/juanmhl/miniconda3/envs/uma-ontology/lib/python3.12/site-packages/owlready2/pellet/slf4j-api-1.6.4.jar:/home/juanmhl/miniconda3/envs/uma-ontology/lib/python3.12/site-packages/owlready2/pellet/xercesImpl-2.10.0.jar:/home/juanmhl/miniconda3/envs/uma-ontology/lib/python3.12/site-packages/owlready2/pellet/slf4j-log4j12-1.6.4.jar:/home/juanmhl/miniconda3/envs/uma-ontology/lib/python3.12/site-packages/owlready2/pellet/jena-tdb-0.10.0.jar:/home/juanmhl/miniconda3/envs/uma-ontology/lib/python3.12/site-packages/owlready2/pellet/jena-arq-2.10.0.jar:/home/juanmhl/miniconda3/envs/uma-ontology/lib/python3.12/site-packages/owlready2/pellet/log4j-core-2.19.0.jar:/home/juanmhl/miniconda3/envs/uma-ontology/lib/python3.12/site-packages/owlready2/pellet/log4j-api-2.19.0.jar:/home/juanmhl/miniconda3/envs/uma-ontology/lib/python3.12/site-packages/owlready2/pellet/jena-core-2.10.0.jar:/home/juanmhl/miniconda3/envs/uma-ontology/lib/python3.12/site-packages/owlready2/pellet/xml-apis-1.4.01.jar:/home/juanmhl/miniconda3/envs/uma-ontology/lib/python3.12/site-packages/owlready2/pellet/httpclient-4.2.3.jar:/home/juanmhl/miniconda3/envs/uma-ontology/lib/python3.12/site-packages/owlready2/pellet/pellet-2.3.1.jar:/home/juanmhl/miniconda3/envs/uma-ontology/lib/python3.12/site-packages/owlready2/pellet/antlr-3.2.jar:/home/juanmhl/miniconda3/envs/uma-ontology/lib/python3.12/site-packages/owlready2/pellet/antlr-runtime-3.2.jar:/home/juanmhl/miniconda3/envs/uma-ontology/lib/python3.12/site-packages/owlready2/pellet/jgrapht-jdk1.5.jar:/home/juanmhl/miniconda3/envs/uma-ontology/lib/python3.12/site-packages/owlready2/pellet/aterm-java-1.6.jar:/home/juanmhl/miniconda3/envs/uma-ontology/lib/python3.12/site-packages/owlready2/pellet/commons-codec-1.6.jar:/home/juanmhl/miniconda3/envs/uma-ontology/lib/python3.12/site-packages/owlready2/pellet/log4j-1.2-api-2.19.0.jar pellet.Pellet realize --loader Jena --input-format N-Triples --infer-prop-values --infer-data-prop-values --ignore-imports /tmp/tmpdgx2pyzg\n"
     ]
    },
    {
     "name": "stdout",
     "output_type": "stream",
     "text": [
      "Phase: 1, Action: -DESPLAZAMIENTO_SUTURA_D-, Suture Point: 1, Near: NONE\n"
     ]
    },
    {
     "name": "stderr",
     "output_type": "stream",
     "text": [
      "* Owlready2 * Pellet took 0.6190216541290283 seconds\n",
      "* Owlready * (NB: only changes on entities loaded in Python are shown, other changes are done but not listed)\n",
      "* Owlready2 * Running Pellet...\n",
      "    /usr/bin/java -Xmx2000M -cp /home/juanmhl/miniconda3/envs/uma-ontology/lib/python3.12/site-packages/owlready2/pellet/jcl-over-slf4j-1.6.4.jar:/home/juanmhl/miniconda3/envs/uma-ontology/lib/python3.12/site-packages/owlready2/pellet/httpcore-4.2.2.jar:/home/juanmhl/miniconda3/envs/uma-ontology/lib/python3.12/site-packages/owlready2/pellet/jena-iri-0.9.5.jar:/home/juanmhl/miniconda3/envs/uma-ontology/lib/python3.12/site-packages/owlready2/pellet/owlapi-distribution-3.4.3-bin.jar:/home/juanmhl/miniconda3/envs/uma-ontology/lib/python3.12/site-packages/owlready2/pellet/slf4j-api-1.6.4.jar:/home/juanmhl/miniconda3/envs/uma-ontology/lib/python3.12/site-packages/owlready2/pellet/xercesImpl-2.10.0.jar:/home/juanmhl/miniconda3/envs/uma-ontology/lib/python3.12/site-packages/owlready2/pellet/slf4j-log4j12-1.6.4.jar:/home/juanmhl/miniconda3/envs/uma-ontology/lib/python3.12/site-packages/owlready2/pellet/jena-tdb-0.10.0.jar:/home/juanmhl/miniconda3/envs/uma-ontology/lib/python3.12/site-packages/owlready2/pellet/jena-arq-2.10.0.jar:/home/juanmhl/miniconda3/envs/uma-ontology/lib/python3.12/site-packages/owlready2/pellet/log4j-core-2.19.0.jar:/home/juanmhl/miniconda3/envs/uma-ontology/lib/python3.12/site-packages/owlready2/pellet/log4j-api-2.19.0.jar:/home/juanmhl/miniconda3/envs/uma-ontology/lib/python3.12/site-packages/owlready2/pellet/jena-core-2.10.0.jar:/home/juanmhl/miniconda3/envs/uma-ontology/lib/python3.12/site-packages/owlready2/pellet/xml-apis-1.4.01.jar:/home/juanmhl/miniconda3/envs/uma-ontology/lib/python3.12/site-packages/owlready2/pellet/httpclient-4.2.3.jar:/home/juanmhl/miniconda3/envs/uma-ontology/lib/python3.12/site-packages/owlready2/pellet/pellet-2.3.1.jar:/home/juanmhl/miniconda3/envs/uma-ontology/lib/python3.12/site-packages/owlready2/pellet/antlr-3.2.jar:/home/juanmhl/miniconda3/envs/uma-ontology/lib/python3.12/site-packages/owlready2/pellet/antlr-runtime-3.2.jar:/home/juanmhl/miniconda3/envs/uma-ontology/lib/python3.12/site-packages/owlready2/pellet/jgrapht-jdk1.5.jar:/home/juanmhl/miniconda3/envs/uma-ontology/lib/python3.12/site-packages/owlready2/pellet/aterm-java-1.6.jar:/home/juanmhl/miniconda3/envs/uma-ontology/lib/python3.12/site-packages/owlready2/pellet/commons-codec-1.6.jar:/home/juanmhl/miniconda3/envs/uma-ontology/lib/python3.12/site-packages/owlready2/pellet/log4j-1.2-api-2.19.0.jar pellet.Pellet realize --loader Jena --input-format N-Triples --infer-prop-values --infer-data-prop-values --ignore-imports /tmp/tmpxxkharam\n"
     ]
    },
    {
     "name": "stdout",
     "output_type": "stream",
     "text": [
      "* Owlready * Adding relation ontology.fase2 faseActual true\n",
      "* Owlready * Adding relation ontology.fase3 faseSiguiente true\n",
      "Phase: 2, Action: -DESPLAZAMIENTO_SUTURA_I--PUNCION-, Suture Point: 1, Near: NONE\n"
     ]
    },
    {
     "name": "stderr",
     "output_type": "stream",
     "text": [
      "* Owlready2 * Pellet took 0.5950253009796143 seconds\n",
      "* Owlready * (NB: only changes on entities loaded in Python are shown, other changes are done but not listed)\n",
      "* Owlready2 * Running Pellet...\n",
      "    /usr/bin/java -Xmx2000M -cp /home/juanmhl/miniconda3/envs/uma-ontology/lib/python3.12/site-packages/owlready2/pellet/jcl-over-slf4j-1.6.4.jar:/home/juanmhl/miniconda3/envs/uma-ontology/lib/python3.12/site-packages/owlready2/pellet/httpcore-4.2.2.jar:/home/juanmhl/miniconda3/envs/uma-ontology/lib/python3.12/site-packages/owlready2/pellet/jena-iri-0.9.5.jar:/home/juanmhl/miniconda3/envs/uma-ontology/lib/python3.12/site-packages/owlready2/pellet/owlapi-distribution-3.4.3-bin.jar:/home/juanmhl/miniconda3/envs/uma-ontology/lib/python3.12/site-packages/owlready2/pellet/slf4j-api-1.6.4.jar:/home/juanmhl/miniconda3/envs/uma-ontology/lib/python3.12/site-packages/owlready2/pellet/xercesImpl-2.10.0.jar:/home/juanmhl/miniconda3/envs/uma-ontology/lib/python3.12/site-packages/owlready2/pellet/slf4j-log4j12-1.6.4.jar:/home/juanmhl/miniconda3/envs/uma-ontology/lib/python3.12/site-packages/owlready2/pellet/jena-tdb-0.10.0.jar:/home/juanmhl/miniconda3/envs/uma-ontology/lib/python3.12/site-packages/owlready2/pellet/jena-arq-2.10.0.jar:/home/juanmhl/miniconda3/envs/uma-ontology/lib/python3.12/site-packages/owlready2/pellet/log4j-core-2.19.0.jar:/home/juanmhl/miniconda3/envs/uma-ontology/lib/python3.12/site-packages/owlready2/pellet/log4j-api-2.19.0.jar:/home/juanmhl/miniconda3/envs/uma-ontology/lib/python3.12/site-packages/owlready2/pellet/jena-core-2.10.0.jar:/home/juanmhl/miniconda3/envs/uma-ontology/lib/python3.12/site-packages/owlready2/pellet/xml-apis-1.4.01.jar:/home/juanmhl/miniconda3/envs/uma-ontology/lib/python3.12/site-packages/owlready2/pellet/httpclient-4.2.3.jar:/home/juanmhl/miniconda3/envs/uma-ontology/lib/python3.12/site-packages/owlready2/pellet/pellet-2.3.1.jar:/home/juanmhl/miniconda3/envs/uma-ontology/lib/python3.12/site-packages/owlready2/pellet/antlr-3.2.jar:/home/juanmhl/miniconda3/envs/uma-ontology/lib/python3.12/site-packages/owlready2/pellet/antlr-runtime-3.2.jar:/home/juanmhl/miniconda3/envs/uma-ontology/lib/python3.12/site-packages/owlready2/pellet/jgrapht-jdk1.5.jar:/home/juanmhl/miniconda3/envs/uma-ontology/lib/python3.12/site-packages/owlready2/pellet/aterm-java-1.6.jar:/home/juanmhl/miniconda3/envs/uma-ontology/lib/python3.12/site-packages/owlready2/pellet/commons-codec-1.6.jar:/home/juanmhl/miniconda3/envs/uma-ontology/lib/python3.12/site-packages/owlready2/pellet/log4j-1.2-api-2.19.0.jar pellet.Pellet realize --loader Jena --input-format N-Triples --infer-prop-values --infer-data-prop-values --ignore-imports /tmp/tmpyjomzjhz\n"
     ]
    },
    {
     "name": "stdout",
     "output_type": "stream",
     "text": [
      "* Owlready * Adding relation ontology.fase3 faseActual true\n",
      "* Owlready * Adding relation ontology.fase4 faseSiguiente true\n",
      "Phase: 3, Action: -CIERRE_I-, Suture Point: 1, Near: NONE\n"
     ]
    },
    {
     "name": "stderr",
     "output_type": "stream",
     "text": [
      "* Owlready2 * Pellet took 0.6236603260040283 seconds\n",
      "* Owlready * (NB: only changes on entities loaded in Python are shown, other changes are done but not listed)\n",
      "* Owlready2 * Running Pellet...\n",
      "    /usr/bin/java -Xmx2000M -cp /home/juanmhl/miniconda3/envs/uma-ontology/lib/python3.12/site-packages/owlready2/pellet/jcl-over-slf4j-1.6.4.jar:/home/juanmhl/miniconda3/envs/uma-ontology/lib/python3.12/site-packages/owlready2/pellet/httpcore-4.2.2.jar:/home/juanmhl/miniconda3/envs/uma-ontology/lib/python3.12/site-packages/owlready2/pellet/jena-iri-0.9.5.jar:/home/juanmhl/miniconda3/envs/uma-ontology/lib/python3.12/site-packages/owlready2/pellet/owlapi-distribution-3.4.3-bin.jar:/home/juanmhl/miniconda3/envs/uma-ontology/lib/python3.12/site-packages/owlready2/pellet/slf4j-api-1.6.4.jar:/home/juanmhl/miniconda3/envs/uma-ontology/lib/python3.12/site-packages/owlready2/pellet/xercesImpl-2.10.0.jar:/home/juanmhl/miniconda3/envs/uma-ontology/lib/python3.12/site-packages/owlready2/pellet/slf4j-log4j12-1.6.4.jar:/home/juanmhl/miniconda3/envs/uma-ontology/lib/python3.12/site-packages/owlready2/pellet/jena-tdb-0.10.0.jar:/home/juanmhl/miniconda3/envs/uma-ontology/lib/python3.12/site-packages/owlready2/pellet/jena-arq-2.10.0.jar:/home/juanmhl/miniconda3/envs/uma-ontology/lib/python3.12/site-packages/owlready2/pellet/log4j-core-2.19.0.jar:/home/juanmhl/miniconda3/envs/uma-ontology/lib/python3.12/site-packages/owlready2/pellet/log4j-api-2.19.0.jar:/home/juanmhl/miniconda3/envs/uma-ontology/lib/python3.12/site-packages/owlready2/pellet/jena-core-2.10.0.jar:/home/juanmhl/miniconda3/envs/uma-ontology/lib/python3.12/site-packages/owlready2/pellet/xml-apis-1.4.01.jar:/home/juanmhl/miniconda3/envs/uma-ontology/lib/python3.12/site-packages/owlready2/pellet/httpclient-4.2.3.jar:/home/juanmhl/miniconda3/envs/uma-ontology/lib/python3.12/site-packages/owlready2/pellet/pellet-2.3.1.jar:/home/juanmhl/miniconda3/envs/uma-ontology/lib/python3.12/site-packages/owlready2/pellet/antlr-3.2.jar:/home/juanmhl/miniconda3/envs/uma-ontology/lib/python3.12/site-packages/owlready2/pellet/antlr-runtime-3.2.jar:/home/juanmhl/miniconda3/envs/uma-ontology/lib/python3.12/site-packages/owlready2/pellet/jgrapht-jdk1.5.jar:/home/juanmhl/miniconda3/envs/uma-ontology/lib/python3.12/site-packages/owlready2/pellet/aterm-java-1.6.jar:/home/juanmhl/miniconda3/envs/uma-ontology/lib/python3.12/site-packages/owlready2/pellet/commons-codec-1.6.jar:/home/juanmhl/miniconda3/envs/uma-ontology/lib/python3.12/site-packages/owlready2/pellet/log4j-1.2-api-2.19.0.jar pellet.Pellet realize --loader Jena --input-format N-Triples --infer-prop-values --infer-data-prop-values --ignore-imports /tmp/tmpyh64banb\n"
     ]
    },
    {
     "name": "stdout",
     "output_type": "stream",
     "text": [
      "* Owlready * Adding relation ontology.fase5 faseSiguiente true\n",
      "* Owlready * Adding relation ontology.fase4 faseActual true\n",
      "Phase: 4, Action: -APERTURA_D-, Suture Point: 1, Near: NONE\n"
     ]
    },
    {
     "name": "stderr",
     "output_type": "stream",
     "text": [
      "* Owlready2 * Pellet took 0.6076548099517822 seconds\n",
      "* Owlready * (NB: only changes on entities loaded in Python are shown, other changes are done but not listed)\n",
      "* Owlready2 * Running Pellet...\n",
      "    /usr/bin/java -Xmx2000M -cp /home/juanmhl/miniconda3/envs/uma-ontology/lib/python3.12/site-packages/owlready2/pellet/jcl-over-slf4j-1.6.4.jar:/home/juanmhl/miniconda3/envs/uma-ontology/lib/python3.12/site-packages/owlready2/pellet/httpcore-4.2.2.jar:/home/juanmhl/miniconda3/envs/uma-ontology/lib/python3.12/site-packages/owlready2/pellet/jena-iri-0.9.5.jar:/home/juanmhl/miniconda3/envs/uma-ontology/lib/python3.12/site-packages/owlready2/pellet/owlapi-distribution-3.4.3-bin.jar:/home/juanmhl/miniconda3/envs/uma-ontology/lib/python3.12/site-packages/owlready2/pellet/slf4j-api-1.6.4.jar:/home/juanmhl/miniconda3/envs/uma-ontology/lib/python3.12/site-packages/owlready2/pellet/xercesImpl-2.10.0.jar:/home/juanmhl/miniconda3/envs/uma-ontology/lib/python3.12/site-packages/owlready2/pellet/slf4j-log4j12-1.6.4.jar:/home/juanmhl/miniconda3/envs/uma-ontology/lib/python3.12/site-packages/owlready2/pellet/jena-tdb-0.10.0.jar:/home/juanmhl/miniconda3/envs/uma-ontology/lib/python3.12/site-packages/owlready2/pellet/jena-arq-2.10.0.jar:/home/juanmhl/miniconda3/envs/uma-ontology/lib/python3.12/site-packages/owlready2/pellet/log4j-core-2.19.0.jar:/home/juanmhl/miniconda3/envs/uma-ontology/lib/python3.12/site-packages/owlready2/pellet/log4j-api-2.19.0.jar:/home/juanmhl/miniconda3/envs/uma-ontology/lib/python3.12/site-packages/owlready2/pellet/jena-core-2.10.0.jar:/home/juanmhl/miniconda3/envs/uma-ontology/lib/python3.12/site-packages/owlready2/pellet/xml-apis-1.4.01.jar:/home/juanmhl/miniconda3/envs/uma-ontology/lib/python3.12/site-packages/owlready2/pellet/httpclient-4.2.3.jar:/home/juanmhl/miniconda3/envs/uma-ontology/lib/python3.12/site-packages/owlready2/pellet/pellet-2.3.1.jar:/home/juanmhl/miniconda3/envs/uma-ontology/lib/python3.12/site-packages/owlready2/pellet/antlr-3.2.jar:/home/juanmhl/miniconda3/envs/uma-ontology/lib/python3.12/site-packages/owlready2/pellet/antlr-runtime-3.2.jar:/home/juanmhl/miniconda3/envs/uma-ontology/lib/python3.12/site-packages/owlready2/pellet/jgrapht-jdk1.5.jar:/home/juanmhl/miniconda3/envs/uma-ontology/lib/python3.12/site-packages/owlready2/pellet/aterm-java-1.6.jar:/home/juanmhl/miniconda3/envs/uma-ontology/lib/python3.12/site-packages/owlready2/pellet/commons-codec-1.6.jar:/home/juanmhl/miniconda3/envs/uma-ontology/lib/python3.12/site-packages/owlready2/pellet/log4j-1.2-api-2.19.0.jar pellet.Pellet realize --loader Jena --input-format N-Triples --infer-prop-values --infer-data-prop-values --ignore-imports /tmp/tmp6tqrgznv\n"
     ]
    },
    {
     "name": "stdout",
     "output_type": "stream",
     "text": [
      "* Owlready * Adding relation ontology.fase6 faseSiguiente true\n",
      "* Owlready * Adding relation ontology.fase5 faseActual true\n",
      "Phase: 5, Action: -DESPLAZAMIENTO_CAMBIO_I-, Suture Point: 1, Near: NONE\n"
     ]
    },
    {
     "name": "stderr",
     "output_type": "stream",
     "text": [
      "* Owlready2 * Pellet took 0.6161143779754639 seconds\n",
      "* Owlready * (NB: only changes on entities loaded in Python are shown, other changes are done but not listed)\n",
      "* Owlready2 * Running Pellet...\n",
      "    /usr/bin/java -Xmx2000M -cp /home/juanmhl/miniconda3/envs/uma-ontology/lib/python3.12/site-packages/owlready2/pellet/jcl-over-slf4j-1.6.4.jar:/home/juanmhl/miniconda3/envs/uma-ontology/lib/python3.12/site-packages/owlready2/pellet/httpcore-4.2.2.jar:/home/juanmhl/miniconda3/envs/uma-ontology/lib/python3.12/site-packages/owlready2/pellet/jena-iri-0.9.5.jar:/home/juanmhl/miniconda3/envs/uma-ontology/lib/python3.12/site-packages/owlready2/pellet/owlapi-distribution-3.4.3-bin.jar:/home/juanmhl/miniconda3/envs/uma-ontology/lib/python3.12/site-packages/owlready2/pellet/slf4j-api-1.6.4.jar:/home/juanmhl/miniconda3/envs/uma-ontology/lib/python3.12/site-packages/owlready2/pellet/xercesImpl-2.10.0.jar:/home/juanmhl/miniconda3/envs/uma-ontology/lib/python3.12/site-packages/owlready2/pellet/slf4j-log4j12-1.6.4.jar:/home/juanmhl/miniconda3/envs/uma-ontology/lib/python3.12/site-packages/owlready2/pellet/jena-tdb-0.10.0.jar:/home/juanmhl/miniconda3/envs/uma-ontology/lib/python3.12/site-packages/owlready2/pellet/jena-arq-2.10.0.jar:/home/juanmhl/miniconda3/envs/uma-ontology/lib/python3.12/site-packages/owlready2/pellet/log4j-core-2.19.0.jar:/home/juanmhl/miniconda3/envs/uma-ontology/lib/python3.12/site-packages/owlready2/pellet/log4j-api-2.19.0.jar:/home/juanmhl/miniconda3/envs/uma-ontology/lib/python3.12/site-packages/owlready2/pellet/jena-core-2.10.0.jar:/home/juanmhl/miniconda3/envs/uma-ontology/lib/python3.12/site-packages/owlready2/pellet/xml-apis-1.4.01.jar:/home/juanmhl/miniconda3/envs/uma-ontology/lib/python3.12/site-packages/owlready2/pellet/httpclient-4.2.3.jar:/home/juanmhl/miniconda3/envs/uma-ontology/lib/python3.12/site-packages/owlready2/pellet/pellet-2.3.1.jar:/home/juanmhl/miniconda3/envs/uma-ontology/lib/python3.12/site-packages/owlready2/pellet/antlr-3.2.jar:/home/juanmhl/miniconda3/envs/uma-ontology/lib/python3.12/site-packages/owlready2/pellet/antlr-runtime-3.2.jar:/home/juanmhl/miniconda3/envs/uma-ontology/lib/python3.12/site-packages/owlready2/pellet/jgrapht-jdk1.5.jar:/home/juanmhl/miniconda3/envs/uma-ontology/lib/python3.12/site-packages/owlready2/pellet/aterm-java-1.6.jar:/home/juanmhl/miniconda3/envs/uma-ontology/lib/python3.12/site-packages/owlready2/pellet/commons-codec-1.6.jar:/home/juanmhl/miniconda3/envs/uma-ontology/lib/python3.12/site-packages/owlready2/pellet/log4j-1.2-api-2.19.0.jar pellet.Pellet realize --loader Jena --input-format N-Triples --infer-prop-values --infer-data-prop-values --ignore-imports /tmp/tmpo5vlyz2v\n"
     ]
    },
    {
     "name": "stdout",
     "output_type": "stream",
     "text": [
      "* Owlready * Adding relation ontology.fase6 faseActual true\n",
      "* Owlready * Adding relation ontology.fase7 faseSiguiente true\n",
      "Phase: 6, Action: -DESPLAZAMIENTO_CAMBIO_D-, Suture Point: 1, Near: NONE\n"
     ]
    },
    {
     "name": "stderr",
     "output_type": "stream",
     "text": [
      "* Owlready2 * Pellet took 0.6158807277679443 seconds\n",
      "* Owlready * (NB: only changes on entities loaded in Python are shown, other changes are done but not listed)\n",
      "* Owlready2 * Running Pellet...\n",
      "    /usr/bin/java -Xmx2000M -cp /home/juanmhl/miniconda3/envs/uma-ontology/lib/python3.12/site-packages/owlready2/pellet/jcl-over-slf4j-1.6.4.jar:/home/juanmhl/miniconda3/envs/uma-ontology/lib/python3.12/site-packages/owlready2/pellet/httpcore-4.2.2.jar:/home/juanmhl/miniconda3/envs/uma-ontology/lib/python3.12/site-packages/owlready2/pellet/jena-iri-0.9.5.jar:/home/juanmhl/miniconda3/envs/uma-ontology/lib/python3.12/site-packages/owlready2/pellet/owlapi-distribution-3.4.3-bin.jar:/home/juanmhl/miniconda3/envs/uma-ontology/lib/python3.12/site-packages/owlready2/pellet/slf4j-api-1.6.4.jar:/home/juanmhl/miniconda3/envs/uma-ontology/lib/python3.12/site-packages/owlready2/pellet/xercesImpl-2.10.0.jar:/home/juanmhl/miniconda3/envs/uma-ontology/lib/python3.12/site-packages/owlready2/pellet/slf4j-log4j12-1.6.4.jar:/home/juanmhl/miniconda3/envs/uma-ontology/lib/python3.12/site-packages/owlready2/pellet/jena-tdb-0.10.0.jar:/home/juanmhl/miniconda3/envs/uma-ontology/lib/python3.12/site-packages/owlready2/pellet/jena-arq-2.10.0.jar:/home/juanmhl/miniconda3/envs/uma-ontology/lib/python3.12/site-packages/owlready2/pellet/log4j-core-2.19.0.jar:/home/juanmhl/miniconda3/envs/uma-ontology/lib/python3.12/site-packages/owlready2/pellet/log4j-api-2.19.0.jar:/home/juanmhl/miniconda3/envs/uma-ontology/lib/python3.12/site-packages/owlready2/pellet/jena-core-2.10.0.jar:/home/juanmhl/miniconda3/envs/uma-ontology/lib/python3.12/site-packages/owlready2/pellet/xml-apis-1.4.01.jar:/home/juanmhl/miniconda3/envs/uma-ontology/lib/python3.12/site-packages/owlready2/pellet/httpclient-4.2.3.jar:/home/juanmhl/miniconda3/envs/uma-ontology/lib/python3.12/site-packages/owlready2/pellet/pellet-2.3.1.jar:/home/juanmhl/miniconda3/envs/uma-ontology/lib/python3.12/site-packages/owlready2/pellet/antlr-3.2.jar:/home/juanmhl/miniconda3/envs/uma-ontology/lib/python3.12/site-packages/owlready2/pellet/antlr-runtime-3.2.jar:/home/juanmhl/miniconda3/envs/uma-ontology/lib/python3.12/site-packages/owlready2/pellet/jgrapht-jdk1.5.jar:/home/juanmhl/miniconda3/envs/uma-ontology/lib/python3.12/site-packages/owlready2/pellet/aterm-java-1.6.jar:/home/juanmhl/miniconda3/envs/uma-ontology/lib/python3.12/site-packages/owlready2/pellet/commons-codec-1.6.jar:/home/juanmhl/miniconda3/envs/uma-ontology/lib/python3.12/site-packages/owlready2/pellet/log4j-1.2-api-2.19.0.jar pellet.Pellet realize --loader Jena --input-format N-Triples --infer-prop-values --infer-data-prop-values --ignore-imports /tmp/tmpel7h_mdy\n"
     ]
    },
    {
     "name": "stdout",
     "output_type": "stream",
     "text": [
      "* Owlready * Adding relation ontology.fase8 faseSiguiente true\n",
      "* Owlready * Adding relation ontology.fase7 faseActual true\n",
      "Phase: 7, Action: -CIERRE_D-, Suture Point: 1, Near: NONE\n"
     ]
    },
    {
     "name": "stderr",
     "output_type": "stream",
     "text": [
      "* Owlready2 * Pellet took 0.6093587875366211 seconds\n",
      "* Owlready * (NB: only changes on entities loaded in Python are shown, other changes are done but not listed)\n",
      "* Owlready2 * Running Pellet...\n",
      "    /usr/bin/java -Xmx2000M -cp /home/juanmhl/miniconda3/envs/uma-ontology/lib/python3.12/site-packages/owlready2/pellet/jcl-over-slf4j-1.6.4.jar:/home/juanmhl/miniconda3/envs/uma-ontology/lib/python3.12/site-packages/owlready2/pellet/httpcore-4.2.2.jar:/home/juanmhl/miniconda3/envs/uma-ontology/lib/python3.12/site-packages/owlready2/pellet/jena-iri-0.9.5.jar:/home/juanmhl/miniconda3/envs/uma-ontology/lib/python3.12/site-packages/owlready2/pellet/owlapi-distribution-3.4.3-bin.jar:/home/juanmhl/miniconda3/envs/uma-ontology/lib/python3.12/site-packages/owlready2/pellet/slf4j-api-1.6.4.jar:/home/juanmhl/miniconda3/envs/uma-ontology/lib/python3.12/site-packages/owlready2/pellet/xercesImpl-2.10.0.jar:/home/juanmhl/miniconda3/envs/uma-ontology/lib/python3.12/site-packages/owlready2/pellet/slf4j-log4j12-1.6.4.jar:/home/juanmhl/miniconda3/envs/uma-ontology/lib/python3.12/site-packages/owlready2/pellet/jena-tdb-0.10.0.jar:/home/juanmhl/miniconda3/envs/uma-ontology/lib/python3.12/site-packages/owlready2/pellet/jena-arq-2.10.0.jar:/home/juanmhl/miniconda3/envs/uma-ontology/lib/python3.12/site-packages/owlready2/pellet/log4j-core-2.19.0.jar:/home/juanmhl/miniconda3/envs/uma-ontology/lib/python3.12/site-packages/owlready2/pellet/log4j-api-2.19.0.jar:/home/juanmhl/miniconda3/envs/uma-ontology/lib/python3.12/site-packages/owlready2/pellet/jena-core-2.10.0.jar:/home/juanmhl/miniconda3/envs/uma-ontology/lib/python3.12/site-packages/owlready2/pellet/xml-apis-1.4.01.jar:/home/juanmhl/miniconda3/envs/uma-ontology/lib/python3.12/site-packages/owlready2/pellet/httpclient-4.2.3.jar:/home/juanmhl/miniconda3/envs/uma-ontology/lib/python3.12/site-packages/owlready2/pellet/pellet-2.3.1.jar:/home/juanmhl/miniconda3/envs/uma-ontology/lib/python3.12/site-packages/owlready2/pellet/antlr-3.2.jar:/home/juanmhl/miniconda3/envs/uma-ontology/lib/python3.12/site-packages/owlready2/pellet/antlr-runtime-3.2.jar:/home/juanmhl/miniconda3/envs/uma-ontology/lib/python3.12/site-packages/owlready2/pellet/jgrapht-jdk1.5.jar:/home/juanmhl/miniconda3/envs/uma-ontology/lib/python3.12/site-packages/owlready2/pellet/aterm-java-1.6.jar:/home/juanmhl/miniconda3/envs/uma-ontology/lib/python3.12/site-packages/owlready2/pellet/commons-codec-1.6.jar:/home/juanmhl/miniconda3/envs/uma-ontology/lib/python3.12/site-packages/owlready2/pellet/log4j-1.2-api-2.19.0.jar pellet.Pellet realize --loader Jena --input-format N-Triples --infer-prop-values --infer-data-prop-values --ignore-imports /tmp/tmpk1uluf8g\n"
     ]
    },
    {
     "name": "stdout",
     "output_type": "stream",
     "text": [
      "* Owlready * Adding relation ontology.fase9 faseSiguiente true\n",
      "* Owlready * Adding relation ontology.fase8 faseActual true\n",
      "Phase: 8, Action: -APERTURA_I-, Suture Point: 1, Near: NONE\n"
     ]
    },
    {
     "name": "stderr",
     "output_type": "stream",
     "text": [
      "* Owlready2 * Pellet took 0.5895118713378906 seconds\n",
      "* Owlready * (NB: only changes on entities loaded in Python are shown, other changes are done but not listed)\n",
      "* Owlready2 * Running Pellet...\n",
      "    /usr/bin/java -Xmx2000M -cp /home/juanmhl/miniconda3/envs/uma-ontology/lib/python3.12/site-packages/owlready2/pellet/jcl-over-slf4j-1.6.4.jar:/home/juanmhl/miniconda3/envs/uma-ontology/lib/python3.12/site-packages/owlready2/pellet/httpcore-4.2.2.jar:/home/juanmhl/miniconda3/envs/uma-ontology/lib/python3.12/site-packages/owlready2/pellet/jena-iri-0.9.5.jar:/home/juanmhl/miniconda3/envs/uma-ontology/lib/python3.12/site-packages/owlready2/pellet/owlapi-distribution-3.4.3-bin.jar:/home/juanmhl/miniconda3/envs/uma-ontology/lib/python3.12/site-packages/owlready2/pellet/slf4j-api-1.6.4.jar:/home/juanmhl/miniconda3/envs/uma-ontology/lib/python3.12/site-packages/owlready2/pellet/xercesImpl-2.10.0.jar:/home/juanmhl/miniconda3/envs/uma-ontology/lib/python3.12/site-packages/owlready2/pellet/slf4j-log4j12-1.6.4.jar:/home/juanmhl/miniconda3/envs/uma-ontology/lib/python3.12/site-packages/owlready2/pellet/jena-tdb-0.10.0.jar:/home/juanmhl/miniconda3/envs/uma-ontology/lib/python3.12/site-packages/owlready2/pellet/jena-arq-2.10.0.jar:/home/juanmhl/miniconda3/envs/uma-ontology/lib/python3.12/site-packages/owlready2/pellet/log4j-core-2.19.0.jar:/home/juanmhl/miniconda3/envs/uma-ontology/lib/python3.12/site-packages/owlready2/pellet/log4j-api-2.19.0.jar:/home/juanmhl/miniconda3/envs/uma-ontology/lib/python3.12/site-packages/owlready2/pellet/jena-core-2.10.0.jar:/home/juanmhl/miniconda3/envs/uma-ontology/lib/python3.12/site-packages/owlready2/pellet/xml-apis-1.4.01.jar:/home/juanmhl/miniconda3/envs/uma-ontology/lib/python3.12/site-packages/owlready2/pellet/httpclient-4.2.3.jar:/home/juanmhl/miniconda3/envs/uma-ontology/lib/python3.12/site-packages/owlready2/pellet/pellet-2.3.1.jar:/home/juanmhl/miniconda3/envs/uma-ontology/lib/python3.12/site-packages/owlready2/pellet/antlr-3.2.jar:/home/juanmhl/miniconda3/envs/uma-ontology/lib/python3.12/site-packages/owlready2/pellet/antlr-runtime-3.2.jar:/home/juanmhl/miniconda3/envs/uma-ontology/lib/python3.12/site-packages/owlready2/pellet/jgrapht-jdk1.5.jar:/home/juanmhl/miniconda3/envs/uma-ontology/lib/python3.12/site-packages/owlready2/pellet/aterm-java-1.6.jar:/home/juanmhl/miniconda3/envs/uma-ontology/lib/python3.12/site-packages/owlready2/pellet/commons-codec-1.6.jar:/home/juanmhl/miniconda3/envs/uma-ontology/lib/python3.12/site-packages/owlready2/pellet/log4j-1.2-api-2.19.0.jar pellet.Pellet realize --loader Jena --input-format N-Triples --infer-prop-values --infer-data-prop-values --ignore-imports /tmp/tmp4o7bvsn6\n"
     ]
    },
    {
     "name": "stdout",
     "output_type": "stream",
     "text": [
      "* Owlready * Adding relation ontology.fase9 faseActual true\n",
      "* Owlready * Adding relation ontology.fase2 faseSiguiente true\n",
      "Phase: 9, Action: -DESPLAZAMIENTO_SUTURA_D-, Suture Point: 1, Near: NONE\n"
     ]
    },
    {
     "name": "stderr",
     "output_type": "stream",
     "text": [
      "* Owlready2 * Pellet took 0.5812511444091797 seconds\n",
      "* Owlready * (NB: only changes on entities loaded in Python are shown, other changes are done but not listed)\n",
      "* Owlready2 * Running Pellet...\n",
      "    /usr/bin/java -Xmx2000M -cp /home/juanmhl/miniconda3/envs/uma-ontology/lib/python3.12/site-packages/owlready2/pellet/jcl-over-slf4j-1.6.4.jar:/home/juanmhl/miniconda3/envs/uma-ontology/lib/python3.12/site-packages/owlready2/pellet/httpcore-4.2.2.jar:/home/juanmhl/miniconda3/envs/uma-ontology/lib/python3.12/site-packages/owlready2/pellet/jena-iri-0.9.5.jar:/home/juanmhl/miniconda3/envs/uma-ontology/lib/python3.12/site-packages/owlready2/pellet/owlapi-distribution-3.4.3-bin.jar:/home/juanmhl/miniconda3/envs/uma-ontology/lib/python3.12/site-packages/owlready2/pellet/slf4j-api-1.6.4.jar:/home/juanmhl/miniconda3/envs/uma-ontology/lib/python3.12/site-packages/owlready2/pellet/xercesImpl-2.10.0.jar:/home/juanmhl/miniconda3/envs/uma-ontology/lib/python3.12/site-packages/owlready2/pellet/slf4j-log4j12-1.6.4.jar:/home/juanmhl/miniconda3/envs/uma-ontology/lib/python3.12/site-packages/owlready2/pellet/jena-tdb-0.10.0.jar:/home/juanmhl/miniconda3/envs/uma-ontology/lib/python3.12/site-packages/owlready2/pellet/jena-arq-2.10.0.jar:/home/juanmhl/miniconda3/envs/uma-ontology/lib/python3.12/site-packages/owlready2/pellet/log4j-core-2.19.0.jar:/home/juanmhl/miniconda3/envs/uma-ontology/lib/python3.12/site-packages/owlready2/pellet/log4j-api-2.19.0.jar:/home/juanmhl/miniconda3/envs/uma-ontology/lib/python3.12/site-packages/owlready2/pellet/jena-core-2.10.0.jar:/home/juanmhl/miniconda3/envs/uma-ontology/lib/python3.12/site-packages/owlready2/pellet/xml-apis-1.4.01.jar:/home/juanmhl/miniconda3/envs/uma-ontology/lib/python3.12/site-packages/owlready2/pellet/httpclient-4.2.3.jar:/home/juanmhl/miniconda3/envs/uma-ontology/lib/python3.12/site-packages/owlready2/pellet/pellet-2.3.1.jar:/home/juanmhl/miniconda3/envs/uma-ontology/lib/python3.12/site-packages/owlready2/pellet/antlr-3.2.jar:/home/juanmhl/miniconda3/envs/uma-ontology/lib/python3.12/site-packages/owlready2/pellet/antlr-runtime-3.2.jar:/home/juanmhl/miniconda3/envs/uma-ontology/lib/python3.12/site-packages/owlready2/pellet/jgrapht-jdk1.5.jar:/home/juanmhl/miniconda3/envs/uma-ontology/lib/python3.12/site-packages/owlready2/pellet/aterm-java-1.6.jar:/home/juanmhl/miniconda3/envs/uma-ontology/lib/python3.12/site-packages/owlready2/pellet/commons-codec-1.6.jar:/home/juanmhl/miniconda3/envs/uma-ontology/lib/python3.12/site-packages/owlready2/pellet/log4j-1.2-api-2.19.0.jar pellet.Pellet realize --loader Jena --input-format N-Triples --infer-prop-values --infer-data-prop-values --ignore-imports /tmp/tmpzf59m843\n"
     ]
    },
    {
     "name": "stdout",
     "output_type": "stream",
     "text": [
      "Phase: NONE, Action: , Suture Point: 1, Near: NONE\n"
     ]
    },
    {
     "name": "stderr",
     "output_type": "stream",
     "text": [
      "* Owlready2 * Pellet took 0.6171543598175049 seconds\n",
      "* Owlready * (NB: only changes on entities loaded in Python are shown, other changes are done but not listed)\n",
      "* Owlready2 * Running Pellet...\n",
      "    /usr/bin/java -Xmx2000M -cp /home/juanmhl/miniconda3/envs/uma-ontology/lib/python3.12/site-packages/owlready2/pellet/jcl-over-slf4j-1.6.4.jar:/home/juanmhl/miniconda3/envs/uma-ontology/lib/python3.12/site-packages/owlready2/pellet/httpcore-4.2.2.jar:/home/juanmhl/miniconda3/envs/uma-ontology/lib/python3.12/site-packages/owlready2/pellet/jena-iri-0.9.5.jar:/home/juanmhl/miniconda3/envs/uma-ontology/lib/python3.12/site-packages/owlready2/pellet/owlapi-distribution-3.4.3-bin.jar:/home/juanmhl/miniconda3/envs/uma-ontology/lib/python3.12/site-packages/owlready2/pellet/slf4j-api-1.6.4.jar:/home/juanmhl/miniconda3/envs/uma-ontology/lib/python3.12/site-packages/owlready2/pellet/xercesImpl-2.10.0.jar:/home/juanmhl/miniconda3/envs/uma-ontology/lib/python3.12/site-packages/owlready2/pellet/slf4j-log4j12-1.6.4.jar:/home/juanmhl/miniconda3/envs/uma-ontology/lib/python3.12/site-packages/owlready2/pellet/jena-tdb-0.10.0.jar:/home/juanmhl/miniconda3/envs/uma-ontology/lib/python3.12/site-packages/owlready2/pellet/jena-arq-2.10.0.jar:/home/juanmhl/miniconda3/envs/uma-ontology/lib/python3.12/site-packages/owlready2/pellet/log4j-core-2.19.0.jar:/home/juanmhl/miniconda3/envs/uma-ontology/lib/python3.12/site-packages/owlready2/pellet/log4j-api-2.19.0.jar:/home/juanmhl/miniconda3/envs/uma-ontology/lib/python3.12/site-packages/owlready2/pellet/jena-core-2.10.0.jar:/home/juanmhl/miniconda3/envs/uma-ontology/lib/python3.12/site-packages/owlready2/pellet/xml-apis-1.4.01.jar:/home/juanmhl/miniconda3/envs/uma-ontology/lib/python3.12/site-packages/owlready2/pellet/httpclient-4.2.3.jar:/home/juanmhl/miniconda3/envs/uma-ontology/lib/python3.12/site-packages/owlready2/pellet/pellet-2.3.1.jar:/home/juanmhl/miniconda3/envs/uma-ontology/lib/python3.12/site-packages/owlready2/pellet/antlr-3.2.jar:/home/juanmhl/miniconda3/envs/uma-ontology/lib/python3.12/site-packages/owlready2/pellet/antlr-runtime-3.2.jar:/home/juanmhl/miniconda3/envs/uma-ontology/lib/python3.12/site-packages/owlready2/pellet/jgrapht-jdk1.5.jar:/home/juanmhl/miniconda3/envs/uma-ontology/lib/python3.12/site-packages/owlready2/pellet/aterm-java-1.6.jar:/home/juanmhl/miniconda3/envs/uma-ontology/lib/python3.12/site-packages/owlready2/pellet/commons-codec-1.6.jar:/home/juanmhl/miniconda3/envs/uma-ontology/lib/python3.12/site-packages/owlready2/pellet/log4j-1.2-api-2.19.0.jar pellet.Pellet realize --loader Jena --input-format N-Triples --infer-prop-values --infer-data-prop-values --ignore-imports /tmp/tmpolb31_w3\n"
     ]
    },
    {
     "name": "stdout",
     "output_type": "stream",
     "text": [
      "Phase: NONE, Action: , Suture Point: 1, Near: NONE\n"
     ]
    },
    {
     "name": "stderr",
     "output_type": "stream",
     "text": [
      "* Owlready2 * Pellet took 0.6029071807861328 seconds\n",
      "* Owlready * (NB: only changes on entities loaded in Python are shown, other changes are done but not listed)\n",
      "* Owlready2 * Running Pellet...\n",
      "    /usr/bin/java -Xmx2000M -cp /home/juanmhl/miniconda3/envs/uma-ontology/lib/python3.12/site-packages/owlready2/pellet/jcl-over-slf4j-1.6.4.jar:/home/juanmhl/miniconda3/envs/uma-ontology/lib/python3.12/site-packages/owlready2/pellet/httpcore-4.2.2.jar:/home/juanmhl/miniconda3/envs/uma-ontology/lib/python3.12/site-packages/owlready2/pellet/jena-iri-0.9.5.jar:/home/juanmhl/miniconda3/envs/uma-ontology/lib/python3.12/site-packages/owlready2/pellet/owlapi-distribution-3.4.3-bin.jar:/home/juanmhl/miniconda3/envs/uma-ontology/lib/python3.12/site-packages/owlready2/pellet/slf4j-api-1.6.4.jar:/home/juanmhl/miniconda3/envs/uma-ontology/lib/python3.12/site-packages/owlready2/pellet/xercesImpl-2.10.0.jar:/home/juanmhl/miniconda3/envs/uma-ontology/lib/python3.12/site-packages/owlready2/pellet/slf4j-log4j12-1.6.4.jar:/home/juanmhl/miniconda3/envs/uma-ontology/lib/python3.12/site-packages/owlready2/pellet/jena-tdb-0.10.0.jar:/home/juanmhl/miniconda3/envs/uma-ontology/lib/python3.12/site-packages/owlready2/pellet/jena-arq-2.10.0.jar:/home/juanmhl/miniconda3/envs/uma-ontology/lib/python3.12/site-packages/owlready2/pellet/log4j-core-2.19.0.jar:/home/juanmhl/miniconda3/envs/uma-ontology/lib/python3.12/site-packages/owlready2/pellet/log4j-api-2.19.0.jar:/home/juanmhl/miniconda3/envs/uma-ontology/lib/python3.12/site-packages/owlready2/pellet/jena-core-2.10.0.jar:/home/juanmhl/miniconda3/envs/uma-ontology/lib/python3.12/site-packages/owlready2/pellet/xml-apis-1.4.01.jar:/home/juanmhl/miniconda3/envs/uma-ontology/lib/python3.12/site-packages/owlready2/pellet/httpclient-4.2.3.jar:/home/juanmhl/miniconda3/envs/uma-ontology/lib/python3.12/site-packages/owlready2/pellet/pellet-2.3.1.jar:/home/juanmhl/miniconda3/envs/uma-ontology/lib/python3.12/site-packages/owlready2/pellet/antlr-3.2.jar:/home/juanmhl/miniconda3/envs/uma-ontology/lib/python3.12/site-packages/owlready2/pellet/antlr-runtime-3.2.jar:/home/juanmhl/miniconda3/envs/uma-ontology/lib/python3.12/site-packages/owlready2/pellet/jgrapht-jdk1.5.jar:/home/juanmhl/miniconda3/envs/uma-ontology/lib/python3.12/site-packages/owlready2/pellet/aterm-java-1.6.jar:/home/juanmhl/miniconda3/envs/uma-ontology/lib/python3.12/site-packages/owlready2/pellet/commons-codec-1.6.jar:/home/juanmhl/miniconda3/envs/uma-ontology/lib/python3.12/site-packages/owlready2/pellet/log4j-1.2-api-2.19.0.jar pellet.Pellet realize --loader Jena --input-format N-Triples --infer-prop-values --infer-data-prop-values --ignore-imports /tmp/tmpa1t4_yo2\n"
     ]
    },
    {
     "name": "stdout",
     "output_type": "stream",
     "text": [
      "* Owlready * Adding relation ontology.fase2 faseActual true\n",
      "* Owlready * Adding relation ontology.fase3 faseSiguiente true\n",
      "Phase: 2, Action: -DESPLAZAMIENTO_SUTURA_I--PUNCION-, Suture Point: 1, Near: NONE\n"
     ]
    },
    {
     "name": "stderr",
     "output_type": "stream",
     "text": [
      "* Owlready2 * Pellet took 0.6010851860046387 seconds\n",
      "* Owlready * (NB: only changes on entities loaded in Python are shown, other changes are done but not listed)\n",
      "* Owlready2 * Running Pellet...\n",
      "    /usr/bin/java -Xmx2000M -cp /home/juanmhl/miniconda3/envs/uma-ontology/lib/python3.12/site-packages/owlready2/pellet/jcl-over-slf4j-1.6.4.jar:/home/juanmhl/miniconda3/envs/uma-ontology/lib/python3.12/site-packages/owlready2/pellet/httpcore-4.2.2.jar:/home/juanmhl/miniconda3/envs/uma-ontology/lib/python3.12/site-packages/owlready2/pellet/jena-iri-0.9.5.jar:/home/juanmhl/miniconda3/envs/uma-ontology/lib/python3.12/site-packages/owlready2/pellet/owlapi-distribution-3.4.3-bin.jar:/home/juanmhl/miniconda3/envs/uma-ontology/lib/python3.12/site-packages/owlready2/pellet/slf4j-api-1.6.4.jar:/home/juanmhl/miniconda3/envs/uma-ontology/lib/python3.12/site-packages/owlready2/pellet/xercesImpl-2.10.0.jar:/home/juanmhl/miniconda3/envs/uma-ontology/lib/python3.12/site-packages/owlready2/pellet/slf4j-log4j12-1.6.4.jar:/home/juanmhl/miniconda3/envs/uma-ontology/lib/python3.12/site-packages/owlready2/pellet/jena-tdb-0.10.0.jar:/home/juanmhl/miniconda3/envs/uma-ontology/lib/python3.12/site-packages/owlready2/pellet/jena-arq-2.10.0.jar:/home/juanmhl/miniconda3/envs/uma-ontology/lib/python3.12/site-packages/owlready2/pellet/log4j-core-2.19.0.jar:/home/juanmhl/miniconda3/envs/uma-ontology/lib/python3.12/site-packages/owlready2/pellet/log4j-api-2.19.0.jar:/home/juanmhl/miniconda3/envs/uma-ontology/lib/python3.12/site-packages/owlready2/pellet/jena-core-2.10.0.jar:/home/juanmhl/miniconda3/envs/uma-ontology/lib/python3.12/site-packages/owlready2/pellet/xml-apis-1.4.01.jar:/home/juanmhl/miniconda3/envs/uma-ontology/lib/python3.12/site-packages/owlready2/pellet/httpclient-4.2.3.jar:/home/juanmhl/miniconda3/envs/uma-ontology/lib/python3.12/site-packages/owlready2/pellet/pellet-2.3.1.jar:/home/juanmhl/miniconda3/envs/uma-ontology/lib/python3.12/site-packages/owlready2/pellet/antlr-3.2.jar:/home/juanmhl/miniconda3/envs/uma-ontology/lib/python3.12/site-packages/owlready2/pellet/antlr-runtime-3.2.jar:/home/juanmhl/miniconda3/envs/uma-ontology/lib/python3.12/site-packages/owlready2/pellet/jgrapht-jdk1.5.jar:/home/juanmhl/miniconda3/envs/uma-ontology/lib/python3.12/site-packages/owlready2/pellet/aterm-java-1.6.jar:/home/juanmhl/miniconda3/envs/uma-ontology/lib/python3.12/site-packages/owlready2/pellet/commons-codec-1.6.jar:/home/juanmhl/miniconda3/envs/uma-ontology/lib/python3.12/site-packages/owlready2/pellet/log4j-1.2-api-2.19.0.jar pellet.Pellet realize --loader Jena --input-format N-Triples --infer-prop-values --infer-data-prop-values --ignore-imports /tmp/tmpa40n9j25\n"
     ]
    },
    {
     "name": "stdout",
     "output_type": "stream",
     "text": [
      "* Owlready * Adding relation ontology.fase3 faseActual true\n",
      "* Owlready * Adding relation ontology.fase4 faseSiguiente true\n",
      "Phase: 3, Action: -CIERRE_I-, Suture Point: 1, Near: NONE\n",
      "* Owlready * Adding relation ontology.fase6 faseSiguiente true\n",
      "* Owlready * Adding relation ontology.fase5 faseActual true\n",
      "Phase: 5, Action: -DESPLAZAMIENTO_CAMBIO_I-, Suture Point: 1, Near: NONE\n"
     ]
    },
    {
     "name": "stderr",
     "output_type": "stream",
     "text": [
      "* Owlready2 * Pellet took 0.6062474250793457 seconds\n",
      "* Owlready * (NB: only changes on entities loaded in Python are shown, other changes are done but not listed)\n"
     ]
    }
   ],
   "source": [
    "for vp in predicates_vectors:\n",
    "    comando = service.step(vp)\n",
    "    print(comando)"
   ]
  },
  {
   "cell_type": "code",
   "execution_count": 7,
   "metadata": {},
   "outputs": [
    {
     "name": "stderr",
     "output_type": "stream",
     "text": [
      "* Owlready2 * Running Pellet...\n",
      "    /usr/bin/java -Xmx2000M -cp /home/juanmhl/miniconda3/envs/uma-ontology/lib/python3.12/site-packages/owlready2/pellet/jcl-over-slf4j-1.6.4.jar:/home/juanmhl/miniconda3/envs/uma-ontology/lib/python3.12/site-packages/owlready2/pellet/httpcore-4.2.2.jar:/home/juanmhl/miniconda3/envs/uma-ontology/lib/python3.12/site-packages/owlready2/pellet/jena-iri-0.9.5.jar:/home/juanmhl/miniconda3/envs/uma-ontology/lib/python3.12/site-packages/owlready2/pellet/owlapi-distribution-3.4.3-bin.jar:/home/juanmhl/miniconda3/envs/uma-ontology/lib/python3.12/site-packages/owlready2/pellet/slf4j-api-1.6.4.jar:/home/juanmhl/miniconda3/envs/uma-ontology/lib/python3.12/site-packages/owlready2/pellet/xercesImpl-2.10.0.jar:/home/juanmhl/miniconda3/envs/uma-ontology/lib/python3.12/site-packages/owlready2/pellet/slf4j-log4j12-1.6.4.jar:/home/juanmhl/miniconda3/envs/uma-ontology/lib/python3.12/site-packages/owlready2/pellet/jena-tdb-0.10.0.jar:/home/juanmhl/miniconda3/envs/uma-ontology/lib/python3.12/site-packages/owlready2/pellet/jena-arq-2.10.0.jar:/home/juanmhl/miniconda3/envs/uma-ontology/lib/python3.12/site-packages/owlready2/pellet/log4j-core-2.19.0.jar:/home/juanmhl/miniconda3/envs/uma-ontology/lib/python3.12/site-packages/owlready2/pellet/log4j-api-2.19.0.jar:/home/juanmhl/miniconda3/envs/uma-ontology/lib/python3.12/site-packages/owlready2/pellet/jena-core-2.10.0.jar:/home/juanmhl/miniconda3/envs/uma-ontology/lib/python3.12/site-packages/owlready2/pellet/xml-apis-1.4.01.jar:/home/juanmhl/miniconda3/envs/uma-ontology/lib/python3.12/site-packages/owlready2/pellet/httpclient-4.2.3.jar:/home/juanmhl/miniconda3/envs/uma-ontology/lib/python3.12/site-packages/owlready2/pellet/pellet-2.3.1.jar:/home/juanmhl/miniconda3/envs/uma-ontology/lib/python3.12/site-packages/owlready2/pellet/antlr-3.2.jar:/home/juanmhl/miniconda3/envs/uma-ontology/lib/python3.12/site-packages/owlready2/pellet/antlr-runtime-3.2.jar:/home/juanmhl/miniconda3/envs/uma-ontology/lib/python3.12/site-packages/owlready2/pellet/jgrapht-jdk1.5.jar:/home/juanmhl/miniconda3/envs/uma-ontology/lib/python3.12/site-packages/owlready2/pellet/aterm-java-1.6.jar:/home/juanmhl/miniconda3/envs/uma-ontology/lib/python3.12/site-packages/owlready2/pellet/commons-codec-1.6.jar:/home/juanmhl/miniconda3/envs/uma-ontology/lib/python3.12/site-packages/owlready2/pellet/log4j-1.2-api-2.19.0.jar pellet.Pellet realize --loader Jena --input-format N-Triples --infer-prop-values --infer-data-prop-values --ignore-imports /tmp/tmpfme2a_fx\n"
     ]
    },
    {
     "name": "stdout",
     "output_type": "stream",
     "text": [
      "Phase: NONE, Action: , Suture Point: 2, Near: NONE\n"
     ]
    },
    {
     "name": "stderr",
     "output_type": "stream",
     "text": [
      "* Owlready2 * Pellet took 0.6178429126739502 seconds\n",
      "* Owlready * (NB: only changes on entities loaded in Python are shown, other changes are done but not listed)\n"
     ]
    }
   ],
   "source": [
    "print(service.step([False, True, True, True, False, False, False, [True, False, False]]))"
   ]
  },
  {
   "cell_type": "code",
   "execution_count": 6,
   "metadata": {},
   "outputs": [
    {
     "name": "stderr",
     "output_type": "stream",
     "text": [
      "* Owlready2 * Running Pellet...\n",
      "    /usr/bin/java -Xmx2000M -cp /home/juanmhl/miniconda3/envs/uma-ontology/lib/python3.12/site-packages/owlready2/pellet/jcl-over-slf4j-1.6.4.jar:/home/juanmhl/miniconda3/envs/uma-ontology/lib/python3.12/site-packages/owlready2/pellet/httpcore-4.2.2.jar:/home/juanmhl/miniconda3/envs/uma-ontology/lib/python3.12/site-packages/owlready2/pellet/jena-iri-0.9.5.jar:/home/juanmhl/miniconda3/envs/uma-ontology/lib/python3.12/site-packages/owlready2/pellet/owlapi-distribution-3.4.3-bin.jar:/home/juanmhl/miniconda3/envs/uma-ontology/lib/python3.12/site-packages/owlready2/pellet/slf4j-api-1.6.4.jar:/home/juanmhl/miniconda3/envs/uma-ontology/lib/python3.12/site-packages/owlready2/pellet/xercesImpl-2.10.0.jar:/home/juanmhl/miniconda3/envs/uma-ontology/lib/python3.12/site-packages/owlready2/pellet/slf4j-log4j12-1.6.4.jar:/home/juanmhl/miniconda3/envs/uma-ontology/lib/python3.12/site-packages/owlready2/pellet/jena-tdb-0.10.0.jar:/home/juanmhl/miniconda3/envs/uma-ontology/lib/python3.12/site-packages/owlready2/pellet/jena-arq-2.10.0.jar:/home/juanmhl/miniconda3/envs/uma-ontology/lib/python3.12/site-packages/owlready2/pellet/log4j-core-2.19.0.jar:/home/juanmhl/miniconda3/envs/uma-ontology/lib/python3.12/site-packages/owlready2/pellet/log4j-api-2.19.0.jar:/home/juanmhl/miniconda3/envs/uma-ontology/lib/python3.12/site-packages/owlready2/pellet/jena-core-2.10.0.jar:/home/juanmhl/miniconda3/envs/uma-ontology/lib/python3.12/site-packages/owlready2/pellet/xml-apis-1.4.01.jar:/home/juanmhl/miniconda3/envs/uma-ontology/lib/python3.12/site-packages/owlready2/pellet/httpclient-4.2.3.jar:/home/juanmhl/miniconda3/envs/uma-ontology/lib/python3.12/site-packages/owlready2/pellet/pellet-2.3.1.jar:/home/juanmhl/miniconda3/envs/uma-ontology/lib/python3.12/site-packages/owlready2/pellet/antlr-3.2.jar:/home/juanmhl/miniconda3/envs/uma-ontology/lib/python3.12/site-packages/owlready2/pellet/antlr-runtime-3.2.jar:/home/juanmhl/miniconda3/envs/uma-ontology/lib/python3.12/site-packages/owlready2/pellet/jgrapht-jdk1.5.jar:/home/juanmhl/miniconda3/envs/uma-ontology/lib/python3.12/site-packages/owlready2/pellet/aterm-java-1.6.jar:/home/juanmhl/miniconda3/envs/uma-ontology/lib/python3.12/site-packages/owlready2/pellet/commons-codec-1.6.jar:/home/juanmhl/miniconda3/envs/uma-ontology/lib/python3.12/site-packages/owlready2/pellet/log4j-1.2-api-2.19.0.jar pellet.Pellet realize --loader Jena --input-format N-Triples --infer-prop-values --infer-data-prop-values --ignore-imports /tmp/tmp86z5xs1l\n"
     ]
    },
    {
     "name": "stdout",
     "output_type": "stream",
     "text": [
      "Phase: NONE, Action: , Suture Point: 2, Near: NONE\n"
     ]
    },
    {
     "name": "stderr",
     "output_type": "stream",
     "text": [
      "* Owlready2 * Pellet took 0.6374077796936035 seconds\n",
      "* Owlready * (NB: only changes on entities loaded in Python are shown, other changes are done but not listed)\n"
     ]
    }
   ],
   "source": [
    "print(service.step([False, True, True, True, False, False, False, [False, False, False]]))"
   ]
  },
  {
   "cell_type": "code",
   "execution_count": 8,
   "metadata": {},
   "outputs": [
    {
     "name": "stderr",
     "output_type": "stream",
     "text": [
      "* Owlready2 * Running Pellet...\n",
      "    /usr/bin/java -Xmx2000M -cp /home/juanmhl/miniconda3/envs/uma-ontology/lib/python3.12/site-packages/owlready2/pellet/jcl-over-slf4j-1.6.4.jar:/home/juanmhl/miniconda3/envs/uma-ontology/lib/python3.12/site-packages/owlready2/pellet/httpcore-4.2.2.jar:/home/juanmhl/miniconda3/envs/uma-ontology/lib/python3.12/site-packages/owlready2/pellet/jena-iri-0.9.5.jar:/home/juanmhl/miniconda3/envs/uma-ontology/lib/python3.12/site-packages/owlready2/pellet/owlapi-distribution-3.4.3-bin.jar:/home/juanmhl/miniconda3/envs/uma-ontology/lib/python3.12/site-packages/owlready2/pellet/slf4j-api-1.6.4.jar:/home/juanmhl/miniconda3/envs/uma-ontology/lib/python3.12/site-packages/owlready2/pellet/xercesImpl-2.10.0.jar:/home/juanmhl/miniconda3/envs/uma-ontology/lib/python3.12/site-packages/owlready2/pellet/slf4j-log4j12-1.6.4.jar:/home/juanmhl/miniconda3/envs/uma-ontology/lib/python3.12/site-packages/owlready2/pellet/jena-tdb-0.10.0.jar:/home/juanmhl/miniconda3/envs/uma-ontology/lib/python3.12/site-packages/owlready2/pellet/jena-arq-2.10.0.jar:/home/juanmhl/miniconda3/envs/uma-ontology/lib/python3.12/site-packages/owlready2/pellet/log4j-core-2.19.0.jar:/home/juanmhl/miniconda3/envs/uma-ontology/lib/python3.12/site-packages/owlready2/pellet/log4j-api-2.19.0.jar:/home/juanmhl/miniconda3/envs/uma-ontology/lib/python3.12/site-packages/owlready2/pellet/jena-core-2.10.0.jar:/home/juanmhl/miniconda3/envs/uma-ontology/lib/python3.12/site-packages/owlready2/pellet/xml-apis-1.4.01.jar:/home/juanmhl/miniconda3/envs/uma-ontology/lib/python3.12/site-packages/owlready2/pellet/httpclient-4.2.3.jar:/home/juanmhl/miniconda3/envs/uma-ontology/lib/python3.12/site-packages/owlready2/pellet/pellet-2.3.1.jar:/home/juanmhl/miniconda3/envs/uma-ontology/lib/python3.12/site-packages/owlready2/pellet/antlr-3.2.jar:/home/juanmhl/miniconda3/envs/uma-ontology/lib/python3.12/site-packages/owlready2/pellet/antlr-runtime-3.2.jar:/home/juanmhl/miniconda3/envs/uma-ontology/lib/python3.12/site-packages/owlready2/pellet/jgrapht-jdk1.5.jar:/home/juanmhl/miniconda3/envs/uma-ontology/lib/python3.12/site-packages/owlready2/pellet/aterm-java-1.6.jar:/home/juanmhl/miniconda3/envs/uma-ontology/lib/python3.12/site-packages/owlready2/pellet/commons-codec-1.6.jar:/home/juanmhl/miniconda3/envs/uma-ontology/lib/python3.12/site-packages/owlready2/pellet/log4j-1.2-api-2.19.0.jar pellet.Pellet realize --loader Jena --input-format N-Triples --infer-prop-values --infer-data-prop-values --ignore-imports /tmp/tmp1k_edrey\n"
     ]
    },
    {
     "name": "stdout",
     "output_type": "stream",
     "text": [
      "* Owlready * Adding relation ontology.aperturaD accionEjecutable ontology.ps2\n",
      "* Owlready * Adding relation ontology.aperturaI accionEjecutable ontology.ps2\n",
      "* Owlready * Adding relation ontology.fase5 faseSiguiente true\n",
      "* Owlready * Adding relation ontology.fase9 faseSiguiente true\n",
      "* Owlready * Adding relation ontology.fase8 faseActual true\n",
      "* Owlready * Adding relation ontology.fase4 faseActual true\n",
      "Phase: 8, Action: -APERTURA_I-, Suture Point: 2, Near: NONE\n"
     ]
    },
    {
     "name": "stderr",
     "output_type": "stream",
     "text": [
      "* Owlready2 * Pellet took 0.6169302463531494 seconds\n",
      "* Owlready * (NB: only changes on entities loaded in Python are shown, other changes are done but not listed)\n"
     ]
    }
   ],
   "source": [
    "print(service.step(vp4))"
   ]
  },
  {
   "cell_type": "code",
   "execution_count": 3,
   "metadata": {},
   "outputs": [
    {
     "name": "stdout",
     "output_type": "stream",
     "text": [
      "Ontology loaded. \n"
     ]
    },
    {
     "name": "stderr",
     "output_type": "stream",
     "text": [
      "* Owlready2 * Running Pellet...\n",
      "    /usr/bin/java -Xmx2000M -cp /home/juanmhl/miniconda3/envs/uma-ontology/lib/python3.12/site-packages/owlready2/pellet/jcl-over-slf4j-1.6.4.jar:/home/juanmhl/miniconda3/envs/uma-ontology/lib/python3.12/site-packages/owlready2/pellet/httpcore-4.2.2.jar:/home/juanmhl/miniconda3/envs/uma-ontology/lib/python3.12/site-packages/owlready2/pellet/jena-iri-0.9.5.jar:/home/juanmhl/miniconda3/envs/uma-ontology/lib/python3.12/site-packages/owlready2/pellet/owlapi-distribution-3.4.3-bin.jar:/home/juanmhl/miniconda3/envs/uma-ontology/lib/python3.12/site-packages/owlready2/pellet/slf4j-api-1.6.4.jar:/home/juanmhl/miniconda3/envs/uma-ontology/lib/python3.12/site-packages/owlready2/pellet/xercesImpl-2.10.0.jar:/home/juanmhl/miniconda3/envs/uma-ontology/lib/python3.12/site-packages/owlready2/pellet/slf4j-log4j12-1.6.4.jar:/home/juanmhl/miniconda3/envs/uma-ontology/lib/python3.12/site-packages/owlready2/pellet/jena-tdb-0.10.0.jar:/home/juanmhl/miniconda3/envs/uma-ontology/lib/python3.12/site-packages/owlready2/pellet/jena-arq-2.10.0.jar:/home/juanmhl/miniconda3/envs/uma-ontology/lib/python3.12/site-packages/owlready2/pellet/log4j-core-2.19.0.jar:/home/juanmhl/miniconda3/envs/uma-ontology/lib/python3.12/site-packages/owlready2/pellet/log4j-api-2.19.0.jar:/home/juanmhl/miniconda3/envs/uma-ontology/lib/python3.12/site-packages/owlready2/pellet/jena-core-2.10.0.jar:/home/juanmhl/miniconda3/envs/uma-ontology/lib/python3.12/site-packages/owlready2/pellet/xml-apis-1.4.01.jar:/home/juanmhl/miniconda3/envs/uma-ontology/lib/python3.12/site-packages/owlready2/pellet/httpclient-4.2.3.jar:/home/juanmhl/miniconda3/envs/uma-ontology/lib/python3.12/site-packages/owlready2/pellet/pellet-2.3.1.jar:/home/juanmhl/miniconda3/envs/uma-ontology/lib/python3.12/site-packages/owlready2/pellet/antlr-3.2.jar:/home/juanmhl/miniconda3/envs/uma-ontology/lib/python3.12/site-packages/owlready2/pellet/antlr-runtime-3.2.jar:/home/juanmhl/miniconda3/envs/uma-ontology/lib/python3.12/site-packages/owlready2/pellet/jgrapht-jdk1.5.jar:/home/juanmhl/miniconda3/envs/uma-ontology/lib/python3.12/site-packages/owlready2/pellet/aterm-java-1.6.jar:/home/juanmhl/miniconda3/envs/uma-ontology/lib/python3.12/site-packages/owlready2/pellet/commons-codec-1.6.jar:/home/juanmhl/miniconda3/envs/uma-ontology/lib/python3.12/site-packages/owlready2/pellet/log4j-1.2-api-2.19.0.jar pellet.Pellet realize --loader Jena --input-format N-Triples --infer-prop-values --infer-data-prop-values --ignore-imports /tmp/tmpilwc65yk\n"
     ]
    },
    {
     "name": "stdout",
     "output_type": "stream",
     "text": [
      "After initialization\n",
      "Phase: NONE, Action: NONE, Suture Point: NONE, Near: NONE\n",
      "After start\n",
      "Phase: NONE, Action: NONE, Suture Point: NONE, Near: NONE\n"
     ]
    },
    {
     "name": "stderr",
     "output_type": "stream",
     "text": [
      "* Owlready2 * Pellet took 0.6382155418395996 seconds\n",
      "* Owlready * (NB: only changes on entities loaded in Python are shown, other changes are done but not listed)\n"
     ]
    }
   ],
   "source": [
    "from inferenceengine import *\n",
    "\n",
    "repo_implementation = CommandRepositoryOntology\n",
    "service = InferenceMotorService(repo_implementation)\n",
    "\n",
    "# Initiazlize the service\n",
    "service.initialize(n_points=3, ontology_path='/home/juanmhl/ontology.owl')\n",
    "print('After initialization')\n",
    "print(service.get_command())\n",
    "\n",
    "# Start the service and print the command\n",
    "service.start()\n",
    "print('After start')\n",
    "print(service.get_command())"
   ]
  },
  {
   "cell_type": "code",
   "execution_count": 4,
   "metadata": {},
   "outputs": [
    {
     "name": "stderr",
     "output_type": "stream",
     "text": [
      "* Owlready2 * Running Pellet...\n",
      "    /usr/bin/java -Xmx2000M -cp /home/juanmhl/miniconda3/envs/uma-ontology/lib/python3.12/site-packages/owlready2/pellet/jcl-over-slf4j-1.6.4.jar:/home/juanmhl/miniconda3/envs/uma-ontology/lib/python3.12/site-packages/owlready2/pellet/httpcore-4.2.2.jar:/home/juanmhl/miniconda3/envs/uma-ontology/lib/python3.12/site-packages/owlready2/pellet/jena-iri-0.9.5.jar:/home/juanmhl/miniconda3/envs/uma-ontology/lib/python3.12/site-packages/owlready2/pellet/owlapi-distribution-3.4.3-bin.jar:/home/juanmhl/miniconda3/envs/uma-ontology/lib/python3.12/site-packages/owlready2/pellet/slf4j-api-1.6.4.jar:/home/juanmhl/miniconda3/envs/uma-ontology/lib/python3.12/site-packages/owlready2/pellet/xercesImpl-2.10.0.jar:/home/juanmhl/miniconda3/envs/uma-ontology/lib/python3.12/site-packages/owlready2/pellet/slf4j-log4j12-1.6.4.jar:/home/juanmhl/miniconda3/envs/uma-ontology/lib/python3.12/site-packages/owlready2/pellet/jena-tdb-0.10.0.jar:/home/juanmhl/miniconda3/envs/uma-ontology/lib/python3.12/site-packages/owlready2/pellet/jena-arq-2.10.0.jar:/home/juanmhl/miniconda3/envs/uma-ontology/lib/python3.12/site-packages/owlready2/pellet/log4j-core-2.19.0.jar:/home/juanmhl/miniconda3/envs/uma-ontology/lib/python3.12/site-packages/owlready2/pellet/log4j-api-2.19.0.jar:/home/juanmhl/miniconda3/envs/uma-ontology/lib/python3.12/site-packages/owlready2/pellet/jena-core-2.10.0.jar:/home/juanmhl/miniconda3/envs/uma-ontology/lib/python3.12/site-packages/owlready2/pellet/xml-apis-1.4.01.jar:/home/juanmhl/miniconda3/envs/uma-ontology/lib/python3.12/site-packages/owlready2/pellet/httpclient-4.2.3.jar:/home/juanmhl/miniconda3/envs/uma-ontology/lib/python3.12/site-packages/owlready2/pellet/pellet-2.3.1.jar:/home/juanmhl/miniconda3/envs/uma-ontology/lib/python3.12/site-packages/owlready2/pellet/antlr-3.2.jar:/home/juanmhl/miniconda3/envs/uma-ontology/lib/python3.12/site-packages/owlready2/pellet/antlr-runtime-3.2.jar:/home/juanmhl/miniconda3/envs/uma-ontology/lib/python3.12/site-packages/owlready2/pellet/jgrapht-jdk1.5.jar:/home/juanmhl/miniconda3/envs/uma-ontology/lib/python3.12/site-packages/owlready2/pellet/aterm-java-1.6.jar:/home/juanmhl/miniconda3/envs/uma-ontology/lib/python3.12/site-packages/owlready2/pellet/commons-codec-1.6.jar:/home/juanmhl/miniconda3/envs/uma-ontology/lib/python3.12/site-packages/owlready2/pellet/log4j-1.2-api-2.19.0.jar pellet.Pellet realize --loader Jena --input-format N-Triples --infer-prop-values --infer-data-prop-values --ignore-imports /tmp/tmpag7ckwtv\n",
      "* Owlready2 * Pellet took 0.6554021835327148 seconds\n",
      "* Owlready * (NB: only changes on entities loaded in Python are shown, other changes are done but not listed)\n",
      "* Owlready2 * Running Pellet...\n",
      "    /usr/bin/java -Xmx2000M -cp /home/juanmhl/miniconda3/envs/uma-ontology/lib/python3.12/site-packages/owlready2/pellet/jcl-over-slf4j-1.6.4.jar:/home/juanmhl/miniconda3/envs/uma-ontology/lib/python3.12/site-packages/owlready2/pellet/httpcore-4.2.2.jar:/home/juanmhl/miniconda3/envs/uma-ontology/lib/python3.12/site-packages/owlready2/pellet/jena-iri-0.9.5.jar:/home/juanmhl/miniconda3/envs/uma-ontology/lib/python3.12/site-packages/owlready2/pellet/owlapi-distribution-3.4.3-bin.jar:/home/juanmhl/miniconda3/envs/uma-ontology/lib/python3.12/site-packages/owlready2/pellet/slf4j-api-1.6.4.jar:/home/juanmhl/miniconda3/envs/uma-ontology/lib/python3.12/site-packages/owlready2/pellet/xercesImpl-2.10.0.jar:/home/juanmhl/miniconda3/envs/uma-ontology/lib/python3.12/site-packages/owlready2/pellet/slf4j-log4j12-1.6.4.jar:/home/juanmhl/miniconda3/envs/uma-ontology/lib/python3.12/site-packages/owlready2/pellet/jena-tdb-0.10.0.jar:/home/juanmhl/miniconda3/envs/uma-ontology/lib/python3.12/site-packages/owlready2/pellet/jena-arq-2.10.0.jar:/home/juanmhl/miniconda3/envs/uma-ontology/lib/python3.12/site-packages/owlready2/pellet/log4j-core-2.19.0.jar:/home/juanmhl/miniconda3/envs/uma-ontology/lib/python3.12/site-packages/owlready2/pellet/log4j-api-2.19.0.jar:/home/juanmhl/miniconda3/envs/uma-ontology/lib/python3.12/site-packages/owlready2/pellet/jena-core-2.10.0.jar:/home/juanmhl/miniconda3/envs/uma-ontology/lib/python3.12/site-packages/owlready2/pellet/xml-apis-1.4.01.jar:/home/juanmhl/miniconda3/envs/uma-ontology/lib/python3.12/site-packages/owlready2/pellet/httpclient-4.2.3.jar:/home/juanmhl/miniconda3/envs/uma-ontology/lib/python3.12/site-packages/owlready2/pellet/pellet-2.3.1.jar:/home/juanmhl/miniconda3/envs/uma-ontology/lib/python3.12/site-packages/owlready2/pellet/antlr-3.2.jar:/home/juanmhl/miniconda3/envs/uma-ontology/lib/python3.12/site-packages/owlready2/pellet/antlr-runtime-3.2.jar:/home/juanmhl/miniconda3/envs/uma-ontology/lib/python3.12/site-packages/owlready2/pellet/jgrapht-jdk1.5.jar:/home/juanmhl/miniconda3/envs/uma-ontology/lib/python3.12/site-packages/owlready2/pellet/aterm-java-1.6.jar:/home/juanmhl/miniconda3/envs/uma-ontology/lib/python3.12/site-packages/owlready2/pellet/commons-codec-1.6.jar:/home/juanmhl/miniconda3/envs/uma-ontology/lib/python3.12/site-packages/owlready2/pellet/log4j-1.2-api-2.19.0.jar pellet.Pellet realize --loader Jena --input-format N-Triples --infer-prop-values --infer-data-prop-values --ignore-imports /tmp/tmpqxbj053_\n"
     ]
    },
    {
     "name": "stdout",
     "output_type": "stream",
     "text": [
      "Phase: 1, Action: -DESPLAZAMIENTO_SUTURA_D-, Suture Point: 1, Near: NONE\n"
     ]
    },
    {
     "name": "stderr",
     "output_type": "stream",
     "text": [
      "* Owlready2 * Pellet took 0.6405603885650635 seconds\n",
      "* Owlready * (NB: only changes on entities loaded in Python are shown, other changes are done but not listed)\n",
      "* Owlready2 * Running Pellet...\n",
      "    /usr/bin/java -Xmx2000M -cp /home/juanmhl/miniconda3/envs/uma-ontology/lib/python3.12/site-packages/owlready2/pellet/jcl-over-slf4j-1.6.4.jar:/home/juanmhl/miniconda3/envs/uma-ontology/lib/python3.12/site-packages/owlready2/pellet/httpcore-4.2.2.jar:/home/juanmhl/miniconda3/envs/uma-ontology/lib/python3.12/site-packages/owlready2/pellet/jena-iri-0.9.5.jar:/home/juanmhl/miniconda3/envs/uma-ontology/lib/python3.12/site-packages/owlready2/pellet/owlapi-distribution-3.4.3-bin.jar:/home/juanmhl/miniconda3/envs/uma-ontology/lib/python3.12/site-packages/owlready2/pellet/slf4j-api-1.6.4.jar:/home/juanmhl/miniconda3/envs/uma-ontology/lib/python3.12/site-packages/owlready2/pellet/xercesImpl-2.10.0.jar:/home/juanmhl/miniconda3/envs/uma-ontology/lib/python3.12/site-packages/owlready2/pellet/slf4j-log4j12-1.6.4.jar:/home/juanmhl/miniconda3/envs/uma-ontology/lib/python3.12/site-packages/owlready2/pellet/jena-tdb-0.10.0.jar:/home/juanmhl/miniconda3/envs/uma-ontology/lib/python3.12/site-packages/owlready2/pellet/jena-arq-2.10.0.jar:/home/juanmhl/miniconda3/envs/uma-ontology/lib/python3.12/site-packages/owlready2/pellet/log4j-core-2.19.0.jar:/home/juanmhl/miniconda3/envs/uma-ontology/lib/python3.12/site-packages/owlready2/pellet/log4j-api-2.19.0.jar:/home/juanmhl/miniconda3/envs/uma-ontology/lib/python3.12/site-packages/owlready2/pellet/jena-core-2.10.0.jar:/home/juanmhl/miniconda3/envs/uma-ontology/lib/python3.12/site-packages/owlready2/pellet/xml-apis-1.4.01.jar:/home/juanmhl/miniconda3/envs/uma-ontology/lib/python3.12/site-packages/owlready2/pellet/httpclient-4.2.3.jar:/home/juanmhl/miniconda3/envs/uma-ontology/lib/python3.12/site-packages/owlready2/pellet/pellet-2.3.1.jar:/home/juanmhl/miniconda3/envs/uma-ontology/lib/python3.12/site-packages/owlready2/pellet/antlr-3.2.jar:/home/juanmhl/miniconda3/envs/uma-ontology/lib/python3.12/site-packages/owlready2/pellet/antlr-runtime-3.2.jar:/home/juanmhl/miniconda3/envs/uma-ontology/lib/python3.12/site-packages/owlready2/pellet/jgrapht-jdk1.5.jar:/home/juanmhl/miniconda3/envs/uma-ontology/lib/python3.12/site-packages/owlready2/pellet/aterm-java-1.6.jar:/home/juanmhl/miniconda3/envs/uma-ontology/lib/python3.12/site-packages/owlready2/pellet/commons-codec-1.6.jar:/home/juanmhl/miniconda3/envs/uma-ontology/lib/python3.12/site-packages/owlready2/pellet/log4j-1.2-api-2.19.0.jar pellet.Pellet realize --loader Jena --input-format N-Triples --infer-prop-values --infer-data-prop-values --ignore-imports /tmp/tmpx9ba7geh\n"
     ]
    },
    {
     "name": "stdout",
     "output_type": "stream",
     "text": [
      "* Owlready * Adding relation ontology.fase2 faseActual true\n",
      "* Owlready * Adding relation ontology.fase3 faseSiguiente true\n",
      "Phase: 2, Action: -DESPLAZAMIENTO_SUTURA_I--PUNCION-, Suture Point: 1, Near: NONE\n"
     ]
    },
    {
     "name": "stderr",
     "output_type": "stream",
     "text": [
      "* Owlready2 * Pellet took 0.6227521896362305 seconds\n",
      "* Owlready * (NB: only changes on entities loaded in Python are shown, other changes are done but not listed)\n",
      "* Owlready2 * Running Pellet...\n",
      "    /usr/bin/java -Xmx2000M -cp /home/juanmhl/miniconda3/envs/uma-ontology/lib/python3.12/site-packages/owlready2/pellet/jcl-over-slf4j-1.6.4.jar:/home/juanmhl/miniconda3/envs/uma-ontology/lib/python3.12/site-packages/owlready2/pellet/httpcore-4.2.2.jar:/home/juanmhl/miniconda3/envs/uma-ontology/lib/python3.12/site-packages/owlready2/pellet/jena-iri-0.9.5.jar:/home/juanmhl/miniconda3/envs/uma-ontology/lib/python3.12/site-packages/owlready2/pellet/owlapi-distribution-3.4.3-bin.jar:/home/juanmhl/miniconda3/envs/uma-ontology/lib/python3.12/site-packages/owlready2/pellet/slf4j-api-1.6.4.jar:/home/juanmhl/miniconda3/envs/uma-ontology/lib/python3.12/site-packages/owlready2/pellet/xercesImpl-2.10.0.jar:/home/juanmhl/miniconda3/envs/uma-ontology/lib/python3.12/site-packages/owlready2/pellet/slf4j-log4j12-1.6.4.jar:/home/juanmhl/miniconda3/envs/uma-ontology/lib/python3.12/site-packages/owlready2/pellet/jena-tdb-0.10.0.jar:/home/juanmhl/miniconda3/envs/uma-ontology/lib/python3.12/site-packages/owlready2/pellet/jena-arq-2.10.0.jar:/home/juanmhl/miniconda3/envs/uma-ontology/lib/python3.12/site-packages/owlready2/pellet/log4j-core-2.19.0.jar:/home/juanmhl/miniconda3/envs/uma-ontology/lib/python3.12/site-packages/owlready2/pellet/log4j-api-2.19.0.jar:/home/juanmhl/miniconda3/envs/uma-ontology/lib/python3.12/site-packages/owlready2/pellet/jena-core-2.10.0.jar:/home/juanmhl/miniconda3/envs/uma-ontology/lib/python3.12/site-packages/owlready2/pellet/xml-apis-1.4.01.jar:/home/juanmhl/miniconda3/envs/uma-ontology/lib/python3.12/site-packages/owlready2/pellet/httpclient-4.2.3.jar:/home/juanmhl/miniconda3/envs/uma-ontology/lib/python3.12/site-packages/owlready2/pellet/pellet-2.3.1.jar:/home/juanmhl/miniconda3/envs/uma-ontology/lib/python3.12/site-packages/owlready2/pellet/antlr-3.2.jar:/home/juanmhl/miniconda3/envs/uma-ontology/lib/python3.12/site-packages/owlready2/pellet/antlr-runtime-3.2.jar:/home/juanmhl/miniconda3/envs/uma-ontology/lib/python3.12/site-packages/owlready2/pellet/jgrapht-jdk1.5.jar:/home/juanmhl/miniconda3/envs/uma-ontology/lib/python3.12/site-packages/owlready2/pellet/aterm-java-1.6.jar:/home/juanmhl/miniconda3/envs/uma-ontology/lib/python3.12/site-packages/owlready2/pellet/commons-codec-1.6.jar:/home/juanmhl/miniconda3/envs/uma-ontology/lib/python3.12/site-packages/owlready2/pellet/log4j-1.2-api-2.19.0.jar pellet.Pellet realize --loader Jena --input-format N-Triples --infer-prop-values --infer-data-prop-values --ignore-imports /tmp/tmp_kxc4jdb\n"
     ]
    },
    {
     "name": "stdout",
     "output_type": "stream",
     "text": [
      "* Owlready * Adding relation ontology.fase3 faseActual true\n",
      "* Owlready * Adding relation ontology.fase4 faseSiguiente true\n",
      "Phase: 3, Action: -CIERRE_I-, Suture Point: 1, Near: NONE\n"
     ]
    },
    {
     "name": "stderr",
     "output_type": "stream",
     "text": [
      "* Owlready2 * Pellet took 0.6458480358123779 seconds\n",
      "* Owlready * (NB: only changes on entities loaded in Python are shown, other changes are done but not listed)\n",
      "* Owlready2 * Running Pellet...\n",
      "    /usr/bin/java -Xmx2000M -cp /home/juanmhl/miniconda3/envs/uma-ontology/lib/python3.12/site-packages/owlready2/pellet/jcl-over-slf4j-1.6.4.jar:/home/juanmhl/miniconda3/envs/uma-ontology/lib/python3.12/site-packages/owlready2/pellet/httpcore-4.2.2.jar:/home/juanmhl/miniconda3/envs/uma-ontology/lib/python3.12/site-packages/owlready2/pellet/jena-iri-0.9.5.jar:/home/juanmhl/miniconda3/envs/uma-ontology/lib/python3.12/site-packages/owlready2/pellet/owlapi-distribution-3.4.3-bin.jar:/home/juanmhl/miniconda3/envs/uma-ontology/lib/python3.12/site-packages/owlready2/pellet/slf4j-api-1.6.4.jar:/home/juanmhl/miniconda3/envs/uma-ontology/lib/python3.12/site-packages/owlready2/pellet/xercesImpl-2.10.0.jar:/home/juanmhl/miniconda3/envs/uma-ontology/lib/python3.12/site-packages/owlready2/pellet/slf4j-log4j12-1.6.4.jar:/home/juanmhl/miniconda3/envs/uma-ontology/lib/python3.12/site-packages/owlready2/pellet/jena-tdb-0.10.0.jar:/home/juanmhl/miniconda3/envs/uma-ontology/lib/python3.12/site-packages/owlready2/pellet/jena-arq-2.10.0.jar:/home/juanmhl/miniconda3/envs/uma-ontology/lib/python3.12/site-packages/owlready2/pellet/log4j-core-2.19.0.jar:/home/juanmhl/miniconda3/envs/uma-ontology/lib/python3.12/site-packages/owlready2/pellet/log4j-api-2.19.0.jar:/home/juanmhl/miniconda3/envs/uma-ontology/lib/python3.12/site-packages/owlready2/pellet/jena-core-2.10.0.jar:/home/juanmhl/miniconda3/envs/uma-ontology/lib/python3.12/site-packages/owlready2/pellet/xml-apis-1.4.01.jar:/home/juanmhl/miniconda3/envs/uma-ontology/lib/python3.12/site-packages/owlready2/pellet/httpclient-4.2.3.jar:/home/juanmhl/miniconda3/envs/uma-ontology/lib/python3.12/site-packages/owlready2/pellet/pellet-2.3.1.jar:/home/juanmhl/miniconda3/envs/uma-ontology/lib/python3.12/site-packages/owlready2/pellet/antlr-3.2.jar:/home/juanmhl/miniconda3/envs/uma-ontology/lib/python3.12/site-packages/owlready2/pellet/antlr-runtime-3.2.jar:/home/juanmhl/miniconda3/envs/uma-ontology/lib/python3.12/site-packages/owlready2/pellet/jgrapht-jdk1.5.jar:/home/juanmhl/miniconda3/envs/uma-ontology/lib/python3.12/site-packages/owlready2/pellet/aterm-java-1.6.jar:/home/juanmhl/miniconda3/envs/uma-ontology/lib/python3.12/site-packages/owlready2/pellet/commons-codec-1.6.jar:/home/juanmhl/miniconda3/envs/uma-ontology/lib/python3.12/site-packages/owlready2/pellet/log4j-1.2-api-2.19.0.jar pellet.Pellet realize --loader Jena --input-format N-Triples --infer-prop-values --infer-data-prop-values --ignore-imports /tmp/tmp13ndflr6\n"
     ]
    },
    {
     "name": "stdout",
     "output_type": "stream",
     "text": [
      "* Owlready * Adding relation ontology.fase5 faseSiguiente true\n",
      "* Owlready * Adding relation ontology.fase4 faseActual true\n",
      "Phase: 4, Action: -APERTURA_D-, Suture Point: 1, Near: NONE\n"
     ]
    },
    {
     "name": "stderr",
     "output_type": "stream",
     "text": [
      "* Owlready2 * Pellet took 0.6244907379150391 seconds\n",
      "* Owlready * (NB: only changes on entities loaded in Python are shown, other changes are done but not listed)\n",
      "* Owlready2 * Running Pellet...\n",
      "    /usr/bin/java -Xmx2000M -cp /home/juanmhl/miniconda3/envs/uma-ontology/lib/python3.12/site-packages/owlready2/pellet/jcl-over-slf4j-1.6.4.jar:/home/juanmhl/miniconda3/envs/uma-ontology/lib/python3.12/site-packages/owlready2/pellet/httpcore-4.2.2.jar:/home/juanmhl/miniconda3/envs/uma-ontology/lib/python3.12/site-packages/owlready2/pellet/jena-iri-0.9.5.jar:/home/juanmhl/miniconda3/envs/uma-ontology/lib/python3.12/site-packages/owlready2/pellet/owlapi-distribution-3.4.3-bin.jar:/home/juanmhl/miniconda3/envs/uma-ontology/lib/python3.12/site-packages/owlready2/pellet/slf4j-api-1.6.4.jar:/home/juanmhl/miniconda3/envs/uma-ontology/lib/python3.12/site-packages/owlready2/pellet/xercesImpl-2.10.0.jar:/home/juanmhl/miniconda3/envs/uma-ontology/lib/python3.12/site-packages/owlready2/pellet/slf4j-log4j12-1.6.4.jar:/home/juanmhl/miniconda3/envs/uma-ontology/lib/python3.12/site-packages/owlready2/pellet/jena-tdb-0.10.0.jar:/home/juanmhl/miniconda3/envs/uma-ontology/lib/python3.12/site-packages/owlready2/pellet/jena-arq-2.10.0.jar:/home/juanmhl/miniconda3/envs/uma-ontology/lib/python3.12/site-packages/owlready2/pellet/log4j-core-2.19.0.jar:/home/juanmhl/miniconda3/envs/uma-ontology/lib/python3.12/site-packages/owlready2/pellet/log4j-api-2.19.0.jar:/home/juanmhl/miniconda3/envs/uma-ontology/lib/python3.12/site-packages/owlready2/pellet/jena-core-2.10.0.jar:/home/juanmhl/miniconda3/envs/uma-ontology/lib/python3.12/site-packages/owlready2/pellet/xml-apis-1.4.01.jar:/home/juanmhl/miniconda3/envs/uma-ontology/lib/python3.12/site-packages/owlready2/pellet/httpclient-4.2.3.jar:/home/juanmhl/miniconda3/envs/uma-ontology/lib/python3.12/site-packages/owlready2/pellet/pellet-2.3.1.jar:/home/juanmhl/miniconda3/envs/uma-ontology/lib/python3.12/site-packages/owlready2/pellet/antlr-3.2.jar:/home/juanmhl/miniconda3/envs/uma-ontology/lib/python3.12/site-packages/owlready2/pellet/antlr-runtime-3.2.jar:/home/juanmhl/miniconda3/envs/uma-ontology/lib/python3.12/site-packages/owlready2/pellet/jgrapht-jdk1.5.jar:/home/juanmhl/miniconda3/envs/uma-ontology/lib/python3.12/site-packages/owlready2/pellet/aterm-java-1.6.jar:/home/juanmhl/miniconda3/envs/uma-ontology/lib/python3.12/site-packages/owlready2/pellet/commons-codec-1.6.jar:/home/juanmhl/miniconda3/envs/uma-ontology/lib/python3.12/site-packages/owlready2/pellet/log4j-1.2-api-2.19.0.jar pellet.Pellet realize --loader Jena --input-format N-Triples --infer-prop-values --infer-data-prop-values --ignore-imports /tmp/tmpn_19e85j\n"
     ]
    },
    {
     "name": "stdout",
     "output_type": "stream",
     "text": [
      "* Owlready * Adding relation ontology.fase6 faseSiguiente true\n",
      "* Owlready * Adding relation ontology.fase5 faseActual true\n",
      "Phase: 5, Action: -DESPLAZAMIENTO_CAMBIO_I-, Suture Point: 1, Near: NONE\n"
     ]
    },
    {
     "name": "stderr",
     "output_type": "stream",
     "text": [
      "* Owlready2 * Pellet took 0.6390340328216553 seconds\n",
      "* Owlready * (NB: only changes on entities loaded in Python are shown, other changes are done but not listed)\n",
      "* Owlready2 * Running Pellet...\n",
      "    /usr/bin/java -Xmx2000M -cp /home/juanmhl/miniconda3/envs/uma-ontology/lib/python3.12/site-packages/owlready2/pellet/jcl-over-slf4j-1.6.4.jar:/home/juanmhl/miniconda3/envs/uma-ontology/lib/python3.12/site-packages/owlready2/pellet/httpcore-4.2.2.jar:/home/juanmhl/miniconda3/envs/uma-ontology/lib/python3.12/site-packages/owlready2/pellet/jena-iri-0.9.5.jar:/home/juanmhl/miniconda3/envs/uma-ontology/lib/python3.12/site-packages/owlready2/pellet/owlapi-distribution-3.4.3-bin.jar:/home/juanmhl/miniconda3/envs/uma-ontology/lib/python3.12/site-packages/owlready2/pellet/slf4j-api-1.6.4.jar:/home/juanmhl/miniconda3/envs/uma-ontology/lib/python3.12/site-packages/owlready2/pellet/xercesImpl-2.10.0.jar:/home/juanmhl/miniconda3/envs/uma-ontology/lib/python3.12/site-packages/owlready2/pellet/slf4j-log4j12-1.6.4.jar:/home/juanmhl/miniconda3/envs/uma-ontology/lib/python3.12/site-packages/owlready2/pellet/jena-tdb-0.10.0.jar:/home/juanmhl/miniconda3/envs/uma-ontology/lib/python3.12/site-packages/owlready2/pellet/jena-arq-2.10.0.jar:/home/juanmhl/miniconda3/envs/uma-ontology/lib/python3.12/site-packages/owlready2/pellet/log4j-core-2.19.0.jar:/home/juanmhl/miniconda3/envs/uma-ontology/lib/python3.12/site-packages/owlready2/pellet/log4j-api-2.19.0.jar:/home/juanmhl/miniconda3/envs/uma-ontology/lib/python3.12/site-packages/owlready2/pellet/jena-core-2.10.0.jar:/home/juanmhl/miniconda3/envs/uma-ontology/lib/python3.12/site-packages/owlready2/pellet/xml-apis-1.4.01.jar:/home/juanmhl/miniconda3/envs/uma-ontology/lib/python3.12/site-packages/owlready2/pellet/httpclient-4.2.3.jar:/home/juanmhl/miniconda3/envs/uma-ontology/lib/python3.12/site-packages/owlready2/pellet/pellet-2.3.1.jar:/home/juanmhl/miniconda3/envs/uma-ontology/lib/python3.12/site-packages/owlready2/pellet/antlr-3.2.jar:/home/juanmhl/miniconda3/envs/uma-ontology/lib/python3.12/site-packages/owlready2/pellet/antlr-runtime-3.2.jar:/home/juanmhl/miniconda3/envs/uma-ontology/lib/python3.12/site-packages/owlready2/pellet/jgrapht-jdk1.5.jar:/home/juanmhl/miniconda3/envs/uma-ontology/lib/python3.12/site-packages/owlready2/pellet/aterm-java-1.6.jar:/home/juanmhl/miniconda3/envs/uma-ontology/lib/python3.12/site-packages/owlready2/pellet/commons-codec-1.6.jar:/home/juanmhl/miniconda3/envs/uma-ontology/lib/python3.12/site-packages/owlready2/pellet/log4j-1.2-api-2.19.0.jar pellet.Pellet realize --loader Jena --input-format N-Triples --infer-prop-values --infer-data-prop-values --ignore-imports /tmp/tmpnxjmzi_q\n"
     ]
    },
    {
     "name": "stdout",
     "output_type": "stream",
     "text": [
      "* Owlready * Adding relation ontology.fase6 faseActual true\n",
      "* Owlready * Adding relation ontology.fase7 faseSiguiente true\n",
      "Phase: 6, Action: -DESPLAZAMIENTO_CAMBIO_D-, Suture Point: 1, Near: NONE\n"
     ]
    },
    {
     "name": "stderr",
     "output_type": "stream",
     "text": [
      "* Owlready2 * Pellet took 0.6293501853942871 seconds\n",
      "* Owlready * (NB: only changes on entities loaded in Python are shown, other changes are done but not listed)\n",
      "* Owlready2 * Running Pellet...\n",
      "    /usr/bin/java -Xmx2000M -cp /home/juanmhl/miniconda3/envs/uma-ontology/lib/python3.12/site-packages/owlready2/pellet/jcl-over-slf4j-1.6.4.jar:/home/juanmhl/miniconda3/envs/uma-ontology/lib/python3.12/site-packages/owlready2/pellet/httpcore-4.2.2.jar:/home/juanmhl/miniconda3/envs/uma-ontology/lib/python3.12/site-packages/owlready2/pellet/jena-iri-0.9.5.jar:/home/juanmhl/miniconda3/envs/uma-ontology/lib/python3.12/site-packages/owlready2/pellet/owlapi-distribution-3.4.3-bin.jar:/home/juanmhl/miniconda3/envs/uma-ontology/lib/python3.12/site-packages/owlready2/pellet/slf4j-api-1.6.4.jar:/home/juanmhl/miniconda3/envs/uma-ontology/lib/python3.12/site-packages/owlready2/pellet/xercesImpl-2.10.0.jar:/home/juanmhl/miniconda3/envs/uma-ontology/lib/python3.12/site-packages/owlready2/pellet/slf4j-log4j12-1.6.4.jar:/home/juanmhl/miniconda3/envs/uma-ontology/lib/python3.12/site-packages/owlready2/pellet/jena-tdb-0.10.0.jar:/home/juanmhl/miniconda3/envs/uma-ontology/lib/python3.12/site-packages/owlready2/pellet/jena-arq-2.10.0.jar:/home/juanmhl/miniconda3/envs/uma-ontology/lib/python3.12/site-packages/owlready2/pellet/log4j-core-2.19.0.jar:/home/juanmhl/miniconda3/envs/uma-ontology/lib/python3.12/site-packages/owlready2/pellet/log4j-api-2.19.0.jar:/home/juanmhl/miniconda3/envs/uma-ontology/lib/python3.12/site-packages/owlready2/pellet/jena-core-2.10.0.jar:/home/juanmhl/miniconda3/envs/uma-ontology/lib/python3.12/site-packages/owlready2/pellet/xml-apis-1.4.01.jar:/home/juanmhl/miniconda3/envs/uma-ontology/lib/python3.12/site-packages/owlready2/pellet/httpclient-4.2.3.jar:/home/juanmhl/miniconda3/envs/uma-ontology/lib/python3.12/site-packages/owlready2/pellet/pellet-2.3.1.jar:/home/juanmhl/miniconda3/envs/uma-ontology/lib/python3.12/site-packages/owlready2/pellet/antlr-3.2.jar:/home/juanmhl/miniconda3/envs/uma-ontology/lib/python3.12/site-packages/owlready2/pellet/antlr-runtime-3.2.jar:/home/juanmhl/miniconda3/envs/uma-ontology/lib/python3.12/site-packages/owlready2/pellet/jgrapht-jdk1.5.jar:/home/juanmhl/miniconda3/envs/uma-ontology/lib/python3.12/site-packages/owlready2/pellet/aterm-java-1.6.jar:/home/juanmhl/miniconda3/envs/uma-ontology/lib/python3.12/site-packages/owlready2/pellet/commons-codec-1.6.jar:/home/juanmhl/miniconda3/envs/uma-ontology/lib/python3.12/site-packages/owlready2/pellet/log4j-1.2-api-2.19.0.jar pellet.Pellet realize --loader Jena --input-format N-Triples --infer-prop-values --infer-data-prop-values --ignore-imports /tmp/tmpxrr16hv0\n"
     ]
    },
    {
     "name": "stdout",
     "output_type": "stream",
     "text": [
      "* Owlready * Adding relation ontology.fase8 faseSiguiente true\n",
      "* Owlready * Adding relation ontology.fase7 faseActual true\n",
      "Phase: 7, Action: -CIERRE_D-, Suture Point: 1, Near: NONE\n"
     ]
    },
    {
     "name": "stderr",
     "output_type": "stream",
     "text": [
      "* Owlready2 * Pellet took 0.6430628299713135 seconds\n",
      "* Owlready * (NB: only changes on entities loaded in Python are shown, other changes are done but not listed)\n",
      "* Owlready2 * Running Pellet...\n",
      "    /usr/bin/java -Xmx2000M -cp /home/juanmhl/miniconda3/envs/uma-ontology/lib/python3.12/site-packages/owlready2/pellet/jcl-over-slf4j-1.6.4.jar:/home/juanmhl/miniconda3/envs/uma-ontology/lib/python3.12/site-packages/owlready2/pellet/httpcore-4.2.2.jar:/home/juanmhl/miniconda3/envs/uma-ontology/lib/python3.12/site-packages/owlready2/pellet/jena-iri-0.9.5.jar:/home/juanmhl/miniconda3/envs/uma-ontology/lib/python3.12/site-packages/owlready2/pellet/owlapi-distribution-3.4.3-bin.jar:/home/juanmhl/miniconda3/envs/uma-ontology/lib/python3.12/site-packages/owlready2/pellet/slf4j-api-1.6.4.jar:/home/juanmhl/miniconda3/envs/uma-ontology/lib/python3.12/site-packages/owlready2/pellet/xercesImpl-2.10.0.jar:/home/juanmhl/miniconda3/envs/uma-ontology/lib/python3.12/site-packages/owlready2/pellet/slf4j-log4j12-1.6.4.jar:/home/juanmhl/miniconda3/envs/uma-ontology/lib/python3.12/site-packages/owlready2/pellet/jena-tdb-0.10.0.jar:/home/juanmhl/miniconda3/envs/uma-ontology/lib/python3.12/site-packages/owlready2/pellet/jena-arq-2.10.0.jar:/home/juanmhl/miniconda3/envs/uma-ontology/lib/python3.12/site-packages/owlready2/pellet/log4j-core-2.19.0.jar:/home/juanmhl/miniconda3/envs/uma-ontology/lib/python3.12/site-packages/owlready2/pellet/log4j-api-2.19.0.jar:/home/juanmhl/miniconda3/envs/uma-ontology/lib/python3.12/site-packages/owlready2/pellet/jena-core-2.10.0.jar:/home/juanmhl/miniconda3/envs/uma-ontology/lib/python3.12/site-packages/owlready2/pellet/xml-apis-1.4.01.jar:/home/juanmhl/miniconda3/envs/uma-ontology/lib/python3.12/site-packages/owlready2/pellet/httpclient-4.2.3.jar:/home/juanmhl/miniconda3/envs/uma-ontology/lib/python3.12/site-packages/owlready2/pellet/pellet-2.3.1.jar:/home/juanmhl/miniconda3/envs/uma-ontology/lib/python3.12/site-packages/owlready2/pellet/antlr-3.2.jar:/home/juanmhl/miniconda3/envs/uma-ontology/lib/python3.12/site-packages/owlready2/pellet/antlr-runtime-3.2.jar:/home/juanmhl/miniconda3/envs/uma-ontology/lib/python3.12/site-packages/owlready2/pellet/jgrapht-jdk1.5.jar:/home/juanmhl/miniconda3/envs/uma-ontology/lib/python3.12/site-packages/owlready2/pellet/aterm-java-1.6.jar:/home/juanmhl/miniconda3/envs/uma-ontology/lib/python3.12/site-packages/owlready2/pellet/commons-codec-1.6.jar:/home/juanmhl/miniconda3/envs/uma-ontology/lib/python3.12/site-packages/owlready2/pellet/log4j-1.2-api-2.19.0.jar pellet.Pellet realize --loader Jena --input-format N-Triples --infer-prop-values --infer-data-prop-values --ignore-imports /tmp/tmpxsthdib5\n"
     ]
    },
    {
     "name": "stdout",
     "output_type": "stream",
     "text": [
      "* Owlready * Adding relation ontology.fase9 faseSiguiente true\n",
      "* Owlready * Adding relation ontology.fase8 faseActual true\n",
      "Phase: 8, Action: -APERTURA_I-, Suture Point: 1, Near: NONE\n",
      "* Owlready * Adding relation ontology.fase9 faseActual true\n",
      "* Owlready * Adding relation ontology.fase2 faseSiguiente true\n",
      "Phase: 9, Action: -DESPLAZAMIENTO_SUTURA_D-, Suture Point: 1, Near: NONE\n"
     ]
    },
    {
     "name": "stderr",
     "output_type": "stream",
     "text": [
      "* Owlready2 * Pellet took 0.6289992332458496 seconds\n",
      "* Owlready * (NB: only changes on entities loaded in Python are shown, other changes are done but not listed)\n"
     ]
    }
   ],
   "source": [
    "vp1 = [True, False, False, False, False, False, True, [False, False, False]]\n",
    "vp2 = [True, False, False, False, True, False, True, [False, False, False]]\n",
    "vp3 = [True, False, False, False, True, True, False, [False, False, False]]\n",
    "vp4 = [True, True, False, False, True, True, False, [False, False, False]]\n",
    "vp5 = [False, True, False, False, True, True, False, [False, False, False]]\n",
    "vp6 = [False, True, False, True, True, False, False, [False, False, False]]\n",
    "vp7 = [False, True, True, True, False, False, False, [False, False, False]]\n",
    "vp8 = [True, True, True, True, False, False, False, [False, False, False]]\n",
    "vp9 = [True, False, True, True, False, False, False, [False, False, False]]\n",
    "vpt = [True, True, True, True, True, True, True, [False, False, False]]\n",
    "vpf = [False, False, False, False, False, False, False, [False, False, False]]\n",
    "\n",
    "predicates_vectors = [vp1, vp2, vp3, vp4, vp5, vp6, vp7, vp8, vp9]\n",
    "\n",
    "for vp in predicates_vectors:\n",
    "    comando = service.step(vp)\n",
    "    print(comando)"
   ]
  },
  {
   "cell_type": "code",
   "execution_count": 5,
   "metadata": {},
   "outputs": [
    {
     "name": "stderr",
     "output_type": "stream",
     "text": [
      "* Owlready2 * Running Pellet...\n",
      "    /usr/bin/java -Xmx2000M -cp /home/juanmhl/miniconda3/envs/uma-ontology/lib/python3.12/site-packages/owlready2/pellet/jcl-over-slf4j-1.6.4.jar:/home/juanmhl/miniconda3/envs/uma-ontology/lib/python3.12/site-packages/owlready2/pellet/httpcore-4.2.2.jar:/home/juanmhl/miniconda3/envs/uma-ontology/lib/python3.12/site-packages/owlready2/pellet/jena-iri-0.9.5.jar:/home/juanmhl/miniconda3/envs/uma-ontology/lib/python3.12/site-packages/owlready2/pellet/owlapi-distribution-3.4.3-bin.jar:/home/juanmhl/miniconda3/envs/uma-ontology/lib/python3.12/site-packages/owlready2/pellet/slf4j-api-1.6.4.jar:/home/juanmhl/miniconda3/envs/uma-ontology/lib/python3.12/site-packages/owlready2/pellet/xercesImpl-2.10.0.jar:/home/juanmhl/miniconda3/envs/uma-ontology/lib/python3.12/site-packages/owlready2/pellet/slf4j-log4j12-1.6.4.jar:/home/juanmhl/miniconda3/envs/uma-ontology/lib/python3.12/site-packages/owlready2/pellet/jena-tdb-0.10.0.jar:/home/juanmhl/miniconda3/envs/uma-ontology/lib/python3.12/site-packages/owlready2/pellet/jena-arq-2.10.0.jar:/home/juanmhl/miniconda3/envs/uma-ontology/lib/python3.12/site-packages/owlready2/pellet/log4j-core-2.19.0.jar:/home/juanmhl/miniconda3/envs/uma-ontology/lib/python3.12/site-packages/owlready2/pellet/log4j-api-2.19.0.jar:/home/juanmhl/miniconda3/envs/uma-ontology/lib/python3.12/site-packages/owlready2/pellet/jena-core-2.10.0.jar:/home/juanmhl/miniconda3/envs/uma-ontology/lib/python3.12/site-packages/owlready2/pellet/xml-apis-1.4.01.jar:/home/juanmhl/miniconda3/envs/uma-ontology/lib/python3.12/site-packages/owlready2/pellet/httpclient-4.2.3.jar:/home/juanmhl/miniconda3/envs/uma-ontology/lib/python3.12/site-packages/owlready2/pellet/pellet-2.3.1.jar:/home/juanmhl/miniconda3/envs/uma-ontology/lib/python3.12/site-packages/owlready2/pellet/antlr-3.2.jar:/home/juanmhl/miniconda3/envs/uma-ontology/lib/python3.12/site-packages/owlready2/pellet/antlr-runtime-3.2.jar:/home/juanmhl/miniconda3/envs/uma-ontology/lib/python3.12/site-packages/owlready2/pellet/jgrapht-jdk1.5.jar:/home/juanmhl/miniconda3/envs/uma-ontology/lib/python3.12/site-packages/owlready2/pellet/aterm-java-1.6.jar:/home/juanmhl/miniconda3/envs/uma-ontology/lib/python3.12/site-packages/owlready2/pellet/commons-codec-1.6.jar:/home/juanmhl/miniconda3/envs/uma-ontology/lib/python3.12/site-packages/owlready2/pellet/log4j-1.2-api-2.19.0.jar pellet.Pellet realize --loader Jena --input-format N-Triples --infer-prop-values --infer-data-prop-values --ignore-imports /tmp/tmpjko_y81j\n",
      "* Owlready2 * Pellet took 0.6553728580474854 seconds\n",
      "* Owlready * (NB: only changes on entities loaded in Python are shown, other changes are done but not listed)\n",
      "* Owlready2 * Running Pellet...\n",
      "    /usr/bin/java -Xmx2000M -cp /home/juanmhl/miniconda3/envs/uma-ontology/lib/python3.12/site-packages/owlready2/pellet/jcl-over-slf4j-1.6.4.jar:/home/juanmhl/miniconda3/envs/uma-ontology/lib/python3.12/site-packages/owlready2/pellet/httpcore-4.2.2.jar:/home/juanmhl/miniconda3/envs/uma-ontology/lib/python3.12/site-packages/owlready2/pellet/jena-iri-0.9.5.jar:/home/juanmhl/miniconda3/envs/uma-ontology/lib/python3.12/site-packages/owlready2/pellet/owlapi-distribution-3.4.3-bin.jar:/home/juanmhl/miniconda3/envs/uma-ontology/lib/python3.12/site-packages/owlready2/pellet/slf4j-api-1.6.4.jar:/home/juanmhl/miniconda3/envs/uma-ontology/lib/python3.12/site-packages/owlready2/pellet/xercesImpl-2.10.0.jar:/home/juanmhl/miniconda3/envs/uma-ontology/lib/python3.12/site-packages/owlready2/pellet/slf4j-log4j12-1.6.4.jar:/home/juanmhl/miniconda3/envs/uma-ontology/lib/python3.12/site-packages/owlready2/pellet/jena-tdb-0.10.0.jar:/home/juanmhl/miniconda3/envs/uma-ontology/lib/python3.12/site-packages/owlready2/pellet/jena-arq-2.10.0.jar:/home/juanmhl/miniconda3/envs/uma-ontology/lib/python3.12/site-packages/owlready2/pellet/log4j-core-2.19.0.jar:/home/juanmhl/miniconda3/envs/uma-ontology/lib/python3.12/site-packages/owlready2/pellet/log4j-api-2.19.0.jar:/home/juanmhl/miniconda3/envs/uma-ontology/lib/python3.12/site-packages/owlready2/pellet/jena-core-2.10.0.jar:/home/juanmhl/miniconda3/envs/uma-ontology/lib/python3.12/site-packages/owlready2/pellet/xml-apis-1.4.01.jar:/home/juanmhl/miniconda3/envs/uma-ontology/lib/python3.12/site-packages/owlready2/pellet/httpclient-4.2.3.jar:/home/juanmhl/miniconda3/envs/uma-ontology/lib/python3.12/site-packages/owlready2/pellet/pellet-2.3.1.jar:/home/juanmhl/miniconda3/envs/uma-ontology/lib/python3.12/site-packages/owlready2/pellet/antlr-3.2.jar:/home/juanmhl/miniconda3/envs/uma-ontology/lib/python3.12/site-packages/owlready2/pellet/antlr-runtime-3.2.jar:/home/juanmhl/miniconda3/envs/uma-ontology/lib/python3.12/site-packages/owlready2/pellet/jgrapht-jdk1.5.jar:/home/juanmhl/miniconda3/envs/uma-ontology/lib/python3.12/site-packages/owlready2/pellet/aterm-java-1.6.jar:/home/juanmhl/miniconda3/envs/uma-ontology/lib/python3.12/site-packages/owlready2/pellet/commons-codec-1.6.jar:/home/juanmhl/miniconda3/envs/uma-ontology/lib/python3.12/site-packages/owlready2/pellet/log4j-1.2-api-2.19.0.jar pellet.Pellet realize --loader Jena --input-format N-Triples --infer-prop-values --infer-data-prop-values --ignore-imports /tmp/tmpratjsax3\n"
     ]
    },
    {
     "name": "stdout",
     "output_type": "stream",
     "text": [
      "* Owlready * Adding relation ontology.desplazamiento_suturaD accionEjecutable ontology.ps2\n",
      "* Owlready * Adding relation ontology.fase2 faseSiguiente true\n",
      "* Owlready * Adding relation ontology.ps2 puntoSuturaActual true\n",
      "* Owlready * Adding relation ontology.fase1 faseActual true\n",
      "Phase: 1, Action: -DESPLAZAMIENTO_SUTURA_D-, Suture Point: 2, Near: NONE\n"
     ]
    },
    {
     "name": "stderr",
     "output_type": "stream",
     "text": [
      "* Owlready2 * Pellet took 0.6727216243743896 seconds\n",
      "* Owlready * (NB: only changes on entities loaded in Python are shown, other changes are done but not listed)\n",
      "* Owlready2 * Running Pellet...\n",
      "    /usr/bin/java -Xmx2000M -cp /home/juanmhl/miniconda3/envs/uma-ontology/lib/python3.12/site-packages/owlready2/pellet/jcl-over-slf4j-1.6.4.jar:/home/juanmhl/miniconda3/envs/uma-ontology/lib/python3.12/site-packages/owlready2/pellet/httpcore-4.2.2.jar:/home/juanmhl/miniconda3/envs/uma-ontology/lib/python3.12/site-packages/owlready2/pellet/jena-iri-0.9.5.jar:/home/juanmhl/miniconda3/envs/uma-ontology/lib/python3.12/site-packages/owlready2/pellet/owlapi-distribution-3.4.3-bin.jar:/home/juanmhl/miniconda3/envs/uma-ontology/lib/python3.12/site-packages/owlready2/pellet/slf4j-api-1.6.4.jar:/home/juanmhl/miniconda3/envs/uma-ontology/lib/python3.12/site-packages/owlready2/pellet/xercesImpl-2.10.0.jar:/home/juanmhl/miniconda3/envs/uma-ontology/lib/python3.12/site-packages/owlready2/pellet/slf4j-log4j12-1.6.4.jar:/home/juanmhl/miniconda3/envs/uma-ontology/lib/python3.12/site-packages/owlready2/pellet/jena-tdb-0.10.0.jar:/home/juanmhl/miniconda3/envs/uma-ontology/lib/python3.12/site-packages/owlready2/pellet/jena-arq-2.10.0.jar:/home/juanmhl/miniconda3/envs/uma-ontology/lib/python3.12/site-packages/owlready2/pellet/log4j-core-2.19.0.jar:/home/juanmhl/miniconda3/envs/uma-ontology/lib/python3.12/site-packages/owlready2/pellet/log4j-api-2.19.0.jar:/home/juanmhl/miniconda3/envs/uma-ontology/lib/python3.12/site-packages/owlready2/pellet/jena-core-2.10.0.jar:/home/juanmhl/miniconda3/envs/uma-ontology/lib/python3.12/site-packages/owlready2/pellet/xml-apis-1.4.01.jar:/home/juanmhl/miniconda3/envs/uma-ontology/lib/python3.12/site-packages/owlready2/pellet/httpclient-4.2.3.jar:/home/juanmhl/miniconda3/envs/uma-ontology/lib/python3.12/site-packages/owlready2/pellet/pellet-2.3.1.jar:/home/juanmhl/miniconda3/envs/uma-ontology/lib/python3.12/site-packages/owlready2/pellet/antlr-3.2.jar:/home/juanmhl/miniconda3/envs/uma-ontology/lib/python3.12/site-packages/owlready2/pellet/antlr-runtime-3.2.jar:/home/juanmhl/miniconda3/envs/uma-ontology/lib/python3.12/site-packages/owlready2/pellet/jgrapht-jdk1.5.jar:/home/juanmhl/miniconda3/envs/uma-ontology/lib/python3.12/site-packages/owlready2/pellet/aterm-java-1.6.jar:/home/juanmhl/miniconda3/envs/uma-ontology/lib/python3.12/site-packages/owlready2/pellet/commons-codec-1.6.jar:/home/juanmhl/miniconda3/envs/uma-ontology/lib/python3.12/site-packages/owlready2/pellet/log4j-1.2-api-2.19.0.jar pellet.Pellet realize --loader Jena --input-format N-Triples --infer-prop-values --infer-data-prop-values --ignore-imports /tmp/tmpxvi8zg4e\n"
     ]
    },
    {
     "name": "stdout",
     "output_type": "stream",
     "text": [
      "* Owlready * Adding relation ontology.puncion accionEjecutable ontology.ps2\n",
      "* Owlready * Adding relation ontology.desplazamiento_suturaI accionEjecutable ontology.ps2\n",
      "* Owlready * Adding relation ontology.fase2 faseActual true\n",
      "* Owlready * Adding relation ontology.fase3 faseSiguiente true\n",
      "Phase: 2, Action: -DESPLAZAMIENTO_SUTURA_I--PUNCION-, Suture Point: 2, Near: NONE\n"
     ]
    },
    {
     "name": "stderr",
     "output_type": "stream",
     "text": [
      "* Owlready2 * Pellet took 0.6481249332427979 seconds\n",
      "* Owlready * (NB: only changes on entities loaded in Python are shown, other changes are done but not listed)\n",
      "* Owlready2 * Running Pellet...\n",
      "    /usr/bin/java -Xmx2000M -cp /home/juanmhl/miniconda3/envs/uma-ontology/lib/python3.12/site-packages/owlready2/pellet/jcl-over-slf4j-1.6.4.jar:/home/juanmhl/miniconda3/envs/uma-ontology/lib/python3.12/site-packages/owlready2/pellet/httpcore-4.2.2.jar:/home/juanmhl/miniconda3/envs/uma-ontology/lib/python3.12/site-packages/owlready2/pellet/jena-iri-0.9.5.jar:/home/juanmhl/miniconda3/envs/uma-ontology/lib/python3.12/site-packages/owlready2/pellet/owlapi-distribution-3.4.3-bin.jar:/home/juanmhl/miniconda3/envs/uma-ontology/lib/python3.12/site-packages/owlready2/pellet/slf4j-api-1.6.4.jar:/home/juanmhl/miniconda3/envs/uma-ontology/lib/python3.12/site-packages/owlready2/pellet/xercesImpl-2.10.0.jar:/home/juanmhl/miniconda3/envs/uma-ontology/lib/python3.12/site-packages/owlready2/pellet/slf4j-log4j12-1.6.4.jar:/home/juanmhl/miniconda3/envs/uma-ontology/lib/python3.12/site-packages/owlready2/pellet/jena-tdb-0.10.0.jar:/home/juanmhl/miniconda3/envs/uma-ontology/lib/python3.12/site-packages/owlready2/pellet/jena-arq-2.10.0.jar:/home/juanmhl/miniconda3/envs/uma-ontology/lib/python3.12/site-packages/owlready2/pellet/log4j-core-2.19.0.jar:/home/juanmhl/miniconda3/envs/uma-ontology/lib/python3.12/site-packages/owlready2/pellet/log4j-api-2.19.0.jar:/home/juanmhl/miniconda3/envs/uma-ontology/lib/python3.12/site-packages/owlready2/pellet/jena-core-2.10.0.jar:/home/juanmhl/miniconda3/envs/uma-ontology/lib/python3.12/site-packages/owlready2/pellet/xml-apis-1.4.01.jar:/home/juanmhl/miniconda3/envs/uma-ontology/lib/python3.12/site-packages/owlready2/pellet/httpclient-4.2.3.jar:/home/juanmhl/miniconda3/envs/uma-ontology/lib/python3.12/site-packages/owlready2/pellet/pellet-2.3.1.jar:/home/juanmhl/miniconda3/envs/uma-ontology/lib/python3.12/site-packages/owlready2/pellet/antlr-3.2.jar:/home/juanmhl/miniconda3/envs/uma-ontology/lib/python3.12/site-packages/owlready2/pellet/antlr-runtime-3.2.jar:/home/juanmhl/miniconda3/envs/uma-ontology/lib/python3.12/site-packages/owlready2/pellet/jgrapht-jdk1.5.jar:/home/juanmhl/miniconda3/envs/uma-ontology/lib/python3.12/site-packages/owlready2/pellet/aterm-java-1.6.jar:/home/juanmhl/miniconda3/envs/uma-ontology/lib/python3.12/site-packages/owlready2/pellet/commons-codec-1.6.jar:/home/juanmhl/miniconda3/envs/uma-ontology/lib/python3.12/site-packages/owlready2/pellet/log4j-1.2-api-2.19.0.jar pellet.Pellet realize --loader Jena --input-format N-Triples --infer-prop-values --infer-data-prop-values --ignore-imports /tmp/tmppcj6987y\n"
     ]
    },
    {
     "name": "stdout",
     "output_type": "stream",
     "text": [
      "* Owlready * Adding relation ontology.cierreI accionEjecutable ontology.ps2\n",
      "* Owlready * Adding relation ontology.fase3 faseActual true\n",
      "* Owlready * Adding relation ontology.fase4 faseSiguiente true\n",
      "Phase: 3, Action: -CIERRE_I-, Suture Point: 2, Near: NONE\n"
     ]
    },
    {
     "name": "stderr",
     "output_type": "stream",
     "text": [
      "* Owlready2 * Pellet took 0.6430881023406982 seconds\n",
      "* Owlready * (NB: only changes on entities loaded in Python are shown, other changes are done but not listed)\n",
      "* Owlready2 * Running Pellet...\n",
      "    /usr/bin/java -Xmx2000M -cp /home/juanmhl/miniconda3/envs/uma-ontology/lib/python3.12/site-packages/owlready2/pellet/jcl-over-slf4j-1.6.4.jar:/home/juanmhl/miniconda3/envs/uma-ontology/lib/python3.12/site-packages/owlready2/pellet/httpcore-4.2.2.jar:/home/juanmhl/miniconda3/envs/uma-ontology/lib/python3.12/site-packages/owlready2/pellet/jena-iri-0.9.5.jar:/home/juanmhl/miniconda3/envs/uma-ontology/lib/python3.12/site-packages/owlready2/pellet/owlapi-distribution-3.4.3-bin.jar:/home/juanmhl/miniconda3/envs/uma-ontology/lib/python3.12/site-packages/owlready2/pellet/slf4j-api-1.6.4.jar:/home/juanmhl/miniconda3/envs/uma-ontology/lib/python3.12/site-packages/owlready2/pellet/xercesImpl-2.10.0.jar:/home/juanmhl/miniconda3/envs/uma-ontology/lib/python3.12/site-packages/owlready2/pellet/slf4j-log4j12-1.6.4.jar:/home/juanmhl/miniconda3/envs/uma-ontology/lib/python3.12/site-packages/owlready2/pellet/jena-tdb-0.10.0.jar:/home/juanmhl/miniconda3/envs/uma-ontology/lib/python3.12/site-packages/owlready2/pellet/jena-arq-2.10.0.jar:/home/juanmhl/miniconda3/envs/uma-ontology/lib/python3.12/site-packages/owlready2/pellet/log4j-core-2.19.0.jar:/home/juanmhl/miniconda3/envs/uma-ontology/lib/python3.12/site-packages/owlready2/pellet/log4j-api-2.19.0.jar:/home/juanmhl/miniconda3/envs/uma-ontology/lib/python3.12/site-packages/owlready2/pellet/jena-core-2.10.0.jar:/home/juanmhl/miniconda3/envs/uma-ontology/lib/python3.12/site-packages/owlready2/pellet/xml-apis-1.4.01.jar:/home/juanmhl/miniconda3/envs/uma-ontology/lib/python3.12/site-packages/owlready2/pellet/httpclient-4.2.3.jar:/home/juanmhl/miniconda3/envs/uma-ontology/lib/python3.12/site-packages/owlready2/pellet/pellet-2.3.1.jar:/home/juanmhl/miniconda3/envs/uma-ontology/lib/python3.12/site-packages/owlready2/pellet/antlr-3.2.jar:/home/juanmhl/miniconda3/envs/uma-ontology/lib/python3.12/site-packages/owlready2/pellet/antlr-runtime-3.2.jar:/home/juanmhl/miniconda3/envs/uma-ontology/lib/python3.12/site-packages/owlready2/pellet/jgrapht-jdk1.5.jar:/home/juanmhl/miniconda3/envs/uma-ontology/lib/python3.12/site-packages/owlready2/pellet/aterm-java-1.6.jar:/home/juanmhl/miniconda3/envs/uma-ontology/lib/python3.12/site-packages/owlready2/pellet/commons-codec-1.6.jar:/home/juanmhl/miniconda3/envs/uma-ontology/lib/python3.12/site-packages/owlready2/pellet/log4j-1.2-api-2.19.0.jar pellet.Pellet realize --loader Jena --input-format N-Triples --infer-prop-values --infer-data-prop-values --ignore-imports /tmp/tmp8fj28j2j\n"
     ]
    },
    {
     "name": "stdout",
     "output_type": "stream",
     "text": [
      "* Owlready * Adding relation ontology.aperturaD accionEjecutable ontology.ps2\n",
      "* Owlready * Adding relation ontology.fase5 faseSiguiente true\n",
      "* Owlready * Adding relation ontology.fase4 faseActual true\n",
      "Phase: 4, Action: -APERTURA_D-, Suture Point: 2, Near: NONE\n"
     ]
    },
    {
     "name": "stderr",
     "output_type": "stream",
     "text": [
      "* Owlready2 * Pellet took 0.6320805549621582 seconds\n",
      "* Owlready * (NB: only changes on entities loaded in Python are shown, other changes are done but not listed)\n",
      "* Owlready2 * Running Pellet...\n",
      "    /usr/bin/java -Xmx2000M -cp /home/juanmhl/miniconda3/envs/uma-ontology/lib/python3.12/site-packages/owlready2/pellet/jcl-over-slf4j-1.6.4.jar:/home/juanmhl/miniconda3/envs/uma-ontology/lib/python3.12/site-packages/owlready2/pellet/httpcore-4.2.2.jar:/home/juanmhl/miniconda3/envs/uma-ontology/lib/python3.12/site-packages/owlready2/pellet/jena-iri-0.9.5.jar:/home/juanmhl/miniconda3/envs/uma-ontology/lib/python3.12/site-packages/owlready2/pellet/owlapi-distribution-3.4.3-bin.jar:/home/juanmhl/miniconda3/envs/uma-ontology/lib/python3.12/site-packages/owlready2/pellet/slf4j-api-1.6.4.jar:/home/juanmhl/miniconda3/envs/uma-ontology/lib/python3.12/site-packages/owlready2/pellet/xercesImpl-2.10.0.jar:/home/juanmhl/miniconda3/envs/uma-ontology/lib/python3.12/site-packages/owlready2/pellet/slf4j-log4j12-1.6.4.jar:/home/juanmhl/miniconda3/envs/uma-ontology/lib/python3.12/site-packages/owlready2/pellet/jena-tdb-0.10.0.jar:/home/juanmhl/miniconda3/envs/uma-ontology/lib/python3.12/site-packages/owlready2/pellet/jena-arq-2.10.0.jar:/home/juanmhl/miniconda3/envs/uma-ontology/lib/python3.12/site-packages/owlready2/pellet/log4j-core-2.19.0.jar:/home/juanmhl/miniconda3/envs/uma-ontology/lib/python3.12/site-packages/owlready2/pellet/log4j-api-2.19.0.jar:/home/juanmhl/miniconda3/envs/uma-ontology/lib/python3.12/site-packages/owlready2/pellet/jena-core-2.10.0.jar:/home/juanmhl/miniconda3/envs/uma-ontology/lib/python3.12/site-packages/owlready2/pellet/xml-apis-1.4.01.jar:/home/juanmhl/miniconda3/envs/uma-ontology/lib/python3.12/site-packages/owlready2/pellet/httpclient-4.2.3.jar:/home/juanmhl/miniconda3/envs/uma-ontology/lib/python3.12/site-packages/owlready2/pellet/pellet-2.3.1.jar:/home/juanmhl/miniconda3/envs/uma-ontology/lib/python3.12/site-packages/owlready2/pellet/antlr-3.2.jar:/home/juanmhl/miniconda3/envs/uma-ontology/lib/python3.12/site-packages/owlready2/pellet/antlr-runtime-3.2.jar:/home/juanmhl/miniconda3/envs/uma-ontology/lib/python3.12/site-packages/owlready2/pellet/jgrapht-jdk1.5.jar:/home/juanmhl/miniconda3/envs/uma-ontology/lib/python3.12/site-packages/owlready2/pellet/aterm-java-1.6.jar:/home/juanmhl/miniconda3/envs/uma-ontology/lib/python3.12/site-packages/owlready2/pellet/commons-codec-1.6.jar:/home/juanmhl/miniconda3/envs/uma-ontology/lib/python3.12/site-packages/owlready2/pellet/log4j-1.2-api-2.19.0.jar pellet.Pellet realize --loader Jena --input-format N-Triples --infer-prop-values --infer-data-prop-values --ignore-imports /tmp/tmpxx_4ki5i\n"
     ]
    },
    {
     "name": "stdout",
     "output_type": "stream",
     "text": [
      "* Owlready * Adding relation ontology.desplazamiento_cambioI accionEjecutable ontology.ps2\n",
      "* Owlready * Adding relation ontology.fase5 faseActual true\n",
      "* Owlready * Adding relation ontology.fase6 faseSiguiente true\n",
      "Phase: 5, Action: -DESPLAZAMIENTO_CAMBIO_I-, Suture Point: 2, Near: NONE\n"
     ]
    },
    {
     "name": "stderr",
     "output_type": "stream",
     "text": [
      "* Owlready2 * Pellet took 0.6303670406341553 seconds\n",
      "* Owlready * (NB: only changes on entities loaded in Python are shown, other changes are done but not listed)\n",
      "* Owlready2 * Running Pellet...\n",
      "    /usr/bin/java -Xmx2000M -cp /home/juanmhl/miniconda3/envs/uma-ontology/lib/python3.12/site-packages/owlready2/pellet/jcl-over-slf4j-1.6.4.jar:/home/juanmhl/miniconda3/envs/uma-ontology/lib/python3.12/site-packages/owlready2/pellet/httpcore-4.2.2.jar:/home/juanmhl/miniconda3/envs/uma-ontology/lib/python3.12/site-packages/owlready2/pellet/jena-iri-0.9.5.jar:/home/juanmhl/miniconda3/envs/uma-ontology/lib/python3.12/site-packages/owlready2/pellet/owlapi-distribution-3.4.3-bin.jar:/home/juanmhl/miniconda3/envs/uma-ontology/lib/python3.12/site-packages/owlready2/pellet/slf4j-api-1.6.4.jar:/home/juanmhl/miniconda3/envs/uma-ontology/lib/python3.12/site-packages/owlready2/pellet/xercesImpl-2.10.0.jar:/home/juanmhl/miniconda3/envs/uma-ontology/lib/python3.12/site-packages/owlready2/pellet/slf4j-log4j12-1.6.4.jar:/home/juanmhl/miniconda3/envs/uma-ontology/lib/python3.12/site-packages/owlready2/pellet/jena-tdb-0.10.0.jar:/home/juanmhl/miniconda3/envs/uma-ontology/lib/python3.12/site-packages/owlready2/pellet/jena-arq-2.10.0.jar:/home/juanmhl/miniconda3/envs/uma-ontology/lib/python3.12/site-packages/owlready2/pellet/log4j-core-2.19.0.jar:/home/juanmhl/miniconda3/envs/uma-ontology/lib/python3.12/site-packages/owlready2/pellet/log4j-api-2.19.0.jar:/home/juanmhl/miniconda3/envs/uma-ontology/lib/python3.12/site-packages/owlready2/pellet/jena-core-2.10.0.jar:/home/juanmhl/miniconda3/envs/uma-ontology/lib/python3.12/site-packages/owlready2/pellet/xml-apis-1.4.01.jar:/home/juanmhl/miniconda3/envs/uma-ontology/lib/python3.12/site-packages/owlready2/pellet/httpclient-4.2.3.jar:/home/juanmhl/miniconda3/envs/uma-ontology/lib/python3.12/site-packages/owlready2/pellet/pellet-2.3.1.jar:/home/juanmhl/miniconda3/envs/uma-ontology/lib/python3.12/site-packages/owlready2/pellet/antlr-3.2.jar:/home/juanmhl/miniconda3/envs/uma-ontology/lib/python3.12/site-packages/owlready2/pellet/antlr-runtime-3.2.jar:/home/juanmhl/miniconda3/envs/uma-ontology/lib/python3.12/site-packages/owlready2/pellet/jgrapht-jdk1.5.jar:/home/juanmhl/miniconda3/envs/uma-ontology/lib/python3.12/site-packages/owlready2/pellet/aterm-java-1.6.jar:/home/juanmhl/miniconda3/envs/uma-ontology/lib/python3.12/site-packages/owlready2/pellet/commons-codec-1.6.jar:/home/juanmhl/miniconda3/envs/uma-ontology/lib/python3.12/site-packages/owlready2/pellet/log4j-1.2-api-2.19.0.jar pellet.Pellet realize --loader Jena --input-format N-Triples --infer-prop-values --infer-data-prop-values --ignore-imports /tmp/tmpx3idb2z0\n"
     ]
    },
    {
     "name": "stdout",
     "output_type": "stream",
     "text": [
      "* Owlready * Adding relation ontology.desplazamiento_cambioD accionEjecutable ontology.ps2\n",
      "* Owlready * Adding relation ontology.fase6 faseActual true\n",
      "* Owlready * Adding relation ontology.fase7 faseSiguiente true\n",
      "Phase: 6, Action: -DESPLAZAMIENTO_CAMBIO_D-, Suture Point: 2, Near: NONE\n"
     ]
    },
    {
     "name": "stderr",
     "output_type": "stream",
     "text": [
      "* Owlready2 * Pellet took 0.6281776428222656 seconds\n",
      "* Owlready * (NB: only changes on entities loaded in Python are shown, other changes are done but not listed)\n",
      "* Owlready2 * Running Pellet...\n",
      "    /usr/bin/java -Xmx2000M -cp /home/juanmhl/miniconda3/envs/uma-ontology/lib/python3.12/site-packages/owlready2/pellet/jcl-over-slf4j-1.6.4.jar:/home/juanmhl/miniconda3/envs/uma-ontology/lib/python3.12/site-packages/owlready2/pellet/httpcore-4.2.2.jar:/home/juanmhl/miniconda3/envs/uma-ontology/lib/python3.12/site-packages/owlready2/pellet/jena-iri-0.9.5.jar:/home/juanmhl/miniconda3/envs/uma-ontology/lib/python3.12/site-packages/owlready2/pellet/owlapi-distribution-3.4.3-bin.jar:/home/juanmhl/miniconda3/envs/uma-ontology/lib/python3.12/site-packages/owlready2/pellet/slf4j-api-1.6.4.jar:/home/juanmhl/miniconda3/envs/uma-ontology/lib/python3.12/site-packages/owlready2/pellet/xercesImpl-2.10.0.jar:/home/juanmhl/miniconda3/envs/uma-ontology/lib/python3.12/site-packages/owlready2/pellet/slf4j-log4j12-1.6.4.jar:/home/juanmhl/miniconda3/envs/uma-ontology/lib/python3.12/site-packages/owlready2/pellet/jena-tdb-0.10.0.jar:/home/juanmhl/miniconda3/envs/uma-ontology/lib/python3.12/site-packages/owlready2/pellet/jena-arq-2.10.0.jar:/home/juanmhl/miniconda3/envs/uma-ontology/lib/python3.12/site-packages/owlready2/pellet/log4j-core-2.19.0.jar:/home/juanmhl/miniconda3/envs/uma-ontology/lib/python3.12/site-packages/owlready2/pellet/log4j-api-2.19.0.jar:/home/juanmhl/miniconda3/envs/uma-ontology/lib/python3.12/site-packages/owlready2/pellet/jena-core-2.10.0.jar:/home/juanmhl/miniconda3/envs/uma-ontology/lib/python3.12/site-packages/owlready2/pellet/xml-apis-1.4.01.jar:/home/juanmhl/miniconda3/envs/uma-ontology/lib/python3.12/site-packages/owlready2/pellet/httpclient-4.2.3.jar:/home/juanmhl/miniconda3/envs/uma-ontology/lib/python3.12/site-packages/owlready2/pellet/pellet-2.3.1.jar:/home/juanmhl/miniconda3/envs/uma-ontology/lib/python3.12/site-packages/owlready2/pellet/antlr-3.2.jar:/home/juanmhl/miniconda3/envs/uma-ontology/lib/python3.12/site-packages/owlready2/pellet/antlr-runtime-3.2.jar:/home/juanmhl/miniconda3/envs/uma-ontology/lib/python3.12/site-packages/owlready2/pellet/jgrapht-jdk1.5.jar:/home/juanmhl/miniconda3/envs/uma-ontology/lib/python3.12/site-packages/owlready2/pellet/aterm-java-1.6.jar:/home/juanmhl/miniconda3/envs/uma-ontology/lib/python3.12/site-packages/owlready2/pellet/commons-codec-1.6.jar:/home/juanmhl/miniconda3/envs/uma-ontology/lib/python3.12/site-packages/owlready2/pellet/log4j-1.2-api-2.19.0.jar pellet.Pellet realize --loader Jena --input-format N-Triples --infer-prop-values --infer-data-prop-values --ignore-imports /tmp/tmpu7b86cva\n"
     ]
    },
    {
     "name": "stdout",
     "output_type": "stream",
     "text": [
      "* Owlready * Adding relation ontology.cierreD accionEjecutable ontology.ps2\n",
      "* Owlready * Adding relation ontology.fase8 faseSiguiente true\n",
      "* Owlready * Adding relation ontology.fase7 faseActual true\n",
      "Phase: 7, Action: -CIERRE_D-, Suture Point: 2, Near: NONE\n"
     ]
    },
    {
     "name": "stderr",
     "output_type": "stream",
     "text": [
      "* Owlready2 * Pellet took 0.6270413398742676 seconds\n",
      "* Owlready * (NB: only changes on entities loaded in Python are shown, other changes are done but not listed)\n",
      "* Owlready2 * Running Pellet...\n",
      "    /usr/bin/java -Xmx2000M -cp /home/juanmhl/miniconda3/envs/uma-ontology/lib/python3.12/site-packages/owlready2/pellet/jcl-over-slf4j-1.6.4.jar:/home/juanmhl/miniconda3/envs/uma-ontology/lib/python3.12/site-packages/owlready2/pellet/httpcore-4.2.2.jar:/home/juanmhl/miniconda3/envs/uma-ontology/lib/python3.12/site-packages/owlready2/pellet/jena-iri-0.9.5.jar:/home/juanmhl/miniconda3/envs/uma-ontology/lib/python3.12/site-packages/owlready2/pellet/owlapi-distribution-3.4.3-bin.jar:/home/juanmhl/miniconda3/envs/uma-ontology/lib/python3.12/site-packages/owlready2/pellet/slf4j-api-1.6.4.jar:/home/juanmhl/miniconda3/envs/uma-ontology/lib/python3.12/site-packages/owlready2/pellet/xercesImpl-2.10.0.jar:/home/juanmhl/miniconda3/envs/uma-ontology/lib/python3.12/site-packages/owlready2/pellet/slf4j-log4j12-1.6.4.jar:/home/juanmhl/miniconda3/envs/uma-ontology/lib/python3.12/site-packages/owlready2/pellet/jena-tdb-0.10.0.jar:/home/juanmhl/miniconda3/envs/uma-ontology/lib/python3.12/site-packages/owlready2/pellet/jena-arq-2.10.0.jar:/home/juanmhl/miniconda3/envs/uma-ontology/lib/python3.12/site-packages/owlready2/pellet/log4j-core-2.19.0.jar:/home/juanmhl/miniconda3/envs/uma-ontology/lib/python3.12/site-packages/owlready2/pellet/log4j-api-2.19.0.jar:/home/juanmhl/miniconda3/envs/uma-ontology/lib/python3.12/site-packages/owlready2/pellet/jena-core-2.10.0.jar:/home/juanmhl/miniconda3/envs/uma-ontology/lib/python3.12/site-packages/owlready2/pellet/xml-apis-1.4.01.jar:/home/juanmhl/miniconda3/envs/uma-ontology/lib/python3.12/site-packages/owlready2/pellet/httpclient-4.2.3.jar:/home/juanmhl/miniconda3/envs/uma-ontology/lib/python3.12/site-packages/owlready2/pellet/pellet-2.3.1.jar:/home/juanmhl/miniconda3/envs/uma-ontology/lib/python3.12/site-packages/owlready2/pellet/antlr-3.2.jar:/home/juanmhl/miniconda3/envs/uma-ontology/lib/python3.12/site-packages/owlready2/pellet/antlr-runtime-3.2.jar:/home/juanmhl/miniconda3/envs/uma-ontology/lib/python3.12/site-packages/owlready2/pellet/jgrapht-jdk1.5.jar:/home/juanmhl/miniconda3/envs/uma-ontology/lib/python3.12/site-packages/owlready2/pellet/aterm-java-1.6.jar:/home/juanmhl/miniconda3/envs/uma-ontology/lib/python3.12/site-packages/owlready2/pellet/commons-codec-1.6.jar:/home/juanmhl/miniconda3/envs/uma-ontology/lib/python3.12/site-packages/owlready2/pellet/log4j-1.2-api-2.19.0.jar pellet.Pellet realize --loader Jena --input-format N-Triples --infer-prop-values --infer-data-prop-values --ignore-imports /tmp/tmpny1e2nze\n"
     ]
    },
    {
     "name": "stdout",
     "output_type": "stream",
     "text": [
      "* Owlready * Adding relation ontology.aperturaI accionEjecutable ontology.ps2\n",
      "* Owlready * Adding relation ontology.fase9 faseSiguiente true\n",
      "* Owlready * Adding relation ontology.fase8 faseActual true\n",
      "Phase: 8, Action: -APERTURA_I-, Suture Point: 2, Near: NONE\n",
      "* Owlready * Adding relation ontology.fase9 faseActual true\n",
      "* Owlready * Adding relation ontology.fase2 faseSiguiente true\n",
      "Phase: 9, Action: -DESPLAZAMIENTO_SUTURA_D-, Suture Point: 2, Near: NONE\n"
     ]
    },
    {
     "name": "stderr",
     "output_type": "stream",
     "text": [
      "* Owlready2 * Pellet took 0.6208071708679199 seconds\n",
      "* Owlready * (NB: only changes on entities loaded in Python are shown, other changes are done but not listed)\n"
     ]
    }
   ],
   "source": [
    "vp1 = [True, False, False, False, False, False, True,   [True, False, False]]\n",
    "vp2 = [True, False, False, False, True, False, True,    [True, False, False]]\n",
    "vp3 = [True, False, False, False, True, True, False,    [True, False, False]]\n",
    "vp4 = [True, True, False, False, True, True, False,     [True, False, False]]\n",
    "vp5 = [False, True, False, False, True, True, False,    [True, False, False]]\n",
    "vp6 = [False, True, False, True, True, False, False,    [True, False, False]]\n",
    "vp7 = [False, True, True, True, False, False, False,    [True, False, False]]\n",
    "vp8 = [True, True, True, True, False, False, False,     [True, False, False]]\n",
    "vp9 = [True, False, True, True, False, False, False,    [True, False, False]]\n",
    "vpt = [True, True, True, True, True, True, True,        [True, False, False]]\n",
    "vpf = [False, False, False, False, False, False, False, [True, False, False]]\n",
    "\n",
    "predicates_vectors = [vp1, vp2, vp3, vp4, vp5, vp6, vp7, vp8, vp9]\n",
    "\n",
    "for vp in predicates_vectors:\n",
    "    comando = service.step(vp)\n",
    "    print(comando)"
   ]
  },
  {
   "cell_type": "code",
   "execution_count": 6,
   "metadata": {},
   "outputs": [
    {
     "name": "stderr",
     "output_type": "stream",
     "text": [
      "* Owlready2 * Running Pellet...\n",
      "    /usr/bin/java -Xmx2000M -cp /home/juanmhl/miniconda3/envs/uma-ontology/lib/python3.12/site-packages/owlready2/pellet/jcl-over-slf4j-1.6.4.jar:/home/juanmhl/miniconda3/envs/uma-ontology/lib/python3.12/site-packages/owlready2/pellet/httpcore-4.2.2.jar:/home/juanmhl/miniconda3/envs/uma-ontology/lib/python3.12/site-packages/owlready2/pellet/jena-iri-0.9.5.jar:/home/juanmhl/miniconda3/envs/uma-ontology/lib/python3.12/site-packages/owlready2/pellet/owlapi-distribution-3.4.3-bin.jar:/home/juanmhl/miniconda3/envs/uma-ontology/lib/python3.12/site-packages/owlready2/pellet/slf4j-api-1.6.4.jar:/home/juanmhl/miniconda3/envs/uma-ontology/lib/python3.12/site-packages/owlready2/pellet/xercesImpl-2.10.0.jar:/home/juanmhl/miniconda3/envs/uma-ontology/lib/python3.12/site-packages/owlready2/pellet/slf4j-log4j12-1.6.4.jar:/home/juanmhl/miniconda3/envs/uma-ontology/lib/python3.12/site-packages/owlready2/pellet/jena-tdb-0.10.0.jar:/home/juanmhl/miniconda3/envs/uma-ontology/lib/python3.12/site-packages/owlready2/pellet/jena-arq-2.10.0.jar:/home/juanmhl/miniconda3/envs/uma-ontology/lib/python3.12/site-packages/owlready2/pellet/log4j-core-2.19.0.jar:/home/juanmhl/miniconda3/envs/uma-ontology/lib/python3.12/site-packages/owlready2/pellet/log4j-api-2.19.0.jar:/home/juanmhl/miniconda3/envs/uma-ontology/lib/python3.12/site-packages/owlready2/pellet/jena-core-2.10.0.jar:/home/juanmhl/miniconda3/envs/uma-ontology/lib/python3.12/site-packages/owlready2/pellet/xml-apis-1.4.01.jar:/home/juanmhl/miniconda3/envs/uma-ontology/lib/python3.12/site-packages/owlready2/pellet/httpclient-4.2.3.jar:/home/juanmhl/miniconda3/envs/uma-ontology/lib/python3.12/site-packages/owlready2/pellet/pellet-2.3.1.jar:/home/juanmhl/miniconda3/envs/uma-ontology/lib/python3.12/site-packages/owlready2/pellet/antlr-3.2.jar:/home/juanmhl/miniconda3/envs/uma-ontology/lib/python3.12/site-packages/owlready2/pellet/antlr-runtime-3.2.jar:/home/juanmhl/miniconda3/envs/uma-ontology/lib/python3.12/site-packages/owlready2/pellet/jgrapht-jdk1.5.jar:/home/juanmhl/miniconda3/envs/uma-ontology/lib/python3.12/site-packages/owlready2/pellet/aterm-java-1.6.jar:/home/juanmhl/miniconda3/envs/uma-ontology/lib/python3.12/site-packages/owlready2/pellet/commons-codec-1.6.jar:/home/juanmhl/miniconda3/envs/uma-ontology/lib/python3.12/site-packages/owlready2/pellet/log4j-1.2-api-2.19.0.jar pellet.Pellet realize --loader Jena --input-format N-Triples --infer-prop-values --infer-data-prop-values --ignore-imports /tmp/tmpqg_tmz2a\n",
      "* Owlready2 * Pellet took 0.6715207099914551 seconds\n",
      "* Owlready * (NB: only changes on entities loaded in Python are shown, other changes are done but not listed)\n",
      "* Owlready2 * Running Pellet...\n",
      "    /usr/bin/java -Xmx2000M -cp /home/juanmhl/miniconda3/envs/uma-ontology/lib/python3.12/site-packages/owlready2/pellet/jcl-over-slf4j-1.6.4.jar:/home/juanmhl/miniconda3/envs/uma-ontology/lib/python3.12/site-packages/owlready2/pellet/httpcore-4.2.2.jar:/home/juanmhl/miniconda3/envs/uma-ontology/lib/python3.12/site-packages/owlready2/pellet/jena-iri-0.9.5.jar:/home/juanmhl/miniconda3/envs/uma-ontology/lib/python3.12/site-packages/owlready2/pellet/owlapi-distribution-3.4.3-bin.jar:/home/juanmhl/miniconda3/envs/uma-ontology/lib/python3.12/site-packages/owlready2/pellet/slf4j-api-1.6.4.jar:/home/juanmhl/miniconda3/envs/uma-ontology/lib/python3.12/site-packages/owlready2/pellet/xercesImpl-2.10.0.jar:/home/juanmhl/miniconda3/envs/uma-ontology/lib/python3.12/site-packages/owlready2/pellet/slf4j-log4j12-1.6.4.jar:/home/juanmhl/miniconda3/envs/uma-ontology/lib/python3.12/site-packages/owlready2/pellet/jena-tdb-0.10.0.jar:/home/juanmhl/miniconda3/envs/uma-ontology/lib/python3.12/site-packages/owlready2/pellet/jena-arq-2.10.0.jar:/home/juanmhl/miniconda3/envs/uma-ontology/lib/python3.12/site-packages/owlready2/pellet/log4j-core-2.19.0.jar:/home/juanmhl/miniconda3/envs/uma-ontology/lib/python3.12/site-packages/owlready2/pellet/log4j-api-2.19.0.jar:/home/juanmhl/miniconda3/envs/uma-ontology/lib/python3.12/site-packages/owlready2/pellet/jena-core-2.10.0.jar:/home/juanmhl/miniconda3/envs/uma-ontology/lib/python3.12/site-packages/owlready2/pellet/xml-apis-1.4.01.jar:/home/juanmhl/miniconda3/envs/uma-ontology/lib/python3.12/site-packages/owlready2/pellet/httpclient-4.2.3.jar:/home/juanmhl/miniconda3/envs/uma-ontology/lib/python3.12/site-packages/owlready2/pellet/pellet-2.3.1.jar:/home/juanmhl/miniconda3/envs/uma-ontology/lib/python3.12/site-packages/owlready2/pellet/antlr-3.2.jar:/home/juanmhl/miniconda3/envs/uma-ontology/lib/python3.12/site-packages/owlready2/pellet/antlr-runtime-3.2.jar:/home/juanmhl/miniconda3/envs/uma-ontology/lib/python3.12/site-packages/owlready2/pellet/jgrapht-jdk1.5.jar:/home/juanmhl/miniconda3/envs/uma-ontology/lib/python3.12/site-packages/owlready2/pellet/aterm-java-1.6.jar:/home/juanmhl/miniconda3/envs/uma-ontology/lib/python3.12/site-packages/owlready2/pellet/commons-codec-1.6.jar:/home/juanmhl/miniconda3/envs/uma-ontology/lib/python3.12/site-packages/owlready2/pellet/log4j-1.2-api-2.19.0.jar pellet.Pellet realize --loader Jena --input-format N-Triples --infer-prop-values --infer-data-prop-values --ignore-imports /tmp/tmpfwn25q0r\n"
     ]
    },
    {
     "name": "stdout",
     "output_type": "stream",
     "text": [
      "* Owlready * Adding relation ontology.desplazamiento_suturaD accionEjecutable ontology.ps3\n",
      "* Owlready * Adding relation ontology.fase2 faseSiguiente true\n",
      "* Owlready * Adding relation ontology.fase1 faseActual true\n",
      "* Owlready * Adding relation ontology.ps3 puntoSuturaActual true\n",
      "Phase: 1, Action: -DESPLAZAMIENTO_SUTURA_D-, Suture Point: 3, Near: NONE\n"
     ]
    },
    {
     "name": "stderr",
     "output_type": "stream",
     "text": [
      "* Owlready2 * Pellet took 0.6559958457946777 seconds\n",
      "* Owlready * (NB: only changes on entities loaded in Python are shown, other changes are done but not listed)\n",
      "* Owlready2 * Running Pellet...\n",
      "    /usr/bin/java -Xmx2000M -cp /home/juanmhl/miniconda3/envs/uma-ontology/lib/python3.12/site-packages/owlready2/pellet/jcl-over-slf4j-1.6.4.jar:/home/juanmhl/miniconda3/envs/uma-ontology/lib/python3.12/site-packages/owlready2/pellet/httpcore-4.2.2.jar:/home/juanmhl/miniconda3/envs/uma-ontology/lib/python3.12/site-packages/owlready2/pellet/jena-iri-0.9.5.jar:/home/juanmhl/miniconda3/envs/uma-ontology/lib/python3.12/site-packages/owlready2/pellet/owlapi-distribution-3.4.3-bin.jar:/home/juanmhl/miniconda3/envs/uma-ontology/lib/python3.12/site-packages/owlready2/pellet/slf4j-api-1.6.4.jar:/home/juanmhl/miniconda3/envs/uma-ontology/lib/python3.12/site-packages/owlready2/pellet/xercesImpl-2.10.0.jar:/home/juanmhl/miniconda3/envs/uma-ontology/lib/python3.12/site-packages/owlready2/pellet/slf4j-log4j12-1.6.4.jar:/home/juanmhl/miniconda3/envs/uma-ontology/lib/python3.12/site-packages/owlready2/pellet/jena-tdb-0.10.0.jar:/home/juanmhl/miniconda3/envs/uma-ontology/lib/python3.12/site-packages/owlready2/pellet/jena-arq-2.10.0.jar:/home/juanmhl/miniconda3/envs/uma-ontology/lib/python3.12/site-packages/owlready2/pellet/log4j-core-2.19.0.jar:/home/juanmhl/miniconda3/envs/uma-ontology/lib/python3.12/site-packages/owlready2/pellet/log4j-api-2.19.0.jar:/home/juanmhl/miniconda3/envs/uma-ontology/lib/python3.12/site-packages/owlready2/pellet/jena-core-2.10.0.jar:/home/juanmhl/miniconda3/envs/uma-ontology/lib/python3.12/site-packages/owlready2/pellet/xml-apis-1.4.01.jar:/home/juanmhl/miniconda3/envs/uma-ontology/lib/python3.12/site-packages/owlready2/pellet/httpclient-4.2.3.jar:/home/juanmhl/miniconda3/envs/uma-ontology/lib/python3.12/site-packages/owlready2/pellet/pellet-2.3.1.jar:/home/juanmhl/miniconda3/envs/uma-ontology/lib/python3.12/site-packages/owlready2/pellet/antlr-3.2.jar:/home/juanmhl/miniconda3/envs/uma-ontology/lib/python3.12/site-packages/owlready2/pellet/antlr-runtime-3.2.jar:/home/juanmhl/miniconda3/envs/uma-ontology/lib/python3.12/site-packages/owlready2/pellet/jgrapht-jdk1.5.jar:/home/juanmhl/miniconda3/envs/uma-ontology/lib/python3.12/site-packages/owlready2/pellet/aterm-java-1.6.jar:/home/juanmhl/miniconda3/envs/uma-ontology/lib/python3.12/site-packages/owlready2/pellet/commons-codec-1.6.jar:/home/juanmhl/miniconda3/envs/uma-ontology/lib/python3.12/site-packages/owlready2/pellet/log4j-1.2-api-2.19.0.jar pellet.Pellet realize --loader Jena --input-format N-Triples --infer-prop-values --infer-data-prop-values --ignore-imports /tmp/tmptljv37km\n"
     ]
    },
    {
     "name": "stdout",
     "output_type": "stream",
     "text": [
      "* Owlready * Adding relation ontology.puncion accionEjecutable ontology.ps3\n",
      "* Owlready * Adding relation ontology.desplazamiento_suturaI accionEjecutable ontology.ps3\n",
      "* Owlready * Adding relation ontology.fase2 faseActual true\n",
      "* Owlready * Adding relation ontology.fase3 faseSiguiente true\n",
      "Phase: 2, Action: -DESPLAZAMIENTO_SUTURA_I--PUNCION-, Suture Point: 3, Near: NONE\n"
     ]
    },
    {
     "name": "stderr",
     "output_type": "stream",
     "text": [
      "* Owlready2 * Pellet took 0.6534008979797363 seconds\n",
      "* Owlready * (NB: only changes on entities loaded in Python are shown, other changes are done but not listed)\n",
      "* Owlready2 * Running Pellet...\n",
      "    /usr/bin/java -Xmx2000M -cp /home/juanmhl/miniconda3/envs/uma-ontology/lib/python3.12/site-packages/owlready2/pellet/jcl-over-slf4j-1.6.4.jar:/home/juanmhl/miniconda3/envs/uma-ontology/lib/python3.12/site-packages/owlready2/pellet/httpcore-4.2.2.jar:/home/juanmhl/miniconda3/envs/uma-ontology/lib/python3.12/site-packages/owlready2/pellet/jena-iri-0.9.5.jar:/home/juanmhl/miniconda3/envs/uma-ontology/lib/python3.12/site-packages/owlready2/pellet/owlapi-distribution-3.4.3-bin.jar:/home/juanmhl/miniconda3/envs/uma-ontology/lib/python3.12/site-packages/owlready2/pellet/slf4j-api-1.6.4.jar:/home/juanmhl/miniconda3/envs/uma-ontology/lib/python3.12/site-packages/owlready2/pellet/xercesImpl-2.10.0.jar:/home/juanmhl/miniconda3/envs/uma-ontology/lib/python3.12/site-packages/owlready2/pellet/slf4j-log4j12-1.6.4.jar:/home/juanmhl/miniconda3/envs/uma-ontology/lib/python3.12/site-packages/owlready2/pellet/jena-tdb-0.10.0.jar:/home/juanmhl/miniconda3/envs/uma-ontology/lib/python3.12/site-packages/owlready2/pellet/jena-arq-2.10.0.jar:/home/juanmhl/miniconda3/envs/uma-ontology/lib/python3.12/site-packages/owlready2/pellet/log4j-core-2.19.0.jar:/home/juanmhl/miniconda3/envs/uma-ontology/lib/python3.12/site-packages/owlready2/pellet/log4j-api-2.19.0.jar:/home/juanmhl/miniconda3/envs/uma-ontology/lib/python3.12/site-packages/owlready2/pellet/jena-core-2.10.0.jar:/home/juanmhl/miniconda3/envs/uma-ontology/lib/python3.12/site-packages/owlready2/pellet/xml-apis-1.4.01.jar:/home/juanmhl/miniconda3/envs/uma-ontology/lib/python3.12/site-packages/owlready2/pellet/httpclient-4.2.3.jar:/home/juanmhl/miniconda3/envs/uma-ontology/lib/python3.12/site-packages/owlready2/pellet/pellet-2.3.1.jar:/home/juanmhl/miniconda3/envs/uma-ontology/lib/python3.12/site-packages/owlready2/pellet/antlr-3.2.jar:/home/juanmhl/miniconda3/envs/uma-ontology/lib/python3.12/site-packages/owlready2/pellet/antlr-runtime-3.2.jar:/home/juanmhl/miniconda3/envs/uma-ontology/lib/python3.12/site-packages/owlready2/pellet/jgrapht-jdk1.5.jar:/home/juanmhl/miniconda3/envs/uma-ontology/lib/python3.12/site-packages/owlready2/pellet/aterm-java-1.6.jar:/home/juanmhl/miniconda3/envs/uma-ontology/lib/python3.12/site-packages/owlready2/pellet/commons-codec-1.6.jar:/home/juanmhl/miniconda3/envs/uma-ontology/lib/python3.12/site-packages/owlready2/pellet/log4j-1.2-api-2.19.0.jar pellet.Pellet realize --loader Jena --input-format N-Triples --infer-prop-values --infer-data-prop-values --ignore-imports /tmp/tmps7d7m7g8\n"
     ]
    },
    {
     "name": "stdout",
     "output_type": "stream",
     "text": [
      "* Owlready * Adding relation ontology.cierreI accionEjecutable ontology.ps3\n",
      "* Owlready * Adding relation ontology.fase3 faseActual true\n",
      "* Owlready * Adding relation ontology.fase4 faseSiguiente true\n",
      "Phase: 3, Action: -CIERRE_I-, Suture Point: 3, Near: NONE\n"
     ]
    },
    {
     "name": "stderr",
     "output_type": "stream",
     "text": [
      "* Owlready2 * Pellet took 0.6547002792358398 seconds\n",
      "* Owlready * (NB: only changes on entities loaded in Python are shown, other changes are done but not listed)\n",
      "* Owlready2 * Running Pellet...\n",
      "    /usr/bin/java -Xmx2000M -cp /home/juanmhl/miniconda3/envs/uma-ontology/lib/python3.12/site-packages/owlready2/pellet/jcl-over-slf4j-1.6.4.jar:/home/juanmhl/miniconda3/envs/uma-ontology/lib/python3.12/site-packages/owlready2/pellet/httpcore-4.2.2.jar:/home/juanmhl/miniconda3/envs/uma-ontology/lib/python3.12/site-packages/owlready2/pellet/jena-iri-0.9.5.jar:/home/juanmhl/miniconda3/envs/uma-ontology/lib/python3.12/site-packages/owlready2/pellet/owlapi-distribution-3.4.3-bin.jar:/home/juanmhl/miniconda3/envs/uma-ontology/lib/python3.12/site-packages/owlready2/pellet/slf4j-api-1.6.4.jar:/home/juanmhl/miniconda3/envs/uma-ontology/lib/python3.12/site-packages/owlready2/pellet/xercesImpl-2.10.0.jar:/home/juanmhl/miniconda3/envs/uma-ontology/lib/python3.12/site-packages/owlready2/pellet/slf4j-log4j12-1.6.4.jar:/home/juanmhl/miniconda3/envs/uma-ontology/lib/python3.12/site-packages/owlready2/pellet/jena-tdb-0.10.0.jar:/home/juanmhl/miniconda3/envs/uma-ontology/lib/python3.12/site-packages/owlready2/pellet/jena-arq-2.10.0.jar:/home/juanmhl/miniconda3/envs/uma-ontology/lib/python3.12/site-packages/owlready2/pellet/log4j-core-2.19.0.jar:/home/juanmhl/miniconda3/envs/uma-ontology/lib/python3.12/site-packages/owlready2/pellet/log4j-api-2.19.0.jar:/home/juanmhl/miniconda3/envs/uma-ontology/lib/python3.12/site-packages/owlready2/pellet/jena-core-2.10.0.jar:/home/juanmhl/miniconda3/envs/uma-ontology/lib/python3.12/site-packages/owlready2/pellet/xml-apis-1.4.01.jar:/home/juanmhl/miniconda3/envs/uma-ontology/lib/python3.12/site-packages/owlready2/pellet/httpclient-4.2.3.jar:/home/juanmhl/miniconda3/envs/uma-ontology/lib/python3.12/site-packages/owlready2/pellet/pellet-2.3.1.jar:/home/juanmhl/miniconda3/envs/uma-ontology/lib/python3.12/site-packages/owlready2/pellet/antlr-3.2.jar:/home/juanmhl/miniconda3/envs/uma-ontology/lib/python3.12/site-packages/owlready2/pellet/antlr-runtime-3.2.jar:/home/juanmhl/miniconda3/envs/uma-ontology/lib/python3.12/site-packages/owlready2/pellet/jgrapht-jdk1.5.jar:/home/juanmhl/miniconda3/envs/uma-ontology/lib/python3.12/site-packages/owlready2/pellet/aterm-java-1.6.jar:/home/juanmhl/miniconda3/envs/uma-ontology/lib/python3.12/site-packages/owlready2/pellet/commons-codec-1.6.jar:/home/juanmhl/miniconda3/envs/uma-ontology/lib/python3.12/site-packages/owlready2/pellet/log4j-1.2-api-2.19.0.jar pellet.Pellet realize --loader Jena --input-format N-Triples --infer-prop-values --infer-data-prop-values --ignore-imports /tmp/tmptdmk8cb0\n"
     ]
    },
    {
     "name": "stdout",
     "output_type": "stream",
     "text": [
      "* Owlready * Adding relation ontology.aperturaD accionEjecutable ontology.ps3\n",
      "* Owlready * Adding relation ontology.fase5 faseSiguiente true\n",
      "* Owlready * Adding relation ontology.fase4 faseActual true\n",
      "Phase: 4, Action: -APERTURA_D-, Suture Point: 3, Near: NONE\n"
     ]
    },
    {
     "name": "stderr",
     "output_type": "stream",
     "text": [
      "* Owlready2 * Pellet took 0.6543605327606201 seconds\n",
      "* Owlready * (NB: only changes on entities loaded in Python are shown, other changes are done but not listed)\n",
      "* Owlready2 * Running Pellet...\n",
      "    /usr/bin/java -Xmx2000M -cp /home/juanmhl/miniconda3/envs/uma-ontology/lib/python3.12/site-packages/owlready2/pellet/jcl-over-slf4j-1.6.4.jar:/home/juanmhl/miniconda3/envs/uma-ontology/lib/python3.12/site-packages/owlready2/pellet/httpcore-4.2.2.jar:/home/juanmhl/miniconda3/envs/uma-ontology/lib/python3.12/site-packages/owlready2/pellet/jena-iri-0.9.5.jar:/home/juanmhl/miniconda3/envs/uma-ontology/lib/python3.12/site-packages/owlready2/pellet/owlapi-distribution-3.4.3-bin.jar:/home/juanmhl/miniconda3/envs/uma-ontology/lib/python3.12/site-packages/owlready2/pellet/slf4j-api-1.6.4.jar:/home/juanmhl/miniconda3/envs/uma-ontology/lib/python3.12/site-packages/owlready2/pellet/xercesImpl-2.10.0.jar:/home/juanmhl/miniconda3/envs/uma-ontology/lib/python3.12/site-packages/owlready2/pellet/slf4j-log4j12-1.6.4.jar:/home/juanmhl/miniconda3/envs/uma-ontology/lib/python3.12/site-packages/owlready2/pellet/jena-tdb-0.10.0.jar:/home/juanmhl/miniconda3/envs/uma-ontology/lib/python3.12/site-packages/owlready2/pellet/jena-arq-2.10.0.jar:/home/juanmhl/miniconda3/envs/uma-ontology/lib/python3.12/site-packages/owlready2/pellet/log4j-core-2.19.0.jar:/home/juanmhl/miniconda3/envs/uma-ontology/lib/python3.12/site-packages/owlready2/pellet/log4j-api-2.19.0.jar:/home/juanmhl/miniconda3/envs/uma-ontology/lib/python3.12/site-packages/owlready2/pellet/jena-core-2.10.0.jar:/home/juanmhl/miniconda3/envs/uma-ontology/lib/python3.12/site-packages/owlready2/pellet/xml-apis-1.4.01.jar:/home/juanmhl/miniconda3/envs/uma-ontology/lib/python3.12/site-packages/owlready2/pellet/httpclient-4.2.3.jar:/home/juanmhl/miniconda3/envs/uma-ontology/lib/python3.12/site-packages/owlready2/pellet/pellet-2.3.1.jar:/home/juanmhl/miniconda3/envs/uma-ontology/lib/python3.12/site-packages/owlready2/pellet/antlr-3.2.jar:/home/juanmhl/miniconda3/envs/uma-ontology/lib/python3.12/site-packages/owlready2/pellet/antlr-runtime-3.2.jar:/home/juanmhl/miniconda3/envs/uma-ontology/lib/python3.12/site-packages/owlready2/pellet/jgrapht-jdk1.5.jar:/home/juanmhl/miniconda3/envs/uma-ontology/lib/python3.12/site-packages/owlready2/pellet/aterm-java-1.6.jar:/home/juanmhl/miniconda3/envs/uma-ontology/lib/python3.12/site-packages/owlready2/pellet/commons-codec-1.6.jar:/home/juanmhl/miniconda3/envs/uma-ontology/lib/python3.12/site-packages/owlready2/pellet/log4j-1.2-api-2.19.0.jar pellet.Pellet realize --loader Jena --input-format N-Triples --infer-prop-values --infer-data-prop-values --ignore-imports /tmp/tmppcddtb36\n"
     ]
    },
    {
     "name": "stdout",
     "output_type": "stream",
     "text": [
      "* Owlready * Adding relation ontology.desplazamiento_cambioI accionEjecutable ontology.ps3\n",
      "* Owlready * Adding relation ontology.fase5 faseActual true\n",
      "* Owlready * Adding relation ontology.fase6 faseSiguiente true\n",
      "Phase: 5, Action: -DESPLAZAMIENTO_CAMBIO_I-, Suture Point: 3, Near: NONE\n"
     ]
    },
    {
     "name": "stderr",
     "output_type": "stream",
     "text": [
      "* Owlready2 * Pellet took 0.6480045318603516 seconds\n",
      "* Owlready * (NB: only changes on entities loaded in Python are shown, other changes are done but not listed)\n",
      "* Owlready2 * Running Pellet...\n",
      "    /usr/bin/java -Xmx2000M -cp /home/juanmhl/miniconda3/envs/uma-ontology/lib/python3.12/site-packages/owlready2/pellet/jcl-over-slf4j-1.6.4.jar:/home/juanmhl/miniconda3/envs/uma-ontology/lib/python3.12/site-packages/owlready2/pellet/httpcore-4.2.2.jar:/home/juanmhl/miniconda3/envs/uma-ontology/lib/python3.12/site-packages/owlready2/pellet/jena-iri-0.9.5.jar:/home/juanmhl/miniconda3/envs/uma-ontology/lib/python3.12/site-packages/owlready2/pellet/owlapi-distribution-3.4.3-bin.jar:/home/juanmhl/miniconda3/envs/uma-ontology/lib/python3.12/site-packages/owlready2/pellet/slf4j-api-1.6.4.jar:/home/juanmhl/miniconda3/envs/uma-ontology/lib/python3.12/site-packages/owlready2/pellet/xercesImpl-2.10.0.jar:/home/juanmhl/miniconda3/envs/uma-ontology/lib/python3.12/site-packages/owlready2/pellet/slf4j-log4j12-1.6.4.jar:/home/juanmhl/miniconda3/envs/uma-ontology/lib/python3.12/site-packages/owlready2/pellet/jena-tdb-0.10.0.jar:/home/juanmhl/miniconda3/envs/uma-ontology/lib/python3.12/site-packages/owlready2/pellet/jena-arq-2.10.0.jar:/home/juanmhl/miniconda3/envs/uma-ontology/lib/python3.12/site-packages/owlready2/pellet/log4j-core-2.19.0.jar:/home/juanmhl/miniconda3/envs/uma-ontology/lib/python3.12/site-packages/owlready2/pellet/log4j-api-2.19.0.jar:/home/juanmhl/miniconda3/envs/uma-ontology/lib/python3.12/site-packages/owlready2/pellet/jena-core-2.10.0.jar:/home/juanmhl/miniconda3/envs/uma-ontology/lib/python3.12/site-packages/owlready2/pellet/xml-apis-1.4.01.jar:/home/juanmhl/miniconda3/envs/uma-ontology/lib/python3.12/site-packages/owlready2/pellet/httpclient-4.2.3.jar:/home/juanmhl/miniconda3/envs/uma-ontology/lib/python3.12/site-packages/owlready2/pellet/pellet-2.3.1.jar:/home/juanmhl/miniconda3/envs/uma-ontology/lib/python3.12/site-packages/owlready2/pellet/antlr-3.2.jar:/home/juanmhl/miniconda3/envs/uma-ontology/lib/python3.12/site-packages/owlready2/pellet/antlr-runtime-3.2.jar:/home/juanmhl/miniconda3/envs/uma-ontology/lib/python3.12/site-packages/owlready2/pellet/jgrapht-jdk1.5.jar:/home/juanmhl/miniconda3/envs/uma-ontology/lib/python3.12/site-packages/owlready2/pellet/aterm-java-1.6.jar:/home/juanmhl/miniconda3/envs/uma-ontology/lib/python3.12/site-packages/owlready2/pellet/commons-codec-1.6.jar:/home/juanmhl/miniconda3/envs/uma-ontology/lib/python3.12/site-packages/owlready2/pellet/log4j-1.2-api-2.19.0.jar pellet.Pellet realize --loader Jena --input-format N-Triples --infer-prop-values --infer-data-prop-values --ignore-imports /tmp/tmpsfux2ukk\n"
     ]
    },
    {
     "name": "stdout",
     "output_type": "stream",
     "text": [
      "* Owlready * Adding relation ontology.desplazamiento_cambioD accionEjecutable ontology.ps3\n",
      "* Owlready * Adding relation ontology.fase6 faseActual true\n",
      "* Owlready * Adding relation ontology.fase7 faseSiguiente true\n",
      "Phase: 6, Action: -DESPLAZAMIENTO_CAMBIO_D-, Suture Point: 3, Near: NONE\n"
     ]
    },
    {
     "name": "stderr",
     "output_type": "stream",
     "text": [
      "* Owlready2 * Pellet took 0.6303339004516602 seconds\n",
      "* Owlready * (NB: only changes on entities loaded in Python are shown, other changes are done but not listed)\n",
      "* Owlready2 * Running Pellet...\n",
      "    /usr/bin/java -Xmx2000M -cp /home/juanmhl/miniconda3/envs/uma-ontology/lib/python3.12/site-packages/owlready2/pellet/jcl-over-slf4j-1.6.4.jar:/home/juanmhl/miniconda3/envs/uma-ontology/lib/python3.12/site-packages/owlready2/pellet/httpcore-4.2.2.jar:/home/juanmhl/miniconda3/envs/uma-ontology/lib/python3.12/site-packages/owlready2/pellet/jena-iri-0.9.5.jar:/home/juanmhl/miniconda3/envs/uma-ontology/lib/python3.12/site-packages/owlready2/pellet/owlapi-distribution-3.4.3-bin.jar:/home/juanmhl/miniconda3/envs/uma-ontology/lib/python3.12/site-packages/owlready2/pellet/slf4j-api-1.6.4.jar:/home/juanmhl/miniconda3/envs/uma-ontology/lib/python3.12/site-packages/owlready2/pellet/xercesImpl-2.10.0.jar:/home/juanmhl/miniconda3/envs/uma-ontology/lib/python3.12/site-packages/owlready2/pellet/slf4j-log4j12-1.6.4.jar:/home/juanmhl/miniconda3/envs/uma-ontology/lib/python3.12/site-packages/owlready2/pellet/jena-tdb-0.10.0.jar:/home/juanmhl/miniconda3/envs/uma-ontology/lib/python3.12/site-packages/owlready2/pellet/jena-arq-2.10.0.jar:/home/juanmhl/miniconda3/envs/uma-ontology/lib/python3.12/site-packages/owlready2/pellet/log4j-core-2.19.0.jar:/home/juanmhl/miniconda3/envs/uma-ontology/lib/python3.12/site-packages/owlready2/pellet/log4j-api-2.19.0.jar:/home/juanmhl/miniconda3/envs/uma-ontology/lib/python3.12/site-packages/owlready2/pellet/jena-core-2.10.0.jar:/home/juanmhl/miniconda3/envs/uma-ontology/lib/python3.12/site-packages/owlready2/pellet/xml-apis-1.4.01.jar:/home/juanmhl/miniconda3/envs/uma-ontology/lib/python3.12/site-packages/owlready2/pellet/httpclient-4.2.3.jar:/home/juanmhl/miniconda3/envs/uma-ontology/lib/python3.12/site-packages/owlready2/pellet/pellet-2.3.1.jar:/home/juanmhl/miniconda3/envs/uma-ontology/lib/python3.12/site-packages/owlready2/pellet/antlr-3.2.jar:/home/juanmhl/miniconda3/envs/uma-ontology/lib/python3.12/site-packages/owlready2/pellet/antlr-runtime-3.2.jar:/home/juanmhl/miniconda3/envs/uma-ontology/lib/python3.12/site-packages/owlready2/pellet/jgrapht-jdk1.5.jar:/home/juanmhl/miniconda3/envs/uma-ontology/lib/python3.12/site-packages/owlready2/pellet/aterm-java-1.6.jar:/home/juanmhl/miniconda3/envs/uma-ontology/lib/python3.12/site-packages/owlready2/pellet/commons-codec-1.6.jar:/home/juanmhl/miniconda3/envs/uma-ontology/lib/python3.12/site-packages/owlready2/pellet/log4j-1.2-api-2.19.0.jar pellet.Pellet realize --loader Jena --input-format N-Triples --infer-prop-values --infer-data-prop-values --ignore-imports /tmp/tmpdr1_lbcq\n"
     ]
    },
    {
     "name": "stdout",
     "output_type": "stream",
     "text": [
      "* Owlready * Adding relation ontology.cierreD accionEjecutable ontology.ps3\n",
      "* Owlready * Adding relation ontology.fase8 faseSiguiente true\n",
      "* Owlready * Adding relation ontology.fase7 faseActual true\n",
      "Phase: 7, Action: -CIERRE_D-, Suture Point: 3, Near: NONE\n"
     ]
    },
    {
     "name": "stderr",
     "output_type": "stream",
     "text": [
      "* Owlready2 * Pellet took 0.6541450023651123 seconds\n",
      "* Owlready * (NB: only changes on entities loaded in Python are shown, other changes are done but not listed)\n",
      "* Owlready2 * Running Pellet...\n",
      "    /usr/bin/java -Xmx2000M -cp /home/juanmhl/miniconda3/envs/uma-ontology/lib/python3.12/site-packages/owlready2/pellet/jcl-over-slf4j-1.6.4.jar:/home/juanmhl/miniconda3/envs/uma-ontology/lib/python3.12/site-packages/owlready2/pellet/httpcore-4.2.2.jar:/home/juanmhl/miniconda3/envs/uma-ontology/lib/python3.12/site-packages/owlready2/pellet/jena-iri-0.9.5.jar:/home/juanmhl/miniconda3/envs/uma-ontology/lib/python3.12/site-packages/owlready2/pellet/owlapi-distribution-3.4.3-bin.jar:/home/juanmhl/miniconda3/envs/uma-ontology/lib/python3.12/site-packages/owlready2/pellet/slf4j-api-1.6.4.jar:/home/juanmhl/miniconda3/envs/uma-ontology/lib/python3.12/site-packages/owlready2/pellet/xercesImpl-2.10.0.jar:/home/juanmhl/miniconda3/envs/uma-ontology/lib/python3.12/site-packages/owlready2/pellet/slf4j-log4j12-1.6.4.jar:/home/juanmhl/miniconda3/envs/uma-ontology/lib/python3.12/site-packages/owlready2/pellet/jena-tdb-0.10.0.jar:/home/juanmhl/miniconda3/envs/uma-ontology/lib/python3.12/site-packages/owlready2/pellet/jena-arq-2.10.0.jar:/home/juanmhl/miniconda3/envs/uma-ontology/lib/python3.12/site-packages/owlready2/pellet/log4j-core-2.19.0.jar:/home/juanmhl/miniconda3/envs/uma-ontology/lib/python3.12/site-packages/owlready2/pellet/log4j-api-2.19.0.jar:/home/juanmhl/miniconda3/envs/uma-ontology/lib/python3.12/site-packages/owlready2/pellet/jena-core-2.10.0.jar:/home/juanmhl/miniconda3/envs/uma-ontology/lib/python3.12/site-packages/owlready2/pellet/xml-apis-1.4.01.jar:/home/juanmhl/miniconda3/envs/uma-ontology/lib/python3.12/site-packages/owlready2/pellet/httpclient-4.2.3.jar:/home/juanmhl/miniconda3/envs/uma-ontology/lib/python3.12/site-packages/owlready2/pellet/pellet-2.3.1.jar:/home/juanmhl/miniconda3/envs/uma-ontology/lib/python3.12/site-packages/owlready2/pellet/antlr-3.2.jar:/home/juanmhl/miniconda3/envs/uma-ontology/lib/python3.12/site-packages/owlready2/pellet/antlr-runtime-3.2.jar:/home/juanmhl/miniconda3/envs/uma-ontology/lib/python3.12/site-packages/owlready2/pellet/jgrapht-jdk1.5.jar:/home/juanmhl/miniconda3/envs/uma-ontology/lib/python3.12/site-packages/owlready2/pellet/aterm-java-1.6.jar:/home/juanmhl/miniconda3/envs/uma-ontology/lib/python3.12/site-packages/owlready2/pellet/commons-codec-1.6.jar:/home/juanmhl/miniconda3/envs/uma-ontology/lib/python3.12/site-packages/owlready2/pellet/log4j-1.2-api-2.19.0.jar pellet.Pellet realize --loader Jena --input-format N-Triples --infer-prop-values --infer-data-prop-values --ignore-imports /tmp/tmp7l3uwbc2\n"
     ]
    },
    {
     "name": "stdout",
     "output_type": "stream",
     "text": [
      "* Owlready * Adding relation ontology.aperturaI accionEjecutable ontology.ps3\n",
      "* Owlready * Adding relation ontology.fase9 faseSiguiente true\n",
      "* Owlready * Adding relation ontology.fase8 faseActual true\n",
      "Phase: 8, Action: -APERTURA_I-, Suture Point: 3, Near: NONE\n",
      "* Owlready * Adding relation ontology.fase9 faseActual true\n",
      "* Owlready * Adding relation ontology.fase2 faseSiguiente true\n",
      "Phase: 9, Action: -DESPLAZAMIENTO_SUTURA_D-, Suture Point: 3, Near: NONE\n"
     ]
    },
    {
     "name": "stderr",
     "output_type": "stream",
     "text": [
      "* Owlready2 * Pellet took 0.6315872669219971 seconds\n",
      "* Owlready * (NB: only changes on entities loaded in Python are shown, other changes are done but not listed)\n"
     ]
    }
   ],
   "source": [
    "vp1 = [True, False, False, False, False, False, True,   [True, True, False]]\n",
    "vp2 = [True, False, False, False, True, False, True,    [True, True, False]]\n",
    "vp3 = [True, False, False, False, True, True, False,    [True, True, False]]\n",
    "vp4 = [True, True, False, False, True, True, False,     [True, True, False]]\n",
    "vp5 = [False, True, False, False, True, True, False,    [True, True, False]]\n",
    "vp6 = [False, True, False, True, True, False, False,    [True, True, False]]\n",
    "vp7 = [False, True, True, True, False, False, False,    [True, True, False]]\n",
    "vp8 = [True, True, True, True, False, False, False,     [True, True, False]]\n",
    "vp9 = [True, False, True, True, False, False, False,    [True, True, False]]\n",
    "vpt = [True, True, True, True, True, True, True,        [True, True, False]]\n",
    "vpf = [False, False, False, False, False, False, False, [True, True, False]]\n",
    "\n",
    "predicates_vectors = [vp1, vp2, vp3, vp4, vp5, vp6, vp7, vp8, vp9]\n",
    "\n",
    "for vp in predicates_vectors:\n",
    "    comando = service.step(vp)\n",
    "    print(comando)"
   ]
  },
  {
   "cell_type": "code",
   "execution_count": 4,
   "metadata": {},
   "outputs": [
    {
     "name": "stdout",
     "output_type": "stream",
     "text": [
      "Ontology loaded. \n"
     ]
    },
    {
     "name": "stderr",
     "output_type": "stream",
     "text": [
      "* Owlready2 * Running Pellet...\n",
      "    /usr/bin/java -Xmx2000M -cp /home/juanmhl/miniconda3/envs/uma-ontology/lib/python3.12/site-packages/owlready2/pellet/jcl-over-slf4j-1.6.4.jar:/home/juanmhl/miniconda3/envs/uma-ontology/lib/python3.12/site-packages/owlready2/pellet/httpcore-4.2.2.jar:/home/juanmhl/miniconda3/envs/uma-ontology/lib/python3.12/site-packages/owlready2/pellet/jena-iri-0.9.5.jar:/home/juanmhl/miniconda3/envs/uma-ontology/lib/python3.12/site-packages/owlready2/pellet/owlapi-distribution-3.4.3-bin.jar:/home/juanmhl/miniconda3/envs/uma-ontology/lib/python3.12/site-packages/owlready2/pellet/slf4j-api-1.6.4.jar:/home/juanmhl/miniconda3/envs/uma-ontology/lib/python3.12/site-packages/owlready2/pellet/xercesImpl-2.10.0.jar:/home/juanmhl/miniconda3/envs/uma-ontology/lib/python3.12/site-packages/owlready2/pellet/slf4j-log4j12-1.6.4.jar:/home/juanmhl/miniconda3/envs/uma-ontology/lib/python3.12/site-packages/owlready2/pellet/jena-tdb-0.10.0.jar:/home/juanmhl/miniconda3/envs/uma-ontology/lib/python3.12/site-packages/owlready2/pellet/jena-arq-2.10.0.jar:/home/juanmhl/miniconda3/envs/uma-ontology/lib/python3.12/site-packages/owlready2/pellet/log4j-core-2.19.0.jar:/home/juanmhl/miniconda3/envs/uma-ontology/lib/python3.12/site-packages/owlready2/pellet/log4j-api-2.19.0.jar:/home/juanmhl/miniconda3/envs/uma-ontology/lib/python3.12/site-packages/owlready2/pellet/jena-core-2.10.0.jar:/home/juanmhl/miniconda3/envs/uma-ontology/lib/python3.12/site-packages/owlready2/pellet/xml-apis-1.4.01.jar:/home/juanmhl/miniconda3/envs/uma-ontology/lib/python3.12/site-packages/owlready2/pellet/httpclient-4.2.3.jar:/home/juanmhl/miniconda3/envs/uma-ontology/lib/python3.12/site-packages/owlready2/pellet/pellet-2.3.1.jar:/home/juanmhl/miniconda3/envs/uma-ontology/lib/python3.12/site-packages/owlready2/pellet/antlr-3.2.jar:/home/juanmhl/miniconda3/envs/uma-ontology/lib/python3.12/site-packages/owlready2/pellet/antlr-runtime-3.2.jar:/home/juanmhl/miniconda3/envs/uma-ontology/lib/python3.12/site-packages/owlready2/pellet/jgrapht-jdk1.5.jar:/home/juanmhl/miniconda3/envs/uma-ontology/lib/python3.12/site-packages/owlready2/pellet/aterm-java-1.6.jar:/home/juanmhl/miniconda3/envs/uma-ontology/lib/python3.12/site-packages/owlready2/pellet/commons-codec-1.6.jar:/home/juanmhl/miniconda3/envs/uma-ontology/lib/python3.12/site-packages/owlready2/pellet/log4j-1.2-api-2.19.0.jar pellet.Pellet realize --loader Jena --input-format N-Triples --infer-prop-values --infer-data-prop-values --ignore-imports /tmp/tmprqhlfkfc\n",
      "* Owlready2 * Pellet took 0.5738704204559326 seconds\n",
      "* Owlready * (NB: only changes on entities loaded in Python are shown, other changes are done but not listed)\n",
      "* Owlready2 * Running Pellet...\n",
      "    /usr/bin/java -Xmx2000M -cp /home/juanmhl/miniconda3/envs/uma-ontology/lib/python3.12/site-packages/owlready2/pellet/jcl-over-slf4j-1.6.4.jar:/home/juanmhl/miniconda3/envs/uma-ontology/lib/python3.12/site-packages/owlready2/pellet/httpcore-4.2.2.jar:/home/juanmhl/miniconda3/envs/uma-ontology/lib/python3.12/site-packages/owlready2/pellet/jena-iri-0.9.5.jar:/home/juanmhl/miniconda3/envs/uma-ontology/lib/python3.12/site-packages/owlready2/pellet/owlapi-distribution-3.4.3-bin.jar:/home/juanmhl/miniconda3/envs/uma-ontology/lib/python3.12/site-packages/owlready2/pellet/slf4j-api-1.6.4.jar:/home/juanmhl/miniconda3/envs/uma-ontology/lib/python3.12/site-packages/owlready2/pellet/xercesImpl-2.10.0.jar:/home/juanmhl/miniconda3/envs/uma-ontology/lib/python3.12/site-packages/owlready2/pellet/slf4j-log4j12-1.6.4.jar:/home/juanmhl/miniconda3/envs/uma-ontology/lib/python3.12/site-packages/owlready2/pellet/jena-tdb-0.10.0.jar:/home/juanmhl/miniconda3/envs/uma-ontology/lib/python3.12/site-packages/owlready2/pellet/jena-arq-2.10.0.jar:/home/juanmhl/miniconda3/envs/uma-ontology/lib/python3.12/site-packages/owlready2/pellet/log4j-core-2.19.0.jar:/home/juanmhl/miniconda3/envs/uma-ontology/lib/python3.12/site-packages/owlready2/pellet/log4j-api-2.19.0.jar:/home/juanmhl/miniconda3/envs/uma-ontology/lib/python3.12/site-packages/owlready2/pellet/jena-core-2.10.0.jar:/home/juanmhl/miniconda3/envs/uma-ontology/lib/python3.12/site-packages/owlready2/pellet/xml-apis-1.4.01.jar:/home/juanmhl/miniconda3/envs/uma-ontology/lib/python3.12/site-packages/owlready2/pellet/httpclient-4.2.3.jar:/home/juanmhl/miniconda3/envs/uma-ontology/lib/python3.12/site-packages/owlready2/pellet/pellet-2.3.1.jar:/home/juanmhl/miniconda3/envs/uma-ontology/lib/python3.12/site-packages/owlready2/pellet/antlr-3.2.jar:/home/juanmhl/miniconda3/envs/uma-ontology/lib/python3.12/site-packages/owlready2/pellet/antlr-runtime-3.2.jar:/home/juanmhl/miniconda3/envs/uma-ontology/lib/python3.12/site-packages/owlready2/pellet/jgrapht-jdk1.5.jar:/home/juanmhl/miniconda3/envs/uma-ontology/lib/python3.12/site-packages/owlready2/pellet/aterm-java-1.6.jar:/home/juanmhl/miniconda3/envs/uma-ontology/lib/python3.12/site-packages/owlready2/pellet/commons-codec-1.6.jar:/home/juanmhl/miniconda3/envs/uma-ontology/lib/python3.12/site-packages/owlready2/pellet/log4j-1.2-api-2.19.0.jar pellet.Pellet realize --loader Jena --input-format N-Triples --infer-prop-values --infer-data-prop-values --ignore-imports /tmp/tmp3oh4diji\n",
      "* Owlready2 * Pellet took 0.5772616863250732 seconds\n",
      "* Owlready * (NB: only changes on entities loaded in Python are shown, other changes are done but not listed)\n",
      "* Owlready2 * Running Pellet...\n",
      "    /usr/bin/java -Xmx2000M -cp /home/juanmhl/miniconda3/envs/uma-ontology/lib/python3.12/site-packages/owlready2/pellet/jcl-over-slf4j-1.6.4.jar:/home/juanmhl/miniconda3/envs/uma-ontology/lib/python3.12/site-packages/owlready2/pellet/httpcore-4.2.2.jar:/home/juanmhl/miniconda3/envs/uma-ontology/lib/python3.12/site-packages/owlready2/pellet/jena-iri-0.9.5.jar:/home/juanmhl/miniconda3/envs/uma-ontology/lib/python3.12/site-packages/owlready2/pellet/owlapi-distribution-3.4.3-bin.jar:/home/juanmhl/miniconda3/envs/uma-ontology/lib/python3.12/site-packages/owlready2/pellet/slf4j-api-1.6.4.jar:/home/juanmhl/miniconda3/envs/uma-ontology/lib/python3.12/site-packages/owlready2/pellet/xercesImpl-2.10.0.jar:/home/juanmhl/miniconda3/envs/uma-ontology/lib/python3.12/site-packages/owlready2/pellet/slf4j-log4j12-1.6.4.jar:/home/juanmhl/miniconda3/envs/uma-ontology/lib/python3.12/site-packages/owlready2/pellet/jena-tdb-0.10.0.jar:/home/juanmhl/miniconda3/envs/uma-ontology/lib/python3.12/site-packages/owlready2/pellet/jena-arq-2.10.0.jar:/home/juanmhl/miniconda3/envs/uma-ontology/lib/python3.12/site-packages/owlready2/pellet/log4j-core-2.19.0.jar:/home/juanmhl/miniconda3/envs/uma-ontology/lib/python3.12/site-packages/owlready2/pellet/log4j-api-2.19.0.jar:/home/juanmhl/miniconda3/envs/uma-ontology/lib/python3.12/site-packages/owlready2/pellet/jena-core-2.10.0.jar:/home/juanmhl/miniconda3/envs/uma-ontology/lib/python3.12/site-packages/owlready2/pellet/xml-apis-1.4.01.jar:/home/juanmhl/miniconda3/envs/uma-ontology/lib/python3.12/site-packages/owlready2/pellet/httpclient-4.2.3.jar:/home/juanmhl/miniconda3/envs/uma-ontology/lib/python3.12/site-packages/owlready2/pellet/pellet-2.3.1.jar:/home/juanmhl/miniconda3/envs/uma-ontology/lib/python3.12/site-packages/owlready2/pellet/antlr-3.2.jar:/home/juanmhl/miniconda3/envs/uma-ontology/lib/python3.12/site-packages/owlready2/pellet/antlr-runtime-3.2.jar:/home/juanmhl/miniconda3/envs/uma-ontology/lib/python3.12/site-packages/owlready2/pellet/jgrapht-jdk1.5.jar:/home/juanmhl/miniconda3/envs/uma-ontology/lib/python3.12/site-packages/owlready2/pellet/aterm-java-1.6.jar:/home/juanmhl/miniconda3/envs/uma-ontology/lib/python3.12/site-packages/owlready2/pellet/commons-codec-1.6.jar:/home/juanmhl/miniconda3/envs/uma-ontology/lib/python3.12/site-packages/owlready2/pellet/log4j-1.2-api-2.19.0.jar pellet.Pellet realize --loader Jena --input-format N-Triples --infer-prop-values --infer-data-prop-values --ignore-imports /tmp/tmp28kdou1w\n"
     ]
    },
    {
     "name": "stdout",
     "output_type": "stream",
     "text": [
      "Phase: NONE, Action: , Suture Point: 2, Near: NONE\n"
     ]
    },
    {
     "name": "stderr",
     "output_type": "stream",
     "text": [
      "* Owlready2 * Pellet took 0.6060092449188232 seconds\n",
      "* Owlready * (NB: only changes on entities loaded in Python are shown, other changes are done but not listed)\n",
      "* Owlready2 * Running Pellet...\n",
      "    /usr/bin/java -Xmx2000M -cp /home/juanmhl/miniconda3/envs/uma-ontology/lib/python3.12/site-packages/owlready2/pellet/jcl-over-slf4j-1.6.4.jar:/home/juanmhl/miniconda3/envs/uma-ontology/lib/python3.12/site-packages/owlready2/pellet/httpcore-4.2.2.jar:/home/juanmhl/miniconda3/envs/uma-ontology/lib/python3.12/site-packages/owlready2/pellet/jena-iri-0.9.5.jar:/home/juanmhl/miniconda3/envs/uma-ontology/lib/python3.12/site-packages/owlready2/pellet/owlapi-distribution-3.4.3-bin.jar:/home/juanmhl/miniconda3/envs/uma-ontology/lib/python3.12/site-packages/owlready2/pellet/slf4j-api-1.6.4.jar:/home/juanmhl/miniconda3/envs/uma-ontology/lib/python3.12/site-packages/owlready2/pellet/xercesImpl-2.10.0.jar:/home/juanmhl/miniconda3/envs/uma-ontology/lib/python3.12/site-packages/owlready2/pellet/slf4j-log4j12-1.6.4.jar:/home/juanmhl/miniconda3/envs/uma-ontology/lib/python3.12/site-packages/owlready2/pellet/jena-tdb-0.10.0.jar:/home/juanmhl/miniconda3/envs/uma-ontology/lib/python3.12/site-packages/owlready2/pellet/jena-arq-2.10.0.jar:/home/juanmhl/miniconda3/envs/uma-ontology/lib/python3.12/site-packages/owlready2/pellet/log4j-core-2.19.0.jar:/home/juanmhl/miniconda3/envs/uma-ontology/lib/python3.12/site-packages/owlready2/pellet/log4j-api-2.19.0.jar:/home/juanmhl/miniconda3/envs/uma-ontology/lib/python3.12/site-packages/owlready2/pellet/jena-core-2.10.0.jar:/home/juanmhl/miniconda3/envs/uma-ontology/lib/python3.12/site-packages/owlready2/pellet/xml-apis-1.4.01.jar:/home/juanmhl/miniconda3/envs/uma-ontology/lib/python3.12/site-packages/owlready2/pellet/httpclient-4.2.3.jar:/home/juanmhl/miniconda3/envs/uma-ontology/lib/python3.12/site-packages/owlready2/pellet/pellet-2.3.1.jar:/home/juanmhl/miniconda3/envs/uma-ontology/lib/python3.12/site-packages/owlready2/pellet/antlr-3.2.jar:/home/juanmhl/miniconda3/envs/uma-ontology/lib/python3.12/site-packages/owlready2/pellet/antlr-runtime-3.2.jar:/home/juanmhl/miniconda3/envs/uma-ontology/lib/python3.12/site-packages/owlready2/pellet/jgrapht-jdk1.5.jar:/home/juanmhl/miniconda3/envs/uma-ontology/lib/python3.12/site-packages/owlready2/pellet/aterm-java-1.6.jar:/home/juanmhl/miniconda3/envs/uma-ontology/lib/python3.12/site-packages/owlready2/pellet/commons-codec-1.6.jar:/home/juanmhl/miniconda3/envs/uma-ontology/lib/python3.12/site-packages/owlready2/pellet/log4j-1.2-api-2.19.0.jar pellet.Pellet realize --loader Jena --input-format N-Triples --infer-prop-values --infer-data-prop-values --ignore-imports /tmp/tmpl_l2u04r\n"
     ]
    },
    {
     "name": "stdout",
     "output_type": "stream",
     "text": [
      "* Owlready * Adding relation ontology.fase2 faseActual true\n",
      "* Owlready * Adding relation ontology.fase3 faseSiguiente true\n",
      "Phase: 2, Action: -DESPLAZAMIENTO_SUTURA_I--PUNCION-, Suture Point: 2, Near: NONE\n"
     ]
    },
    {
     "name": "stderr",
     "output_type": "stream",
     "text": [
      "* Owlready2 * Pellet took 0.5913279056549072 seconds\n",
      "* Owlready * (NB: only changes on entities loaded in Python are shown, other changes are done but not listed)\n",
      "* Owlready2 * Running Pellet...\n",
      "    /usr/bin/java -Xmx2000M -cp /home/juanmhl/miniconda3/envs/uma-ontology/lib/python3.12/site-packages/owlready2/pellet/jcl-over-slf4j-1.6.4.jar:/home/juanmhl/miniconda3/envs/uma-ontology/lib/python3.12/site-packages/owlready2/pellet/httpcore-4.2.2.jar:/home/juanmhl/miniconda3/envs/uma-ontology/lib/python3.12/site-packages/owlready2/pellet/jena-iri-0.9.5.jar:/home/juanmhl/miniconda3/envs/uma-ontology/lib/python3.12/site-packages/owlready2/pellet/owlapi-distribution-3.4.3-bin.jar:/home/juanmhl/miniconda3/envs/uma-ontology/lib/python3.12/site-packages/owlready2/pellet/slf4j-api-1.6.4.jar:/home/juanmhl/miniconda3/envs/uma-ontology/lib/python3.12/site-packages/owlready2/pellet/xercesImpl-2.10.0.jar:/home/juanmhl/miniconda3/envs/uma-ontology/lib/python3.12/site-packages/owlready2/pellet/slf4j-log4j12-1.6.4.jar:/home/juanmhl/miniconda3/envs/uma-ontology/lib/python3.12/site-packages/owlready2/pellet/jena-tdb-0.10.0.jar:/home/juanmhl/miniconda3/envs/uma-ontology/lib/python3.12/site-packages/owlready2/pellet/jena-arq-2.10.0.jar:/home/juanmhl/miniconda3/envs/uma-ontology/lib/python3.12/site-packages/owlready2/pellet/log4j-core-2.19.0.jar:/home/juanmhl/miniconda3/envs/uma-ontology/lib/python3.12/site-packages/owlready2/pellet/log4j-api-2.19.0.jar:/home/juanmhl/miniconda3/envs/uma-ontology/lib/python3.12/site-packages/owlready2/pellet/jena-core-2.10.0.jar:/home/juanmhl/miniconda3/envs/uma-ontology/lib/python3.12/site-packages/owlready2/pellet/xml-apis-1.4.01.jar:/home/juanmhl/miniconda3/envs/uma-ontology/lib/python3.12/site-packages/owlready2/pellet/httpclient-4.2.3.jar:/home/juanmhl/miniconda3/envs/uma-ontology/lib/python3.12/site-packages/owlready2/pellet/pellet-2.3.1.jar:/home/juanmhl/miniconda3/envs/uma-ontology/lib/python3.12/site-packages/owlready2/pellet/antlr-3.2.jar:/home/juanmhl/miniconda3/envs/uma-ontology/lib/python3.12/site-packages/owlready2/pellet/antlr-runtime-3.2.jar:/home/juanmhl/miniconda3/envs/uma-ontology/lib/python3.12/site-packages/owlready2/pellet/jgrapht-jdk1.5.jar:/home/juanmhl/miniconda3/envs/uma-ontology/lib/python3.12/site-packages/owlready2/pellet/aterm-java-1.6.jar:/home/juanmhl/miniconda3/envs/uma-ontology/lib/python3.12/site-packages/owlready2/pellet/commons-codec-1.6.jar:/home/juanmhl/miniconda3/envs/uma-ontology/lib/python3.12/site-packages/owlready2/pellet/log4j-1.2-api-2.19.0.jar pellet.Pellet realize --loader Jena --input-format N-Triples --infer-prop-values --infer-data-prop-values --ignore-imports /tmp/tmpg5m1nxuh\n"
     ]
    },
    {
     "name": "stdout",
     "output_type": "stream",
     "text": [
      "* Owlready * Adding relation ontology.fase3 faseActual true\n",
      "* Owlready * Adding relation ontology.fase4 faseSiguiente true\n",
      "Phase: 3, Action: -CIERRE_I-, Suture Point: 2, Near: NONE\n"
     ]
    },
    {
     "name": "stderr",
     "output_type": "stream",
     "text": [
      "* Owlready2 * Pellet took 0.591881275177002 seconds\n",
      "* Owlready * (NB: only changes on entities loaded in Python are shown, other changes are done but not listed)\n",
      "* Owlready2 * Running Pellet...\n",
      "    /usr/bin/java -Xmx2000M -cp /home/juanmhl/miniconda3/envs/uma-ontology/lib/python3.12/site-packages/owlready2/pellet/jcl-over-slf4j-1.6.4.jar:/home/juanmhl/miniconda3/envs/uma-ontology/lib/python3.12/site-packages/owlready2/pellet/httpcore-4.2.2.jar:/home/juanmhl/miniconda3/envs/uma-ontology/lib/python3.12/site-packages/owlready2/pellet/jena-iri-0.9.5.jar:/home/juanmhl/miniconda3/envs/uma-ontology/lib/python3.12/site-packages/owlready2/pellet/owlapi-distribution-3.4.3-bin.jar:/home/juanmhl/miniconda3/envs/uma-ontology/lib/python3.12/site-packages/owlready2/pellet/slf4j-api-1.6.4.jar:/home/juanmhl/miniconda3/envs/uma-ontology/lib/python3.12/site-packages/owlready2/pellet/xercesImpl-2.10.0.jar:/home/juanmhl/miniconda3/envs/uma-ontology/lib/python3.12/site-packages/owlready2/pellet/slf4j-log4j12-1.6.4.jar:/home/juanmhl/miniconda3/envs/uma-ontology/lib/python3.12/site-packages/owlready2/pellet/jena-tdb-0.10.0.jar:/home/juanmhl/miniconda3/envs/uma-ontology/lib/python3.12/site-packages/owlready2/pellet/jena-arq-2.10.0.jar:/home/juanmhl/miniconda3/envs/uma-ontology/lib/python3.12/site-packages/owlready2/pellet/log4j-core-2.19.0.jar:/home/juanmhl/miniconda3/envs/uma-ontology/lib/python3.12/site-packages/owlready2/pellet/log4j-api-2.19.0.jar:/home/juanmhl/miniconda3/envs/uma-ontology/lib/python3.12/site-packages/owlready2/pellet/jena-core-2.10.0.jar:/home/juanmhl/miniconda3/envs/uma-ontology/lib/python3.12/site-packages/owlready2/pellet/xml-apis-1.4.01.jar:/home/juanmhl/miniconda3/envs/uma-ontology/lib/python3.12/site-packages/owlready2/pellet/httpclient-4.2.3.jar:/home/juanmhl/miniconda3/envs/uma-ontology/lib/python3.12/site-packages/owlready2/pellet/pellet-2.3.1.jar:/home/juanmhl/miniconda3/envs/uma-ontology/lib/python3.12/site-packages/owlready2/pellet/antlr-3.2.jar:/home/juanmhl/miniconda3/envs/uma-ontology/lib/python3.12/site-packages/owlready2/pellet/antlr-runtime-3.2.jar:/home/juanmhl/miniconda3/envs/uma-ontology/lib/python3.12/site-packages/owlready2/pellet/jgrapht-jdk1.5.jar:/home/juanmhl/miniconda3/envs/uma-ontology/lib/python3.12/site-packages/owlready2/pellet/aterm-java-1.6.jar:/home/juanmhl/miniconda3/envs/uma-ontology/lib/python3.12/site-packages/owlready2/pellet/commons-codec-1.6.jar:/home/juanmhl/miniconda3/envs/uma-ontology/lib/python3.12/site-packages/owlready2/pellet/log4j-1.2-api-2.19.0.jar pellet.Pellet realize --loader Jena --input-format N-Triples --infer-prop-values --infer-data-prop-values --ignore-imports /tmp/tmple6r7nk4\n"
     ]
    },
    {
     "name": "stdout",
     "output_type": "stream",
     "text": [
      "* Owlready * Adding relation ontology.fase5 faseSiguiente true\n",
      "* Owlready * Adding relation ontology.fase4 faseActual true\n",
      "Phase: 4, Action: -APERTURA_D-, Suture Point: 2, Near: NONE\n"
     ]
    },
    {
     "name": "stderr",
     "output_type": "stream",
     "text": [
      "* Owlready2 * Pellet took 0.5898451805114746 seconds\n",
      "* Owlready * (NB: only changes on entities loaded in Python are shown, other changes are done but not listed)\n",
      "* Owlready2 * Running Pellet...\n",
      "    /usr/bin/java -Xmx2000M -cp /home/juanmhl/miniconda3/envs/uma-ontology/lib/python3.12/site-packages/owlready2/pellet/jcl-over-slf4j-1.6.4.jar:/home/juanmhl/miniconda3/envs/uma-ontology/lib/python3.12/site-packages/owlready2/pellet/httpcore-4.2.2.jar:/home/juanmhl/miniconda3/envs/uma-ontology/lib/python3.12/site-packages/owlready2/pellet/jena-iri-0.9.5.jar:/home/juanmhl/miniconda3/envs/uma-ontology/lib/python3.12/site-packages/owlready2/pellet/owlapi-distribution-3.4.3-bin.jar:/home/juanmhl/miniconda3/envs/uma-ontology/lib/python3.12/site-packages/owlready2/pellet/slf4j-api-1.6.4.jar:/home/juanmhl/miniconda3/envs/uma-ontology/lib/python3.12/site-packages/owlready2/pellet/xercesImpl-2.10.0.jar:/home/juanmhl/miniconda3/envs/uma-ontology/lib/python3.12/site-packages/owlready2/pellet/slf4j-log4j12-1.6.4.jar:/home/juanmhl/miniconda3/envs/uma-ontology/lib/python3.12/site-packages/owlready2/pellet/jena-tdb-0.10.0.jar:/home/juanmhl/miniconda3/envs/uma-ontology/lib/python3.12/site-packages/owlready2/pellet/jena-arq-2.10.0.jar:/home/juanmhl/miniconda3/envs/uma-ontology/lib/python3.12/site-packages/owlready2/pellet/log4j-core-2.19.0.jar:/home/juanmhl/miniconda3/envs/uma-ontology/lib/python3.12/site-packages/owlready2/pellet/log4j-api-2.19.0.jar:/home/juanmhl/miniconda3/envs/uma-ontology/lib/python3.12/site-packages/owlready2/pellet/jena-core-2.10.0.jar:/home/juanmhl/miniconda3/envs/uma-ontology/lib/python3.12/site-packages/owlready2/pellet/xml-apis-1.4.01.jar:/home/juanmhl/miniconda3/envs/uma-ontology/lib/python3.12/site-packages/owlready2/pellet/httpclient-4.2.3.jar:/home/juanmhl/miniconda3/envs/uma-ontology/lib/python3.12/site-packages/owlready2/pellet/pellet-2.3.1.jar:/home/juanmhl/miniconda3/envs/uma-ontology/lib/python3.12/site-packages/owlready2/pellet/antlr-3.2.jar:/home/juanmhl/miniconda3/envs/uma-ontology/lib/python3.12/site-packages/owlready2/pellet/antlr-runtime-3.2.jar:/home/juanmhl/miniconda3/envs/uma-ontology/lib/python3.12/site-packages/owlready2/pellet/jgrapht-jdk1.5.jar:/home/juanmhl/miniconda3/envs/uma-ontology/lib/python3.12/site-packages/owlready2/pellet/aterm-java-1.6.jar:/home/juanmhl/miniconda3/envs/uma-ontology/lib/python3.12/site-packages/owlready2/pellet/commons-codec-1.6.jar:/home/juanmhl/miniconda3/envs/uma-ontology/lib/python3.12/site-packages/owlready2/pellet/log4j-1.2-api-2.19.0.jar pellet.Pellet realize --loader Jena --input-format N-Triples --infer-prop-values --infer-data-prop-values --ignore-imports /tmp/tmpgzu9w1yk\n"
     ]
    },
    {
     "name": "stdout",
     "output_type": "stream",
     "text": [
      "* Owlready * Adding relation ontology.fase6 faseSiguiente true\n",
      "* Owlready * Adding relation ontology.fase5 faseActual true\n",
      "Phase: 5, Action: -DESPLAZAMIENTO_CAMBIO_I-, Suture Point: 2, Near: NONE\n"
     ]
    },
    {
     "name": "stderr",
     "output_type": "stream",
     "text": [
      "* Owlready2 * Pellet took 0.6150836944580078 seconds\n",
      "* Owlready * (NB: only changes on entities loaded in Python are shown, other changes are done but not listed)\n",
      "* Owlready2 * Running Pellet...\n",
      "    /usr/bin/java -Xmx2000M -cp /home/juanmhl/miniconda3/envs/uma-ontology/lib/python3.12/site-packages/owlready2/pellet/jcl-over-slf4j-1.6.4.jar:/home/juanmhl/miniconda3/envs/uma-ontology/lib/python3.12/site-packages/owlready2/pellet/httpcore-4.2.2.jar:/home/juanmhl/miniconda3/envs/uma-ontology/lib/python3.12/site-packages/owlready2/pellet/jena-iri-0.9.5.jar:/home/juanmhl/miniconda3/envs/uma-ontology/lib/python3.12/site-packages/owlready2/pellet/owlapi-distribution-3.4.3-bin.jar:/home/juanmhl/miniconda3/envs/uma-ontology/lib/python3.12/site-packages/owlready2/pellet/slf4j-api-1.6.4.jar:/home/juanmhl/miniconda3/envs/uma-ontology/lib/python3.12/site-packages/owlready2/pellet/xercesImpl-2.10.0.jar:/home/juanmhl/miniconda3/envs/uma-ontology/lib/python3.12/site-packages/owlready2/pellet/slf4j-log4j12-1.6.4.jar:/home/juanmhl/miniconda3/envs/uma-ontology/lib/python3.12/site-packages/owlready2/pellet/jena-tdb-0.10.0.jar:/home/juanmhl/miniconda3/envs/uma-ontology/lib/python3.12/site-packages/owlready2/pellet/jena-arq-2.10.0.jar:/home/juanmhl/miniconda3/envs/uma-ontology/lib/python3.12/site-packages/owlready2/pellet/log4j-core-2.19.0.jar:/home/juanmhl/miniconda3/envs/uma-ontology/lib/python3.12/site-packages/owlready2/pellet/log4j-api-2.19.0.jar:/home/juanmhl/miniconda3/envs/uma-ontology/lib/python3.12/site-packages/owlready2/pellet/jena-core-2.10.0.jar:/home/juanmhl/miniconda3/envs/uma-ontology/lib/python3.12/site-packages/owlready2/pellet/xml-apis-1.4.01.jar:/home/juanmhl/miniconda3/envs/uma-ontology/lib/python3.12/site-packages/owlready2/pellet/httpclient-4.2.3.jar:/home/juanmhl/miniconda3/envs/uma-ontology/lib/python3.12/site-packages/owlready2/pellet/pellet-2.3.1.jar:/home/juanmhl/miniconda3/envs/uma-ontology/lib/python3.12/site-packages/owlready2/pellet/antlr-3.2.jar:/home/juanmhl/miniconda3/envs/uma-ontology/lib/python3.12/site-packages/owlready2/pellet/antlr-runtime-3.2.jar:/home/juanmhl/miniconda3/envs/uma-ontology/lib/python3.12/site-packages/owlready2/pellet/jgrapht-jdk1.5.jar:/home/juanmhl/miniconda3/envs/uma-ontology/lib/python3.12/site-packages/owlready2/pellet/aterm-java-1.6.jar:/home/juanmhl/miniconda3/envs/uma-ontology/lib/python3.12/site-packages/owlready2/pellet/commons-codec-1.6.jar:/home/juanmhl/miniconda3/envs/uma-ontology/lib/python3.12/site-packages/owlready2/pellet/log4j-1.2-api-2.19.0.jar pellet.Pellet realize --loader Jena --input-format N-Triples --infer-prop-values --infer-data-prop-values --ignore-imports /tmp/tmpvntwidly\n"
     ]
    },
    {
     "name": "stdout",
     "output_type": "stream",
     "text": [
      "* Owlready * Adding relation ontology.fase6 faseActual true\n",
      "* Owlready * Adding relation ontology.fase7 faseSiguiente true\n",
      "Phase: 6, Action: -DESPLAZAMIENTO_CAMBIO_D-, Suture Point: 2, Near: NONE\n"
     ]
    },
    {
     "name": "stderr",
     "output_type": "stream",
     "text": [
      "* Owlready2 * Pellet took 0.5856266021728516 seconds\n",
      "* Owlready * (NB: only changes on entities loaded in Python are shown, other changes are done but not listed)\n",
      "* Owlready2 * Running Pellet...\n",
      "    /usr/bin/java -Xmx2000M -cp /home/juanmhl/miniconda3/envs/uma-ontology/lib/python3.12/site-packages/owlready2/pellet/jcl-over-slf4j-1.6.4.jar:/home/juanmhl/miniconda3/envs/uma-ontology/lib/python3.12/site-packages/owlready2/pellet/httpcore-4.2.2.jar:/home/juanmhl/miniconda3/envs/uma-ontology/lib/python3.12/site-packages/owlready2/pellet/jena-iri-0.9.5.jar:/home/juanmhl/miniconda3/envs/uma-ontology/lib/python3.12/site-packages/owlready2/pellet/owlapi-distribution-3.4.3-bin.jar:/home/juanmhl/miniconda3/envs/uma-ontology/lib/python3.12/site-packages/owlready2/pellet/slf4j-api-1.6.4.jar:/home/juanmhl/miniconda3/envs/uma-ontology/lib/python3.12/site-packages/owlready2/pellet/xercesImpl-2.10.0.jar:/home/juanmhl/miniconda3/envs/uma-ontology/lib/python3.12/site-packages/owlready2/pellet/slf4j-log4j12-1.6.4.jar:/home/juanmhl/miniconda3/envs/uma-ontology/lib/python3.12/site-packages/owlready2/pellet/jena-tdb-0.10.0.jar:/home/juanmhl/miniconda3/envs/uma-ontology/lib/python3.12/site-packages/owlready2/pellet/jena-arq-2.10.0.jar:/home/juanmhl/miniconda3/envs/uma-ontology/lib/python3.12/site-packages/owlready2/pellet/log4j-core-2.19.0.jar:/home/juanmhl/miniconda3/envs/uma-ontology/lib/python3.12/site-packages/owlready2/pellet/log4j-api-2.19.0.jar:/home/juanmhl/miniconda3/envs/uma-ontology/lib/python3.12/site-packages/owlready2/pellet/jena-core-2.10.0.jar:/home/juanmhl/miniconda3/envs/uma-ontology/lib/python3.12/site-packages/owlready2/pellet/xml-apis-1.4.01.jar:/home/juanmhl/miniconda3/envs/uma-ontology/lib/python3.12/site-packages/owlready2/pellet/httpclient-4.2.3.jar:/home/juanmhl/miniconda3/envs/uma-ontology/lib/python3.12/site-packages/owlready2/pellet/pellet-2.3.1.jar:/home/juanmhl/miniconda3/envs/uma-ontology/lib/python3.12/site-packages/owlready2/pellet/antlr-3.2.jar:/home/juanmhl/miniconda3/envs/uma-ontology/lib/python3.12/site-packages/owlready2/pellet/antlr-runtime-3.2.jar:/home/juanmhl/miniconda3/envs/uma-ontology/lib/python3.12/site-packages/owlready2/pellet/jgrapht-jdk1.5.jar:/home/juanmhl/miniconda3/envs/uma-ontology/lib/python3.12/site-packages/owlready2/pellet/aterm-java-1.6.jar:/home/juanmhl/miniconda3/envs/uma-ontology/lib/python3.12/site-packages/owlready2/pellet/commons-codec-1.6.jar:/home/juanmhl/miniconda3/envs/uma-ontology/lib/python3.12/site-packages/owlready2/pellet/log4j-1.2-api-2.19.0.jar pellet.Pellet realize --loader Jena --input-format N-Triples --infer-prop-values --infer-data-prop-values --ignore-imports /tmp/tmp1s0e709h\n"
     ]
    },
    {
     "name": "stdout",
     "output_type": "stream",
     "text": [
      "* Owlready * Adding relation ontology.fase8 faseSiguiente true\n",
      "* Owlready * Adding relation ontology.fase7 faseActual true\n",
      "Phase: 7, Action: -CIERRE_D-, Suture Point: 2, Near: NONE\n"
     ]
    },
    {
     "name": "stderr",
     "output_type": "stream",
     "text": [
      "* Owlready2 * Pellet took 0.6059455871582031 seconds\n",
      "* Owlready * (NB: only changes on entities loaded in Python are shown, other changes are done but not listed)\n",
      "* Owlready2 * Running Pellet...\n",
      "    /usr/bin/java -Xmx2000M -cp /home/juanmhl/miniconda3/envs/uma-ontology/lib/python3.12/site-packages/owlready2/pellet/jcl-over-slf4j-1.6.4.jar:/home/juanmhl/miniconda3/envs/uma-ontology/lib/python3.12/site-packages/owlready2/pellet/httpcore-4.2.2.jar:/home/juanmhl/miniconda3/envs/uma-ontology/lib/python3.12/site-packages/owlready2/pellet/jena-iri-0.9.5.jar:/home/juanmhl/miniconda3/envs/uma-ontology/lib/python3.12/site-packages/owlready2/pellet/owlapi-distribution-3.4.3-bin.jar:/home/juanmhl/miniconda3/envs/uma-ontology/lib/python3.12/site-packages/owlready2/pellet/slf4j-api-1.6.4.jar:/home/juanmhl/miniconda3/envs/uma-ontology/lib/python3.12/site-packages/owlready2/pellet/xercesImpl-2.10.0.jar:/home/juanmhl/miniconda3/envs/uma-ontology/lib/python3.12/site-packages/owlready2/pellet/slf4j-log4j12-1.6.4.jar:/home/juanmhl/miniconda3/envs/uma-ontology/lib/python3.12/site-packages/owlready2/pellet/jena-tdb-0.10.0.jar:/home/juanmhl/miniconda3/envs/uma-ontology/lib/python3.12/site-packages/owlready2/pellet/jena-arq-2.10.0.jar:/home/juanmhl/miniconda3/envs/uma-ontology/lib/python3.12/site-packages/owlready2/pellet/log4j-core-2.19.0.jar:/home/juanmhl/miniconda3/envs/uma-ontology/lib/python3.12/site-packages/owlready2/pellet/log4j-api-2.19.0.jar:/home/juanmhl/miniconda3/envs/uma-ontology/lib/python3.12/site-packages/owlready2/pellet/jena-core-2.10.0.jar:/home/juanmhl/miniconda3/envs/uma-ontology/lib/python3.12/site-packages/owlready2/pellet/xml-apis-1.4.01.jar:/home/juanmhl/miniconda3/envs/uma-ontology/lib/python3.12/site-packages/owlready2/pellet/httpclient-4.2.3.jar:/home/juanmhl/miniconda3/envs/uma-ontology/lib/python3.12/site-packages/owlready2/pellet/pellet-2.3.1.jar:/home/juanmhl/miniconda3/envs/uma-ontology/lib/python3.12/site-packages/owlready2/pellet/antlr-3.2.jar:/home/juanmhl/miniconda3/envs/uma-ontology/lib/python3.12/site-packages/owlready2/pellet/antlr-runtime-3.2.jar:/home/juanmhl/miniconda3/envs/uma-ontology/lib/python3.12/site-packages/owlready2/pellet/jgrapht-jdk1.5.jar:/home/juanmhl/miniconda3/envs/uma-ontology/lib/python3.12/site-packages/owlready2/pellet/aterm-java-1.6.jar:/home/juanmhl/miniconda3/envs/uma-ontology/lib/python3.12/site-packages/owlready2/pellet/commons-codec-1.6.jar:/home/juanmhl/miniconda3/envs/uma-ontology/lib/python3.12/site-packages/owlready2/pellet/log4j-1.2-api-2.19.0.jar pellet.Pellet realize --loader Jena --input-format N-Triples --infer-prop-values --infer-data-prop-values --ignore-imports /tmp/tmp4rhz6rfz\n"
     ]
    },
    {
     "name": "stdout",
     "output_type": "stream",
     "text": [
      "* Owlready * Adding relation ontology.fase9 faseSiguiente true\n",
      "* Owlready * Adding relation ontology.fase8 faseActual true\n",
      "Phase: 8, Action: -APERTURA_I-, Suture Point: 2, Near: NONE\n"
     ]
    },
    {
     "name": "stderr",
     "output_type": "stream",
     "text": [
      "* Owlready2 * Pellet took 0.6051280498504639 seconds\n",
      "* Owlready * (NB: only changes on entities loaded in Python are shown, other changes are done but not listed)\n",
      "* Owlready2 * Running Pellet...\n",
      "    /usr/bin/java -Xmx2000M -cp /home/juanmhl/miniconda3/envs/uma-ontology/lib/python3.12/site-packages/owlready2/pellet/jcl-over-slf4j-1.6.4.jar:/home/juanmhl/miniconda3/envs/uma-ontology/lib/python3.12/site-packages/owlready2/pellet/httpcore-4.2.2.jar:/home/juanmhl/miniconda3/envs/uma-ontology/lib/python3.12/site-packages/owlready2/pellet/jena-iri-0.9.5.jar:/home/juanmhl/miniconda3/envs/uma-ontology/lib/python3.12/site-packages/owlready2/pellet/owlapi-distribution-3.4.3-bin.jar:/home/juanmhl/miniconda3/envs/uma-ontology/lib/python3.12/site-packages/owlready2/pellet/slf4j-api-1.6.4.jar:/home/juanmhl/miniconda3/envs/uma-ontology/lib/python3.12/site-packages/owlready2/pellet/xercesImpl-2.10.0.jar:/home/juanmhl/miniconda3/envs/uma-ontology/lib/python3.12/site-packages/owlready2/pellet/slf4j-log4j12-1.6.4.jar:/home/juanmhl/miniconda3/envs/uma-ontology/lib/python3.12/site-packages/owlready2/pellet/jena-tdb-0.10.0.jar:/home/juanmhl/miniconda3/envs/uma-ontology/lib/python3.12/site-packages/owlready2/pellet/jena-arq-2.10.0.jar:/home/juanmhl/miniconda3/envs/uma-ontology/lib/python3.12/site-packages/owlready2/pellet/log4j-core-2.19.0.jar:/home/juanmhl/miniconda3/envs/uma-ontology/lib/python3.12/site-packages/owlready2/pellet/log4j-api-2.19.0.jar:/home/juanmhl/miniconda3/envs/uma-ontology/lib/python3.12/site-packages/owlready2/pellet/jena-core-2.10.0.jar:/home/juanmhl/miniconda3/envs/uma-ontology/lib/python3.12/site-packages/owlready2/pellet/xml-apis-1.4.01.jar:/home/juanmhl/miniconda3/envs/uma-ontology/lib/python3.12/site-packages/owlready2/pellet/httpclient-4.2.3.jar:/home/juanmhl/miniconda3/envs/uma-ontology/lib/python3.12/site-packages/owlready2/pellet/pellet-2.3.1.jar:/home/juanmhl/miniconda3/envs/uma-ontology/lib/python3.12/site-packages/owlready2/pellet/antlr-3.2.jar:/home/juanmhl/miniconda3/envs/uma-ontology/lib/python3.12/site-packages/owlready2/pellet/antlr-runtime-3.2.jar:/home/juanmhl/miniconda3/envs/uma-ontology/lib/python3.12/site-packages/owlready2/pellet/jgrapht-jdk1.5.jar:/home/juanmhl/miniconda3/envs/uma-ontology/lib/python3.12/site-packages/owlready2/pellet/aterm-java-1.6.jar:/home/juanmhl/miniconda3/envs/uma-ontology/lib/python3.12/site-packages/owlready2/pellet/commons-codec-1.6.jar:/home/juanmhl/miniconda3/envs/uma-ontology/lib/python3.12/site-packages/owlready2/pellet/log4j-1.2-api-2.19.0.jar pellet.Pellet realize --loader Jena --input-format N-Triples --infer-prop-values --infer-data-prop-values --ignore-imports /tmp/tmpdx85vdfr\n"
     ]
    },
    {
     "name": "stdout",
     "output_type": "stream",
     "text": [
      "* Owlready * Adding relation ontology.fase9 faseActual true\n",
      "* Owlready * Adding relation ontology.fase2 faseSiguiente true\n",
      "Phase: 9, Action: -DESPLAZAMIENTO_SUTURA_D-, Suture Point: 2, Near: NONE\n",
      "* Owlready * Adding relation ontology.fase2 faseSiguiente true\n",
      "* Owlready * Adding relation ontology.fase1 faseActual true\n",
      "Phase: 1, Action: -DESPLAZAMIENTO_SUTURA_D-, Suture Point: 2, Near: NONE\n"
     ]
    },
    {
     "name": "stderr",
     "output_type": "stream",
     "text": [
      "* Owlready2 * Pellet took 0.626774787902832 seconds\n",
      "* Owlready * (NB: only changes on entities loaded in Python are shown, other changes are done but not listed)\n"
     ]
    }
   ],
   "source": [
    "from inferenceengine import *\n",
    "\n",
    "repo_implementation = CommandRepositoryOntology\n",
    "service = InferenceMotorService(repo_implementation)\n",
    "\n",
    "# Initiazlize the service\n",
    "service.initialize(n_points=3, ontology_path='/home/juanmhl/ontology.owl')\n",
    "# print('After initialization')\n",
    "# print(service.get_command())\n",
    "\n",
    "# Start the service and print the command\n",
    "# service.start()\n",
    "# print('After start')\n",
    "# print(service.get_command())\n",
    "\n",
    "vp1 = [True, False, False, False, False, False, True,       [True, False, False]]\n",
    "vp2 = [True, False, False, False, True, False, True,        [True, False, False]]\n",
    "vp3 = [True, False, False, False, True, True, False,        [True, False, False]]\n",
    "vp4 = [True, True, False, False, True, True, False,         [True, False, False]]\n",
    "vp5 = [False, True, False, False, True, True, False,        [True, False, False]]\n",
    "vp6 = [False, True, False, True, True, False, False,        [True, False, False]]\n",
    "vp7 = [False, True, True, True, False, False, False,        [True, False, False]]\n",
    "vp8 = [True, True, True, True, False, False, False,         [True, False, False]]\n",
    "vp9 = [True, False, True, True, False, False, False,        [True, False, False]]\n",
    "vpt = [True, True, True, True, True, True, True,            [True, False, False]]\n",
    "vpf = [False, False, False, False, False, False, False,     [True, False, False]]\n",
    "\n",
    "predicates_vectors = [vp1, vp2, vp3, vp4, vp5, vp6, vp7, vp8, vp9, \n",
    "                      [True, False, False, False, False, False, True, [True, False, False]]]\n",
    "\n",
    "for vp in predicates_vectors:\n",
    "    comando = service.step(vp)\n",
    "    print(comando)"
   ]
  },
  {
   "cell_type": "markdown",
   "metadata": {},
   "source": [
    "# Pruebo a tirar hacia detrás en el bucle y luego seguir"
   ]
  },
  {
   "cell_type": "code",
   "execution_count": 1,
   "metadata": {},
   "outputs": [
    {
     "name": "stdout",
     "output_type": "stream",
     "text": [
      "Ontology loaded. \n"
     ]
    },
    {
     "name": "stderr",
     "output_type": "stream",
     "text": [
      "* Owlready2 * Running Pellet...\n",
      "    /usr/bin/java -Xmx2000M -cp /home/juanmhl/miniconda3/envs/uma-ontology/lib/python3.12/site-packages/owlready2/pellet/jcl-over-slf4j-1.6.4.jar:/home/juanmhl/miniconda3/envs/uma-ontology/lib/python3.12/site-packages/owlready2/pellet/httpcore-4.2.2.jar:/home/juanmhl/miniconda3/envs/uma-ontology/lib/python3.12/site-packages/owlready2/pellet/jena-iri-0.9.5.jar:/home/juanmhl/miniconda3/envs/uma-ontology/lib/python3.12/site-packages/owlready2/pellet/owlapi-distribution-3.4.3-bin.jar:/home/juanmhl/miniconda3/envs/uma-ontology/lib/python3.12/site-packages/owlready2/pellet/slf4j-api-1.6.4.jar:/home/juanmhl/miniconda3/envs/uma-ontology/lib/python3.12/site-packages/owlready2/pellet/xercesImpl-2.10.0.jar:/home/juanmhl/miniconda3/envs/uma-ontology/lib/python3.12/site-packages/owlready2/pellet/slf4j-log4j12-1.6.4.jar:/home/juanmhl/miniconda3/envs/uma-ontology/lib/python3.12/site-packages/owlready2/pellet/jena-tdb-0.10.0.jar:/home/juanmhl/miniconda3/envs/uma-ontology/lib/python3.12/site-packages/owlready2/pellet/jena-arq-2.10.0.jar:/home/juanmhl/miniconda3/envs/uma-ontology/lib/python3.12/site-packages/owlready2/pellet/log4j-core-2.19.0.jar:/home/juanmhl/miniconda3/envs/uma-ontology/lib/python3.12/site-packages/owlready2/pellet/log4j-api-2.19.0.jar:/home/juanmhl/miniconda3/envs/uma-ontology/lib/python3.12/site-packages/owlready2/pellet/jena-core-2.10.0.jar:/home/juanmhl/miniconda3/envs/uma-ontology/lib/python3.12/site-packages/owlready2/pellet/xml-apis-1.4.01.jar:/home/juanmhl/miniconda3/envs/uma-ontology/lib/python3.12/site-packages/owlready2/pellet/httpclient-4.2.3.jar:/home/juanmhl/miniconda3/envs/uma-ontology/lib/python3.12/site-packages/owlready2/pellet/pellet-2.3.1.jar:/home/juanmhl/miniconda3/envs/uma-ontology/lib/python3.12/site-packages/owlready2/pellet/antlr-3.2.jar:/home/juanmhl/miniconda3/envs/uma-ontology/lib/python3.12/site-packages/owlready2/pellet/antlr-runtime-3.2.jar:/home/juanmhl/miniconda3/envs/uma-ontology/lib/python3.12/site-packages/owlready2/pellet/jgrapht-jdk1.5.jar:/home/juanmhl/miniconda3/envs/uma-ontology/lib/python3.12/site-packages/owlready2/pellet/aterm-java-1.6.jar:/home/juanmhl/miniconda3/envs/uma-ontology/lib/python3.12/site-packages/owlready2/pellet/commons-codec-1.6.jar:/home/juanmhl/miniconda3/envs/uma-ontology/lib/python3.12/site-packages/owlready2/pellet/log4j-1.2-api-2.19.0.jar pellet.Pellet realize --loader Jena --input-format N-Triples --infer-prop-values --infer-data-prop-values --ignore-imports /tmp/tmpelwb3aja\n",
      "* Owlready2 * Pellet took 0.5957608222961426 seconds\n",
      "* Owlready * (NB: only changes on entities loaded in Python are shown, other changes are done but not listed)\n",
      "* Owlready2 * Running Pellet...\n",
      "    /usr/bin/java -Xmx2000M -cp /home/juanmhl/miniconda3/envs/uma-ontology/lib/python3.12/site-packages/owlready2/pellet/jcl-over-slf4j-1.6.4.jar:/home/juanmhl/miniconda3/envs/uma-ontology/lib/python3.12/site-packages/owlready2/pellet/httpcore-4.2.2.jar:/home/juanmhl/miniconda3/envs/uma-ontology/lib/python3.12/site-packages/owlready2/pellet/jena-iri-0.9.5.jar:/home/juanmhl/miniconda3/envs/uma-ontology/lib/python3.12/site-packages/owlready2/pellet/owlapi-distribution-3.4.3-bin.jar:/home/juanmhl/miniconda3/envs/uma-ontology/lib/python3.12/site-packages/owlready2/pellet/slf4j-api-1.6.4.jar:/home/juanmhl/miniconda3/envs/uma-ontology/lib/python3.12/site-packages/owlready2/pellet/xercesImpl-2.10.0.jar:/home/juanmhl/miniconda3/envs/uma-ontology/lib/python3.12/site-packages/owlready2/pellet/slf4j-log4j12-1.6.4.jar:/home/juanmhl/miniconda3/envs/uma-ontology/lib/python3.12/site-packages/owlready2/pellet/jena-tdb-0.10.0.jar:/home/juanmhl/miniconda3/envs/uma-ontology/lib/python3.12/site-packages/owlready2/pellet/jena-arq-2.10.0.jar:/home/juanmhl/miniconda3/envs/uma-ontology/lib/python3.12/site-packages/owlready2/pellet/log4j-core-2.19.0.jar:/home/juanmhl/miniconda3/envs/uma-ontology/lib/python3.12/site-packages/owlready2/pellet/log4j-api-2.19.0.jar:/home/juanmhl/miniconda3/envs/uma-ontology/lib/python3.12/site-packages/owlready2/pellet/jena-core-2.10.0.jar:/home/juanmhl/miniconda3/envs/uma-ontology/lib/python3.12/site-packages/owlready2/pellet/xml-apis-1.4.01.jar:/home/juanmhl/miniconda3/envs/uma-ontology/lib/python3.12/site-packages/owlready2/pellet/httpclient-4.2.3.jar:/home/juanmhl/miniconda3/envs/uma-ontology/lib/python3.12/site-packages/owlready2/pellet/pellet-2.3.1.jar:/home/juanmhl/miniconda3/envs/uma-ontology/lib/python3.12/site-packages/owlready2/pellet/antlr-3.2.jar:/home/juanmhl/miniconda3/envs/uma-ontology/lib/python3.12/site-packages/owlready2/pellet/antlr-runtime-3.2.jar:/home/juanmhl/miniconda3/envs/uma-ontology/lib/python3.12/site-packages/owlready2/pellet/jgrapht-jdk1.5.jar:/home/juanmhl/miniconda3/envs/uma-ontology/lib/python3.12/site-packages/owlready2/pellet/aterm-java-1.6.jar:/home/juanmhl/miniconda3/envs/uma-ontology/lib/python3.12/site-packages/owlready2/pellet/commons-codec-1.6.jar:/home/juanmhl/miniconda3/envs/uma-ontology/lib/python3.12/site-packages/owlready2/pellet/log4j-1.2-api-2.19.0.jar pellet.Pellet realize --loader Jena --input-format N-Triples --infer-prop-values --infer-data-prop-values --ignore-imports /tmp/tmpxoicv1iz\n",
      "* Owlready2 * Pellet took 0.6124141216278076 seconds\n",
      "* Owlready * (NB: only changes on entities loaded in Python are shown, other changes are done but not listed)\n",
      "* Owlready2 * Running Pellet...\n",
      "    /usr/bin/java -Xmx2000M -cp /home/juanmhl/miniconda3/envs/uma-ontology/lib/python3.12/site-packages/owlready2/pellet/jcl-over-slf4j-1.6.4.jar:/home/juanmhl/miniconda3/envs/uma-ontology/lib/python3.12/site-packages/owlready2/pellet/httpcore-4.2.2.jar:/home/juanmhl/miniconda3/envs/uma-ontology/lib/python3.12/site-packages/owlready2/pellet/jena-iri-0.9.5.jar:/home/juanmhl/miniconda3/envs/uma-ontology/lib/python3.12/site-packages/owlready2/pellet/owlapi-distribution-3.4.3-bin.jar:/home/juanmhl/miniconda3/envs/uma-ontology/lib/python3.12/site-packages/owlready2/pellet/slf4j-api-1.6.4.jar:/home/juanmhl/miniconda3/envs/uma-ontology/lib/python3.12/site-packages/owlready2/pellet/xercesImpl-2.10.0.jar:/home/juanmhl/miniconda3/envs/uma-ontology/lib/python3.12/site-packages/owlready2/pellet/slf4j-log4j12-1.6.4.jar:/home/juanmhl/miniconda3/envs/uma-ontology/lib/python3.12/site-packages/owlready2/pellet/jena-tdb-0.10.0.jar:/home/juanmhl/miniconda3/envs/uma-ontology/lib/python3.12/site-packages/owlready2/pellet/jena-arq-2.10.0.jar:/home/juanmhl/miniconda3/envs/uma-ontology/lib/python3.12/site-packages/owlready2/pellet/log4j-core-2.19.0.jar:/home/juanmhl/miniconda3/envs/uma-ontology/lib/python3.12/site-packages/owlready2/pellet/log4j-api-2.19.0.jar:/home/juanmhl/miniconda3/envs/uma-ontology/lib/python3.12/site-packages/owlready2/pellet/jena-core-2.10.0.jar:/home/juanmhl/miniconda3/envs/uma-ontology/lib/python3.12/site-packages/owlready2/pellet/xml-apis-1.4.01.jar:/home/juanmhl/miniconda3/envs/uma-ontology/lib/python3.12/site-packages/owlready2/pellet/httpclient-4.2.3.jar:/home/juanmhl/miniconda3/envs/uma-ontology/lib/python3.12/site-packages/owlready2/pellet/pellet-2.3.1.jar:/home/juanmhl/miniconda3/envs/uma-ontology/lib/python3.12/site-packages/owlready2/pellet/antlr-3.2.jar:/home/juanmhl/miniconda3/envs/uma-ontology/lib/python3.12/site-packages/owlready2/pellet/antlr-runtime-3.2.jar:/home/juanmhl/miniconda3/envs/uma-ontology/lib/python3.12/site-packages/owlready2/pellet/jgrapht-jdk1.5.jar:/home/juanmhl/miniconda3/envs/uma-ontology/lib/python3.12/site-packages/owlready2/pellet/aterm-java-1.6.jar:/home/juanmhl/miniconda3/envs/uma-ontology/lib/python3.12/site-packages/owlready2/pellet/commons-codec-1.6.jar:/home/juanmhl/miniconda3/envs/uma-ontology/lib/python3.12/site-packages/owlready2/pellet/log4j-1.2-api-2.19.0.jar pellet.Pellet realize --loader Jena --input-format N-Triples --infer-prop-values --infer-data-prop-values --ignore-imports /tmp/tmpx35cvdxu\n"
     ]
    },
    {
     "name": "stdout",
     "output_type": "stream",
     "text": [
      "Phase: 1, Action: -DESPLAZAMIENTO_SUTURA_D-, Suture Point: 1, Near: NONE\n"
     ]
    },
    {
     "name": "stderr",
     "output_type": "stream",
     "text": [
      "* Owlready2 * Pellet took 0.6420900821685791 seconds\n",
      "* Owlready * (NB: only changes on entities loaded in Python are shown, other changes are done but not listed)\n",
      "* Owlready2 * Running Pellet...\n",
      "    /usr/bin/java -Xmx2000M -cp /home/juanmhl/miniconda3/envs/uma-ontology/lib/python3.12/site-packages/owlready2/pellet/jcl-over-slf4j-1.6.4.jar:/home/juanmhl/miniconda3/envs/uma-ontology/lib/python3.12/site-packages/owlready2/pellet/httpcore-4.2.2.jar:/home/juanmhl/miniconda3/envs/uma-ontology/lib/python3.12/site-packages/owlready2/pellet/jena-iri-0.9.5.jar:/home/juanmhl/miniconda3/envs/uma-ontology/lib/python3.12/site-packages/owlready2/pellet/owlapi-distribution-3.4.3-bin.jar:/home/juanmhl/miniconda3/envs/uma-ontology/lib/python3.12/site-packages/owlready2/pellet/slf4j-api-1.6.4.jar:/home/juanmhl/miniconda3/envs/uma-ontology/lib/python3.12/site-packages/owlready2/pellet/xercesImpl-2.10.0.jar:/home/juanmhl/miniconda3/envs/uma-ontology/lib/python3.12/site-packages/owlready2/pellet/slf4j-log4j12-1.6.4.jar:/home/juanmhl/miniconda3/envs/uma-ontology/lib/python3.12/site-packages/owlready2/pellet/jena-tdb-0.10.0.jar:/home/juanmhl/miniconda3/envs/uma-ontology/lib/python3.12/site-packages/owlready2/pellet/jena-arq-2.10.0.jar:/home/juanmhl/miniconda3/envs/uma-ontology/lib/python3.12/site-packages/owlready2/pellet/log4j-core-2.19.0.jar:/home/juanmhl/miniconda3/envs/uma-ontology/lib/python3.12/site-packages/owlready2/pellet/log4j-api-2.19.0.jar:/home/juanmhl/miniconda3/envs/uma-ontology/lib/python3.12/site-packages/owlready2/pellet/jena-core-2.10.0.jar:/home/juanmhl/miniconda3/envs/uma-ontology/lib/python3.12/site-packages/owlready2/pellet/xml-apis-1.4.01.jar:/home/juanmhl/miniconda3/envs/uma-ontology/lib/python3.12/site-packages/owlready2/pellet/httpclient-4.2.3.jar:/home/juanmhl/miniconda3/envs/uma-ontology/lib/python3.12/site-packages/owlready2/pellet/pellet-2.3.1.jar:/home/juanmhl/miniconda3/envs/uma-ontology/lib/python3.12/site-packages/owlready2/pellet/antlr-3.2.jar:/home/juanmhl/miniconda3/envs/uma-ontology/lib/python3.12/site-packages/owlready2/pellet/antlr-runtime-3.2.jar:/home/juanmhl/miniconda3/envs/uma-ontology/lib/python3.12/site-packages/owlready2/pellet/jgrapht-jdk1.5.jar:/home/juanmhl/miniconda3/envs/uma-ontology/lib/python3.12/site-packages/owlready2/pellet/aterm-java-1.6.jar:/home/juanmhl/miniconda3/envs/uma-ontology/lib/python3.12/site-packages/owlready2/pellet/commons-codec-1.6.jar:/home/juanmhl/miniconda3/envs/uma-ontology/lib/python3.12/site-packages/owlready2/pellet/log4j-1.2-api-2.19.0.jar pellet.Pellet realize --loader Jena --input-format N-Triples --infer-prop-values --infer-data-prop-values --ignore-imports /tmp/tmpbpd5n2_w\n"
     ]
    },
    {
     "name": "stdout",
     "output_type": "stream",
     "text": [
      "* Owlready * Adding relation ontology.fase2 faseActual true\n",
      "* Owlready * Adding relation ontology.fase3 faseSiguiente true\n",
      "Phase: 2, Action: -DESPLAZAMIENTO_SUTURA_I--PUNCION-, Suture Point: 1, Near: NONE\n"
     ]
    },
    {
     "name": "stderr",
     "output_type": "stream",
     "text": [
      "* Owlready2 * Pellet took 0.6457903385162354 seconds\n",
      "* Owlready * (NB: only changes on entities loaded in Python are shown, other changes are done but not listed)\n",
      "* Owlready2 * Running Pellet...\n",
      "    /usr/bin/java -Xmx2000M -cp /home/juanmhl/miniconda3/envs/uma-ontology/lib/python3.12/site-packages/owlready2/pellet/jcl-over-slf4j-1.6.4.jar:/home/juanmhl/miniconda3/envs/uma-ontology/lib/python3.12/site-packages/owlready2/pellet/httpcore-4.2.2.jar:/home/juanmhl/miniconda3/envs/uma-ontology/lib/python3.12/site-packages/owlready2/pellet/jena-iri-0.9.5.jar:/home/juanmhl/miniconda3/envs/uma-ontology/lib/python3.12/site-packages/owlready2/pellet/owlapi-distribution-3.4.3-bin.jar:/home/juanmhl/miniconda3/envs/uma-ontology/lib/python3.12/site-packages/owlready2/pellet/slf4j-api-1.6.4.jar:/home/juanmhl/miniconda3/envs/uma-ontology/lib/python3.12/site-packages/owlready2/pellet/xercesImpl-2.10.0.jar:/home/juanmhl/miniconda3/envs/uma-ontology/lib/python3.12/site-packages/owlready2/pellet/slf4j-log4j12-1.6.4.jar:/home/juanmhl/miniconda3/envs/uma-ontology/lib/python3.12/site-packages/owlready2/pellet/jena-tdb-0.10.0.jar:/home/juanmhl/miniconda3/envs/uma-ontology/lib/python3.12/site-packages/owlready2/pellet/jena-arq-2.10.0.jar:/home/juanmhl/miniconda3/envs/uma-ontology/lib/python3.12/site-packages/owlready2/pellet/log4j-core-2.19.0.jar:/home/juanmhl/miniconda3/envs/uma-ontology/lib/python3.12/site-packages/owlready2/pellet/log4j-api-2.19.0.jar:/home/juanmhl/miniconda3/envs/uma-ontology/lib/python3.12/site-packages/owlready2/pellet/jena-core-2.10.0.jar:/home/juanmhl/miniconda3/envs/uma-ontology/lib/python3.12/site-packages/owlready2/pellet/xml-apis-1.4.01.jar:/home/juanmhl/miniconda3/envs/uma-ontology/lib/python3.12/site-packages/owlready2/pellet/httpclient-4.2.3.jar:/home/juanmhl/miniconda3/envs/uma-ontology/lib/python3.12/site-packages/owlready2/pellet/pellet-2.3.1.jar:/home/juanmhl/miniconda3/envs/uma-ontology/lib/python3.12/site-packages/owlready2/pellet/antlr-3.2.jar:/home/juanmhl/miniconda3/envs/uma-ontology/lib/python3.12/site-packages/owlready2/pellet/antlr-runtime-3.2.jar:/home/juanmhl/miniconda3/envs/uma-ontology/lib/python3.12/site-packages/owlready2/pellet/jgrapht-jdk1.5.jar:/home/juanmhl/miniconda3/envs/uma-ontology/lib/python3.12/site-packages/owlready2/pellet/aterm-java-1.6.jar:/home/juanmhl/miniconda3/envs/uma-ontology/lib/python3.12/site-packages/owlready2/pellet/commons-codec-1.6.jar:/home/juanmhl/miniconda3/envs/uma-ontology/lib/python3.12/site-packages/owlready2/pellet/log4j-1.2-api-2.19.0.jar pellet.Pellet realize --loader Jena --input-format N-Triples --infer-prop-values --infer-data-prop-values --ignore-imports /tmp/tmpqzr_mgwp\n"
     ]
    },
    {
     "name": "stdout",
     "output_type": "stream",
     "text": [
      "* Owlready * Adding relation ontology.fase3 faseActual true\n",
      "* Owlready * Adding relation ontology.fase4 faseSiguiente true\n",
      "Phase: 3, Action: -CIERRE_I-, Suture Point: 1, Near: NONE\n"
     ]
    },
    {
     "name": "stderr",
     "output_type": "stream",
     "text": [
      "* Owlready2 * Pellet took 0.6467163562774658 seconds\n",
      "* Owlready * (NB: only changes on entities loaded in Python are shown, other changes are done but not listed)\n",
      "* Owlready2 * Running Pellet...\n",
      "    /usr/bin/java -Xmx2000M -cp /home/juanmhl/miniconda3/envs/uma-ontology/lib/python3.12/site-packages/owlready2/pellet/jcl-over-slf4j-1.6.4.jar:/home/juanmhl/miniconda3/envs/uma-ontology/lib/python3.12/site-packages/owlready2/pellet/httpcore-4.2.2.jar:/home/juanmhl/miniconda3/envs/uma-ontology/lib/python3.12/site-packages/owlready2/pellet/jena-iri-0.9.5.jar:/home/juanmhl/miniconda3/envs/uma-ontology/lib/python3.12/site-packages/owlready2/pellet/owlapi-distribution-3.4.3-bin.jar:/home/juanmhl/miniconda3/envs/uma-ontology/lib/python3.12/site-packages/owlready2/pellet/slf4j-api-1.6.4.jar:/home/juanmhl/miniconda3/envs/uma-ontology/lib/python3.12/site-packages/owlready2/pellet/xercesImpl-2.10.0.jar:/home/juanmhl/miniconda3/envs/uma-ontology/lib/python3.12/site-packages/owlready2/pellet/slf4j-log4j12-1.6.4.jar:/home/juanmhl/miniconda3/envs/uma-ontology/lib/python3.12/site-packages/owlready2/pellet/jena-tdb-0.10.0.jar:/home/juanmhl/miniconda3/envs/uma-ontology/lib/python3.12/site-packages/owlready2/pellet/jena-arq-2.10.0.jar:/home/juanmhl/miniconda3/envs/uma-ontology/lib/python3.12/site-packages/owlready2/pellet/log4j-core-2.19.0.jar:/home/juanmhl/miniconda3/envs/uma-ontology/lib/python3.12/site-packages/owlready2/pellet/log4j-api-2.19.0.jar:/home/juanmhl/miniconda3/envs/uma-ontology/lib/python3.12/site-packages/owlready2/pellet/jena-core-2.10.0.jar:/home/juanmhl/miniconda3/envs/uma-ontology/lib/python3.12/site-packages/owlready2/pellet/xml-apis-1.4.01.jar:/home/juanmhl/miniconda3/envs/uma-ontology/lib/python3.12/site-packages/owlready2/pellet/httpclient-4.2.3.jar:/home/juanmhl/miniconda3/envs/uma-ontology/lib/python3.12/site-packages/owlready2/pellet/pellet-2.3.1.jar:/home/juanmhl/miniconda3/envs/uma-ontology/lib/python3.12/site-packages/owlready2/pellet/antlr-3.2.jar:/home/juanmhl/miniconda3/envs/uma-ontology/lib/python3.12/site-packages/owlready2/pellet/antlr-runtime-3.2.jar:/home/juanmhl/miniconda3/envs/uma-ontology/lib/python3.12/site-packages/owlready2/pellet/jgrapht-jdk1.5.jar:/home/juanmhl/miniconda3/envs/uma-ontology/lib/python3.12/site-packages/owlready2/pellet/aterm-java-1.6.jar:/home/juanmhl/miniconda3/envs/uma-ontology/lib/python3.12/site-packages/owlready2/pellet/commons-codec-1.6.jar:/home/juanmhl/miniconda3/envs/uma-ontology/lib/python3.12/site-packages/owlready2/pellet/log4j-1.2-api-2.19.0.jar pellet.Pellet realize --loader Jena --input-format N-Triples --infer-prop-values --infer-data-prop-values --ignore-imports /tmp/tmp3ouicert\n"
     ]
    },
    {
     "name": "stdout",
     "output_type": "stream",
     "text": [
      "* Owlready * Adding relation ontology.fase5 faseSiguiente true\n",
      "* Owlready * Adding relation ontology.fase4 faseActual true\n",
      "Phase: 4, Action: -APERTURA_D-, Suture Point: 1, Near: NONE\n"
     ]
    },
    {
     "name": "stderr",
     "output_type": "stream",
     "text": [
      "* Owlready2 * Pellet took 0.6452450752258301 seconds\n",
      "* Owlready * (NB: only changes on entities loaded in Python are shown, other changes are done but not listed)\n",
      "* Owlready2 * Running Pellet...\n",
      "    /usr/bin/java -Xmx2000M -cp /home/juanmhl/miniconda3/envs/uma-ontology/lib/python3.12/site-packages/owlready2/pellet/jcl-over-slf4j-1.6.4.jar:/home/juanmhl/miniconda3/envs/uma-ontology/lib/python3.12/site-packages/owlready2/pellet/httpcore-4.2.2.jar:/home/juanmhl/miniconda3/envs/uma-ontology/lib/python3.12/site-packages/owlready2/pellet/jena-iri-0.9.5.jar:/home/juanmhl/miniconda3/envs/uma-ontology/lib/python3.12/site-packages/owlready2/pellet/owlapi-distribution-3.4.3-bin.jar:/home/juanmhl/miniconda3/envs/uma-ontology/lib/python3.12/site-packages/owlready2/pellet/slf4j-api-1.6.4.jar:/home/juanmhl/miniconda3/envs/uma-ontology/lib/python3.12/site-packages/owlready2/pellet/xercesImpl-2.10.0.jar:/home/juanmhl/miniconda3/envs/uma-ontology/lib/python3.12/site-packages/owlready2/pellet/slf4j-log4j12-1.6.4.jar:/home/juanmhl/miniconda3/envs/uma-ontology/lib/python3.12/site-packages/owlready2/pellet/jena-tdb-0.10.0.jar:/home/juanmhl/miniconda3/envs/uma-ontology/lib/python3.12/site-packages/owlready2/pellet/jena-arq-2.10.0.jar:/home/juanmhl/miniconda3/envs/uma-ontology/lib/python3.12/site-packages/owlready2/pellet/log4j-core-2.19.0.jar:/home/juanmhl/miniconda3/envs/uma-ontology/lib/python3.12/site-packages/owlready2/pellet/log4j-api-2.19.0.jar:/home/juanmhl/miniconda3/envs/uma-ontology/lib/python3.12/site-packages/owlready2/pellet/jena-core-2.10.0.jar:/home/juanmhl/miniconda3/envs/uma-ontology/lib/python3.12/site-packages/owlready2/pellet/xml-apis-1.4.01.jar:/home/juanmhl/miniconda3/envs/uma-ontology/lib/python3.12/site-packages/owlready2/pellet/httpclient-4.2.3.jar:/home/juanmhl/miniconda3/envs/uma-ontology/lib/python3.12/site-packages/owlready2/pellet/pellet-2.3.1.jar:/home/juanmhl/miniconda3/envs/uma-ontology/lib/python3.12/site-packages/owlready2/pellet/antlr-3.2.jar:/home/juanmhl/miniconda3/envs/uma-ontology/lib/python3.12/site-packages/owlready2/pellet/antlr-runtime-3.2.jar:/home/juanmhl/miniconda3/envs/uma-ontology/lib/python3.12/site-packages/owlready2/pellet/jgrapht-jdk1.5.jar:/home/juanmhl/miniconda3/envs/uma-ontology/lib/python3.12/site-packages/owlready2/pellet/aterm-java-1.6.jar:/home/juanmhl/miniconda3/envs/uma-ontology/lib/python3.12/site-packages/owlready2/pellet/commons-codec-1.6.jar:/home/juanmhl/miniconda3/envs/uma-ontology/lib/python3.12/site-packages/owlready2/pellet/log4j-1.2-api-2.19.0.jar pellet.Pellet realize --loader Jena --input-format N-Triples --infer-prop-values --infer-data-prop-values --ignore-imports /tmp/tmptz1wcjc2\n"
     ]
    },
    {
     "name": "stdout",
     "output_type": "stream",
     "text": [
      "* Owlready * Adding relation ontology.fase5 faseActual true\n",
      "* Owlready * Adding relation ontology.fase6 faseSiguiente true\n",
      "Phase: 5, Action: -DESPLAZAMIENTO_CAMBIO_I-, Suture Point: 1, Near: NONE\n"
     ]
    },
    {
     "name": "stderr",
     "output_type": "stream",
     "text": [
      "* Owlready2 * Pellet took 0.5971229076385498 seconds\n",
      "* Owlready * (NB: only changes on entities loaded in Python are shown, other changes are done but not listed)\n",
      "* Owlready2 * Running Pellet...\n",
      "    /usr/bin/java -Xmx2000M -cp /home/juanmhl/miniconda3/envs/uma-ontology/lib/python3.12/site-packages/owlready2/pellet/jcl-over-slf4j-1.6.4.jar:/home/juanmhl/miniconda3/envs/uma-ontology/lib/python3.12/site-packages/owlready2/pellet/httpcore-4.2.2.jar:/home/juanmhl/miniconda3/envs/uma-ontology/lib/python3.12/site-packages/owlready2/pellet/jena-iri-0.9.5.jar:/home/juanmhl/miniconda3/envs/uma-ontology/lib/python3.12/site-packages/owlready2/pellet/owlapi-distribution-3.4.3-bin.jar:/home/juanmhl/miniconda3/envs/uma-ontology/lib/python3.12/site-packages/owlready2/pellet/slf4j-api-1.6.4.jar:/home/juanmhl/miniconda3/envs/uma-ontology/lib/python3.12/site-packages/owlready2/pellet/xercesImpl-2.10.0.jar:/home/juanmhl/miniconda3/envs/uma-ontology/lib/python3.12/site-packages/owlready2/pellet/slf4j-log4j12-1.6.4.jar:/home/juanmhl/miniconda3/envs/uma-ontology/lib/python3.12/site-packages/owlready2/pellet/jena-tdb-0.10.0.jar:/home/juanmhl/miniconda3/envs/uma-ontology/lib/python3.12/site-packages/owlready2/pellet/jena-arq-2.10.0.jar:/home/juanmhl/miniconda3/envs/uma-ontology/lib/python3.12/site-packages/owlready2/pellet/log4j-core-2.19.0.jar:/home/juanmhl/miniconda3/envs/uma-ontology/lib/python3.12/site-packages/owlready2/pellet/log4j-api-2.19.0.jar:/home/juanmhl/miniconda3/envs/uma-ontology/lib/python3.12/site-packages/owlready2/pellet/jena-core-2.10.0.jar:/home/juanmhl/miniconda3/envs/uma-ontology/lib/python3.12/site-packages/owlready2/pellet/xml-apis-1.4.01.jar:/home/juanmhl/miniconda3/envs/uma-ontology/lib/python3.12/site-packages/owlready2/pellet/httpclient-4.2.3.jar:/home/juanmhl/miniconda3/envs/uma-ontology/lib/python3.12/site-packages/owlready2/pellet/pellet-2.3.1.jar:/home/juanmhl/miniconda3/envs/uma-ontology/lib/python3.12/site-packages/owlready2/pellet/antlr-3.2.jar:/home/juanmhl/miniconda3/envs/uma-ontology/lib/python3.12/site-packages/owlready2/pellet/antlr-runtime-3.2.jar:/home/juanmhl/miniconda3/envs/uma-ontology/lib/python3.12/site-packages/owlready2/pellet/jgrapht-jdk1.5.jar:/home/juanmhl/miniconda3/envs/uma-ontology/lib/python3.12/site-packages/owlready2/pellet/aterm-java-1.6.jar:/home/juanmhl/miniconda3/envs/uma-ontology/lib/python3.12/site-packages/owlready2/pellet/commons-codec-1.6.jar:/home/juanmhl/miniconda3/envs/uma-ontology/lib/python3.12/site-packages/owlready2/pellet/log4j-1.2-api-2.19.0.jar pellet.Pellet realize --loader Jena --input-format N-Triples --infer-prop-values --infer-data-prop-values --ignore-imports /tmp/tmpv3q7snuj\n"
     ]
    },
    {
     "name": "stdout",
     "output_type": "stream",
     "text": [
      "* Owlready * Adding relation ontology.fase6 faseActual true\n",
      "* Owlready * Adding relation ontology.fase7 faseSiguiente true\n",
      "Phase: 6, Action: -DESPLAZAMIENTO_CAMBIO_D-, Suture Point: 1, Near: NONE\n"
     ]
    },
    {
     "name": "stderr",
     "output_type": "stream",
     "text": [
      "* Owlready2 * Pellet took 0.6082720756530762 seconds\n",
      "* Owlready * (NB: only changes on entities loaded in Python are shown, other changes are done but not listed)\n",
      "* Owlready2 * Running Pellet...\n",
      "    /usr/bin/java -Xmx2000M -cp /home/juanmhl/miniconda3/envs/uma-ontology/lib/python3.12/site-packages/owlready2/pellet/jcl-over-slf4j-1.6.4.jar:/home/juanmhl/miniconda3/envs/uma-ontology/lib/python3.12/site-packages/owlready2/pellet/httpcore-4.2.2.jar:/home/juanmhl/miniconda3/envs/uma-ontology/lib/python3.12/site-packages/owlready2/pellet/jena-iri-0.9.5.jar:/home/juanmhl/miniconda3/envs/uma-ontology/lib/python3.12/site-packages/owlready2/pellet/owlapi-distribution-3.4.3-bin.jar:/home/juanmhl/miniconda3/envs/uma-ontology/lib/python3.12/site-packages/owlready2/pellet/slf4j-api-1.6.4.jar:/home/juanmhl/miniconda3/envs/uma-ontology/lib/python3.12/site-packages/owlready2/pellet/xercesImpl-2.10.0.jar:/home/juanmhl/miniconda3/envs/uma-ontology/lib/python3.12/site-packages/owlready2/pellet/slf4j-log4j12-1.6.4.jar:/home/juanmhl/miniconda3/envs/uma-ontology/lib/python3.12/site-packages/owlready2/pellet/jena-tdb-0.10.0.jar:/home/juanmhl/miniconda3/envs/uma-ontology/lib/python3.12/site-packages/owlready2/pellet/jena-arq-2.10.0.jar:/home/juanmhl/miniconda3/envs/uma-ontology/lib/python3.12/site-packages/owlready2/pellet/log4j-core-2.19.0.jar:/home/juanmhl/miniconda3/envs/uma-ontology/lib/python3.12/site-packages/owlready2/pellet/log4j-api-2.19.0.jar:/home/juanmhl/miniconda3/envs/uma-ontology/lib/python3.12/site-packages/owlready2/pellet/jena-core-2.10.0.jar:/home/juanmhl/miniconda3/envs/uma-ontology/lib/python3.12/site-packages/owlready2/pellet/xml-apis-1.4.01.jar:/home/juanmhl/miniconda3/envs/uma-ontology/lib/python3.12/site-packages/owlready2/pellet/httpclient-4.2.3.jar:/home/juanmhl/miniconda3/envs/uma-ontology/lib/python3.12/site-packages/owlready2/pellet/pellet-2.3.1.jar:/home/juanmhl/miniconda3/envs/uma-ontology/lib/python3.12/site-packages/owlready2/pellet/antlr-3.2.jar:/home/juanmhl/miniconda3/envs/uma-ontology/lib/python3.12/site-packages/owlready2/pellet/antlr-runtime-3.2.jar:/home/juanmhl/miniconda3/envs/uma-ontology/lib/python3.12/site-packages/owlready2/pellet/jgrapht-jdk1.5.jar:/home/juanmhl/miniconda3/envs/uma-ontology/lib/python3.12/site-packages/owlready2/pellet/aterm-java-1.6.jar:/home/juanmhl/miniconda3/envs/uma-ontology/lib/python3.12/site-packages/owlready2/pellet/commons-codec-1.6.jar:/home/juanmhl/miniconda3/envs/uma-ontology/lib/python3.12/site-packages/owlready2/pellet/log4j-1.2-api-2.19.0.jar pellet.Pellet realize --loader Jena --input-format N-Triples --infer-prop-values --infer-data-prop-values --ignore-imports /tmp/tmpya_hjsqb\n"
     ]
    },
    {
     "name": "stdout",
     "output_type": "stream",
     "text": [
      "* Owlready * Adding relation ontology.fase8 faseSiguiente true\n",
      "* Owlready * Adding relation ontology.fase7 faseActual true\n",
      "Phase: 7, Action: -CIERRE_D-, Suture Point: 1, Near: NONE\n"
     ]
    },
    {
     "name": "stderr",
     "output_type": "stream",
     "text": [
      "* Owlready2 * Pellet took 0.6065325736999512 seconds\n",
      "* Owlready * (NB: only changes on entities loaded in Python are shown, other changes are done but not listed)\n",
      "* Owlready2 * Running Pellet...\n",
      "    /usr/bin/java -Xmx2000M -cp /home/juanmhl/miniconda3/envs/uma-ontology/lib/python3.12/site-packages/owlready2/pellet/jcl-over-slf4j-1.6.4.jar:/home/juanmhl/miniconda3/envs/uma-ontology/lib/python3.12/site-packages/owlready2/pellet/httpcore-4.2.2.jar:/home/juanmhl/miniconda3/envs/uma-ontology/lib/python3.12/site-packages/owlready2/pellet/jena-iri-0.9.5.jar:/home/juanmhl/miniconda3/envs/uma-ontology/lib/python3.12/site-packages/owlready2/pellet/owlapi-distribution-3.4.3-bin.jar:/home/juanmhl/miniconda3/envs/uma-ontology/lib/python3.12/site-packages/owlready2/pellet/slf4j-api-1.6.4.jar:/home/juanmhl/miniconda3/envs/uma-ontology/lib/python3.12/site-packages/owlready2/pellet/xercesImpl-2.10.0.jar:/home/juanmhl/miniconda3/envs/uma-ontology/lib/python3.12/site-packages/owlready2/pellet/slf4j-log4j12-1.6.4.jar:/home/juanmhl/miniconda3/envs/uma-ontology/lib/python3.12/site-packages/owlready2/pellet/jena-tdb-0.10.0.jar:/home/juanmhl/miniconda3/envs/uma-ontology/lib/python3.12/site-packages/owlready2/pellet/jena-arq-2.10.0.jar:/home/juanmhl/miniconda3/envs/uma-ontology/lib/python3.12/site-packages/owlready2/pellet/log4j-core-2.19.0.jar:/home/juanmhl/miniconda3/envs/uma-ontology/lib/python3.12/site-packages/owlready2/pellet/log4j-api-2.19.0.jar:/home/juanmhl/miniconda3/envs/uma-ontology/lib/python3.12/site-packages/owlready2/pellet/jena-core-2.10.0.jar:/home/juanmhl/miniconda3/envs/uma-ontology/lib/python3.12/site-packages/owlready2/pellet/xml-apis-1.4.01.jar:/home/juanmhl/miniconda3/envs/uma-ontology/lib/python3.12/site-packages/owlready2/pellet/httpclient-4.2.3.jar:/home/juanmhl/miniconda3/envs/uma-ontology/lib/python3.12/site-packages/owlready2/pellet/pellet-2.3.1.jar:/home/juanmhl/miniconda3/envs/uma-ontology/lib/python3.12/site-packages/owlready2/pellet/antlr-3.2.jar:/home/juanmhl/miniconda3/envs/uma-ontology/lib/python3.12/site-packages/owlready2/pellet/antlr-runtime-3.2.jar:/home/juanmhl/miniconda3/envs/uma-ontology/lib/python3.12/site-packages/owlready2/pellet/jgrapht-jdk1.5.jar:/home/juanmhl/miniconda3/envs/uma-ontology/lib/python3.12/site-packages/owlready2/pellet/aterm-java-1.6.jar:/home/juanmhl/miniconda3/envs/uma-ontology/lib/python3.12/site-packages/owlready2/pellet/commons-codec-1.6.jar:/home/juanmhl/miniconda3/envs/uma-ontology/lib/python3.12/site-packages/owlready2/pellet/log4j-1.2-api-2.19.0.jar pellet.Pellet realize --loader Jena --input-format N-Triples --infer-prop-values --infer-data-prop-values --ignore-imports /tmp/tmpzpfq7zrc\n"
     ]
    },
    {
     "name": "stdout",
     "output_type": "stream",
     "text": [
      "Phase: NONE, Action: , Suture Point: 1, Near: NONE\n"
     ]
    },
    {
     "name": "stderr",
     "output_type": "stream",
     "text": [
      "* Owlready2 * Pellet took 0.602125883102417 seconds\n",
      "* Owlready * (NB: only changes on entities loaded in Python are shown, other changes are done but not listed)\n",
      "* Owlready2 * Running Pellet...\n",
      "    /usr/bin/java -Xmx2000M -cp /home/juanmhl/miniconda3/envs/uma-ontology/lib/python3.12/site-packages/owlready2/pellet/jcl-over-slf4j-1.6.4.jar:/home/juanmhl/miniconda3/envs/uma-ontology/lib/python3.12/site-packages/owlready2/pellet/httpcore-4.2.2.jar:/home/juanmhl/miniconda3/envs/uma-ontology/lib/python3.12/site-packages/owlready2/pellet/jena-iri-0.9.5.jar:/home/juanmhl/miniconda3/envs/uma-ontology/lib/python3.12/site-packages/owlready2/pellet/owlapi-distribution-3.4.3-bin.jar:/home/juanmhl/miniconda3/envs/uma-ontology/lib/python3.12/site-packages/owlready2/pellet/slf4j-api-1.6.4.jar:/home/juanmhl/miniconda3/envs/uma-ontology/lib/python3.12/site-packages/owlready2/pellet/xercesImpl-2.10.0.jar:/home/juanmhl/miniconda3/envs/uma-ontology/lib/python3.12/site-packages/owlready2/pellet/slf4j-log4j12-1.6.4.jar:/home/juanmhl/miniconda3/envs/uma-ontology/lib/python3.12/site-packages/owlready2/pellet/jena-tdb-0.10.0.jar:/home/juanmhl/miniconda3/envs/uma-ontology/lib/python3.12/site-packages/owlready2/pellet/jena-arq-2.10.0.jar:/home/juanmhl/miniconda3/envs/uma-ontology/lib/python3.12/site-packages/owlready2/pellet/log4j-core-2.19.0.jar:/home/juanmhl/miniconda3/envs/uma-ontology/lib/python3.12/site-packages/owlready2/pellet/log4j-api-2.19.0.jar:/home/juanmhl/miniconda3/envs/uma-ontology/lib/python3.12/site-packages/owlready2/pellet/jena-core-2.10.0.jar:/home/juanmhl/miniconda3/envs/uma-ontology/lib/python3.12/site-packages/owlready2/pellet/xml-apis-1.4.01.jar:/home/juanmhl/miniconda3/envs/uma-ontology/lib/python3.12/site-packages/owlready2/pellet/httpclient-4.2.3.jar:/home/juanmhl/miniconda3/envs/uma-ontology/lib/python3.12/site-packages/owlready2/pellet/pellet-2.3.1.jar:/home/juanmhl/miniconda3/envs/uma-ontology/lib/python3.12/site-packages/owlready2/pellet/antlr-3.2.jar:/home/juanmhl/miniconda3/envs/uma-ontology/lib/python3.12/site-packages/owlready2/pellet/antlr-runtime-3.2.jar:/home/juanmhl/miniconda3/envs/uma-ontology/lib/python3.12/site-packages/owlready2/pellet/jgrapht-jdk1.5.jar:/home/juanmhl/miniconda3/envs/uma-ontology/lib/python3.12/site-packages/owlready2/pellet/aterm-java-1.6.jar:/home/juanmhl/miniconda3/envs/uma-ontology/lib/python3.12/site-packages/owlready2/pellet/commons-codec-1.6.jar:/home/juanmhl/miniconda3/envs/uma-ontology/lib/python3.12/site-packages/owlready2/pellet/log4j-1.2-api-2.19.0.jar pellet.Pellet realize --loader Jena --input-format N-Triples --infer-prop-values --infer-data-prop-values --ignore-imports /tmp/tmp_74sn_8z\n"
     ]
    },
    {
     "name": "stdout",
     "output_type": "stream",
     "text": [
      "Phase: NONE, Action: , Suture Point: 1, Near: NONE\n"
     ]
    },
    {
     "name": "stderr",
     "output_type": "stream",
     "text": [
      "* Owlready2 * Pellet took 0.5893077850341797 seconds\n",
      "* Owlready * (NB: only changes on entities loaded in Python are shown, other changes are done but not listed)\n",
      "* Owlready2 * Running Pellet...\n",
      "    /usr/bin/java -Xmx2000M -cp /home/juanmhl/miniconda3/envs/uma-ontology/lib/python3.12/site-packages/owlready2/pellet/jcl-over-slf4j-1.6.4.jar:/home/juanmhl/miniconda3/envs/uma-ontology/lib/python3.12/site-packages/owlready2/pellet/httpcore-4.2.2.jar:/home/juanmhl/miniconda3/envs/uma-ontology/lib/python3.12/site-packages/owlready2/pellet/jena-iri-0.9.5.jar:/home/juanmhl/miniconda3/envs/uma-ontology/lib/python3.12/site-packages/owlready2/pellet/owlapi-distribution-3.4.3-bin.jar:/home/juanmhl/miniconda3/envs/uma-ontology/lib/python3.12/site-packages/owlready2/pellet/slf4j-api-1.6.4.jar:/home/juanmhl/miniconda3/envs/uma-ontology/lib/python3.12/site-packages/owlready2/pellet/xercesImpl-2.10.0.jar:/home/juanmhl/miniconda3/envs/uma-ontology/lib/python3.12/site-packages/owlready2/pellet/slf4j-log4j12-1.6.4.jar:/home/juanmhl/miniconda3/envs/uma-ontology/lib/python3.12/site-packages/owlready2/pellet/jena-tdb-0.10.0.jar:/home/juanmhl/miniconda3/envs/uma-ontology/lib/python3.12/site-packages/owlready2/pellet/jena-arq-2.10.0.jar:/home/juanmhl/miniconda3/envs/uma-ontology/lib/python3.12/site-packages/owlready2/pellet/log4j-core-2.19.0.jar:/home/juanmhl/miniconda3/envs/uma-ontology/lib/python3.12/site-packages/owlready2/pellet/log4j-api-2.19.0.jar:/home/juanmhl/miniconda3/envs/uma-ontology/lib/python3.12/site-packages/owlready2/pellet/jena-core-2.10.0.jar:/home/juanmhl/miniconda3/envs/uma-ontology/lib/python3.12/site-packages/owlready2/pellet/xml-apis-1.4.01.jar:/home/juanmhl/miniconda3/envs/uma-ontology/lib/python3.12/site-packages/owlready2/pellet/httpclient-4.2.3.jar:/home/juanmhl/miniconda3/envs/uma-ontology/lib/python3.12/site-packages/owlready2/pellet/pellet-2.3.1.jar:/home/juanmhl/miniconda3/envs/uma-ontology/lib/python3.12/site-packages/owlready2/pellet/antlr-3.2.jar:/home/juanmhl/miniconda3/envs/uma-ontology/lib/python3.12/site-packages/owlready2/pellet/antlr-runtime-3.2.jar:/home/juanmhl/miniconda3/envs/uma-ontology/lib/python3.12/site-packages/owlready2/pellet/jgrapht-jdk1.5.jar:/home/juanmhl/miniconda3/envs/uma-ontology/lib/python3.12/site-packages/owlready2/pellet/aterm-java-1.6.jar:/home/juanmhl/miniconda3/envs/uma-ontology/lib/python3.12/site-packages/owlready2/pellet/commons-codec-1.6.jar:/home/juanmhl/miniconda3/envs/uma-ontology/lib/python3.12/site-packages/owlready2/pellet/log4j-1.2-api-2.19.0.jar pellet.Pellet realize --loader Jena --input-format N-Triples --infer-prop-values --infer-data-prop-values --ignore-imports /tmp/tmpktcs07ci\n"
     ]
    },
    {
     "name": "stdout",
     "output_type": "stream",
     "text": [
      "Phase: NONE, Action: , Suture Point: 1, Near: NONE\n"
     ]
    },
    {
     "name": "stderr",
     "output_type": "stream",
     "text": [
      "* Owlready2 * Pellet took 0.5888032913208008 seconds\n",
      "* Owlready * (NB: only changes on entities loaded in Python are shown, other changes are done but not listed)\n",
      "* Owlready2 * Running Pellet...\n",
      "    /usr/bin/java -Xmx2000M -cp /home/juanmhl/miniconda3/envs/uma-ontology/lib/python3.12/site-packages/owlready2/pellet/jcl-over-slf4j-1.6.4.jar:/home/juanmhl/miniconda3/envs/uma-ontology/lib/python3.12/site-packages/owlready2/pellet/httpcore-4.2.2.jar:/home/juanmhl/miniconda3/envs/uma-ontology/lib/python3.12/site-packages/owlready2/pellet/jena-iri-0.9.5.jar:/home/juanmhl/miniconda3/envs/uma-ontology/lib/python3.12/site-packages/owlready2/pellet/owlapi-distribution-3.4.3-bin.jar:/home/juanmhl/miniconda3/envs/uma-ontology/lib/python3.12/site-packages/owlready2/pellet/slf4j-api-1.6.4.jar:/home/juanmhl/miniconda3/envs/uma-ontology/lib/python3.12/site-packages/owlready2/pellet/xercesImpl-2.10.0.jar:/home/juanmhl/miniconda3/envs/uma-ontology/lib/python3.12/site-packages/owlready2/pellet/slf4j-log4j12-1.6.4.jar:/home/juanmhl/miniconda3/envs/uma-ontology/lib/python3.12/site-packages/owlready2/pellet/jena-tdb-0.10.0.jar:/home/juanmhl/miniconda3/envs/uma-ontology/lib/python3.12/site-packages/owlready2/pellet/jena-arq-2.10.0.jar:/home/juanmhl/miniconda3/envs/uma-ontology/lib/python3.12/site-packages/owlready2/pellet/log4j-core-2.19.0.jar:/home/juanmhl/miniconda3/envs/uma-ontology/lib/python3.12/site-packages/owlready2/pellet/log4j-api-2.19.0.jar:/home/juanmhl/miniconda3/envs/uma-ontology/lib/python3.12/site-packages/owlready2/pellet/jena-core-2.10.0.jar:/home/juanmhl/miniconda3/envs/uma-ontology/lib/python3.12/site-packages/owlready2/pellet/xml-apis-1.4.01.jar:/home/juanmhl/miniconda3/envs/uma-ontology/lib/python3.12/site-packages/owlready2/pellet/httpclient-4.2.3.jar:/home/juanmhl/miniconda3/envs/uma-ontology/lib/python3.12/site-packages/owlready2/pellet/pellet-2.3.1.jar:/home/juanmhl/miniconda3/envs/uma-ontology/lib/python3.12/site-packages/owlready2/pellet/antlr-3.2.jar:/home/juanmhl/miniconda3/envs/uma-ontology/lib/python3.12/site-packages/owlready2/pellet/antlr-runtime-3.2.jar:/home/juanmhl/miniconda3/envs/uma-ontology/lib/python3.12/site-packages/owlready2/pellet/jgrapht-jdk1.5.jar:/home/juanmhl/miniconda3/envs/uma-ontology/lib/python3.12/site-packages/owlready2/pellet/aterm-java-1.6.jar:/home/juanmhl/miniconda3/envs/uma-ontology/lib/python3.12/site-packages/owlready2/pellet/commons-codec-1.6.jar:/home/juanmhl/miniconda3/envs/uma-ontology/lib/python3.12/site-packages/owlready2/pellet/log4j-1.2-api-2.19.0.jar pellet.Pellet realize --loader Jena --input-format N-Triples --infer-prop-values --infer-data-prop-values --ignore-imports /tmp/tmp47zxghqc\n"
     ]
    },
    {
     "name": "stdout",
     "output_type": "stream",
     "text": [
      "Phase: NONE, Action: , Suture Point: 1, Near: NONE\n"
     ]
    },
    {
     "name": "stderr",
     "output_type": "stream",
     "text": [
      "* Owlready2 * Pellet took 0.5980324745178223 seconds\n",
      "* Owlready * (NB: only changes on entities loaded in Python are shown, other changes are done but not listed)\n",
      "* Owlready2 * Running Pellet...\n",
      "    /usr/bin/java -Xmx2000M -cp /home/juanmhl/miniconda3/envs/uma-ontology/lib/python3.12/site-packages/owlready2/pellet/jcl-over-slf4j-1.6.4.jar:/home/juanmhl/miniconda3/envs/uma-ontology/lib/python3.12/site-packages/owlready2/pellet/httpcore-4.2.2.jar:/home/juanmhl/miniconda3/envs/uma-ontology/lib/python3.12/site-packages/owlready2/pellet/jena-iri-0.9.5.jar:/home/juanmhl/miniconda3/envs/uma-ontology/lib/python3.12/site-packages/owlready2/pellet/owlapi-distribution-3.4.3-bin.jar:/home/juanmhl/miniconda3/envs/uma-ontology/lib/python3.12/site-packages/owlready2/pellet/slf4j-api-1.6.4.jar:/home/juanmhl/miniconda3/envs/uma-ontology/lib/python3.12/site-packages/owlready2/pellet/xercesImpl-2.10.0.jar:/home/juanmhl/miniconda3/envs/uma-ontology/lib/python3.12/site-packages/owlready2/pellet/slf4j-log4j12-1.6.4.jar:/home/juanmhl/miniconda3/envs/uma-ontology/lib/python3.12/site-packages/owlready2/pellet/jena-tdb-0.10.0.jar:/home/juanmhl/miniconda3/envs/uma-ontology/lib/python3.12/site-packages/owlready2/pellet/jena-arq-2.10.0.jar:/home/juanmhl/miniconda3/envs/uma-ontology/lib/python3.12/site-packages/owlready2/pellet/log4j-core-2.19.0.jar:/home/juanmhl/miniconda3/envs/uma-ontology/lib/python3.12/site-packages/owlready2/pellet/log4j-api-2.19.0.jar:/home/juanmhl/miniconda3/envs/uma-ontology/lib/python3.12/site-packages/owlready2/pellet/jena-core-2.10.0.jar:/home/juanmhl/miniconda3/envs/uma-ontology/lib/python3.12/site-packages/owlready2/pellet/xml-apis-1.4.01.jar:/home/juanmhl/miniconda3/envs/uma-ontology/lib/python3.12/site-packages/owlready2/pellet/httpclient-4.2.3.jar:/home/juanmhl/miniconda3/envs/uma-ontology/lib/python3.12/site-packages/owlready2/pellet/pellet-2.3.1.jar:/home/juanmhl/miniconda3/envs/uma-ontology/lib/python3.12/site-packages/owlready2/pellet/antlr-3.2.jar:/home/juanmhl/miniconda3/envs/uma-ontology/lib/python3.12/site-packages/owlready2/pellet/antlr-runtime-3.2.jar:/home/juanmhl/miniconda3/envs/uma-ontology/lib/python3.12/site-packages/owlready2/pellet/jgrapht-jdk1.5.jar:/home/juanmhl/miniconda3/envs/uma-ontology/lib/python3.12/site-packages/owlready2/pellet/aterm-java-1.6.jar:/home/juanmhl/miniconda3/envs/uma-ontology/lib/python3.12/site-packages/owlready2/pellet/commons-codec-1.6.jar:/home/juanmhl/miniconda3/envs/uma-ontology/lib/python3.12/site-packages/owlready2/pellet/log4j-1.2-api-2.19.0.jar pellet.Pellet realize --loader Jena --input-format N-Triples --infer-prop-values --infer-data-prop-values --ignore-imports /tmp/tmpmlaqbvae\n"
     ]
    },
    {
     "name": "stdout",
     "output_type": "stream",
     "text": [
      "* Owlready * Adding relation ontology.fase9 faseSiguiente true\n",
      "* Owlready * Adding relation ontology.fase8 faseActual true\n",
      "Phase: 8, Action: -APERTURA_I-, Suture Point: 1, Near: NONE\n"
     ]
    },
    {
     "name": "stderr",
     "output_type": "stream",
     "text": [
      "* Owlready2 * Pellet took 0.6088182926177979 seconds\n",
      "* Owlready * (NB: only changes on entities loaded in Python are shown, other changes are done but not listed)\n",
      "* Owlready2 * Running Pellet...\n",
      "    /usr/bin/java -Xmx2000M -cp /home/juanmhl/miniconda3/envs/uma-ontology/lib/python3.12/site-packages/owlready2/pellet/jcl-over-slf4j-1.6.4.jar:/home/juanmhl/miniconda3/envs/uma-ontology/lib/python3.12/site-packages/owlready2/pellet/httpcore-4.2.2.jar:/home/juanmhl/miniconda3/envs/uma-ontology/lib/python3.12/site-packages/owlready2/pellet/jena-iri-0.9.5.jar:/home/juanmhl/miniconda3/envs/uma-ontology/lib/python3.12/site-packages/owlready2/pellet/owlapi-distribution-3.4.3-bin.jar:/home/juanmhl/miniconda3/envs/uma-ontology/lib/python3.12/site-packages/owlready2/pellet/slf4j-api-1.6.4.jar:/home/juanmhl/miniconda3/envs/uma-ontology/lib/python3.12/site-packages/owlready2/pellet/xercesImpl-2.10.0.jar:/home/juanmhl/miniconda3/envs/uma-ontology/lib/python3.12/site-packages/owlready2/pellet/slf4j-log4j12-1.6.4.jar:/home/juanmhl/miniconda3/envs/uma-ontology/lib/python3.12/site-packages/owlready2/pellet/jena-tdb-0.10.0.jar:/home/juanmhl/miniconda3/envs/uma-ontology/lib/python3.12/site-packages/owlready2/pellet/jena-arq-2.10.0.jar:/home/juanmhl/miniconda3/envs/uma-ontology/lib/python3.12/site-packages/owlready2/pellet/log4j-core-2.19.0.jar:/home/juanmhl/miniconda3/envs/uma-ontology/lib/python3.12/site-packages/owlready2/pellet/log4j-api-2.19.0.jar:/home/juanmhl/miniconda3/envs/uma-ontology/lib/python3.12/site-packages/owlready2/pellet/jena-core-2.10.0.jar:/home/juanmhl/miniconda3/envs/uma-ontology/lib/python3.12/site-packages/owlready2/pellet/xml-apis-1.4.01.jar:/home/juanmhl/miniconda3/envs/uma-ontology/lib/python3.12/site-packages/owlready2/pellet/httpclient-4.2.3.jar:/home/juanmhl/miniconda3/envs/uma-ontology/lib/python3.12/site-packages/owlready2/pellet/pellet-2.3.1.jar:/home/juanmhl/miniconda3/envs/uma-ontology/lib/python3.12/site-packages/owlready2/pellet/antlr-3.2.jar:/home/juanmhl/miniconda3/envs/uma-ontology/lib/python3.12/site-packages/owlready2/pellet/antlr-runtime-3.2.jar:/home/juanmhl/miniconda3/envs/uma-ontology/lib/python3.12/site-packages/owlready2/pellet/jgrapht-jdk1.5.jar:/home/juanmhl/miniconda3/envs/uma-ontology/lib/python3.12/site-packages/owlready2/pellet/aterm-java-1.6.jar:/home/juanmhl/miniconda3/envs/uma-ontology/lib/python3.12/site-packages/owlready2/pellet/commons-codec-1.6.jar:/home/juanmhl/miniconda3/envs/uma-ontology/lib/python3.12/site-packages/owlready2/pellet/log4j-1.2-api-2.19.0.jar pellet.Pellet realize --loader Jena --input-format N-Triples --infer-prop-values --infer-data-prop-values --ignore-imports /tmp/tmpfvqdy567\n"
     ]
    },
    {
     "name": "stdout",
     "output_type": "stream",
     "text": [
      "* Owlready * Adding relation ontology.fase9 faseActual true\n",
      "* Owlready * Adding relation ontology.fase2 faseSiguiente true\n",
      "Phase: 9, Action: -DESPLAZAMIENTO_SUTURA_D-, Suture Point: 1, Near: NONE\n",
      "* Owlready * Adding relation ontology.puncion accionEjecutable ontology.ps2\n",
      "* Owlready * Adding relation ontology.desplazamiento_suturaI accionEjecutable ontology.ps2\n",
      "* Owlready * Adding relation ontology.fase2 faseActual true\n",
      "* Owlready * Adding relation ontology.ps2 puntoSuturaActual true\n",
      "* Owlready * Adding relation ontology.fase3 faseSiguiente true\n",
      "Phase: 2, Action: -DESPLAZAMIENTO_SUTURA_I--PUNCION-, Suture Point: 2, Near: NONE\n"
     ]
    },
    {
     "name": "stderr",
     "output_type": "stream",
     "text": [
      "* Owlready2 * Pellet took 0.6052320003509521 seconds\n",
      "* Owlready * (NB: only changes on entities loaded in Python are shown, other changes are done but not listed)\n"
     ]
    }
   ],
   "source": [
    "from inferenceengine import *\n",
    "\n",
    "repo_implementation = CommandRepositoryOntology\n",
    "service = InferenceMotorService(repo_implementation)\n",
    "service.initialize(n_points=3, ontology_path='/home/juanmhl/ontology.owl')\n",
    "\n",
    "vp1 = [True, False, False, False, False, False, True,       [False, False, False]]\n",
    "vp2 = [True, False, False, False, True, False, True,        [False, False, False]]\n",
    "vp3 = [True, False, False, False, True, True, False,        [False, False, False]]\n",
    "vp4 = [True, True, False, False, True, True, False,         [False, False, False]]\n",
    "vp5 = [False, True, False, False, True, True, False,        [False, False, False]]\n",
    "vp6 = [False, True, False, True, True, False, False,        [False, False, False]]\n",
    "vp7 = [False, True, True, True, False, False, False,        [False, False, False]]\n",
    "vp8 = [True, True, True, True, False, False, False,         [False, False, False]]\n",
    "vp9 = [True, False, True, True, False, False, False,        [False, False, False]]\n",
    "vpt = [True, True, True, True, True, True, True,            [False, False, False]]\n",
    "vpf = [False, False, False, False, False, False, False,     [False, False, False]]\n",
    "\n",
    "predicates_vectors = [vp1, vp2, vp3, vp4, vp5, vp6, vp7, vp6, vp5, vp6, vp7, vp8, vp9,\n",
    "                      [True, False, False, False, True, False, True, [True, False, False]]\n",
    "                      ]\n",
    "\n",
    "for vp in predicates_vectors:\n",
    "    comando = service.step(vp)\n",
    "    print(comando)"
   ]
  },
  {
   "cell_type": "code",
   "execution_count": 1,
   "metadata": {},
   "outputs": [
    {
     "name": "stdout",
     "output_type": "stream",
     "text": [
      "Ontology loaded. \n"
     ]
    },
    {
     "name": "stderr",
     "output_type": "stream",
     "text": [
      "* Owlready2 * Running Pellet...\n",
      "    /usr/bin/java -Xmx2000M -cp /home/juanmhl/miniconda3/envs/uma-race/lib/python3.11/site-packages/owlready2/pellet/jcl-over-slf4j-1.6.4.jar:/home/juanmhl/miniconda3/envs/uma-race/lib/python3.11/site-packages/owlready2/pellet/httpcore-4.2.2.jar:/home/juanmhl/miniconda3/envs/uma-race/lib/python3.11/site-packages/owlready2/pellet/jena-iri-0.9.5.jar:/home/juanmhl/miniconda3/envs/uma-race/lib/python3.11/site-packages/owlready2/pellet/owlapi-distribution-3.4.3-bin.jar:/home/juanmhl/miniconda3/envs/uma-race/lib/python3.11/site-packages/owlready2/pellet/slf4j-api-1.6.4.jar:/home/juanmhl/miniconda3/envs/uma-race/lib/python3.11/site-packages/owlready2/pellet/xercesImpl-2.10.0.jar:/home/juanmhl/miniconda3/envs/uma-race/lib/python3.11/site-packages/owlready2/pellet/slf4j-log4j12-1.6.4.jar:/home/juanmhl/miniconda3/envs/uma-race/lib/python3.11/site-packages/owlready2/pellet/jena-tdb-0.10.0.jar:/home/juanmhl/miniconda3/envs/uma-race/lib/python3.11/site-packages/owlready2/pellet/jena-arq-2.10.0.jar:/home/juanmhl/miniconda3/envs/uma-race/lib/python3.11/site-packages/owlready2/pellet/log4j-core-2.19.0.jar:/home/juanmhl/miniconda3/envs/uma-race/lib/python3.11/site-packages/owlready2/pellet/log4j-api-2.19.0.jar:/home/juanmhl/miniconda3/envs/uma-race/lib/python3.11/site-packages/owlready2/pellet/jena-core-2.10.0.jar:/home/juanmhl/miniconda3/envs/uma-race/lib/python3.11/site-packages/owlready2/pellet/xml-apis-1.4.01.jar:/home/juanmhl/miniconda3/envs/uma-race/lib/python3.11/site-packages/owlready2/pellet/httpclient-4.2.3.jar:/home/juanmhl/miniconda3/envs/uma-race/lib/python3.11/site-packages/owlready2/pellet/pellet-2.3.1.jar:/home/juanmhl/miniconda3/envs/uma-race/lib/python3.11/site-packages/owlready2/pellet/antlr-3.2.jar:/home/juanmhl/miniconda3/envs/uma-race/lib/python3.11/site-packages/owlready2/pellet/antlr-runtime-3.2.jar:/home/juanmhl/miniconda3/envs/uma-race/lib/python3.11/site-packages/owlready2/pellet/jgrapht-jdk1.5.jar:/home/juanmhl/miniconda3/envs/uma-race/lib/python3.11/site-packages/owlready2/pellet/aterm-java-1.6.jar:/home/juanmhl/miniconda3/envs/uma-race/lib/python3.11/site-packages/owlready2/pellet/commons-codec-1.6.jar:/home/juanmhl/miniconda3/envs/uma-race/lib/python3.11/site-packages/owlready2/pellet/log4j-1.2-api-2.19.0.jar pellet.Pellet realize --loader Jena --input-format N-Triples --infer-prop-values --infer-data-prop-values --ignore-imports /tmp/tmpyvdxz5bp\n",
      "* Owlready2 * Pellet took 0.6112234592437744 seconds\n",
      "* Owlready * (NB: only changes on entities loaded in Python are shown, other changes are done but not listed)\n",
      "* Owlready2 * Running Pellet...\n",
      "    /usr/bin/java -Xmx2000M -cp /home/juanmhl/miniconda3/envs/uma-race/lib/python3.11/site-packages/owlready2/pellet/jcl-over-slf4j-1.6.4.jar:/home/juanmhl/miniconda3/envs/uma-race/lib/python3.11/site-packages/owlready2/pellet/httpcore-4.2.2.jar:/home/juanmhl/miniconda3/envs/uma-race/lib/python3.11/site-packages/owlready2/pellet/jena-iri-0.9.5.jar:/home/juanmhl/miniconda3/envs/uma-race/lib/python3.11/site-packages/owlready2/pellet/owlapi-distribution-3.4.3-bin.jar:/home/juanmhl/miniconda3/envs/uma-race/lib/python3.11/site-packages/owlready2/pellet/slf4j-api-1.6.4.jar:/home/juanmhl/miniconda3/envs/uma-race/lib/python3.11/site-packages/owlready2/pellet/xercesImpl-2.10.0.jar:/home/juanmhl/miniconda3/envs/uma-race/lib/python3.11/site-packages/owlready2/pellet/slf4j-log4j12-1.6.4.jar:/home/juanmhl/miniconda3/envs/uma-race/lib/python3.11/site-packages/owlready2/pellet/jena-tdb-0.10.0.jar:/home/juanmhl/miniconda3/envs/uma-race/lib/python3.11/site-packages/owlready2/pellet/jena-arq-2.10.0.jar:/home/juanmhl/miniconda3/envs/uma-race/lib/python3.11/site-packages/owlready2/pellet/log4j-core-2.19.0.jar:/home/juanmhl/miniconda3/envs/uma-race/lib/python3.11/site-packages/owlready2/pellet/log4j-api-2.19.0.jar:/home/juanmhl/miniconda3/envs/uma-race/lib/python3.11/site-packages/owlready2/pellet/jena-core-2.10.0.jar:/home/juanmhl/miniconda3/envs/uma-race/lib/python3.11/site-packages/owlready2/pellet/xml-apis-1.4.01.jar:/home/juanmhl/miniconda3/envs/uma-race/lib/python3.11/site-packages/owlready2/pellet/httpclient-4.2.3.jar:/home/juanmhl/miniconda3/envs/uma-race/lib/python3.11/site-packages/owlready2/pellet/pellet-2.3.1.jar:/home/juanmhl/miniconda3/envs/uma-race/lib/python3.11/site-packages/owlready2/pellet/antlr-3.2.jar:/home/juanmhl/miniconda3/envs/uma-race/lib/python3.11/site-packages/owlready2/pellet/antlr-runtime-3.2.jar:/home/juanmhl/miniconda3/envs/uma-race/lib/python3.11/site-packages/owlready2/pellet/jgrapht-jdk1.5.jar:/home/juanmhl/miniconda3/envs/uma-race/lib/python3.11/site-packages/owlready2/pellet/aterm-java-1.6.jar:/home/juanmhl/miniconda3/envs/uma-race/lib/python3.11/site-packages/owlready2/pellet/commons-codec-1.6.jar:/home/juanmhl/miniconda3/envs/uma-race/lib/python3.11/site-packages/owlready2/pellet/log4j-1.2-api-2.19.0.jar pellet.Pellet realize --loader Jena --input-format N-Triples --infer-prop-values --infer-data-prop-values --ignore-imports /tmp/tmpp2hjcjla\n",
      "* Owlready2 * Pellet took 0.6114611625671387 seconds\n",
      "* Owlready * (NB: only changes on entities loaded in Python are shown, other changes are done but not listed)\n",
      "* Owlready2 * Running Pellet...\n",
      "    /usr/bin/java -Xmx2000M -cp /home/juanmhl/miniconda3/envs/uma-race/lib/python3.11/site-packages/owlready2/pellet/jcl-over-slf4j-1.6.4.jar:/home/juanmhl/miniconda3/envs/uma-race/lib/python3.11/site-packages/owlready2/pellet/httpcore-4.2.2.jar:/home/juanmhl/miniconda3/envs/uma-race/lib/python3.11/site-packages/owlready2/pellet/jena-iri-0.9.5.jar:/home/juanmhl/miniconda3/envs/uma-race/lib/python3.11/site-packages/owlready2/pellet/owlapi-distribution-3.4.3-bin.jar:/home/juanmhl/miniconda3/envs/uma-race/lib/python3.11/site-packages/owlready2/pellet/slf4j-api-1.6.4.jar:/home/juanmhl/miniconda3/envs/uma-race/lib/python3.11/site-packages/owlready2/pellet/xercesImpl-2.10.0.jar:/home/juanmhl/miniconda3/envs/uma-race/lib/python3.11/site-packages/owlready2/pellet/slf4j-log4j12-1.6.4.jar:/home/juanmhl/miniconda3/envs/uma-race/lib/python3.11/site-packages/owlready2/pellet/jena-tdb-0.10.0.jar:/home/juanmhl/miniconda3/envs/uma-race/lib/python3.11/site-packages/owlready2/pellet/jena-arq-2.10.0.jar:/home/juanmhl/miniconda3/envs/uma-race/lib/python3.11/site-packages/owlready2/pellet/log4j-core-2.19.0.jar:/home/juanmhl/miniconda3/envs/uma-race/lib/python3.11/site-packages/owlready2/pellet/log4j-api-2.19.0.jar:/home/juanmhl/miniconda3/envs/uma-race/lib/python3.11/site-packages/owlready2/pellet/jena-core-2.10.0.jar:/home/juanmhl/miniconda3/envs/uma-race/lib/python3.11/site-packages/owlready2/pellet/xml-apis-1.4.01.jar:/home/juanmhl/miniconda3/envs/uma-race/lib/python3.11/site-packages/owlready2/pellet/httpclient-4.2.3.jar:/home/juanmhl/miniconda3/envs/uma-race/lib/python3.11/site-packages/owlready2/pellet/pellet-2.3.1.jar:/home/juanmhl/miniconda3/envs/uma-race/lib/python3.11/site-packages/owlready2/pellet/antlr-3.2.jar:/home/juanmhl/miniconda3/envs/uma-race/lib/python3.11/site-packages/owlready2/pellet/antlr-runtime-3.2.jar:/home/juanmhl/miniconda3/envs/uma-race/lib/python3.11/site-packages/owlready2/pellet/jgrapht-jdk1.5.jar:/home/juanmhl/miniconda3/envs/uma-race/lib/python3.11/site-packages/owlready2/pellet/aterm-java-1.6.jar:/home/juanmhl/miniconda3/envs/uma-race/lib/python3.11/site-packages/owlready2/pellet/commons-codec-1.6.jar:/home/juanmhl/miniconda3/envs/uma-race/lib/python3.11/site-packages/owlready2/pellet/log4j-1.2-api-2.19.0.jar pellet.Pellet realize --loader Jena --input-format N-Triples --infer-prop-values --infer-data-prop-values --ignore-imports /tmp/tmpws6f79hu\n"
     ]
    },
    {
     "name": "stdout",
     "output_type": "stream",
     "text": [
      "Phase: 1, Action: -DESPLAZAMIENTO_SUTURA_D-, Suture Point: 1, Near: NONE\n"
     ]
    },
    {
     "name": "stderr",
     "output_type": "stream",
     "text": [
      "* Owlready2 * Pellet took 0.6043381690979004 seconds\n",
      "* Owlready * (NB: only changes on entities loaded in Python are shown, other changes are done but not listed)\n",
      "* Owlready2 * Running Pellet...\n",
      "    /usr/bin/java -Xmx2000M -cp /home/juanmhl/miniconda3/envs/uma-race/lib/python3.11/site-packages/owlready2/pellet/jcl-over-slf4j-1.6.4.jar:/home/juanmhl/miniconda3/envs/uma-race/lib/python3.11/site-packages/owlready2/pellet/httpcore-4.2.2.jar:/home/juanmhl/miniconda3/envs/uma-race/lib/python3.11/site-packages/owlready2/pellet/jena-iri-0.9.5.jar:/home/juanmhl/miniconda3/envs/uma-race/lib/python3.11/site-packages/owlready2/pellet/owlapi-distribution-3.4.3-bin.jar:/home/juanmhl/miniconda3/envs/uma-race/lib/python3.11/site-packages/owlready2/pellet/slf4j-api-1.6.4.jar:/home/juanmhl/miniconda3/envs/uma-race/lib/python3.11/site-packages/owlready2/pellet/xercesImpl-2.10.0.jar:/home/juanmhl/miniconda3/envs/uma-race/lib/python3.11/site-packages/owlready2/pellet/slf4j-log4j12-1.6.4.jar:/home/juanmhl/miniconda3/envs/uma-race/lib/python3.11/site-packages/owlready2/pellet/jena-tdb-0.10.0.jar:/home/juanmhl/miniconda3/envs/uma-race/lib/python3.11/site-packages/owlready2/pellet/jena-arq-2.10.0.jar:/home/juanmhl/miniconda3/envs/uma-race/lib/python3.11/site-packages/owlready2/pellet/log4j-core-2.19.0.jar:/home/juanmhl/miniconda3/envs/uma-race/lib/python3.11/site-packages/owlready2/pellet/log4j-api-2.19.0.jar:/home/juanmhl/miniconda3/envs/uma-race/lib/python3.11/site-packages/owlready2/pellet/jena-core-2.10.0.jar:/home/juanmhl/miniconda3/envs/uma-race/lib/python3.11/site-packages/owlready2/pellet/xml-apis-1.4.01.jar:/home/juanmhl/miniconda3/envs/uma-race/lib/python3.11/site-packages/owlready2/pellet/httpclient-4.2.3.jar:/home/juanmhl/miniconda3/envs/uma-race/lib/python3.11/site-packages/owlready2/pellet/pellet-2.3.1.jar:/home/juanmhl/miniconda3/envs/uma-race/lib/python3.11/site-packages/owlready2/pellet/antlr-3.2.jar:/home/juanmhl/miniconda3/envs/uma-race/lib/python3.11/site-packages/owlready2/pellet/antlr-runtime-3.2.jar:/home/juanmhl/miniconda3/envs/uma-race/lib/python3.11/site-packages/owlready2/pellet/jgrapht-jdk1.5.jar:/home/juanmhl/miniconda3/envs/uma-race/lib/python3.11/site-packages/owlready2/pellet/aterm-java-1.6.jar:/home/juanmhl/miniconda3/envs/uma-race/lib/python3.11/site-packages/owlready2/pellet/commons-codec-1.6.jar:/home/juanmhl/miniconda3/envs/uma-race/lib/python3.11/site-packages/owlready2/pellet/log4j-1.2-api-2.19.0.jar pellet.Pellet realize --loader Jena --input-format N-Triples --infer-prop-values --infer-data-prop-values --ignore-imports /tmp/tmpv8n0ov20\n"
     ]
    },
    {
     "name": "stdout",
     "output_type": "stream",
     "text": [
      "* Owlready * Adding relation ontology.fase2 faseActual true\n",
      "* Owlready * Adding relation ontology.fase3 faseSiguiente true\n",
      "Phase: 2, Action: -DESPLAZAMIENTO_SUTURA_I--PUNCION-, Suture Point: 1, Near: NONE\n"
     ]
    },
    {
     "name": "stderr",
     "output_type": "stream",
     "text": [
      "* Owlready2 * Pellet took 0.6151671409606934 seconds\n",
      "* Owlready * (NB: only changes on entities loaded in Python are shown, other changes are done but not listed)\n",
      "* Owlready2 * Running Pellet...\n",
      "    /usr/bin/java -Xmx2000M -cp /home/juanmhl/miniconda3/envs/uma-race/lib/python3.11/site-packages/owlready2/pellet/jcl-over-slf4j-1.6.4.jar:/home/juanmhl/miniconda3/envs/uma-race/lib/python3.11/site-packages/owlready2/pellet/httpcore-4.2.2.jar:/home/juanmhl/miniconda3/envs/uma-race/lib/python3.11/site-packages/owlready2/pellet/jena-iri-0.9.5.jar:/home/juanmhl/miniconda3/envs/uma-race/lib/python3.11/site-packages/owlready2/pellet/owlapi-distribution-3.4.3-bin.jar:/home/juanmhl/miniconda3/envs/uma-race/lib/python3.11/site-packages/owlready2/pellet/slf4j-api-1.6.4.jar:/home/juanmhl/miniconda3/envs/uma-race/lib/python3.11/site-packages/owlready2/pellet/xercesImpl-2.10.0.jar:/home/juanmhl/miniconda3/envs/uma-race/lib/python3.11/site-packages/owlready2/pellet/slf4j-log4j12-1.6.4.jar:/home/juanmhl/miniconda3/envs/uma-race/lib/python3.11/site-packages/owlready2/pellet/jena-tdb-0.10.0.jar:/home/juanmhl/miniconda3/envs/uma-race/lib/python3.11/site-packages/owlready2/pellet/jena-arq-2.10.0.jar:/home/juanmhl/miniconda3/envs/uma-race/lib/python3.11/site-packages/owlready2/pellet/log4j-core-2.19.0.jar:/home/juanmhl/miniconda3/envs/uma-race/lib/python3.11/site-packages/owlready2/pellet/log4j-api-2.19.0.jar:/home/juanmhl/miniconda3/envs/uma-race/lib/python3.11/site-packages/owlready2/pellet/jena-core-2.10.0.jar:/home/juanmhl/miniconda3/envs/uma-race/lib/python3.11/site-packages/owlready2/pellet/xml-apis-1.4.01.jar:/home/juanmhl/miniconda3/envs/uma-race/lib/python3.11/site-packages/owlready2/pellet/httpclient-4.2.3.jar:/home/juanmhl/miniconda3/envs/uma-race/lib/python3.11/site-packages/owlready2/pellet/pellet-2.3.1.jar:/home/juanmhl/miniconda3/envs/uma-race/lib/python3.11/site-packages/owlready2/pellet/antlr-3.2.jar:/home/juanmhl/miniconda3/envs/uma-race/lib/python3.11/site-packages/owlready2/pellet/antlr-runtime-3.2.jar:/home/juanmhl/miniconda3/envs/uma-race/lib/python3.11/site-packages/owlready2/pellet/jgrapht-jdk1.5.jar:/home/juanmhl/miniconda3/envs/uma-race/lib/python3.11/site-packages/owlready2/pellet/aterm-java-1.6.jar:/home/juanmhl/miniconda3/envs/uma-race/lib/python3.11/site-packages/owlready2/pellet/commons-codec-1.6.jar:/home/juanmhl/miniconda3/envs/uma-race/lib/python3.11/site-packages/owlready2/pellet/log4j-1.2-api-2.19.0.jar pellet.Pellet realize --loader Jena --input-format N-Triples --infer-prop-values --infer-data-prop-values --ignore-imports /tmp/tmpy81odo55\n"
     ]
    },
    {
     "name": "stdout",
     "output_type": "stream",
     "text": [
      "* Owlready * Adding relation ontology.fase3 faseActual true\n",
      "* Owlready * Adding relation ontology.fase4 faseSiguiente true\n",
      "Phase: 3, Action: -CIERRE_I-, Suture Point: 1, Near: NONE\n"
     ]
    },
    {
     "name": "stderr",
     "output_type": "stream",
     "text": [
      "* Owlready2 * Pellet took 0.594099760055542 seconds\n",
      "* Owlready * (NB: only changes on entities loaded in Python are shown, other changes are done but not listed)\n",
      "* Owlready2 * Running Pellet...\n",
      "    /usr/bin/java -Xmx2000M -cp /home/juanmhl/miniconda3/envs/uma-race/lib/python3.11/site-packages/owlready2/pellet/jcl-over-slf4j-1.6.4.jar:/home/juanmhl/miniconda3/envs/uma-race/lib/python3.11/site-packages/owlready2/pellet/httpcore-4.2.2.jar:/home/juanmhl/miniconda3/envs/uma-race/lib/python3.11/site-packages/owlready2/pellet/jena-iri-0.9.5.jar:/home/juanmhl/miniconda3/envs/uma-race/lib/python3.11/site-packages/owlready2/pellet/owlapi-distribution-3.4.3-bin.jar:/home/juanmhl/miniconda3/envs/uma-race/lib/python3.11/site-packages/owlready2/pellet/slf4j-api-1.6.4.jar:/home/juanmhl/miniconda3/envs/uma-race/lib/python3.11/site-packages/owlready2/pellet/xercesImpl-2.10.0.jar:/home/juanmhl/miniconda3/envs/uma-race/lib/python3.11/site-packages/owlready2/pellet/slf4j-log4j12-1.6.4.jar:/home/juanmhl/miniconda3/envs/uma-race/lib/python3.11/site-packages/owlready2/pellet/jena-tdb-0.10.0.jar:/home/juanmhl/miniconda3/envs/uma-race/lib/python3.11/site-packages/owlready2/pellet/jena-arq-2.10.0.jar:/home/juanmhl/miniconda3/envs/uma-race/lib/python3.11/site-packages/owlready2/pellet/log4j-core-2.19.0.jar:/home/juanmhl/miniconda3/envs/uma-race/lib/python3.11/site-packages/owlready2/pellet/log4j-api-2.19.0.jar:/home/juanmhl/miniconda3/envs/uma-race/lib/python3.11/site-packages/owlready2/pellet/jena-core-2.10.0.jar:/home/juanmhl/miniconda3/envs/uma-race/lib/python3.11/site-packages/owlready2/pellet/xml-apis-1.4.01.jar:/home/juanmhl/miniconda3/envs/uma-race/lib/python3.11/site-packages/owlready2/pellet/httpclient-4.2.3.jar:/home/juanmhl/miniconda3/envs/uma-race/lib/python3.11/site-packages/owlready2/pellet/pellet-2.3.1.jar:/home/juanmhl/miniconda3/envs/uma-race/lib/python3.11/site-packages/owlready2/pellet/antlr-3.2.jar:/home/juanmhl/miniconda3/envs/uma-race/lib/python3.11/site-packages/owlready2/pellet/antlr-runtime-3.2.jar:/home/juanmhl/miniconda3/envs/uma-race/lib/python3.11/site-packages/owlready2/pellet/jgrapht-jdk1.5.jar:/home/juanmhl/miniconda3/envs/uma-race/lib/python3.11/site-packages/owlready2/pellet/aterm-java-1.6.jar:/home/juanmhl/miniconda3/envs/uma-race/lib/python3.11/site-packages/owlready2/pellet/commons-codec-1.6.jar:/home/juanmhl/miniconda3/envs/uma-race/lib/python3.11/site-packages/owlready2/pellet/log4j-1.2-api-2.19.0.jar pellet.Pellet realize --loader Jena --input-format N-Triples --infer-prop-values --infer-data-prop-values --ignore-imports /tmp/tmpcj_svcvr\n"
     ]
    },
    {
     "name": "stdout",
     "output_type": "stream",
     "text": [
      "* Owlready * Adding relation ontology.fase5 faseSiguiente true\n",
      "* Owlready * Adding relation ontology.ps2 puntoSuturaActual true\n",
      "* Owlready * Adding relation ontology.fase4 faseActual true\n",
      "Phase: 4, Action: -APERTURA_D-, Suture Point: 2, Near: NONE\n"
     ]
    },
    {
     "name": "stderr",
     "output_type": "stream",
     "text": [
      "* Owlready2 * Pellet took 0.5970242023468018 seconds\n",
      "* Owlready * (NB: only changes on entities loaded in Python are shown, other changes are done but not listed)\n",
      "* Owlready2 * Running Pellet...\n",
      "    /usr/bin/java -Xmx2000M -cp /home/juanmhl/miniconda3/envs/uma-race/lib/python3.11/site-packages/owlready2/pellet/jcl-over-slf4j-1.6.4.jar:/home/juanmhl/miniconda3/envs/uma-race/lib/python3.11/site-packages/owlready2/pellet/httpcore-4.2.2.jar:/home/juanmhl/miniconda3/envs/uma-race/lib/python3.11/site-packages/owlready2/pellet/jena-iri-0.9.5.jar:/home/juanmhl/miniconda3/envs/uma-race/lib/python3.11/site-packages/owlready2/pellet/owlapi-distribution-3.4.3-bin.jar:/home/juanmhl/miniconda3/envs/uma-race/lib/python3.11/site-packages/owlready2/pellet/slf4j-api-1.6.4.jar:/home/juanmhl/miniconda3/envs/uma-race/lib/python3.11/site-packages/owlready2/pellet/xercesImpl-2.10.0.jar:/home/juanmhl/miniconda3/envs/uma-race/lib/python3.11/site-packages/owlready2/pellet/slf4j-log4j12-1.6.4.jar:/home/juanmhl/miniconda3/envs/uma-race/lib/python3.11/site-packages/owlready2/pellet/jena-tdb-0.10.0.jar:/home/juanmhl/miniconda3/envs/uma-race/lib/python3.11/site-packages/owlready2/pellet/jena-arq-2.10.0.jar:/home/juanmhl/miniconda3/envs/uma-race/lib/python3.11/site-packages/owlready2/pellet/log4j-core-2.19.0.jar:/home/juanmhl/miniconda3/envs/uma-race/lib/python3.11/site-packages/owlready2/pellet/log4j-api-2.19.0.jar:/home/juanmhl/miniconda3/envs/uma-race/lib/python3.11/site-packages/owlready2/pellet/jena-core-2.10.0.jar:/home/juanmhl/miniconda3/envs/uma-race/lib/python3.11/site-packages/owlready2/pellet/xml-apis-1.4.01.jar:/home/juanmhl/miniconda3/envs/uma-race/lib/python3.11/site-packages/owlready2/pellet/httpclient-4.2.3.jar:/home/juanmhl/miniconda3/envs/uma-race/lib/python3.11/site-packages/owlready2/pellet/pellet-2.3.1.jar:/home/juanmhl/miniconda3/envs/uma-race/lib/python3.11/site-packages/owlready2/pellet/antlr-3.2.jar:/home/juanmhl/miniconda3/envs/uma-race/lib/python3.11/site-packages/owlready2/pellet/antlr-runtime-3.2.jar:/home/juanmhl/miniconda3/envs/uma-race/lib/python3.11/site-packages/owlready2/pellet/jgrapht-jdk1.5.jar:/home/juanmhl/miniconda3/envs/uma-race/lib/python3.11/site-packages/owlready2/pellet/aterm-java-1.6.jar:/home/juanmhl/miniconda3/envs/uma-race/lib/python3.11/site-packages/owlready2/pellet/commons-codec-1.6.jar:/home/juanmhl/miniconda3/envs/uma-race/lib/python3.11/site-packages/owlready2/pellet/log4j-1.2-api-2.19.0.jar pellet.Pellet realize --loader Jena --input-format N-Triples --infer-prop-values --infer-data-prop-values --ignore-imports /tmp/tmp01g2yh76\n"
     ]
    },
    {
     "name": "stdout",
     "output_type": "stream",
     "text": [
      "* Owlready * Adding relation ontology.fase6 faseSiguiente true\n",
      "* Owlready * Adding relation ontology.fase5 faseActual true\n",
      "Phase: 5, Action: -DESPLAZAMIENTO_CAMBIO_I-, Suture Point: 2, Near: NONE\n"
     ]
    },
    {
     "name": "stderr",
     "output_type": "stream",
     "text": [
      "* Owlready2 * Pellet took 0.6034567356109619 seconds\n",
      "* Owlready * (NB: only changes on entities loaded in Python are shown, other changes are done but not listed)\n",
      "* Owlready2 * Running Pellet...\n",
      "    /usr/bin/java -Xmx2000M -cp /home/juanmhl/miniconda3/envs/uma-race/lib/python3.11/site-packages/owlready2/pellet/jcl-over-slf4j-1.6.4.jar:/home/juanmhl/miniconda3/envs/uma-race/lib/python3.11/site-packages/owlready2/pellet/httpcore-4.2.2.jar:/home/juanmhl/miniconda3/envs/uma-race/lib/python3.11/site-packages/owlready2/pellet/jena-iri-0.9.5.jar:/home/juanmhl/miniconda3/envs/uma-race/lib/python3.11/site-packages/owlready2/pellet/owlapi-distribution-3.4.3-bin.jar:/home/juanmhl/miniconda3/envs/uma-race/lib/python3.11/site-packages/owlready2/pellet/slf4j-api-1.6.4.jar:/home/juanmhl/miniconda3/envs/uma-race/lib/python3.11/site-packages/owlready2/pellet/xercesImpl-2.10.0.jar:/home/juanmhl/miniconda3/envs/uma-race/lib/python3.11/site-packages/owlready2/pellet/slf4j-log4j12-1.6.4.jar:/home/juanmhl/miniconda3/envs/uma-race/lib/python3.11/site-packages/owlready2/pellet/jena-tdb-0.10.0.jar:/home/juanmhl/miniconda3/envs/uma-race/lib/python3.11/site-packages/owlready2/pellet/jena-arq-2.10.0.jar:/home/juanmhl/miniconda3/envs/uma-race/lib/python3.11/site-packages/owlready2/pellet/log4j-core-2.19.0.jar:/home/juanmhl/miniconda3/envs/uma-race/lib/python3.11/site-packages/owlready2/pellet/log4j-api-2.19.0.jar:/home/juanmhl/miniconda3/envs/uma-race/lib/python3.11/site-packages/owlready2/pellet/jena-core-2.10.0.jar:/home/juanmhl/miniconda3/envs/uma-race/lib/python3.11/site-packages/owlready2/pellet/xml-apis-1.4.01.jar:/home/juanmhl/miniconda3/envs/uma-race/lib/python3.11/site-packages/owlready2/pellet/httpclient-4.2.3.jar:/home/juanmhl/miniconda3/envs/uma-race/lib/python3.11/site-packages/owlready2/pellet/pellet-2.3.1.jar:/home/juanmhl/miniconda3/envs/uma-race/lib/python3.11/site-packages/owlready2/pellet/antlr-3.2.jar:/home/juanmhl/miniconda3/envs/uma-race/lib/python3.11/site-packages/owlready2/pellet/antlr-runtime-3.2.jar:/home/juanmhl/miniconda3/envs/uma-race/lib/python3.11/site-packages/owlready2/pellet/jgrapht-jdk1.5.jar:/home/juanmhl/miniconda3/envs/uma-race/lib/python3.11/site-packages/owlready2/pellet/aterm-java-1.6.jar:/home/juanmhl/miniconda3/envs/uma-race/lib/python3.11/site-packages/owlready2/pellet/commons-codec-1.6.jar:/home/juanmhl/miniconda3/envs/uma-race/lib/python3.11/site-packages/owlready2/pellet/log4j-1.2-api-2.19.0.jar pellet.Pellet realize --loader Jena --input-format N-Triples --infer-prop-values --infer-data-prop-values --ignore-imports /tmp/tmp2al9ex7q\n"
     ]
    },
    {
     "name": "stdout",
     "output_type": "stream",
     "text": [
      "* Owlready * Adding relation ontology.fase6 faseActual true\n",
      "* Owlready * Adding relation ontology.fase7 faseSiguiente true\n",
      "Phase: 6, Action: -DESPLAZAMIENTO_CAMBIO_D-, Suture Point: 2, Near: NONE\n"
     ]
    },
    {
     "name": "stderr",
     "output_type": "stream",
     "text": [
      "* Owlready2 * Pellet took 0.591303825378418 seconds\n",
      "* Owlready * (NB: only changes on entities loaded in Python are shown, other changes are done but not listed)\n",
      "* Owlready2 * Running Pellet...\n",
      "    /usr/bin/java -Xmx2000M -cp /home/juanmhl/miniconda3/envs/uma-race/lib/python3.11/site-packages/owlready2/pellet/jcl-over-slf4j-1.6.4.jar:/home/juanmhl/miniconda3/envs/uma-race/lib/python3.11/site-packages/owlready2/pellet/httpcore-4.2.2.jar:/home/juanmhl/miniconda3/envs/uma-race/lib/python3.11/site-packages/owlready2/pellet/jena-iri-0.9.5.jar:/home/juanmhl/miniconda3/envs/uma-race/lib/python3.11/site-packages/owlready2/pellet/owlapi-distribution-3.4.3-bin.jar:/home/juanmhl/miniconda3/envs/uma-race/lib/python3.11/site-packages/owlready2/pellet/slf4j-api-1.6.4.jar:/home/juanmhl/miniconda3/envs/uma-race/lib/python3.11/site-packages/owlready2/pellet/xercesImpl-2.10.0.jar:/home/juanmhl/miniconda3/envs/uma-race/lib/python3.11/site-packages/owlready2/pellet/slf4j-log4j12-1.6.4.jar:/home/juanmhl/miniconda3/envs/uma-race/lib/python3.11/site-packages/owlready2/pellet/jena-tdb-0.10.0.jar:/home/juanmhl/miniconda3/envs/uma-race/lib/python3.11/site-packages/owlready2/pellet/jena-arq-2.10.0.jar:/home/juanmhl/miniconda3/envs/uma-race/lib/python3.11/site-packages/owlready2/pellet/log4j-core-2.19.0.jar:/home/juanmhl/miniconda3/envs/uma-race/lib/python3.11/site-packages/owlready2/pellet/log4j-api-2.19.0.jar:/home/juanmhl/miniconda3/envs/uma-race/lib/python3.11/site-packages/owlready2/pellet/jena-core-2.10.0.jar:/home/juanmhl/miniconda3/envs/uma-race/lib/python3.11/site-packages/owlready2/pellet/xml-apis-1.4.01.jar:/home/juanmhl/miniconda3/envs/uma-race/lib/python3.11/site-packages/owlready2/pellet/httpclient-4.2.3.jar:/home/juanmhl/miniconda3/envs/uma-race/lib/python3.11/site-packages/owlready2/pellet/pellet-2.3.1.jar:/home/juanmhl/miniconda3/envs/uma-race/lib/python3.11/site-packages/owlready2/pellet/antlr-3.2.jar:/home/juanmhl/miniconda3/envs/uma-race/lib/python3.11/site-packages/owlready2/pellet/antlr-runtime-3.2.jar:/home/juanmhl/miniconda3/envs/uma-race/lib/python3.11/site-packages/owlready2/pellet/jgrapht-jdk1.5.jar:/home/juanmhl/miniconda3/envs/uma-race/lib/python3.11/site-packages/owlready2/pellet/aterm-java-1.6.jar:/home/juanmhl/miniconda3/envs/uma-race/lib/python3.11/site-packages/owlready2/pellet/commons-codec-1.6.jar:/home/juanmhl/miniconda3/envs/uma-race/lib/python3.11/site-packages/owlready2/pellet/log4j-1.2-api-2.19.0.jar pellet.Pellet realize --loader Jena --input-format N-Triples --infer-prop-values --infer-data-prop-values --ignore-imports /tmp/tmpkgdnu94a\n"
     ]
    },
    {
     "name": "stdout",
     "output_type": "stream",
     "text": [
      "* Owlready * Adding relation ontology.fase8 faseSiguiente true\n",
      "* Owlready * Adding relation ontology.fase7 faseActual true\n",
      "Phase: 7, Action: -CIERRE_D-, Suture Point: 2, Near: NONE\n"
     ]
    },
    {
     "name": "stderr",
     "output_type": "stream",
     "text": [
      "* Owlready2 * Pellet took 0.5945093631744385 seconds\n",
      "* Owlready * (NB: only changes on entities loaded in Python are shown, other changes are done but not listed)\n",
      "* Owlready2 * Running Pellet...\n",
      "    /usr/bin/java -Xmx2000M -cp /home/juanmhl/miniconda3/envs/uma-race/lib/python3.11/site-packages/owlready2/pellet/jcl-over-slf4j-1.6.4.jar:/home/juanmhl/miniconda3/envs/uma-race/lib/python3.11/site-packages/owlready2/pellet/httpcore-4.2.2.jar:/home/juanmhl/miniconda3/envs/uma-race/lib/python3.11/site-packages/owlready2/pellet/jena-iri-0.9.5.jar:/home/juanmhl/miniconda3/envs/uma-race/lib/python3.11/site-packages/owlready2/pellet/owlapi-distribution-3.4.3-bin.jar:/home/juanmhl/miniconda3/envs/uma-race/lib/python3.11/site-packages/owlready2/pellet/slf4j-api-1.6.4.jar:/home/juanmhl/miniconda3/envs/uma-race/lib/python3.11/site-packages/owlready2/pellet/xercesImpl-2.10.0.jar:/home/juanmhl/miniconda3/envs/uma-race/lib/python3.11/site-packages/owlready2/pellet/slf4j-log4j12-1.6.4.jar:/home/juanmhl/miniconda3/envs/uma-race/lib/python3.11/site-packages/owlready2/pellet/jena-tdb-0.10.0.jar:/home/juanmhl/miniconda3/envs/uma-race/lib/python3.11/site-packages/owlready2/pellet/jena-arq-2.10.0.jar:/home/juanmhl/miniconda3/envs/uma-race/lib/python3.11/site-packages/owlready2/pellet/log4j-core-2.19.0.jar:/home/juanmhl/miniconda3/envs/uma-race/lib/python3.11/site-packages/owlready2/pellet/log4j-api-2.19.0.jar:/home/juanmhl/miniconda3/envs/uma-race/lib/python3.11/site-packages/owlready2/pellet/jena-core-2.10.0.jar:/home/juanmhl/miniconda3/envs/uma-race/lib/python3.11/site-packages/owlready2/pellet/xml-apis-1.4.01.jar:/home/juanmhl/miniconda3/envs/uma-race/lib/python3.11/site-packages/owlready2/pellet/httpclient-4.2.3.jar:/home/juanmhl/miniconda3/envs/uma-race/lib/python3.11/site-packages/owlready2/pellet/pellet-2.3.1.jar:/home/juanmhl/miniconda3/envs/uma-race/lib/python3.11/site-packages/owlready2/pellet/antlr-3.2.jar:/home/juanmhl/miniconda3/envs/uma-race/lib/python3.11/site-packages/owlready2/pellet/antlr-runtime-3.2.jar:/home/juanmhl/miniconda3/envs/uma-race/lib/python3.11/site-packages/owlready2/pellet/jgrapht-jdk1.5.jar:/home/juanmhl/miniconda3/envs/uma-race/lib/python3.11/site-packages/owlready2/pellet/aterm-java-1.6.jar:/home/juanmhl/miniconda3/envs/uma-race/lib/python3.11/site-packages/owlready2/pellet/commons-codec-1.6.jar:/home/juanmhl/miniconda3/envs/uma-race/lib/python3.11/site-packages/owlready2/pellet/log4j-1.2-api-2.19.0.jar pellet.Pellet realize --loader Jena --input-format N-Triples --infer-prop-values --infer-data-prop-values --ignore-imports /tmp/tmpsmessari\n"
     ]
    },
    {
     "name": "stdout",
     "output_type": "stream",
     "text": [
      "* Owlready * Adding relation ontology.fase9 faseSiguiente true\n",
      "* Owlready * Adding relation ontology.fase8 faseActual true\n",
      "Phase: 8, Action: -APERTURA_I-, Suture Point: 2, Near: NONE\n"
     ]
    },
    {
     "name": "stderr",
     "output_type": "stream",
     "text": [
      "* Owlready2 * Pellet took 0.6002569198608398 seconds\n",
      "* Owlready * (NB: only changes on entities loaded in Python are shown, other changes are done but not listed)\n",
      "* Owlready2 * Running Pellet...\n",
      "    /usr/bin/java -Xmx2000M -cp /home/juanmhl/miniconda3/envs/uma-race/lib/python3.11/site-packages/owlready2/pellet/jcl-over-slf4j-1.6.4.jar:/home/juanmhl/miniconda3/envs/uma-race/lib/python3.11/site-packages/owlready2/pellet/httpcore-4.2.2.jar:/home/juanmhl/miniconda3/envs/uma-race/lib/python3.11/site-packages/owlready2/pellet/jena-iri-0.9.5.jar:/home/juanmhl/miniconda3/envs/uma-race/lib/python3.11/site-packages/owlready2/pellet/owlapi-distribution-3.4.3-bin.jar:/home/juanmhl/miniconda3/envs/uma-race/lib/python3.11/site-packages/owlready2/pellet/slf4j-api-1.6.4.jar:/home/juanmhl/miniconda3/envs/uma-race/lib/python3.11/site-packages/owlready2/pellet/xercesImpl-2.10.0.jar:/home/juanmhl/miniconda3/envs/uma-race/lib/python3.11/site-packages/owlready2/pellet/slf4j-log4j12-1.6.4.jar:/home/juanmhl/miniconda3/envs/uma-race/lib/python3.11/site-packages/owlready2/pellet/jena-tdb-0.10.0.jar:/home/juanmhl/miniconda3/envs/uma-race/lib/python3.11/site-packages/owlready2/pellet/jena-arq-2.10.0.jar:/home/juanmhl/miniconda3/envs/uma-race/lib/python3.11/site-packages/owlready2/pellet/log4j-core-2.19.0.jar:/home/juanmhl/miniconda3/envs/uma-race/lib/python3.11/site-packages/owlready2/pellet/log4j-api-2.19.0.jar:/home/juanmhl/miniconda3/envs/uma-race/lib/python3.11/site-packages/owlready2/pellet/jena-core-2.10.0.jar:/home/juanmhl/miniconda3/envs/uma-race/lib/python3.11/site-packages/owlready2/pellet/xml-apis-1.4.01.jar:/home/juanmhl/miniconda3/envs/uma-race/lib/python3.11/site-packages/owlready2/pellet/httpclient-4.2.3.jar:/home/juanmhl/miniconda3/envs/uma-race/lib/python3.11/site-packages/owlready2/pellet/pellet-2.3.1.jar:/home/juanmhl/miniconda3/envs/uma-race/lib/python3.11/site-packages/owlready2/pellet/antlr-3.2.jar:/home/juanmhl/miniconda3/envs/uma-race/lib/python3.11/site-packages/owlready2/pellet/antlr-runtime-3.2.jar:/home/juanmhl/miniconda3/envs/uma-race/lib/python3.11/site-packages/owlready2/pellet/jgrapht-jdk1.5.jar:/home/juanmhl/miniconda3/envs/uma-race/lib/python3.11/site-packages/owlready2/pellet/aterm-java-1.6.jar:/home/juanmhl/miniconda3/envs/uma-race/lib/python3.11/site-packages/owlready2/pellet/commons-codec-1.6.jar:/home/juanmhl/miniconda3/envs/uma-race/lib/python3.11/site-packages/owlready2/pellet/log4j-1.2-api-2.19.0.jar pellet.Pellet realize --loader Jena --input-format N-Triples --infer-prop-values --infer-data-prop-values --ignore-imports /tmp/tmpzs3v1b9y\n"
     ]
    },
    {
     "name": "stdout",
     "output_type": "stream",
     "text": [
      "* Owlready * Adding relation ontology.desplazamiento_suturaD accionEjecutable ontology.ps2\n",
      "* Owlready * Adding relation ontology.fase9 faseActual true\n",
      "* Owlready * Adding relation ontology.fase2 faseSiguiente true\n",
      "Phase: 9, Action: -DESPLAZAMIENTO_SUTURA_D-, Suture Point: 2, Near: NONE\n",
      "* Owlready * Adding relation ontology.cierreI accionEjecutable ontology.ps2\n",
      "* Owlready * Adding relation ontology.puncion accionEjecutable ontology.ps2\n",
      "* Owlready * Adding relation ontology.desplazamiento_suturaI accionEjecutable ontology.ps2\n",
      "* Owlready * Adding relation ontology.fase2 faseActual true\n",
      "* Owlready * Adding relation ontology.fase3 faseSiguiente true\n",
      "* Owlready * Adding relation ontology.fase3 faseActual true\n",
      "* Owlready * Adding relation ontology.fase4 faseSiguiente true\n",
      "Phase: 3, Action: -CIERRE_I-, Suture Point: 2, Near: NONE\n"
     ]
    },
    {
     "name": "stderr",
     "output_type": "stream",
     "text": [
      "* Owlready2 * Pellet took 0.6061322689056396 seconds\n",
      "* Owlready * (NB: only changes on entities loaded in Python are shown, other changes are done but not listed)\n"
     ]
    }
   ],
   "source": [
    "from inferenceengine import *\n",
    "\n",
    "repo_implementation = CommandRepositoryOntology\n",
    "service = InferenceMotorService(repo_implementation)\n",
    "service.initialize(n_points=3, ontology_path='/home/juanmhl/ontology.owl')\n",
    "\n",
    "vp1 = [True, False, False, False, False, False, True,       [False, False, False]]\n",
    "vp2 = [True, False, False, False, True, False, True,        [False, False, False]]\n",
    "vp3 = [True, False, False, False, True, True, False,        [False, False, False]]\n",
    "vp4 = [True, True, False, False, True, True, False,         [True, False, False]]\n",
    "vp5 = [False, True, False, False, True, True, False,        [False, False, False]]\n",
    "vp6 = [False, True, False, True, True, False, False,        [False, False, False]]\n",
    "vp7 = [False, True, True, True, False, False, False,        [False, False, False]]\n",
    "vp8 = [True, True, True, True, False, False, False,         [False, False, False]]\n",
    "vp9 = [True, False, True, True, False, False, False,        [False, False, False]]\n",
    "vpt = [True, True, True, True, True, True, True,            [False, False, False]]\n",
    "vpf = [False, False, False, False, False, False, False,     [False, False, False]]\n",
    "\n",
    "predicates_vectors = [vp1, vp2, vp3, vp4, vp5, vp6, vp7, vp8, vp9,\n",
    "                      [True, False, False, False, True, False, True, [True, False, False]]\n",
    "                      ]\n",
    "\n",
    "for vp in predicates_vectors:\n",
    "    comando = service.step(vp)\n",
    "    print(comando)"
   ]
  },
  {
   "cell_type": "code",
   "execution_count": 1,
   "metadata": {},
   "outputs": [
    {
     "name": "stdout",
     "output_type": "stream",
     "text": [
      "Ontology loaded. \n"
     ]
    },
    {
     "name": "stderr",
     "output_type": "stream",
     "text": [
      "* Owlready2 * Running Pellet...\n",
      "    /usr/bin/java -Xmx2000M -cp /home/juanmhl/miniconda3/envs/uma-ontology/lib/python3.12/site-packages/owlready2/pellet/jcl-over-slf4j-1.6.4.jar:/home/juanmhl/miniconda3/envs/uma-ontology/lib/python3.12/site-packages/owlready2/pellet/httpcore-4.2.2.jar:/home/juanmhl/miniconda3/envs/uma-ontology/lib/python3.12/site-packages/owlready2/pellet/jena-iri-0.9.5.jar:/home/juanmhl/miniconda3/envs/uma-ontology/lib/python3.12/site-packages/owlready2/pellet/owlapi-distribution-3.4.3-bin.jar:/home/juanmhl/miniconda3/envs/uma-ontology/lib/python3.12/site-packages/owlready2/pellet/slf4j-api-1.6.4.jar:/home/juanmhl/miniconda3/envs/uma-ontology/lib/python3.12/site-packages/owlready2/pellet/xercesImpl-2.10.0.jar:/home/juanmhl/miniconda3/envs/uma-ontology/lib/python3.12/site-packages/owlready2/pellet/slf4j-log4j12-1.6.4.jar:/home/juanmhl/miniconda3/envs/uma-ontology/lib/python3.12/site-packages/owlready2/pellet/jena-tdb-0.10.0.jar:/home/juanmhl/miniconda3/envs/uma-ontology/lib/python3.12/site-packages/owlready2/pellet/jena-arq-2.10.0.jar:/home/juanmhl/miniconda3/envs/uma-ontology/lib/python3.12/site-packages/owlready2/pellet/log4j-core-2.19.0.jar:/home/juanmhl/miniconda3/envs/uma-ontology/lib/python3.12/site-packages/owlready2/pellet/log4j-api-2.19.0.jar:/home/juanmhl/miniconda3/envs/uma-ontology/lib/python3.12/site-packages/owlready2/pellet/jena-core-2.10.0.jar:/home/juanmhl/miniconda3/envs/uma-ontology/lib/python3.12/site-packages/owlready2/pellet/xml-apis-1.4.01.jar:/home/juanmhl/miniconda3/envs/uma-ontology/lib/python3.12/site-packages/owlready2/pellet/httpclient-4.2.3.jar:/home/juanmhl/miniconda3/envs/uma-ontology/lib/python3.12/site-packages/owlready2/pellet/pellet-2.3.1.jar:/home/juanmhl/miniconda3/envs/uma-ontology/lib/python3.12/site-packages/owlready2/pellet/antlr-3.2.jar:/home/juanmhl/miniconda3/envs/uma-ontology/lib/python3.12/site-packages/owlready2/pellet/antlr-runtime-3.2.jar:/home/juanmhl/miniconda3/envs/uma-ontology/lib/python3.12/site-packages/owlready2/pellet/jgrapht-jdk1.5.jar:/home/juanmhl/miniconda3/envs/uma-ontology/lib/python3.12/site-packages/owlready2/pellet/aterm-java-1.6.jar:/home/juanmhl/miniconda3/envs/uma-ontology/lib/python3.12/site-packages/owlready2/pellet/commons-codec-1.6.jar:/home/juanmhl/miniconda3/envs/uma-ontology/lib/python3.12/site-packages/owlready2/pellet/log4j-1.2-api-2.19.0.jar pellet.Pellet realize --loader Jena --input-format N-Triples --infer-prop-values --infer-data-prop-values --ignore-imports /tmp/tmpq306dcla\n",
      "* Owlready2 * Pellet took 0.5971179008483887 seconds\n",
      "* Owlready * (NB: only changes on entities loaded in Python are shown, other changes are done but not listed)\n",
      "* Owlready2 * Running Pellet...\n",
      "    /usr/bin/java -Xmx2000M -cp /home/juanmhl/miniconda3/envs/uma-ontology/lib/python3.12/site-packages/owlready2/pellet/jcl-over-slf4j-1.6.4.jar:/home/juanmhl/miniconda3/envs/uma-ontology/lib/python3.12/site-packages/owlready2/pellet/httpcore-4.2.2.jar:/home/juanmhl/miniconda3/envs/uma-ontology/lib/python3.12/site-packages/owlready2/pellet/jena-iri-0.9.5.jar:/home/juanmhl/miniconda3/envs/uma-ontology/lib/python3.12/site-packages/owlready2/pellet/owlapi-distribution-3.4.3-bin.jar:/home/juanmhl/miniconda3/envs/uma-ontology/lib/python3.12/site-packages/owlready2/pellet/slf4j-api-1.6.4.jar:/home/juanmhl/miniconda3/envs/uma-ontology/lib/python3.12/site-packages/owlready2/pellet/xercesImpl-2.10.0.jar:/home/juanmhl/miniconda3/envs/uma-ontology/lib/python3.12/site-packages/owlready2/pellet/slf4j-log4j12-1.6.4.jar:/home/juanmhl/miniconda3/envs/uma-ontology/lib/python3.12/site-packages/owlready2/pellet/jena-tdb-0.10.0.jar:/home/juanmhl/miniconda3/envs/uma-ontology/lib/python3.12/site-packages/owlready2/pellet/jena-arq-2.10.0.jar:/home/juanmhl/miniconda3/envs/uma-ontology/lib/python3.12/site-packages/owlready2/pellet/log4j-core-2.19.0.jar:/home/juanmhl/miniconda3/envs/uma-ontology/lib/python3.12/site-packages/owlready2/pellet/log4j-api-2.19.0.jar:/home/juanmhl/miniconda3/envs/uma-ontology/lib/python3.12/site-packages/owlready2/pellet/jena-core-2.10.0.jar:/home/juanmhl/miniconda3/envs/uma-ontology/lib/python3.12/site-packages/owlready2/pellet/xml-apis-1.4.01.jar:/home/juanmhl/miniconda3/envs/uma-ontology/lib/python3.12/site-packages/owlready2/pellet/httpclient-4.2.3.jar:/home/juanmhl/miniconda3/envs/uma-ontology/lib/python3.12/site-packages/owlready2/pellet/pellet-2.3.1.jar:/home/juanmhl/miniconda3/envs/uma-ontology/lib/python3.12/site-packages/owlready2/pellet/antlr-3.2.jar:/home/juanmhl/miniconda3/envs/uma-ontology/lib/python3.12/site-packages/owlready2/pellet/antlr-runtime-3.2.jar:/home/juanmhl/miniconda3/envs/uma-ontology/lib/python3.12/site-packages/owlready2/pellet/jgrapht-jdk1.5.jar:/home/juanmhl/miniconda3/envs/uma-ontology/lib/python3.12/site-packages/owlready2/pellet/aterm-java-1.6.jar:/home/juanmhl/miniconda3/envs/uma-ontology/lib/python3.12/site-packages/owlready2/pellet/commons-codec-1.6.jar:/home/juanmhl/miniconda3/envs/uma-ontology/lib/python3.12/site-packages/owlready2/pellet/log4j-1.2-api-2.19.0.jar pellet.Pellet realize --loader Jena --input-format N-Triples --infer-prop-values --infer-data-prop-values --ignore-imports /tmp/tmp6yayhi5h\n",
      "* Owlready2 * Pellet took 0.5991811752319336 seconds\n",
      "* Owlready * (NB: only changes on entities loaded in Python are shown, other changes are done but not listed)\n",
      "* Owlready2 * Running Pellet...\n",
      "    /usr/bin/java -Xmx2000M -cp /home/juanmhl/miniconda3/envs/uma-ontology/lib/python3.12/site-packages/owlready2/pellet/jcl-over-slf4j-1.6.4.jar:/home/juanmhl/miniconda3/envs/uma-ontology/lib/python3.12/site-packages/owlready2/pellet/httpcore-4.2.2.jar:/home/juanmhl/miniconda3/envs/uma-ontology/lib/python3.12/site-packages/owlready2/pellet/jena-iri-0.9.5.jar:/home/juanmhl/miniconda3/envs/uma-ontology/lib/python3.12/site-packages/owlready2/pellet/owlapi-distribution-3.4.3-bin.jar:/home/juanmhl/miniconda3/envs/uma-ontology/lib/python3.12/site-packages/owlready2/pellet/slf4j-api-1.6.4.jar:/home/juanmhl/miniconda3/envs/uma-ontology/lib/python3.12/site-packages/owlready2/pellet/xercesImpl-2.10.0.jar:/home/juanmhl/miniconda3/envs/uma-ontology/lib/python3.12/site-packages/owlready2/pellet/slf4j-log4j12-1.6.4.jar:/home/juanmhl/miniconda3/envs/uma-ontology/lib/python3.12/site-packages/owlready2/pellet/jena-tdb-0.10.0.jar:/home/juanmhl/miniconda3/envs/uma-ontology/lib/python3.12/site-packages/owlready2/pellet/jena-arq-2.10.0.jar:/home/juanmhl/miniconda3/envs/uma-ontology/lib/python3.12/site-packages/owlready2/pellet/log4j-core-2.19.0.jar:/home/juanmhl/miniconda3/envs/uma-ontology/lib/python3.12/site-packages/owlready2/pellet/log4j-api-2.19.0.jar:/home/juanmhl/miniconda3/envs/uma-ontology/lib/python3.12/site-packages/owlready2/pellet/jena-core-2.10.0.jar:/home/juanmhl/miniconda3/envs/uma-ontology/lib/python3.12/site-packages/owlready2/pellet/xml-apis-1.4.01.jar:/home/juanmhl/miniconda3/envs/uma-ontology/lib/python3.12/site-packages/owlready2/pellet/httpclient-4.2.3.jar:/home/juanmhl/miniconda3/envs/uma-ontology/lib/python3.12/site-packages/owlready2/pellet/pellet-2.3.1.jar:/home/juanmhl/miniconda3/envs/uma-ontology/lib/python3.12/site-packages/owlready2/pellet/antlr-3.2.jar:/home/juanmhl/miniconda3/envs/uma-ontology/lib/python3.12/site-packages/owlready2/pellet/antlr-runtime-3.2.jar:/home/juanmhl/miniconda3/envs/uma-ontology/lib/python3.12/site-packages/owlready2/pellet/jgrapht-jdk1.5.jar:/home/juanmhl/miniconda3/envs/uma-ontology/lib/python3.12/site-packages/owlready2/pellet/aterm-java-1.6.jar:/home/juanmhl/miniconda3/envs/uma-ontology/lib/python3.12/site-packages/owlready2/pellet/commons-codec-1.6.jar:/home/juanmhl/miniconda3/envs/uma-ontology/lib/python3.12/site-packages/owlready2/pellet/log4j-1.2-api-2.19.0.jar pellet.Pellet realize --loader Jena --input-format N-Triples --infer-prop-values --infer-data-prop-values --ignore-imports /tmp/tmp8bhhbq1o\n",
      "* Owlready2 * Pellet took 0.5955383777618408 seconds\n",
      "* Owlready * (NB: only changes on entities loaded in Python are shown, other changes are done but not listed)\n",
      "* Owlready2 * Running Pellet...\n",
      "    /usr/bin/java -Xmx2000M -cp /home/juanmhl/miniconda3/envs/uma-ontology/lib/python3.12/site-packages/owlready2/pellet/jcl-over-slf4j-1.6.4.jar:/home/juanmhl/miniconda3/envs/uma-ontology/lib/python3.12/site-packages/owlready2/pellet/httpcore-4.2.2.jar:/home/juanmhl/miniconda3/envs/uma-ontology/lib/python3.12/site-packages/owlready2/pellet/jena-iri-0.9.5.jar:/home/juanmhl/miniconda3/envs/uma-ontology/lib/python3.12/site-packages/owlready2/pellet/owlapi-distribution-3.4.3-bin.jar:/home/juanmhl/miniconda3/envs/uma-ontology/lib/python3.12/site-packages/owlready2/pellet/slf4j-api-1.6.4.jar:/home/juanmhl/miniconda3/envs/uma-ontology/lib/python3.12/site-packages/owlready2/pellet/xercesImpl-2.10.0.jar:/home/juanmhl/miniconda3/envs/uma-ontology/lib/python3.12/site-packages/owlready2/pellet/slf4j-log4j12-1.6.4.jar:/home/juanmhl/miniconda3/envs/uma-ontology/lib/python3.12/site-packages/owlready2/pellet/jena-tdb-0.10.0.jar:/home/juanmhl/miniconda3/envs/uma-ontology/lib/python3.12/site-packages/owlready2/pellet/jena-arq-2.10.0.jar:/home/juanmhl/miniconda3/envs/uma-ontology/lib/python3.12/site-packages/owlready2/pellet/log4j-core-2.19.0.jar:/home/juanmhl/miniconda3/envs/uma-ontology/lib/python3.12/site-packages/owlready2/pellet/log4j-api-2.19.0.jar:/home/juanmhl/miniconda3/envs/uma-ontology/lib/python3.12/site-packages/owlready2/pellet/jena-core-2.10.0.jar:/home/juanmhl/miniconda3/envs/uma-ontology/lib/python3.12/site-packages/owlready2/pellet/xml-apis-1.4.01.jar:/home/juanmhl/miniconda3/envs/uma-ontology/lib/python3.12/site-packages/owlready2/pellet/httpclient-4.2.3.jar:/home/juanmhl/miniconda3/envs/uma-ontology/lib/python3.12/site-packages/owlready2/pellet/pellet-2.3.1.jar:/home/juanmhl/miniconda3/envs/uma-ontology/lib/python3.12/site-packages/owlready2/pellet/antlr-3.2.jar:/home/juanmhl/miniconda3/envs/uma-ontology/lib/python3.12/site-packages/owlready2/pellet/antlr-runtime-3.2.jar:/home/juanmhl/miniconda3/envs/uma-ontology/lib/python3.12/site-packages/owlready2/pellet/jgrapht-jdk1.5.jar:/home/juanmhl/miniconda3/envs/uma-ontology/lib/python3.12/site-packages/owlready2/pellet/aterm-java-1.6.jar:/home/juanmhl/miniconda3/envs/uma-ontology/lib/python3.12/site-packages/owlready2/pellet/commons-codec-1.6.jar:/home/juanmhl/miniconda3/envs/uma-ontology/lib/python3.12/site-packages/owlready2/pellet/log4j-1.2-api-2.19.0.jar pellet.Pellet realize --loader Jena --input-format N-Triples --infer-prop-values --infer-data-prop-values --ignore-imports /tmp/tmpe0r5p8xn\n"
     ]
    },
    {
     "name": "stdout",
     "output_type": "stream",
     "text": [
      "* Owlready * Adding relation ontology.fase2 faseActual true\n",
      "* Owlready * Adding relation ontology.fase3 faseSiguiente true\n"
     ]
    },
    {
     "name": "stderr",
     "output_type": "stream",
     "text": [
      "* Owlready2 * Pellet took 0.5954217910766602 seconds\n",
      "* Owlready * (NB: only changes on entities loaded in Python are shown, other changes are done but not listed)\n",
      "* Owlready2 * Running Pellet...\n",
      "    /usr/bin/java -Xmx2000M -cp /home/juanmhl/miniconda3/envs/uma-ontology/lib/python3.12/site-packages/owlready2/pellet/jcl-over-slf4j-1.6.4.jar:/home/juanmhl/miniconda3/envs/uma-ontology/lib/python3.12/site-packages/owlready2/pellet/httpcore-4.2.2.jar:/home/juanmhl/miniconda3/envs/uma-ontology/lib/python3.12/site-packages/owlready2/pellet/jena-iri-0.9.5.jar:/home/juanmhl/miniconda3/envs/uma-ontology/lib/python3.12/site-packages/owlready2/pellet/owlapi-distribution-3.4.3-bin.jar:/home/juanmhl/miniconda3/envs/uma-ontology/lib/python3.12/site-packages/owlready2/pellet/slf4j-api-1.6.4.jar:/home/juanmhl/miniconda3/envs/uma-ontology/lib/python3.12/site-packages/owlready2/pellet/xercesImpl-2.10.0.jar:/home/juanmhl/miniconda3/envs/uma-ontology/lib/python3.12/site-packages/owlready2/pellet/slf4j-log4j12-1.6.4.jar:/home/juanmhl/miniconda3/envs/uma-ontology/lib/python3.12/site-packages/owlready2/pellet/jena-tdb-0.10.0.jar:/home/juanmhl/miniconda3/envs/uma-ontology/lib/python3.12/site-packages/owlready2/pellet/jena-arq-2.10.0.jar:/home/juanmhl/miniconda3/envs/uma-ontology/lib/python3.12/site-packages/owlready2/pellet/log4j-core-2.19.0.jar:/home/juanmhl/miniconda3/envs/uma-ontology/lib/python3.12/site-packages/owlready2/pellet/log4j-api-2.19.0.jar:/home/juanmhl/miniconda3/envs/uma-ontology/lib/python3.12/site-packages/owlready2/pellet/jena-core-2.10.0.jar:/home/juanmhl/miniconda3/envs/uma-ontology/lib/python3.12/site-packages/owlready2/pellet/xml-apis-1.4.01.jar:/home/juanmhl/miniconda3/envs/uma-ontology/lib/python3.12/site-packages/owlready2/pellet/httpclient-4.2.3.jar:/home/juanmhl/miniconda3/envs/uma-ontology/lib/python3.12/site-packages/owlready2/pellet/pellet-2.3.1.jar:/home/juanmhl/miniconda3/envs/uma-ontology/lib/python3.12/site-packages/owlready2/pellet/antlr-3.2.jar:/home/juanmhl/miniconda3/envs/uma-ontology/lib/python3.12/site-packages/owlready2/pellet/antlr-runtime-3.2.jar:/home/juanmhl/miniconda3/envs/uma-ontology/lib/python3.12/site-packages/owlready2/pellet/jgrapht-jdk1.5.jar:/home/juanmhl/miniconda3/envs/uma-ontology/lib/python3.12/site-packages/owlready2/pellet/aterm-java-1.6.jar:/home/juanmhl/miniconda3/envs/uma-ontology/lib/python3.12/site-packages/owlready2/pellet/commons-codec-1.6.jar:/home/juanmhl/miniconda3/envs/uma-ontology/lib/python3.12/site-packages/owlready2/pellet/log4j-1.2-api-2.19.0.jar pellet.Pellet realize --loader Jena --input-format N-Triples --infer-prop-values --infer-data-prop-values --ignore-imports /tmp/tmpofujrg42\n"
     ]
    },
    {
     "name": "stdout",
     "output_type": "stream",
     "text": [
      "* Owlready * Adding relation ontology.fase3 faseActual true\n",
      "* Owlready * Adding relation ontology.fase4 faseSiguiente true\n"
     ]
    },
    {
     "name": "stderr",
     "output_type": "stream",
     "text": [
      "* Owlready2 * Pellet took 0.5963537693023682 seconds\n",
      "* Owlready * (NB: only changes on entities loaded in Python are shown, other changes are done but not listed)\n",
      "* Owlready2 * Running Pellet...\n",
      "    /usr/bin/java -Xmx2000M -cp /home/juanmhl/miniconda3/envs/uma-ontology/lib/python3.12/site-packages/owlready2/pellet/jcl-over-slf4j-1.6.4.jar:/home/juanmhl/miniconda3/envs/uma-ontology/lib/python3.12/site-packages/owlready2/pellet/httpcore-4.2.2.jar:/home/juanmhl/miniconda3/envs/uma-ontology/lib/python3.12/site-packages/owlready2/pellet/jena-iri-0.9.5.jar:/home/juanmhl/miniconda3/envs/uma-ontology/lib/python3.12/site-packages/owlready2/pellet/owlapi-distribution-3.4.3-bin.jar:/home/juanmhl/miniconda3/envs/uma-ontology/lib/python3.12/site-packages/owlready2/pellet/slf4j-api-1.6.4.jar:/home/juanmhl/miniconda3/envs/uma-ontology/lib/python3.12/site-packages/owlready2/pellet/xercesImpl-2.10.0.jar:/home/juanmhl/miniconda3/envs/uma-ontology/lib/python3.12/site-packages/owlready2/pellet/slf4j-log4j12-1.6.4.jar:/home/juanmhl/miniconda3/envs/uma-ontology/lib/python3.12/site-packages/owlready2/pellet/jena-tdb-0.10.0.jar:/home/juanmhl/miniconda3/envs/uma-ontology/lib/python3.12/site-packages/owlready2/pellet/jena-arq-2.10.0.jar:/home/juanmhl/miniconda3/envs/uma-ontology/lib/python3.12/site-packages/owlready2/pellet/log4j-core-2.19.0.jar:/home/juanmhl/miniconda3/envs/uma-ontology/lib/python3.12/site-packages/owlready2/pellet/log4j-api-2.19.0.jar:/home/juanmhl/miniconda3/envs/uma-ontology/lib/python3.12/site-packages/owlready2/pellet/jena-core-2.10.0.jar:/home/juanmhl/miniconda3/envs/uma-ontology/lib/python3.12/site-packages/owlready2/pellet/xml-apis-1.4.01.jar:/home/juanmhl/miniconda3/envs/uma-ontology/lib/python3.12/site-packages/owlready2/pellet/httpclient-4.2.3.jar:/home/juanmhl/miniconda3/envs/uma-ontology/lib/python3.12/site-packages/owlready2/pellet/pellet-2.3.1.jar:/home/juanmhl/miniconda3/envs/uma-ontology/lib/python3.12/site-packages/owlready2/pellet/antlr-3.2.jar:/home/juanmhl/miniconda3/envs/uma-ontology/lib/python3.12/site-packages/owlready2/pellet/antlr-runtime-3.2.jar:/home/juanmhl/miniconda3/envs/uma-ontology/lib/python3.12/site-packages/owlready2/pellet/jgrapht-jdk1.5.jar:/home/juanmhl/miniconda3/envs/uma-ontology/lib/python3.12/site-packages/owlready2/pellet/aterm-java-1.6.jar:/home/juanmhl/miniconda3/envs/uma-ontology/lib/python3.12/site-packages/owlready2/pellet/commons-codec-1.6.jar:/home/juanmhl/miniconda3/envs/uma-ontology/lib/python3.12/site-packages/owlready2/pellet/log4j-1.2-api-2.19.0.jar pellet.Pellet realize --loader Jena --input-format N-Triples --infer-prop-values --infer-data-prop-values --ignore-imports /tmp/tmpctw6swfi\n"
     ]
    },
    {
     "name": "stdout",
     "output_type": "stream",
     "text": [
      "* Owlready * Adding relation ontology.fase5 faseSiguiente true\n",
      "* Owlready * Adding relation ontology.fase4 faseActual true\n",
      "* Owlready * Adding relation ontology.ps3 puntoSuturaActual true\n"
     ]
    },
    {
     "name": "stderr",
     "output_type": "stream",
     "text": [
      "* Owlready2 * Pellet took 0.6078946590423584 seconds\n",
      "* Owlready * (NB: only changes on entities loaded in Python are shown, other changes are done but not listed)\n",
      "* Owlready2 * Running Pellet...\n",
      "    /usr/bin/java -Xmx2000M -cp /home/juanmhl/miniconda3/envs/uma-ontology/lib/python3.12/site-packages/owlready2/pellet/jcl-over-slf4j-1.6.4.jar:/home/juanmhl/miniconda3/envs/uma-ontology/lib/python3.12/site-packages/owlready2/pellet/httpcore-4.2.2.jar:/home/juanmhl/miniconda3/envs/uma-ontology/lib/python3.12/site-packages/owlready2/pellet/jena-iri-0.9.5.jar:/home/juanmhl/miniconda3/envs/uma-ontology/lib/python3.12/site-packages/owlready2/pellet/owlapi-distribution-3.4.3-bin.jar:/home/juanmhl/miniconda3/envs/uma-ontology/lib/python3.12/site-packages/owlready2/pellet/slf4j-api-1.6.4.jar:/home/juanmhl/miniconda3/envs/uma-ontology/lib/python3.12/site-packages/owlready2/pellet/xercesImpl-2.10.0.jar:/home/juanmhl/miniconda3/envs/uma-ontology/lib/python3.12/site-packages/owlready2/pellet/slf4j-log4j12-1.6.4.jar:/home/juanmhl/miniconda3/envs/uma-ontology/lib/python3.12/site-packages/owlready2/pellet/jena-tdb-0.10.0.jar:/home/juanmhl/miniconda3/envs/uma-ontology/lib/python3.12/site-packages/owlready2/pellet/jena-arq-2.10.0.jar:/home/juanmhl/miniconda3/envs/uma-ontology/lib/python3.12/site-packages/owlready2/pellet/log4j-core-2.19.0.jar:/home/juanmhl/miniconda3/envs/uma-ontology/lib/python3.12/site-packages/owlready2/pellet/log4j-api-2.19.0.jar:/home/juanmhl/miniconda3/envs/uma-ontology/lib/python3.12/site-packages/owlready2/pellet/jena-core-2.10.0.jar:/home/juanmhl/miniconda3/envs/uma-ontology/lib/python3.12/site-packages/owlready2/pellet/xml-apis-1.4.01.jar:/home/juanmhl/miniconda3/envs/uma-ontology/lib/python3.12/site-packages/owlready2/pellet/httpclient-4.2.3.jar:/home/juanmhl/miniconda3/envs/uma-ontology/lib/python3.12/site-packages/owlready2/pellet/pellet-2.3.1.jar:/home/juanmhl/miniconda3/envs/uma-ontology/lib/python3.12/site-packages/owlready2/pellet/antlr-3.2.jar:/home/juanmhl/miniconda3/envs/uma-ontology/lib/python3.12/site-packages/owlready2/pellet/antlr-runtime-3.2.jar:/home/juanmhl/miniconda3/envs/uma-ontology/lib/python3.12/site-packages/owlready2/pellet/jgrapht-jdk1.5.jar:/home/juanmhl/miniconda3/envs/uma-ontology/lib/python3.12/site-packages/owlready2/pellet/aterm-java-1.6.jar:/home/juanmhl/miniconda3/envs/uma-ontology/lib/python3.12/site-packages/owlready2/pellet/commons-codec-1.6.jar:/home/juanmhl/miniconda3/envs/uma-ontology/lib/python3.12/site-packages/owlready2/pellet/log4j-1.2-api-2.19.0.jar pellet.Pellet realize --loader Jena --input-format N-Triples --infer-prop-values --infer-data-prop-values --ignore-imports /tmp/tmp6r2w9x0i\n"
     ]
    },
    {
     "name": "stdout",
     "output_type": "stream",
     "text": [
      "* Owlready * Adding relation ontology.fase6 faseSiguiente true\n",
      "* Owlready * Adding relation ontology.fase5 faseActual true\n"
     ]
    },
    {
     "name": "stderr",
     "output_type": "stream",
     "text": [
      "* Owlready2 * Pellet took 0.6185085773468018 seconds\n",
      "* Owlready * (NB: only changes on entities loaded in Python are shown, other changes are done but not listed)\n",
      "* Owlready2 * Running Pellet...\n",
      "    /usr/bin/java -Xmx2000M -cp /home/juanmhl/miniconda3/envs/uma-ontology/lib/python3.12/site-packages/owlready2/pellet/jcl-over-slf4j-1.6.4.jar:/home/juanmhl/miniconda3/envs/uma-ontology/lib/python3.12/site-packages/owlready2/pellet/httpcore-4.2.2.jar:/home/juanmhl/miniconda3/envs/uma-ontology/lib/python3.12/site-packages/owlready2/pellet/jena-iri-0.9.5.jar:/home/juanmhl/miniconda3/envs/uma-ontology/lib/python3.12/site-packages/owlready2/pellet/owlapi-distribution-3.4.3-bin.jar:/home/juanmhl/miniconda3/envs/uma-ontology/lib/python3.12/site-packages/owlready2/pellet/slf4j-api-1.6.4.jar:/home/juanmhl/miniconda3/envs/uma-ontology/lib/python3.12/site-packages/owlready2/pellet/xercesImpl-2.10.0.jar:/home/juanmhl/miniconda3/envs/uma-ontology/lib/python3.12/site-packages/owlready2/pellet/slf4j-log4j12-1.6.4.jar:/home/juanmhl/miniconda3/envs/uma-ontology/lib/python3.12/site-packages/owlready2/pellet/jena-tdb-0.10.0.jar:/home/juanmhl/miniconda3/envs/uma-ontology/lib/python3.12/site-packages/owlready2/pellet/jena-arq-2.10.0.jar:/home/juanmhl/miniconda3/envs/uma-ontology/lib/python3.12/site-packages/owlready2/pellet/log4j-core-2.19.0.jar:/home/juanmhl/miniconda3/envs/uma-ontology/lib/python3.12/site-packages/owlready2/pellet/log4j-api-2.19.0.jar:/home/juanmhl/miniconda3/envs/uma-ontology/lib/python3.12/site-packages/owlready2/pellet/jena-core-2.10.0.jar:/home/juanmhl/miniconda3/envs/uma-ontology/lib/python3.12/site-packages/owlready2/pellet/xml-apis-1.4.01.jar:/home/juanmhl/miniconda3/envs/uma-ontology/lib/python3.12/site-packages/owlready2/pellet/httpclient-4.2.3.jar:/home/juanmhl/miniconda3/envs/uma-ontology/lib/python3.12/site-packages/owlready2/pellet/pellet-2.3.1.jar:/home/juanmhl/miniconda3/envs/uma-ontology/lib/python3.12/site-packages/owlready2/pellet/antlr-3.2.jar:/home/juanmhl/miniconda3/envs/uma-ontology/lib/python3.12/site-packages/owlready2/pellet/antlr-runtime-3.2.jar:/home/juanmhl/miniconda3/envs/uma-ontology/lib/python3.12/site-packages/owlready2/pellet/jgrapht-jdk1.5.jar:/home/juanmhl/miniconda3/envs/uma-ontology/lib/python3.12/site-packages/owlready2/pellet/aterm-java-1.6.jar:/home/juanmhl/miniconda3/envs/uma-ontology/lib/python3.12/site-packages/owlready2/pellet/commons-codec-1.6.jar:/home/juanmhl/miniconda3/envs/uma-ontology/lib/python3.12/site-packages/owlready2/pellet/log4j-1.2-api-2.19.0.jar pellet.Pellet realize --loader Jena --input-format N-Triples --infer-prop-values --infer-data-prop-values --ignore-imports /tmp/tmpvct2licv\n"
     ]
    },
    {
     "name": "stdout",
     "output_type": "stream",
     "text": [
      "* Owlready * Adding relation ontology.fase6 faseActual true\n",
      "* Owlready * Adding relation ontology.fase7 faseSiguiente true\n"
     ]
    },
    {
     "name": "stderr",
     "output_type": "stream",
     "text": [
      "* Owlready2 * Pellet took 0.612581729888916 seconds\n",
      "* Owlready * (NB: only changes on entities loaded in Python are shown, other changes are done but not listed)\n",
      "* Owlready2 * Running Pellet...\n",
      "    /usr/bin/java -Xmx2000M -cp /home/juanmhl/miniconda3/envs/uma-ontology/lib/python3.12/site-packages/owlready2/pellet/jcl-over-slf4j-1.6.4.jar:/home/juanmhl/miniconda3/envs/uma-ontology/lib/python3.12/site-packages/owlready2/pellet/httpcore-4.2.2.jar:/home/juanmhl/miniconda3/envs/uma-ontology/lib/python3.12/site-packages/owlready2/pellet/jena-iri-0.9.5.jar:/home/juanmhl/miniconda3/envs/uma-ontology/lib/python3.12/site-packages/owlready2/pellet/owlapi-distribution-3.4.3-bin.jar:/home/juanmhl/miniconda3/envs/uma-ontology/lib/python3.12/site-packages/owlready2/pellet/slf4j-api-1.6.4.jar:/home/juanmhl/miniconda3/envs/uma-ontology/lib/python3.12/site-packages/owlready2/pellet/xercesImpl-2.10.0.jar:/home/juanmhl/miniconda3/envs/uma-ontology/lib/python3.12/site-packages/owlready2/pellet/slf4j-log4j12-1.6.4.jar:/home/juanmhl/miniconda3/envs/uma-ontology/lib/python3.12/site-packages/owlready2/pellet/jena-tdb-0.10.0.jar:/home/juanmhl/miniconda3/envs/uma-ontology/lib/python3.12/site-packages/owlready2/pellet/jena-arq-2.10.0.jar:/home/juanmhl/miniconda3/envs/uma-ontology/lib/python3.12/site-packages/owlready2/pellet/log4j-core-2.19.0.jar:/home/juanmhl/miniconda3/envs/uma-ontology/lib/python3.12/site-packages/owlready2/pellet/log4j-api-2.19.0.jar:/home/juanmhl/miniconda3/envs/uma-ontology/lib/python3.12/site-packages/owlready2/pellet/jena-core-2.10.0.jar:/home/juanmhl/miniconda3/envs/uma-ontology/lib/python3.12/site-packages/owlready2/pellet/xml-apis-1.4.01.jar:/home/juanmhl/miniconda3/envs/uma-ontology/lib/python3.12/site-packages/owlready2/pellet/httpclient-4.2.3.jar:/home/juanmhl/miniconda3/envs/uma-ontology/lib/python3.12/site-packages/owlready2/pellet/pellet-2.3.1.jar:/home/juanmhl/miniconda3/envs/uma-ontology/lib/python3.12/site-packages/owlready2/pellet/antlr-3.2.jar:/home/juanmhl/miniconda3/envs/uma-ontology/lib/python3.12/site-packages/owlready2/pellet/antlr-runtime-3.2.jar:/home/juanmhl/miniconda3/envs/uma-ontology/lib/python3.12/site-packages/owlready2/pellet/jgrapht-jdk1.5.jar:/home/juanmhl/miniconda3/envs/uma-ontology/lib/python3.12/site-packages/owlready2/pellet/aterm-java-1.6.jar:/home/juanmhl/miniconda3/envs/uma-ontology/lib/python3.12/site-packages/owlready2/pellet/commons-codec-1.6.jar:/home/juanmhl/miniconda3/envs/uma-ontology/lib/python3.12/site-packages/owlready2/pellet/log4j-1.2-api-2.19.0.jar pellet.Pellet realize --loader Jena --input-format N-Triples --infer-prop-values --infer-data-prop-values --ignore-imports /tmp/tmp9seljijo\n"
     ]
    },
    {
     "name": "stdout",
     "output_type": "stream",
     "text": [
      "* Owlready * Adding relation ontology.fase8 faseSiguiente true\n",
      "* Owlready * Adding relation ontology.fase7 faseActual true\n"
     ]
    },
    {
     "name": "stderr",
     "output_type": "stream",
     "text": [
      "* Owlready2 * Pellet took 0.610821008682251 seconds\n",
      "* Owlready * (NB: only changes on entities loaded in Python are shown, other changes are done but not listed)\n",
      "* Owlready2 * Running Pellet...\n",
      "    /usr/bin/java -Xmx2000M -cp /home/juanmhl/miniconda3/envs/uma-ontology/lib/python3.12/site-packages/owlready2/pellet/jcl-over-slf4j-1.6.4.jar:/home/juanmhl/miniconda3/envs/uma-ontology/lib/python3.12/site-packages/owlready2/pellet/httpcore-4.2.2.jar:/home/juanmhl/miniconda3/envs/uma-ontology/lib/python3.12/site-packages/owlready2/pellet/jena-iri-0.9.5.jar:/home/juanmhl/miniconda3/envs/uma-ontology/lib/python3.12/site-packages/owlready2/pellet/owlapi-distribution-3.4.3-bin.jar:/home/juanmhl/miniconda3/envs/uma-ontology/lib/python3.12/site-packages/owlready2/pellet/slf4j-api-1.6.4.jar:/home/juanmhl/miniconda3/envs/uma-ontology/lib/python3.12/site-packages/owlready2/pellet/xercesImpl-2.10.0.jar:/home/juanmhl/miniconda3/envs/uma-ontology/lib/python3.12/site-packages/owlready2/pellet/slf4j-log4j12-1.6.4.jar:/home/juanmhl/miniconda3/envs/uma-ontology/lib/python3.12/site-packages/owlready2/pellet/jena-tdb-0.10.0.jar:/home/juanmhl/miniconda3/envs/uma-ontology/lib/python3.12/site-packages/owlready2/pellet/jena-arq-2.10.0.jar:/home/juanmhl/miniconda3/envs/uma-ontology/lib/python3.12/site-packages/owlready2/pellet/log4j-core-2.19.0.jar:/home/juanmhl/miniconda3/envs/uma-ontology/lib/python3.12/site-packages/owlready2/pellet/log4j-api-2.19.0.jar:/home/juanmhl/miniconda3/envs/uma-ontology/lib/python3.12/site-packages/owlready2/pellet/jena-core-2.10.0.jar:/home/juanmhl/miniconda3/envs/uma-ontology/lib/python3.12/site-packages/owlready2/pellet/xml-apis-1.4.01.jar:/home/juanmhl/miniconda3/envs/uma-ontology/lib/python3.12/site-packages/owlready2/pellet/httpclient-4.2.3.jar:/home/juanmhl/miniconda3/envs/uma-ontology/lib/python3.12/site-packages/owlready2/pellet/pellet-2.3.1.jar:/home/juanmhl/miniconda3/envs/uma-ontology/lib/python3.12/site-packages/owlready2/pellet/antlr-3.2.jar:/home/juanmhl/miniconda3/envs/uma-ontology/lib/python3.12/site-packages/owlready2/pellet/antlr-runtime-3.2.jar:/home/juanmhl/miniconda3/envs/uma-ontology/lib/python3.12/site-packages/owlready2/pellet/jgrapht-jdk1.5.jar:/home/juanmhl/miniconda3/envs/uma-ontology/lib/python3.12/site-packages/owlready2/pellet/aterm-java-1.6.jar:/home/juanmhl/miniconda3/envs/uma-ontology/lib/python3.12/site-packages/owlready2/pellet/commons-codec-1.6.jar:/home/juanmhl/miniconda3/envs/uma-ontology/lib/python3.12/site-packages/owlready2/pellet/log4j-1.2-api-2.19.0.jar pellet.Pellet realize --loader Jena --input-format N-Triples --infer-prop-values --infer-data-prop-values --ignore-imports /tmp/tmpriv5frjm\n"
     ]
    },
    {
     "name": "stdout",
     "output_type": "stream",
     "text": [
      "* Owlready * Adding relation ontology.fase9 faseSiguiente true\n",
      "* Owlready * Adding relation ontology.fase8 faseActual true\n"
     ]
    },
    {
     "name": "stderr",
     "output_type": "stream",
     "text": [
      "* Owlready2 * Pellet took 0.6113829612731934 seconds\n",
      "* Owlready * (NB: only changes on entities loaded in Python are shown, other changes are done but not listed)\n",
      "* Owlready2 * Running Pellet...\n",
      "    /usr/bin/java -Xmx2000M -cp /home/juanmhl/miniconda3/envs/uma-ontology/lib/python3.12/site-packages/owlready2/pellet/jcl-over-slf4j-1.6.4.jar:/home/juanmhl/miniconda3/envs/uma-ontology/lib/python3.12/site-packages/owlready2/pellet/httpcore-4.2.2.jar:/home/juanmhl/miniconda3/envs/uma-ontology/lib/python3.12/site-packages/owlready2/pellet/jena-iri-0.9.5.jar:/home/juanmhl/miniconda3/envs/uma-ontology/lib/python3.12/site-packages/owlready2/pellet/owlapi-distribution-3.4.3-bin.jar:/home/juanmhl/miniconda3/envs/uma-ontology/lib/python3.12/site-packages/owlready2/pellet/slf4j-api-1.6.4.jar:/home/juanmhl/miniconda3/envs/uma-ontology/lib/python3.12/site-packages/owlready2/pellet/xercesImpl-2.10.0.jar:/home/juanmhl/miniconda3/envs/uma-ontology/lib/python3.12/site-packages/owlready2/pellet/slf4j-log4j12-1.6.4.jar:/home/juanmhl/miniconda3/envs/uma-ontology/lib/python3.12/site-packages/owlready2/pellet/jena-tdb-0.10.0.jar:/home/juanmhl/miniconda3/envs/uma-ontology/lib/python3.12/site-packages/owlready2/pellet/jena-arq-2.10.0.jar:/home/juanmhl/miniconda3/envs/uma-ontology/lib/python3.12/site-packages/owlready2/pellet/log4j-core-2.19.0.jar:/home/juanmhl/miniconda3/envs/uma-ontology/lib/python3.12/site-packages/owlready2/pellet/log4j-api-2.19.0.jar:/home/juanmhl/miniconda3/envs/uma-ontology/lib/python3.12/site-packages/owlready2/pellet/jena-core-2.10.0.jar:/home/juanmhl/miniconda3/envs/uma-ontology/lib/python3.12/site-packages/owlready2/pellet/xml-apis-1.4.01.jar:/home/juanmhl/miniconda3/envs/uma-ontology/lib/python3.12/site-packages/owlready2/pellet/httpclient-4.2.3.jar:/home/juanmhl/miniconda3/envs/uma-ontology/lib/python3.12/site-packages/owlready2/pellet/pellet-2.3.1.jar:/home/juanmhl/miniconda3/envs/uma-ontology/lib/python3.12/site-packages/owlready2/pellet/antlr-3.2.jar:/home/juanmhl/miniconda3/envs/uma-ontology/lib/python3.12/site-packages/owlready2/pellet/antlr-runtime-3.2.jar:/home/juanmhl/miniconda3/envs/uma-ontology/lib/python3.12/site-packages/owlready2/pellet/jgrapht-jdk1.5.jar:/home/juanmhl/miniconda3/envs/uma-ontology/lib/python3.12/site-packages/owlready2/pellet/aterm-java-1.6.jar:/home/juanmhl/miniconda3/envs/uma-ontology/lib/python3.12/site-packages/owlready2/pellet/commons-codec-1.6.jar:/home/juanmhl/miniconda3/envs/uma-ontology/lib/python3.12/site-packages/owlready2/pellet/log4j-1.2-api-2.19.0.jar pellet.Pellet realize --loader Jena --input-format N-Triples --infer-prop-values --infer-data-prop-values --ignore-imports /tmp/tmpgcqjcs64\n"
     ]
    },
    {
     "name": "stdout",
     "output_type": "stream",
     "text": [
      "* Owlready * Adding relation ontology.desplazamiento_suturaD accionEjecutable ontology.ps3\n",
      "* Owlready * Adding relation ontology.fase9 faseActual true\n",
      "* Owlready * Adding relation ontology.fase2 faseSiguiente true\n",
      "* Owlready * Adding relation ontology.cierreI accionEjecutable ontology.ps2\n",
      "* Owlready * Adding relation ontology.cierreI accionEjecutable ontology.ps3\n",
      "* Owlready * Adding relation ontology.puncion accionEjecutable ontology.ps2\n",
      "* Owlready * Adding relation ontology.puncion accionEjecutable ontology.ps3\n",
      "* Owlready * Adding relation ontology.desplazamiento_suturaI accionEjecutable ontology.ps2\n",
      "* Owlready * Adding relation ontology.desplazamiento_suturaI accionEjecutable ontology.ps3\n",
      "* Owlready * Adding relation ontology.fase2 faseActual true\n",
      "* Owlready * Adding relation ontology.ps2 puntoSuturaActual true\n",
      "* Owlready * Adding relation ontology.fase3 faseSiguiente true\n",
      "* Owlready * Adding relation ontology.fase3 faseActual true\n",
      "* Owlready * Adding relation ontology.fase4 faseSiguiente true\n",
      "Phase: 1, Action: -DESPLAZAMIENTO_SUTURA_D-, Suture Point: 1, Near: NONE\n",
      "Phase: 2, Action: -DESPLAZAMIENTO_SUTURA_I--PUNCION-, Suture Point: 1, Near: NONE\n",
      "Phase: 3, Action: -CIERRE_I-, Suture Point: 1, Near: NONE\n",
      "Phase: 4, Action: -APERTURA_D-, Suture Point: 3, Near: NONE\n",
      "Phase: 5, Action: -DESPLAZAMIENTO_CAMBIO_I-, Suture Point: 3, Near: NONE\n",
      "Phase: 6, Action: -DESPLAZAMIENTO_CAMBIO_D-, Suture Point: 3, Near: NONE\n",
      "Phase: 7, Action: -CIERRE_D-, Suture Point: 3, Near: NONE\n",
      "Phase: 8, Action: -APERTURA_I-, Suture Point: 3, Near: NONE\n",
      "Phase: 9, Action: -DESPLAZAMIENTO_SUTURA_D-, Suture Point: 3, Near: NONE\n",
      "Phase: 3, Action: -CIERRE_I-, Suture Point: 3, Near: NONE\n"
     ]
    },
    {
     "name": "stderr",
     "output_type": "stream",
     "text": [
      "* Owlready2 * Pellet took 0.6158833503723145 seconds\n",
      "* Owlready * (NB: only changes on entities loaded in Python are shown, other changes are done but not listed)\n"
     ]
    }
   ],
   "source": [
    "from inferenceengine import *\n",
    "\n",
    "repo_implementation = CommandRepositoryOntology\n",
    "service = InferenceMotorService(repo_implementation)\n",
    "service.initialize(n_points=3, ontology_path='/home/juanmhl/ontology.owl')\n",
    "\n",
    "vp1 = [True, False, False, False, False, False, True,       [False, False, False]]\n",
    "vp2 = [True, False, False, False, True, False, True,        [False, False, False]]\n",
    "vp3 = [True, False, False, False, True, True, False,        [False, False, False]]\n",
    "vp4 = [True, True, False, False, True, True, False,         [False, True, False]]\n",
    "vp5 = [False, True, False, False, True, True, False,        [False, False, False]]\n",
    "vp6 = [False, True, False, True, True, False, False,        [False, False, False]]\n",
    "vp7 = [False, True, True, True, False, False, False,        [False, False, False]]\n",
    "vp8 = [True, True, True, True, False, False, False,         [False, False, False]]\n",
    "vp9 = [True, False, True, True, False, False, False,        [False, False, False]]\n",
    "vpt = [True, True, True, True, True, True, True,            [False, False, False]]\n",
    "vpf = [False, False, False, False, False, False, False,     [False, False, False]]\n",
    "\n",
    "predicates_vectors = [vp1, vp2, vp3, vp4, vp5, vp6, vp7, vp8, vp9,\n",
    "                      [True, False, False, False, True, False, True, [True, False, False]]\n",
    "                      ]\n",
    "\n",
    "comandos = []\n",
    "\n",
    "for vp in predicates_vectors:\n",
    "    comandos.append(service.step(vp))\n",
    "\n",
    "\n",
    "for comando in comandos:\n",
    "    print(comando)"
   ]
  },
  {
   "cell_type": "code",
   "execution_count": 1,
   "metadata": {},
   "outputs": [
    {
     "name": "stdout",
     "output_type": "stream",
     "text": [
      "Ontology loaded. \n"
     ]
    },
    {
     "name": "stderr",
     "output_type": "stream",
     "text": [
      "* Owlready2 * Running Pellet...\n",
      "    /usr/bin/java -Xmx2000M -cp /home/juanmhl/miniconda3/envs/uma-race/lib/python3.11/site-packages/owlready2/pellet/jcl-over-slf4j-1.6.4.jar:/home/juanmhl/miniconda3/envs/uma-race/lib/python3.11/site-packages/owlready2/pellet/httpcore-4.2.2.jar:/home/juanmhl/miniconda3/envs/uma-race/lib/python3.11/site-packages/owlready2/pellet/jena-iri-0.9.5.jar:/home/juanmhl/miniconda3/envs/uma-race/lib/python3.11/site-packages/owlready2/pellet/owlapi-distribution-3.4.3-bin.jar:/home/juanmhl/miniconda3/envs/uma-race/lib/python3.11/site-packages/owlready2/pellet/slf4j-api-1.6.4.jar:/home/juanmhl/miniconda3/envs/uma-race/lib/python3.11/site-packages/owlready2/pellet/xercesImpl-2.10.0.jar:/home/juanmhl/miniconda3/envs/uma-race/lib/python3.11/site-packages/owlready2/pellet/slf4j-log4j12-1.6.4.jar:/home/juanmhl/miniconda3/envs/uma-race/lib/python3.11/site-packages/owlready2/pellet/jena-tdb-0.10.0.jar:/home/juanmhl/miniconda3/envs/uma-race/lib/python3.11/site-packages/owlready2/pellet/jena-arq-2.10.0.jar:/home/juanmhl/miniconda3/envs/uma-race/lib/python3.11/site-packages/owlready2/pellet/log4j-core-2.19.0.jar:/home/juanmhl/miniconda3/envs/uma-race/lib/python3.11/site-packages/owlready2/pellet/log4j-api-2.19.0.jar:/home/juanmhl/miniconda3/envs/uma-race/lib/python3.11/site-packages/owlready2/pellet/jena-core-2.10.0.jar:/home/juanmhl/miniconda3/envs/uma-race/lib/python3.11/site-packages/owlready2/pellet/xml-apis-1.4.01.jar:/home/juanmhl/miniconda3/envs/uma-race/lib/python3.11/site-packages/owlready2/pellet/httpclient-4.2.3.jar:/home/juanmhl/miniconda3/envs/uma-race/lib/python3.11/site-packages/owlready2/pellet/pellet-2.3.1.jar:/home/juanmhl/miniconda3/envs/uma-race/lib/python3.11/site-packages/owlready2/pellet/antlr-3.2.jar:/home/juanmhl/miniconda3/envs/uma-race/lib/python3.11/site-packages/owlready2/pellet/antlr-runtime-3.2.jar:/home/juanmhl/miniconda3/envs/uma-race/lib/python3.11/site-packages/owlready2/pellet/jgrapht-jdk1.5.jar:/home/juanmhl/miniconda3/envs/uma-race/lib/python3.11/site-packages/owlready2/pellet/aterm-java-1.6.jar:/home/juanmhl/miniconda3/envs/uma-race/lib/python3.11/site-packages/owlready2/pellet/commons-codec-1.6.jar:/home/juanmhl/miniconda3/envs/uma-race/lib/python3.11/site-packages/owlready2/pellet/log4j-1.2-api-2.19.0.jar pellet.Pellet realize --loader Jena --input-format N-Triples --infer-prop-values --infer-data-prop-values --ignore-imports /tmp/tmpl4tfbp72\n",
      "* Owlready2 * Pellet took 0.5748226642608643 seconds\n",
      "* Owlready * (NB: only changes on entities loaded in Python are shown, other changes are done but not listed)\n",
      "* Owlready2 * Running Pellet...\n",
      "    /usr/bin/java -Xmx2000M -cp /home/juanmhl/miniconda3/envs/uma-race/lib/python3.11/site-packages/owlready2/pellet/jcl-over-slf4j-1.6.4.jar:/home/juanmhl/miniconda3/envs/uma-race/lib/python3.11/site-packages/owlready2/pellet/httpcore-4.2.2.jar:/home/juanmhl/miniconda3/envs/uma-race/lib/python3.11/site-packages/owlready2/pellet/jena-iri-0.9.5.jar:/home/juanmhl/miniconda3/envs/uma-race/lib/python3.11/site-packages/owlready2/pellet/owlapi-distribution-3.4.3-bin.jar:/home/juanmhl/miniconda3/envs/uma-race/lib/python3.11/site-packages/owlready2/pellet/slf4j-api-1.6.4.jar:/home/juanmhl/miniconda3/envs/uma-race/lib/python3.11/site-packages/owlready2/pellet/xercesImpl-2.10.0.jar:/home/juanmhl/miniconda3/envs/uma-race/lib/python3.11/site-packages/owlready2/pellet/slf4j-log4j12-1.6.4.jar:/home/juanmhl/miniconda3/envs/uma-race/lib/python3.11/site-packages/owlready2/pellet/jena-tdb-0.10.0.jar:/home/juanmhl/miniconda3/envs/uma-race/lib/python3.11/site-packages/owlready2/pellet/jena-arq-2.10.0.jar:/home/juanmhl/miniconda3/envs/uma-race/lib/python3.11/site-packages/owlready2/pellet/log4j-core-2.19.0.jar:/home/juanmhl/miniconda3/envs/uma-race/lib/python3.11/site-packages/owlready2/pellet/log4j-api-2.19.0.jar:/home/juanmhl/miniconda3/envs/uma-race/lib/python3.11/site-packages/owlready2/pellet/jena-core-2.10.0.jar:/home/juanmhl/miniconda3/envs/uma-race/lib/python3.11/site-packages/owlready2/pellet/xml-apis-1.4.01.jar:/home/juanmhl/miniconda3/envs/uma-race/lib/python3.11/site-packages/owlready2/pellet/httpclient-4.2.3.jar:/home/juanmhl/miniconda3/envs/uma-race/lib/python3.11/site-packages/owlready2/pellet/pellet-2.3.1.jar:/home/juanmhl/miniconda3/envs/uma-race/lib/python3.11/site-packages/owlready2/pellet/antlr-3.2.jar:/home/juanmhl/miniconda3/envs/uma-race/lib/python3.11/site-packages/owlready2/pellet/antlr-runtime-3.2.jar:/home/juanmhl/miniconda3/envs/uma-race/lib/python3.11/site-packages/owlready2/pellet/jgrapht-jdk1.5.jar:/home/juanmhl/miniconda3/envs/uma-race/lib/python3.11/site-packages/owlready2/pellet/aterm-java-1.6.jar:/home/juanmhl/miniconda3/envs/uma-race/lib/python3.11/site-packages/owlready2/pellet/commons-codec-1.6.jar:/home/juanmhl/miniconda3/envs/uma-race/lib/python3.11/site-packages/owlready2/pellet/log4j-1.2-api-2.19.0.jar pellet.Pellet realize --loader Jena --input-format N-Triples --infer-prop-values --infer-data-prop-values --ignore-imports /tmp/tmp2j1vxnky\n",
      "* Owlready2 * Pellet took 0.5962619781494141 seconds\n",
      "* Owlready * (NB: only changes on entities loaded in Python are shown, other changes are done but not listed)\n",
      "* Owlready2 * Running Pellet...\n",
      "    /usr/bin/java -Xmx2000M -cp /home/juanmhl/miniconda3/envs/uma-race/lib/python3.11/site-packages/owlready2/pellet/jcl-over-slf4j-1.6.4.jar:/home/juanmhl/miniconda3/envs/uma-race/lib/python3.11/site-packages/owlready2/pellet/httpcore-4.2.2.jar:/home/juanmhl/miniconda3/envs/uma-race/lib/python3.11/site-packages/owlready2/pellet/jena-iri-0.9.5.jar:/home/juanmhl/miniconda3/envs/uma-race/lib/python3.11/site-packages/owlready2/pellet/owlapi-distribution-3.4.3-bin.jar:/home/juanmhl/miniconda3/envs/uma-race/lib/python3.11/site-packages/owlready2/pellet/slf4j-api-1.6.4.jar:/home/juanmhl/miniconda3/envs/uma-race/lib/python3.11/site-packages/owlready2/pellet/xercesImpl-2.10.0.jar:/home/juanmhl/miniconda3/envs/uma-race/lib/python3.11/site-packages/owlready2/pellet/slf4j-log4j12-1.6.4.jar:/home/juanmhl/miniconda3/envs/uma-race/lib/python3.11/site-packages/owlready2/pellet/jena-tdb-0.10.0.jar:/home/juanmhl/miniconda3/envs/uma-race/lib/python3.11/site-packages/owlready2/pellet/jena-arq-2.10.0.jar:/home/juanmhl/miniconda3/envs/uma-race/lib/python3.11/site-packages/owlready2/pellet/log4j-core-2.19.0.jar:/home/juanmhl/miniconda3/envs/uma-race/lib/python3.11/site-packages/owlready2/pellet/log4j-api-2.19.0.jar:/home/juanmhl/miniconda3/envs/uma-race/lib/python3.11/site-packages/owlready2/pellet/jena-core-2.10.0.jar:/home/juanmhl/miniconda3/envs/uma-race/lib/python3.11/site-packages/owlready2/pellet/xml-apis-1.4.01.jar:/home/juanmhl/miniconda3/envs/uma-race/lib/python3.11/site-packages/owlready2/pellet/httpclient-4.2.3.jar:/home/juanmhl/miniconda3/envs/uma-race/lib/python3.11/site-packages/owlready2/pellet/pellet-2.3.1.jar:/home/juanmhl/miniconda3/envs/uma-race/lib/python3.11/site-packages/owlready2/pellet/antlr-3.2.jar:/home/juanmhl/miniconda3/envs/uma-race/lib/python3.11/site-packages/owlready2/pellet/antlr-runtime-3.2.jar:/home/juanmhl/miniconda3/envs/uma-race/lib/python3.11/site-packages/owlready2/pellet/jgrapht-jdk1.5.jar:/home/juanmhl/miniconda3/envs/uma-race/lib/python3.11/site-packages/owlready2/pellet/aterm-java-1.6.jar:/home/juanmhl/miniconda3/envs/uma-race/lib/python3.11/site-packages/owlready2/pellet/commons-codec-1.6.jar:/home/juanmhl/miniconda3/envs/uma-race/lib/python3.11/site-packages/owlready2/pellet/log4j-1.2-api-2.19.0.jar pellet.Pellet realize --loader Jena --input-format N-Triples --infer-prop-values --infer-data-prop-values --ignore-imports /tmp/tmpoz8_xzmt\n",
      "* Owlready2 * Pellet took 0.6088519096374512 seconds\n",
      "* Owlready * (NB: only changes on entities loaded in Python are shown, other changes are done but not listed)\n",
      "* Owlready2 * Running Pellet...\n",
      "    /usr/bin/java -Xmx2000M -cp /home/juanmhl/miniconda3/envs/uma-race/lib/python3.11/site-packages/owlready2/pellet/jcl-over-slf4j-1.6.4.jar:/home/juanmhl/miniconda3/envs/uma-race/lib/python3.11/site-packages/owlready2/pellet/httpcore-4.2.2.jar:/home/juanmhl/miniconda3/envs/uma-race/lib/python3.11/site-packages/owlready2/pellet/jena-iri-0.9.5.jar:/home/juanmhl/miniconda3/envs/uma-race/lib/python3.11/site-packages/owlready2/pellet/owlapi-distribution-3.4.3-bin.jar:/home/juanmhl/miniconda3/envs/uma-race/lib/python3.11/site-packages/owlready2/pellet/slf4j-api-1.6.4.jar:/home/juanmhl/miniconda3/envs/uma-race/lib/python3.11/site-packages/owlready2/pellet/xercesImpl-2.10.0.jar:/home/juanmhl/miniconda3/envs/uma-race/lib/python3.11/site-packages/owlready2/pellet/slf4j-log4j12-1.6.4.jar:/home/juanmhl/miniconda3/envs/uma-race/lib/python3.11/site-packages/owlready2/pellet/jena-tdb-0.10.0.jar:/home/juanmhl/miniconda3/envs/uma-race/lib/python3.11/site-packages/owlready2/pellet/jena-arq-2.10.0.jar:/home/juanmhl/miniconda3/envs/uma-race/lib/python3.11/site-packages/owlready2/pellet/log4j-core-2.19.0.jar:/home/juanmhl/miniconda3/envs/uma-race/lib/python3.11/site-packages/owlready2/pellet/log4j-api-2.19.0.jar:/home/juanmhl/miniconda3/envs/uma-race/lib/python3.11/site-packages/owlready2/pellet/jena-core-2.10.0.jar:/home/juanmhl/miniconda3/envs/uma-race/lib/python3.11/site-packages/owlready2/pellet/xml-apis-1.4.01.jar:/home/juanmhl/miniconda3/envs/uma-race/lib/python3.11/site-packages/owlready2/pellet/httpclient-4.2.3.jar:/home/juanmhl/miniconda3/envs/uma-race/lib/python3.11/site-packages/owlready2/pellet/pellet-2.3.1.jar:/home/juanmhl/miniconda3/envs/uma-race/lib/python3.11/site-packages/owlready2/pellet/antlr-3.2.jar:/home/juanmhl/miniconda3/envs/uma-race/lib/python3.11/site-packages/owlready2/pellet/antlr-runtime-3.2.jar:/home/juanmhl/miniconda3/envs/uma-race/lib/python3.11/site-packages/owlready2/pellet/jgrapht-jdk1.5.jar:/home/juanmhl/miniconda3/envs/uma-race/lib/python3.11/site-packages/owlready2/pellet/aterm-java-1.6.jar:/home/juanmhl/miniconda3/envs/uma-race/lib/python3.11/site-packages/owlready2/pellet/commons-codec-1.6.jar:/home/juanmhl/miniconda3/envs/uma-race/lib/python3.11/site-packages/owlready2/pellet/log4j-1.2-api-2.19.0.jar pellet.Pellet realize --loader Jena --input-format N-Triples --infer-prop-values --infer-data-prop-values --ignore-imports /tmp/tmpul__r68u\n"
     ]
    },
    {
     "name": "stdout",
     "output_type": "stream",
     "text": [
      "* Owlready * Adding relation ontology.fase2 faseActual true\n",
      "* Owlready * Adding relation ontology.fase3 faseSiguiente true\n"
     ]
    },
    {
     "name": "stderr",
     "output_type": "stream",
     "text": [
      "* Owlready2 * Pellet took 0.5943503379821777 seconds\n",
      "* Owlready * (NB: only changes on entities loaded in Python are shown, other changes are done but not listed)\n",
      "* Owlready2 * Running Pellet...\n",
      "    /usr/bin/java -Xmx2000M -cp /home/juanmhl/miniconda3/envs/uma-race/lib/python3.11/site-packages/owlready2/pellet/jcl-over-slf4j-1.6.4.jar:/home/juanmhl/miniconda3/envs/uma-race/lib/python3.11/site-packages/owlready2/pellet/httpcore-4.2.2.jar:/home/juanmhl/miniconda3/envs/uma-race/lib/python3.11/site-packages/owlready2/pellet/jena-iri-0.9.5.jar:/home/juanmhl/miniconda3/envs/uma-race/lib/python3.11/site-packages/owlready2/pellet/owlapi-distribution-3.4.3-bin.jar:/home/juanmhl/miniconda3/envs/uma-race/lib/python3.11/site-packages/owlready2/pellet/slf4j-api-1.6.4.jar:/home/juanmhl/miniconda3/envs/uma-race/lib/python3.11/site-packages/owlready2/pellet/xercesImpl-2.10.0.jar:/home/juanmhl/miniconda3/envs/uma-race/lib/python3.11/site-packages/owlready2/pellet/slf4j-log4j12-1.6.4.jar:/home/juanmhl/miniconda3/envs/uma-race/lib/python3.11/site-packages/owlready2/pellet/jena-tdb-0.10.0.jar:/home/juanmhl/miniconda3/envs/uma-race/lib/python3.11/site-packages/owlready2/pellet/jena-arq-2.10.0.jar:/home/juanmhl/miniconda3/envs/uma-race/lib/python3.11/site-packages/owlready2/pellet/log4j-core-2.19.0.jar:/home/juanmhl/miniconda3/envs/uma-race/lib/python3.11/site-packages/owlready2/pellet/log4j-api-2.19.0.jar:/home/juanmhl/miniconda3/envs/uma-race/lib/python3.11/site-packages/owlready2/pellet/jena-core-2.10.0.jar:/home/juanmhl/miniconda3/envs/uma-race/lib/python3.11/site-packages/owlready2/pellet/xml-apis-1.4.01.jar:/home/juanmhl/miniconda3/envs/uma-race/lib/python3.11/site-packages/owlready2/pellet/httpclient-4.2.3.jar:/home/juanmhl/miniconda3/envs/uma-race/lib/python3.11/site-packages/owlready2/pellet/pellet-2.3.1.jar:/home/juanmhl/miniconda3/envs/uma-race/lib/python3.11/site-packages/owlready2/pellet/antlr-3.2.jar:/home/juanmhl/miniconda3/envs/uma-race/lib/python3.11/site-packages/owlready2/pellet/antlr-runtime-3.2.jar:/home/juanmhl/miniconda3/envs/uma-race/lib/python3.11/site-packages/owlready2/pellet/jgrapht-jdk1.5.jar:/home/juanmhl/miniconda3/envs/uma-race/lib/python3.11/site-packages/owlready2/pellet/aterm-java-1.6.jar:/home/juanmhl/miniconda3/envs/uma-race/lib/python3.11/site-packages/owlready2/pellet/commons-codec-1.6.jar:/home/juanmhl/miniconda3/envs/uma-race/lib/python3.11/site-packages/owlready2/pellet/log4j-1.2-api-2.19.0.jar pellet.Pellet realize --loader Jena --input-format N-Triples --infer-prop-values --infer-data-prop-values --ignore-imports /tmp/tmpl1hhg6pn\n"
     ]
    },
    {
     "name": "stdout",
     "output_type": "stream",
     "text": [
      "* Owlready * Adding relation ontology.fase3 faseActual true\n",
      "* Owlready * Adding relation ontology.fase4 faseSiguiente true\n"
     ]
    },
    {
     "name": "stderr",
     "output_type": "stream",
     "text": [
      "* Owlready2 * Pellet took 0.6237635612487793 seconds\n",
      "* Owlready * (NB: only changes on entities loaded in Python are shown, other changes are done but not listed)\n",
      "* Owlready2 * Running Pellet...\n",
      "    /usr/bin/java -Xmx2000M -cp /home/juanmhl/miniconda3/envs/uma-race/lib/python3.11/site-packages/owlready2/pellet/jcl-over-slf4j-1.6.4.jar:/home/juanmhl/miniconda3/envs/uma-race/lib/python3.11/site-packages/owlready2/pellet/httpcore-4.2.2.jar:/home/juanmhl/miniconda3/envs/uma-race/lib/python3.11/site-packages/owlready2/pellet/jena-iri-0.9.5.jar:/home/juanmhl/miniconda3/envs/uma-race/lib/python3.11/site-packages/owlready2/pellet/owlapi-distribution-3.4.3-bin.jar:/home/juanmhl/miniconda3/envs/uma-race/lib/python3.11/site-packages/owlready2/pellet/slf4j-api-1.6.4.jar:/home/juanmhl/miniconda3/envs/uma-race/lib/python3.11/site-packages/owlready2/pellet/xercesImpl-2.10.0.jar:/home/juanmhl/miniconda3/envs/uma-race/lib/python3.11/site-packages/owlready2/pellet/slf4j-log4j12-1.6.4.jar:/home/juanmhl/miniconda3/envs/uma-race/lib/python3.11/site-packages/owlready2/pellet/jena-tdb-0.10.0.jar:/home/juanmhl/miniconda3/envs/uma-race/lib/python3.11/site-packages/owlready2/pellet/jena-arq-2.10.0.jar:/home/juanmhl/miniconda3/envs/uma-race/lib/python3.11/site-packages/owlready2/pellet/log4j-core-2.19.0.jar:/home/juanmhl/miniconda3/envs/uma-race/lib/python3.11/site-packages/owlready2/pellet/log4j-api-2.19.0.jar:/home/juanmhl/miniconda3/envs/uma-race/lib/python3.11/site-packages/owlready2/pellet/jena-core-2.10.0.jar:/home/juanmhl/miniconda3/envs/uma-race/lib/python3.11/site-packages/owlready2/pellet/xml-apis-1.4.01.jar:/home/juanmhl/miniconda3/envs/uma-race/lib/python3.11/site-packages/owlready2/pellet/httpclient-4.2.3.jar:/home/juanmhl/miniconda3/envs/uma-race/lib/python3.11/site-packages/owlready2/pellet/pellet-2.3.1.jar:/home/juanmhl/miniconda3/envs/uma-race/lib/python3.11/site-packages/owlready2/pellet/antlr-3.2.jar:/home/juanmhl/miniconda3/envs/uma-race/lib/python3.11/site-packages/owlready2/pellet/antlr-runtime-3.2.jar:/home/juanmhl/miniconda3/envs/uma-race/lib/python3.11/site-packages/owlready2/pellet/jgrapht-jdk1.5.jar:/home/juanmhl/miniconda3/envs/uma-race/lib/python3.11/site-packages/owlready2/pellet/aterm-java-1.6.jar:/home/juanmhl/miniconda3/envs/uma-race/lib/python3.11/site-packages/owlready2/pellet/commons-codec-1.6.jar:/home/juanmhl/miniconda3/envs/uma-race/lib/python3.11/site-packages/owlready2/pellet/log4j-1.2-api-2.19.0.jar pellet.Pellet realize --loader Jena --input-format N-Triples --infer-prop-values --infer-data-prop-values --ignore-imports /tmp/tmphimqylp4\n"
     ]
    },
    {
     "name": "stdout",
     "output_type": "stream",
     "text": [
      "* Owlready * Adding relation ontology.fase5 faseSiguiente true\n",
      "* Owlready * Adding relation ontology.fase4 faseActual true\n"
     ]
    },
    {
     "name": "stderr",
     "output_type": "stream",
     "text": [
      "* Owlready2 * Pellet took 0.6223900318145752 seconds\n",
      "* Owlready * (NB: only changes on entities loaded in Python are shown, other changes are done but not listed)\n",
      "* Owlready2 * Running Pellet...\n",
      "    /usr/bin/java -Xmx2000M -cp /home/juanmhl/miniconda3/envs/uma-race/lib/python3.11/site-packages/owlready2/pellet/jcl-over-slf4j-1.6.4.jar:/home/juanmhl/miniconda3/envs/uma-race/lib/python3.11/site-packages/owlready2/pellet/httpcore-4.2.2.jar:/home/juanmhl/miniconda3/envs/uma-race/lib/python3.11/site-packages/owlready2/pellet/jena-iri-0.9.5.jar:/home/juanmhl/miniconda3/envs/uma-race/lib/python3.11/site-packages/owlready2/pellet/owlapi-distribution-3.4.3-bin.jar:/home/juanmhl/miniconda3/envs/uma-race/lib/python3.11/site-packages/owlready2/pellet/slf4j-api-1.6.4.jar:/home/juanmhl/miniconda3/envs/uma-race/lib/python3.11/site-packages/owlready2/pellet/xercesImpl-2.10.0.jar:/home/juanmhl/miniconda3/envs/uma-race/lib/python3.11/site-packages/owlready2/pellet/slf4j-log4j12-1.6.4.jar:/home/juanmhl/miniconda3/envs/uma-race/lib/python3.11/site-packages/owlready2/pellet/jena-tdb-0.10.0.jar:/home/juanmhl/miniconda3/envs/uma-race/lib/python3.11/site-packages/owlready2/pellet/jena-arq-2.10.0.jar:/home/juanmhl/miniconda3/envs/uma-race/lib/python3.11/site-packages/owlready2/pellet/log4j-core-2.19.0.jar:/home/juanmhl/miniconda3/envs/uma-race/lib/python3.11/site-packages/owlready2/pellet/log4j-api-2.19.0.jar:/home/juanmhl/miniconda3/envs/uma-race/lib/python3.11/site-packages/owlready2/pellet/jena-core-2.10.0.jar:/home/juanmhl/miniconda3/envs/uma-race/lib/python3.11/site-packages/owlready2/pellet/xml-apis-1.4.01.jar:/home/juanmhl/miniconda3/envs/uma-race/lib/python3.11/site-packages/owlready2/pellet/httpclient-4.2.3.jar:/home/juanmhl/miniconda3/envs/uma-race/lib/python3.11/site-packages/owlready2/pellet/pellet-2.3.1.jar:/home/juanmhl/miniconda3/envs/uma-race/lib/python3.11/site-packages/owlready2/pellet/antlr-3.2.jar:/home/juanmhl/miniconda3/envs/uma-race/lib/python3.11/site-packages/owlready2/pellet/antlr-runtime-3.2.jar:/home/juanmhl/miniconda3/envs/uma-race/lib/python3.11/site-packages/owlready2/pellet/jgrapht-jdk1.5.jar:/home/juanmhl/miniconda3/envs/uma-race/lib/python3.11/site-packages/owlready2/pellet/aterm-java-1.6.jar:/home/juanmhl/miniconda3/envs/uma-race/lib/python3.11/site-packages/owlready2/pellet/commons-codec-1.6.jar:/home/juanmhl/miniconda3/envs/uma-race/lib/python3.11/site-packages/owlready2/pellet/log4j-1.2-api-2.19.0.jar pellet.Pellet realize --loader Jena --input-format N-Triples --infer-prop-values --infer-data-prop-values --ignore-imports /tmp/tmpece0rsob\n"
     ]
    },
    {
     "name": "stdout",
     "output_type": "stream",
     "text": [
      "* Owlready * Adding relation ontology.fase6 faseSiguiente true\n",
      "* Owlready * Adding relation ontology.fase5 faseActual true\n"
     ]
    },
    {
     "name": "stderr",
     "output_type": "stream",
     "text": [
      "* Owlready2 * Pellet took 0.6271154880523682 seconds\n",
      "* Owlready * (NB: only changes on entities loaded in Python are shown, other changes are done but not listed)\n",
      "* Owlready2 * Running Pellet...\n",
      "    /usr/bin/java -Xmx2000M -cp /home/juanmhl/miniconda3/envs/uma-race/lib/python3.11/site-packages/owlready2/pellet/jcl-over-slf4j-1.6.4.jar:/home/juanmhl/miniconda3/envs/uma-race/lib/python3.11/site-packages/owlready2/pellet/httpcore-4.2.2.jar:/home/juanmhl/miniconda3/envs/uma-race/lib/python3.11/site-packages/owlready2/pellet/jena-iri-0.9.5.jar:/home/juanmhl/miniconda3/envs/uma-race/lib/python3.11/site-packages/owlready2/pellet/owlapi-distribution-3.4.3-bin.jar:/home/juanmhl/miniconda3/envs/uma-race/lib/python3.11/site-packages/owlready2/pellet/slf4j-api-1.6.4.jar:/home/juanmhl/miniconda3/envs/uma-race/lib/python3.11/site-packages/owlready2/pellet/xercesImpl-2.10.0.jar:/home/juanmhl/miniconda3/envs/uma-race/lib/python3.11/site-packages/owlready2/pellet/slf4j-log4j12-1.6.4.jar:/home/juanmhl/miniconda3/envs/uma-race/lib/python3.11/site-packages/owlready2/pellet/jena-tdb-0.10.0.jar:/home/juanmhl/miniconda3/envs/uma-race/lib/python3.11/site-packages/owlready2/pellet/jena-arq-2.10.0.jar:/home/juanmhl/miniconda3/envs/uma-race/lib/python3.11/site-packages/owlready2/pellet/log4j-core-2.19.0.jar:/home/juanmhl/miniconda3/envs/uma-race/lib/python3.11/site-packages/owlready2/pellet/log4j-api-2.19.0.jar:/home/juanmhl/miniconda3/envs/uma-race/lib/python3.11/site-packages/owlready2/pellet/jena-core-2.10.0.jar:/home/juanmhl/miniconda3/envs/uma-race/lib/python3.11/site-packages/owlready2/pellet/xml-apis-1.4.01.jar:/home/juanmhl/miniconda3/envs/uma-race/lib/python3.11/site-packages/owlready2/pellet/httpclient-4.2.3.jar:/home/juanmhl/miniconda3/envs/uma-race/lib/python3.11/site-packages/owlready2/pellet/pellet-2.3.1.jar:/home/juanmhl/miniconda3/envs/uma-race/lib/python3.11/site-packages/owlready2/pellet/antlr-3.2.jar:/home/juanmhl/miniconda3/envs/uma-race/lib/python3.11/site-packages/owlready2/pellet/antlr-runtime-3.2.jar:/home/juanmhl/miniconda3/envs/uma-race/lib/python3.11/site-packages/owlready2/pellet/jgrapht-jdk1.5.jar:/home/juanmhl/miniconda3/envs/uma-race/lib/python3.11/site-packages/owlready2/pellet/aterm-java-1.6.jar:/home/juanmhl/miniconda3/envs/uma-race/lib/python3.11/site-packages/owlready2/pellet/commons-codec-1.6.jar:/home/juanmhl/miniconda3/envs/uma-race/lib/python3.11/site-packages/owlready2/pellet/log4j-1.2-api-2.19.0.jar pellet.Pellet realize --loader Jena --input-format N-Triples --infer-prop-values --infer-data-prop-values --ignore-imports /tmp/tmps340fs6b\n"
     ]
    },
    {
     "name": "stdout",
     "output_type": "stream",
     "text": [
      "* Owlready * Adding relation ontology.fase6 faseActual true\n",
      "* Owlready * Adding relation ontology.fase7 faseSiguiente true\n"
     ]
    },
    {
     "name": "stderr",
     "output_type": "stream",
     "text": [
      "* Owlready2 * Pellet took 0.6611504554748535 seconds\n",
      "* Owlready * (NB: only changes on entities loaded in Python are shown, other changes are done but not listed)\n",
      "* Owlready2 * Running Pellet...\n",
      "    /usr/bin/java -Xmx2000M -cp /home/juanmhl/miniconda3/envs/uma-race/lib/python3.11/site-packages/owlready2/pellet/jcl-over-slf4j-1.6.4.jar:/home/juanmhl/miniconda3/envs/uma-race/lib/python3.11/site-packages/owlready2/pellet/httpcore-4.2.2.jar:/home/juanmhl/miniconda3/envs/uma-race/lib/python3.11/site-packages/owlready2/pellet/jena-iri-0.9.5.jar:/home/juanmhl/miniconda3/envs/uma-race/lib/python3.11/site-packages/owlready2/pellet/owlapi-distribution-3.4.3-bin.jar:/home/juanmhl/miniconda3/envs/uma-race/lib/python3.11/site-packages/owlready2/pellet/slf4j-api-1.6.4.jar:/home/juanmhl/miniconda3/envs/uma-race/lib/python3.11/site-packages/owlready2/pellet/xercesImpl-2.10.0.jar:/home/juanmhl/miniconda3/envs/uma-race/lib/python3.11/site-packages/owlready2/pellet/slf4j-log4j12-1.6.4.jar:/home/juanmhl/miniconda3/envs/uma-race/lib/python3.11/site-packages/owlready2/pellet/jena-tdb-0.10.0.jar:/home/juanmhl/miniconda3/envs/uma-race/lib/python3.11/site-packages/owlready2/pellet/jena-arq-2.10.0.jar:/home/juanmhl/miniconda3/envs/uma-race/lib/python3.11/site-packages/owlready2/pellet/log4j-core-2.19.0.jar:/home/juanmhl/miniconda3/envs/uma-race/lib/python3.11/site-packages/owlready2/pellet/log4j-api-2.19.0.jar:/home/juanmhl/miniconda3/envs/uma-race/lib/python3.11/site-packages/owlready2/pellet/jena-core-2.10.0.jar:/home/juanmhl/miniconda3/envs/uma-race/lib/python3.11/site-packages/owlready2/pellet/xml-apis-1.4.01.jar:/home/juanmhl/miniconda3/envs/uma-race/lib/python3.11/site-packages/owlready2/pellet/httpclient-4.2.3.jar:/home/juanmhl/miniconda3/envs/uma-race/lib/python3.11/site-packages/owlready2/pellet/pellet-2.3.1.jar:/home/juanmhl/miniconda3/envs/uma-race/lib/python3.11/site-packages/owlready2/pellet/antlr-3.2.jar:/home/juanmhl/miniconda3/envs/uma-race/lib/python3.11/site-packages/owlready2/pellet/antlr-runtime-3.2.jar:/home/juanmhl/miniconda3/envs/uma-race/lib/python3.11/site-packages/owlready2/pellet/jgrapht-jdk1.5.jar:/home/juanmhl/miniconda3/envs/uma-race/lib/python3.11/site-packages/owlready2/pellet/aterm-java-1.6.jar:/home/juanmhl/miniconda3/envs/uma-race/lib/python3.11/site-packages/owlready2/pellet/commons-codec-1.6.jar:/home/juanmhl/miniconda3/envs/uma-race/lib/python3.11/site-packages/owlready2/pellet/log4j-1.2-api-2.19.0.jar pellet.Pellet realize --loader Jena --input-format N-Triples --infer-prop-values --infer-data-prop-values --ignore-imports /tmp/tmp2x1rn_9j\n"
     ]
    },
    {
     "name": "stdout",
     "output_type": "stream",
     "text": [
      "* Owlready * Adding relation ontology.fase8 faseSiguiente true\n",
      "* Owlready * Adding relation ontology.fase7 faseActual true\n"
     ]
    },
    {
     "name": "stderr",
     "output_type": "stream",
     "text": [
      "* Owlready2 * Pellet took 0.606513261795044 seconds\n",
      "* Owlready * (NB: only changes on entities loaded in Python are shown, other changes are done but not listed)\n",
      "* Owlready2 * Running Pellet...\n",
      "    /usr/bin/java -Xmx2000M -cp /home/juanmhl/miniconda3/envs/uma-race/lib/python3.11/site-packages/owlready2/pellet/jcl-over-slf4j-1.6.4.jar:/home/juanmhl/miniconda3/envs/uma-race/lib/python3.11/site-packages/owlready2/pellet/httpcore-4.2.2.jar:/home/juanmhl/miniconda3/envs/uma-race/lib/python3.11/site-packages/owlready2/pellet/jena-iri-0.9.5.jar:/home/juanmhl/miniconda3/envs/uma-race/lib/python3.11/site-packages/owlready2/pellet/owlapi-distribution-3.4.3-bin.jar:/home/juanmhl/miniconda3/envs/uma-race/lib/python3.11/site-packages/owlready2/pellet/slf4j-api-1.6.4.jar:/home/juanmhl/miniconda3/envs/uma-race/lib/python3.11/site-packages/owlready2/pellet/xercesImpl-2.10.0.jar:/home/juanmhl/miniconda3/envs/uma-race/lib/python3.11/site-packages/owlready2/pellet/slf4j-log4j12-1.6.4.jar:/home/juanmhl/miniconda3/envs/uma-race/lib/python3.11/site-packages/owlready2/pellet/jena-tdb-0.10.0.jar:/home/juanmhl/miniconda3/envs/uma-race/lib/python3.11/site-packages/owlready2/pellet/jena-arq-2.10.0.jar:/home/juanmhl/miniconda3/envs/uma-race/lib/python3.11/site-packages/owlready2/pellet/log4j-core-2.19.0.jar:/home/juanmhl/miniconda3/envs/uma-race/lib/python3.11/site-packages/owlready2/pellet/log4j-api-2.19.0.jar:/home/juanmhl/miniconda3/envs/uma-race/lib/python3.11/site-packages/owlready2/pellet/jena-core-2.10.0.jar:/home/juanmhl/miniconda3/envs/uma-race/lib/python3.11/site-packages/owlready2/pellet/xml-apis-1.4.01.jar:/home/juanmhl/miniconda3/envs/uma-race/lib/python3.11/site-packages/owlready2/pellet/httpclient-4.2.3.jar:/home/juanmhl/miniconda3/envs/uma-race/lib/python3.11/site-packages/owlready2/pellet/pellet-2.3.1.jar:/home/juanmhl/miniconda3/envs/uma-race/lib/python3.11/site-packages/owlready2/pellet/antlr-3.2.jar:/home/juanmhl/miniconda3/envs/uma-race/lib/python3.11/site-packages/owlready2/pellet/antlr-runtime-3.2.jar:/home/juanmhl/miniconda3/envs/uma-race/lib/python3.11/site-packages/owlready2/pellet/jgrapht-jdk1.5.jar:/home/juanmhl/miniconda3/envs/uma-race/lib/python3.11/site-packages/owlready2/pellet/aterm-java-1.6.jar:/home/juanmhl/miniconda3/envs/uma-race/lib/python3.11/site-packages/owlready2/pellet/commons-codec-1.6.jar:/home/juanmhl/miniconda3/envs/uma-race/lib/python3.11/site-packages/owlready2/pellet/log4j-1.2-api-2.19.0.jar pellet.Pellet realize --loader Jena --input-format N-Triples --infer-prop-values --infer-data-prop-values --ignore-imports /tmp/tmps_1ycrys\n"
     ]
    },
    {
     "name": "stdout",
     "output_type": "stream",
     "text": [
      "* Owlready * Adding relation ontology.fase9 faseSiguiente true\n",
      "* Owlready * Adding relation ontology.fase8 faseActual true\n"
     ]
    },
    {
     "name": "stderr",
     "output_type": "stream",
     "text": [
      "* Owlready2 * Pellet took 0.6017205715179443 seconds\n",
      "* Owlready * (NB: only changes on entities loaded in Python are shown, other changes are done but not listed)\n",
      "* Owlready2 * Running Pellet...\n",
      "    /usr/bin/java -Xmx2000M -cp /home/juanmhl/miniconda3/envs/uma-race/lib/python3.11/site-packages/owlready2/pellet/jcl-over-slf4j-1.6.4.jar:/home/juanmhl/miniconda3/envs/uma-race/lib/python3.11/site-packages/owlready2/pellet/httpcore-4.2.2.jar:/home/juanmhl/miniconda3/envs/uma-race/lib/python3.11/site-packages/owlready2/pellet/jena-iri-0.9.5.jar:/home/juanmhl/miniconda3/envs/uma-race/lib/python3.11/site-packages/owlready2/pellet/owlapi-distribution-3.4.3-bin.jar:/home/juanmhl/miniconda3/envs/uma-race/lib/python3.11/site-packages/owlready2/pellet/slf4j-api-1.6.4.jar:/home/juanmhl/miniconda3/envs/uma-race/lib/python3.11/site-packages/owlready2/pellet/xercesImpl-2.10.0.jar:/home/juanmhl/miniconda3/envs/uma-race/lib/python3.11/site-packages/owlready2/pellet/slf4j-log4j12-1.6.4.jar:/home/juanmhl/miniconda3/envs/uma-race/lib/python3.11/site-packages/owlready2/pellet/jena-tdb-0.10.0.jar:/home/juanmhl/miniconda3/envs/uma-race/lib/python3.11/site-packages/owlready2/pellet/jena-arq-2.10.0.jar:/home/juanmhl/miniconda3/envs/uma-race/lib/python3.11/site-packages/owlready2/pellet/log4j-core-2.19.0.jar:/home/juanmhl/miniconda3/envs/uma-race/lib/python3.11/site-packages/owlready2/pellet/log4j-api-2.19.0.jar:/home/juanmhl/miniconda3/envs/uma-race/lib/python3.11/site-packages/owlready2/pellet/jena-core-2.10.0.jar:/home/juanmhl/miniconda3/envs/uma-race/lib/python3.11/site-packages/owlready2/pellet/xml-apis-1.4.01.jar:/home/juanmhl/miniconda3/envs/uma-race/lib/python3.11/site-packages/owlready2/pellet/httpclient-4.2.3.jar:/home/juanmhl/miniconda3/envs/uma-race/lib/python3.11/site-packages/owlready2/pellet/pellet-2.3.1.jar:/home/juanmhl/miniconda3/envs/uma-race/lib/python3.11/site-packages/owlready2/pellet/antlr-3.2.jar:/home/juanmhl/miniconda3/envs/uma-race/lib/python3.11/site-packages/owlready2/pellet/antlr-runtime-3.2.jar:/home/juanmhl/miniconda3/envs/uma-race/lib/python3.11/site-packages/owlready2/pellet/jgrapht-jdk1.5.jar:/home/juanmhl/miniconda3/envs/uma-race/lib/python3.11/site-packages/owlready2/pellet/aterm-java-1.6.jar:/home/juanmhl/miniconda3/envs/uma-race/lib/python3.11/site-packages/owlready2/pellet/commons-codec-1.6.jar:/home/juanmhl/miniconda3/envs/uma-race/lib/python3.11/site-packages/owlready2/pellet/log4j-1.2-api-2.19.0.jar pellet.Pellet realize --loader Jena --input-format N-Triples --infer-prop-values --infer-data-prop-values --ignore-imports /tmp/tmpp7jcjaw3\n"
     ]
    },
    {
     "name": "stdout",
     "output_type": "stream",
     "text": [
      "* Owlready * Adding relation ontology.fase9 faseActual true\n",
      "* Owlready * Adding relation ontology.fase2 faseSiguiente true\n",
      "* Owlready * Adding relation ontology.puncion accionEjecutable ontology.ps2\n",
      "* Owlready * Adding relation ontology.desplazamiento_suturaI accionEjecutable ontology.ps2\n",
      "* Owlready * Adding relation ontology.fase2 faseActual true\n",
      "* Owlready * Adding relation ontology.ps2 puntoSuturaActual true\n",
      "* Owlready * Adding relation ontology.fase3 faseSiguiente true\n",
      "Phase: 1, Action: -DESPLAZAMIENTO_SUTURA_D-, Suture Point: 1, Near: NONE\n",
      "Phase: 2, Action: -DESPLAZAMIENTO_SUTURA_I--PUNCION-, Suture Point: 1, Near: NONE\n",
      "Phase: 3, Action: -CIERRE_I-, Suture Point: 1, Near: NONE\n",
      "Phase: 4, Action: -APERTURA_D-, Suture Point: 1, Near: NONE\n",
      "Phase: 5, Action: -DESPLAZAMIENTO_CAMBIO_I-, Suture Point: 1, Near: NONE\n",
      "Phase: 6, Action: -DESPLAZAMIENTO_CAMBIO_D-, Suture Point: 1, Near: NONE\n",
      "Phase: 7, Action: -CIERRE_D-, Suture Point: 1, Near: NONE\n",
      "Phase: 8, Action: -APERTURA_I-, Suture Point: 1, Near: NONE\n",
      "Phase: 9, Action: -DESPLAZAMIENTO_SUTURA_D-, Suture Point: 1, Near: NONE\n",
      "Phase: 2, Action: -DESPLAZAMIENTO_SUTURA_I--PUNCION-, Suture Point: 2, Near: NONE\n"
     ]
    },
    {
     "name": "stderr",
     "output_type": "stream",
     "text": [
      "* Owlready2 * Pellet took 0.6057944297790527 seconds\n",
      "* Owlready * (NB: only changes on entities loaded in Python are shown, other changes are done but not listed)\n"
     ]
    }
   ],
   "source": [
    "from inferenceengine import *\n",
    "\n",
    "repo_implementation = CommandRepositoryOntology\n",
    "service = InferenceMotorService(repo_implementation)\n",
    "service.initialize(n_points=3, ontology_path='/home/juanmhl/ontology.owl')\n",
    "\n",
    "vp1 = [True, False, False, False, False, False, True,       [False, False, False]]\n",
    "vp2 = [True, False, False, False, True, False, True,        [False, False, False]]\n",
    "vp3 = [True, False, False, False, True, True, False,        [False, False, False]]\n",
    "vp4 = [True, True, False, False, True, True, False,         [False, False, True]]\n",
    "vp5 = [False, True, False, False, True, True, False,        [False, False, False]]\n",
    "vp6 = [False, True, False, True, True, False, False,        [False, False, False]]\n",
    "vp7 = [False, True, True, True, False, False, False,        [False, False, False]]\n",
    "vp8 = [True, True, True, True, False, False, False,         [False, False, False]]\n",
    "vp9 = [True, False, True, True, False, False, False,        [False, False, False]]\n",
    "vpt = [True, True, True, True, True, True, True,            [False, False, False]]\n",
    "vpf = [False, False, False, False, False, False, False,     [False, False, False]]\n",
    "\n",
    "predicates_vectors = [vp1, vp2, vp3, vp4, vp5, vp6, vp7, vp8, vp9,\n",
    "                      [True, False, False, False, True, False, True, [True, False, False]]\n",
    "                      ]\n",
    "\n",
    "comandos = []\n",
    "\n",
    "for vp in predicates_vectors:\n",
    "    comandos.append(service.step(vp))\n",
    "\n",
    "\n",
    "for comando in comandos:\n",
    "    print(comando)"
   ]
  },
  {
   "cell_type": "code",
   "execution_count": 1,
   "metadata": {},
   "outputs": [
    {
     "name": "stdout",
     "output_type": "stream",
     "text": [
      "Ontology loaded. \n"
     ]
    },
    {
     "name": "stderr",
     "output_type": "stream",
     "text": [
      "* Owlready2 * Running Pellet...\n",
      "    /usr/bin/java -Xmx2000M -cp /home/juanmhl/miniconda3/envs/uma-ontology/lib/python3.12/site-packages/owlready2/pellet/jcl-over-slf4j-1.6.4.jar:/home/juanmhl/miniconda3/envs/uma-ontology/lib/python3.12/site-packages/owlready2/pellet/httpcore-4.2.2.jar:/home/juanmhl/miniconda3/envs/uma-ontology/lib/python3.12/site-packages/owlready2/pellet/jena-iri-0.9.5.jar:/home/juanmhl/miniconda3/envs/uma-ontology/lib/python3.12/site-packages/owlready2/pellet/owlapi-distribution-3.4.3-bin.jar:/home/juanmhl/miniconda3/envs/uma-ontology/lib/python3.12/site-packages/owlready2/pellet/slf4j-api-1.6.4.jar:/home/juanmhl/miniconda3/envs/uma-ontology/lib/python3.12/site-packages/owlready2/pellet/xercesImpl-2.10.0.jar:/home/juanmhl/miniconda3/envs/uma-ontology/lib/python3.12/site-packages/owlready2/pellet/slf4j-log4j12-1.6.4.jar:/home/juanmhl/miniconda3/envs/uma-ontology/lib/python3.12/site-packages/owlready2/pellet/jena-tdb-0.10.0.jar:/home/juanmhl/miniconda3/envs/uma-ontology/lib/python3.12/site-packages/owlready2/pellet/jena-arq-2.10.0.jar:/home/juanmhl/miniconda3/envs/uma-ontology/lib/python3.12/site-packages/owlready2/pellet/log4j-core-2.19.0.jar:/home/juanmhl/miniconda3/envs/uma-ontology/lib/python3.12/site-packages/owlready2/pellet/log4j-api-2.19.0.jar:/home/juanmhl/miniconda3/envs/uma-ontology/lib/python3.12/site-packages/owlready2/pellet/jena-core-2.10.0.jar:/home/juanmhl/miniconda3/envs/uma-ontology/lib/python3.12/site-packages/owlready2/pellet/xml-apis-1.4.01.jar:/home/juanmhl/miniconda3/envs/uma-ontology/lib/python3.12/site-packages/owlready2/pellet/httpclient-4.2.3.jar:/home/juanmhl/miniconda3/envs/uma-ontology/lib/python3.12/site-packages/owlready2/pellet/pellet-2.3.1.jar:/home/juanmhl/miniconda3/envs/uma-ontology/lib/python3.12/site-packages/owlready2/pellet/antlr-3.2.jar:/home/juanmhl/miniconda3/envs/uma-ontology/lib/python3.12/site-packages/owlready2/pellet/antlr-runtime-3.2.jar:/home/juanmhl/miniconda3/envs/uma-ontology/lib/python3.12/site-packages/owlready2/pellet/jgrapht-jdk1.5.jar:/home/juanmhl/miniconda3/envs/uma-ontology/lib/python3.12/site-packages/owlready2/pellet/aterm-java-1.6.jar:/home/juanmhl/miniconda3/envs/uma-ontology/lib/python3.12/site-packages/owlready2/pellet/commons-codec-1.6.jar:/home/juanmhl/miniconda3/envs/uma-ontology/lib/python3.12/site-packages/owlready2/pellet/log4j-1.2-api-2.19.0.jar pellet.Pellet realize --loader Jena --input-format N-Triples --infer-prop-values --infer-data-prop-values --ignore-imports /tmp/tmpqfv4hub6\n",
      "* Owlready2 * Pellet took 0.6288402080535889 seconds\n",
      "* Owlready * (NB: only changes on entities loaded in Python are shown, other changes are done but not listed)\n",
      "* Owlready2 * Running Pellet...\n",
      "    /usr/bin/java -Xmx2000M -cp /home/juanmhl/miniconda3/envs/uma-ontology/lib/python3.12/site-packages/owlready2/pellet/jcl-over-slf4j-1.6.4.jar:/home/juanmhl/miniconda3/envs/uma-ontology/lib/python3.12/site-packages/owlready2/pellet/httpcore-4.2.2.jar:/home/juanmhl/miniconda3/envs/uma-ontology/lib/python3.12/site-packages/owlready2/pellet/jena-iri-0.9.5.jar:/home/juanmhl/miniconda3/envs/uma-ontology/lib/python3.12/site-packages/owlready2/pellet/owlapi-distribution-3.4.3-bin.jar:/home/juanmhl/miniconda3/envs/uma-ontology/lib/python3.12/site-packages/owlready2/pellet/slf4j-api-1.6.4.jar:/home/juanmhl/miniconda3/envs/uma-ontology/lib/python3.12/site-packages/owlready2/pellet/xercesImpl-2.10.0.jar:/home/juanmhl/miniconda3/envs/uma-ontology/lib/python3.12/site-packages/owlready2/pellet/slf4j-log4j12-1.6.4.jar:/home/juanmhl/miniconda3/envs/uma-ontology/lib/python3.12/site-packages/owlready2/pellet/jena-tdb-0.10.0.jar:/home/juanmhl/miniconda3/envs/uma-ontology/lib/python3.12/site-packages/owlready2/pellet/jena-arq-2.10.0.jar:/home/juanmhl/miniconda3/envs/uma-ontology/lib/python3.12/site-packages/owlready2/pellet/log4j-core-2.19.0.jar:/home/juanmhl/miniconda3/envs/uma-ontology/lib/python3.12/site-packages/owlready2/pellet/log4j-api-2.19.0.jar:/home/juanmhl/miniconda3/envs/uma-ontology/lib/python3.12/site-packages/owlready2/pellet/jena-core-2.10.0.jar:/home/juanmhl/miniconda3/envs/uma-ontology/lib/python3.12/site-packages/owlready2/pellet/xml-apis-1.4.01.jar:/home/juanmhl/miniconda3/envs/uma-ontology/lib/python3.12/site-packages/owlready2/pellet/httpclient-4.2.3.jar:/home/juanmhl/miniconda3/envs/uma-ontology/lib/python3.12/site-packages/owlready2/pellet/pellet-2.3.1.jar:/home/juanmhl/miniconda3/envs/uma-ontology/lib/python3.12/site-packages/owlready2/pellet/antlr-3.2.jar:/home/juanmhl/miniconda3/envs/uma-ontology/lib/python3.12/site-packages/owlready2/pellet/antlr-runtime-3.2.jar:/home/juanmhl/miniconda3/envs/uma-ontology/lib/python3.12/site-packages/owlready2/pellet/jgrapht-jdk1.5.jar:/home/juanmhl/miniconda3/envs/uma-ontology/lib/python3.12/site-packages/owlready2/pellet/aterm-java-1.6.jar:/home/juanmhl/miniconda3/envs/uma-ontology/lib/python3.12/site-packages/owlready2/pellet/commons-codec-1.6.jar:/home/juanmhl/miniconda3/envs/uma-ontology/lib/python3.12/site-packages/owlready2/pellet/log4j-1.2-api-2.19.0.jar pellet.Pellet realize --loader Jena --input-format N-Triples --infer-prop-values --infer-data-prop-values --ignore-imports /tmp/tmpbfp1me5l\n",
      "* Owlready2 * Pellet took 0.6045539379119873 seconds\n",
      "* Owlready * (NB: only changes on entities loaded in Python are shown, other changes are done but not listed)\n",
      "* Owlready2 * Running Pellet...\n",
      "    /usr/bin/java -Xmx2000M -cp /home/juanmhl/miniconda3/envs/uma-ontology/lib/python3.12/site-packages/owlready2/pellet/jcl-over-slf4j-1.6.4.jar:/home/juanmhl/miniconda3/envs/uma-ontology/lib/python3.12/site-packages/owlready2/pellet/httpcore-4.2.2.jar:/home/juanmhl/miniconda3/envs/uma-ontology/lib/python3.12/site-packages/owlready2/pellet/jena-iri-0.9.5.jar:/home/juanmhl/miniconda3/envs/uma-ontology/lib/python3.12/site-packages/owlready2/pellet/owlapi-distribution-3.4.3-bin.jar:/home/juanmhl/miniconda3/envs/uma-ontology/lib/python3.12/site-packages/owlready2/pellet/slf4j-api-1.6.4.jar:/home/juanmhl/miniconda3/envs/uma-ontology/lib/python3.12/site-packages/owlready2/pellet/xercesImpl-2.10.0.jar:/home/juanmhl/miniconda3/envs/uma-ontology/lib/python3.12/site-packages/owlready2/pellet/slf4j-log4j12-1.6.4.jar:/home/juanmhl/miniconda3/envs/uma-ontology/lib/python3.12/site-packages/owlready2/pellet/jena-tdb-0.10.0.jar:/home/juanmhl/miniconda3/envs/uma-ontology/lib/python3.12/site-packages/owlready2/pellet/jena-arq-2.10.0.jar:/home/juanmhl/miniconda3/envs/uma-ontology/lib/python3.12/site-packages/owlready2/pellet/log4j-core-2.19.0.jar:/home/juanmhl/miniconda3/envs/uma-ontology/lib/python3.12/site-packages/owlready2/pellet/log4j-api-2.19.0.jar:/home/juanmhl/miniconda3/envs/uma-ontology/lib/python3.12/site-packages/owlready2/pellet/jena-core-2.10.0.jar:/home/juanmhl/miniconda3/envs/uma-ontology/lib/python3.12/site-packages/owlready2/pellet/xml-apis-1.4.01.jar:/home/juanmhl/miniconda3/envs/uma-ontology/lib/python3.12/site-packages/owlready2/pellet/httpclient-4.2.3.jar:/home/juanmhl/miniconda3/envs/uma-ontology/lib/python3.12/site-packages/owlready2/pellet/pellet-2.3.1.jar:/home/juanmhl/miniconda3/envs/uma-ontology/lib/python3.12/site-packages/owlready2/pellet/antlr-3.2.jar:/home/juanmhl/miniconda3/envs/uma-ontology/lib/python3.12/site-packages/owlready2/pellet/antlr-runtime-3.2.jar:/home/juanmhl/miniconda3/envs/uma-ontology/lib/python3.12/site-packages/owlready2/pellet/jgrapht-jdk1.5.jar:/home/juanmhl/miniconda3/envs/uma-ontology/lib/python3.12/site-packages/owlready2/pellet/aterm-java-1.6.jar:/home/juanmhl/miniconda3/envs/uma-ontology/lib/python3.12/site-packages/owlready2/pellet/commons-codec-1.6.jar:/home/juanmhl/miniconda3/envs/uma-ontology/lib/python3.12/site-packages/owlready2/pellet/log4j-1.2-api-2.19.0.jar pellet.Pellet realize --loader Jena --input-format N-Triples --infer-prop-values --infer-data-prop-values --ignore-imports /tmp/tmpunr9a79n\n",
      "* Owlready2 * Pellet took 0.6224274635314941 seconds\n",
      "* Owlready * (NB: only changes on entities loaded in Python are shown, other changes are done but not listed)\n",
      "* Owlready2 * Running Pellet...\n",
      "    /usr/bin/java -Xmx2000M -cp /home/juanmhl/miniconda3/envs/uma-ontology/lib/python3.12/site-packages/owlready2/pellet/jcl-over-slf4j-1.6.4.jar:/home/juanmhl/miniconda3/envs/uma-ontology/lib/python3.12/site-packages/owlready2/pellet/httpcore-4.2.2.jar:/home/juanmhl/miniconda3/envs/uma-ontology/lib/python3.12/site-packages/owlready2/pellet/jena-iri-0.9.5.jar:/home/juanmhl/miniconda3/envs/uma-ontology/lib/python3.12/site-packages/owlready2/pellet/owlapi-distribution-3.4.3-bin.jar:/home/juanmhl/miniconda3/envs/uma-ontology/lib/python3.12/site-packages/owlready2/pellet/slf4j-api-1.6.4.jar:/home/juanmhl/miniconda3/envs/uma-ontology/lib/python3.12/site-packages/owlready2/pellet/xercesImpl-2.10.0.jar:/home/juanmhl/miniconda3/envs/uma-ontology/lib/python3.12/site-packages/owlready2/pellet/slf4j-log4j12-1.6.4.jar:/home/juanmhl/miniconda3/envs/uma-ontology/lib/python3.12/site-packages/owlready2/pellet/jena-tdb-0.10.0.jar:/home/juanmhl/miniconda3/envs/uma-ontology/lib/python3.12/site-packages/owlready2/pellet/jena-arq-2.10.0.jar:/home/juanmhl/miniconda3/envs/uma-ontology/lib/python3.12/site-packages/owlready2/pellet/log4j-core-2.19.0.jar:/home/juanmhl/miniconda3/envs/uma-ontology/lib/python3.12/site-packages/owlready2/pellet/log4j-api-2.19.0.jar:/home/juanmhl/miniconda3/envs/uma-ontology/lib/python3.12/site-packages/owlready2/pellet/jena-core-2.10.0.jar:/home/juanmhl/miniconda3/envs/uma-ontology/lib/python3.12/site-packages/owlready2/pellet/xml-apis-1.4.01.jar:/home/juanmhl/miniconda3/envs/uma-ontology/lib/python3.12/site-packages/owlready2/pellet/httpclient-4.2.3.jar:/home/juanmhl/miniconda3/envs/uma-ontology/lib/python3.12/site-packages/owlready2/pellet/pellet-2.3.1.jar:/home/juanmhl/miniconda3/envs/uma-ontology/lib/python3.12/site-packages/owlready2/pellet/antlr-3.2.jar:/home/juanmhl/miniconda3/envs/uma-ontology/lib/python3.12/site-packages/owlready2/pellet/antlr-runtime-3.2.jar:/home/juanmhl/miniconda3/envs/uma-ontology/lib/python3.12/site-packages/owlready2/pellet/jgrapht-jdk1.5.jar:/home/juanmhl/miniconda3/envs/uma-ontology/lib/python3.12/site-packages/owlready2/pellet/aterm-java-1.6.jar:/home/juanmhl/miniconda3/envs/uma-ontology/lib/python3.12/site-packages/owlready2/pellet/commons-codec-1.6.jar:/home/juanmhl/miniconda3/envs/uma-ontology/lib/python3.12/site-packages/owlready2/pellet/log4j-1.2-api-2.19.0.jar pellet.Pellet realize --loader Jena --input-format N-Triples --infer-prop-values --infer-data-prop-values --ignore-imports /tmp/tmpd8re1pkt\n"
     ]
    },
    {
     "name": "stdout",
     "output_type": "stream",
     "text": [
      "* Owlready * Adding relation ontology.fase6 faseActual true\n",
      "* Owlready * Adding relation ontology.fase7 faseSiguiente true\n"
     ]
    },
    {
     "name": "stderr",
     "output_type": "stream",
     "text": [
      "* Owlready2 * Pellet took 0.6229836940765381 seconds\n",
      "* Owlready * (NB: only changes on entities loaded in Python are shown, other changes are done but not listed)\n",
      "* Owlready2 * Running Pellet...\n",
      "    /usr/bin/java -Xmx2000M -cp /home/juanmhl/miniconda3/envs/uma-ontology/lib/python3.12/site-packages/owlready2/pellet/jcl-over-slf4j-1.6.4.jar:/home/juanmhl/miniconda3/envs/uma-ontology/lib/python3.12/site-packages/owlready2/pellet/httpcore-4.2.2.jar:/home/juanmhl/miniconda3/envs/uma-ontology/lib/python3.12/site-packages/owlready2/pellet/jena-iri-0.9.5.jar:/home/juanmhl/miniconda3/envs/uma-ontology/lib/python3.12/site-packages/owlready2/pellet/owlapi-distribution-3.4.3-bin.jar:/home/juanmhl/miniconda3/envs/uma-ontology/lib/python3.12/site-packages/owlready2/pellet/slf4j-api-1.6.4.jar:/home/juanmhl/miniconda3/envs/uma-ontology/lib/python3.12/site-packages/owlready2/pellet/xercesImpl-2.10.0.jar:/home/juanmhl/miniconda3/envs/uma-ontology/lib/python3.12/site-packages/owlready2/pellet/slf4j-log4j12-1.6.4.jar:/home/juanmhl/miniconda3/envs/uma-ontology/lib/python3.12/site-packages/owlready2/pellet/jena-tdb-0.10.0.jar:/home/juanmhl/miniconda3/envs/uma-ontology/lib/python3.12/site-packages/owlready2/pellet/jena-arq-2.10.0.jar:/home/juanmhl/miniconda3/envs/uma-ontology/lib/python3.12/site-packages/owlready2/pellet/log4j-core-2.19.0.jar:/home/juanmhl/miniconda3/envs/uma-ontology/lib/python3.12/site-packages/owlready2/pellet/log4j-api-2.19.0.jar:/home/juanmhl/miniconda3/envs/uma-ontology/lib/python3.12/site-packages/owlready2/pellet/jena-core-2.10.0.jar:/home/juanmhl/miniconda3/envs/uma-ontology/lib/python3.12/site-packages/owlready2/pellet/xml-apis-1.4.01.jar:/home/juanmhl/miniconda3/envs/uma-ontology/lib/python3.12/site-packages/owlready2/pellet/httpclient-4.2.3.jar:/home/juanmhl/miniconda3/envs/uma-ontology/lib/python3.12/site-packages/owlready2/pellet/pellet-2.3.1.jar:/home/juanmhl/miniconda3/envs/uma-ontology/lib/python3.12/site-packages/owlready2/pellet/antlr-3.2.jar:/home/juanmhl/miniconda3/envs/uma-ontology/lib/python3.12/site-packages/owlready2/pellet/antlr-runtime-3.2.jar:/home/juanmhl/miniconda3/envs/uma-ontology/lib/python3.12/site-packages/owlready2/pellet/jgrapht-jdk1.5.jar:/home/juanmhl/miniconda3/envs/uma-ontology/lib/python3.12/site-packages/owlready2/pellet/aterm-java-1.6.jar:/home/juanmhl/miniconda3/envs/uma-ontology/lib/python3.12/site-packages/owlready2/pellet/commons-codec-1.6.jar:/home/juanmhl/miniconda3/envs/uma-ontology/lib/python3.12/site-packages/owlready2/pellet/log4j-1.2-api-2.19.0.jar pellet.Pellet realize --loader Jena --input-format N-Triples --infer-prop-values --infer-data-prop-values --ignore-imports /tmp/tmpmhhrzouj\n"
     ]
    },
    {
     "name": "stdout",
     "output_type": "stream",
     "text": [
      "* Owlready * Adding relation ontology.fase8 faseSiguiente true\n",
      "* Owlready * Adding relation ontology.fase7 faseActual true\n"
     ]
    },
    {
     "name": "stderr",
     "output_type": "stream",
     "text": [
      "* Owlready2 * Pellet took 0.6070053577423096 seconds\n",
      "* Owlready * (NB: only changes on entities loaded in Python are shown, other changes are done but not listed)\n",
      "* Owlready2 * Running Pellet...\n",
      "    /usr/bin/java -Xmx2000M -cp /home/juanmhl/miniconda3/envs/uma-ontology/lib/python3.12/site-packages/owlready2/pellet/jcl-over-slf4j-1.6.4.jar:/home/juanmhl/miniconda3/envs/uma-ontology/lib/python3.12/site-packages/owlready2/pellet/httpcore-4.2.2.jar:/home/juanmhl/miniconda3/envs/uma-ontology/lib/python3.12/site-packages/owlready2/pellet/jena-iri-0.9.5.jar:/home/juanmhl/miniconda3/envs/uma-ontology/lib/python3.12/site-packages/owlready2/pellet/owlapi-distribution-3.4.3-bin.jar:/home/juanmhl/miniconda3/envs/uma-ontology/lib/python3.12/site-packages/owlready2/pellet/slf4j-api-1.6.4.jar:/home/juanmhl/miniconda3/envs/uma-ontology/lib/python3.12/site-packages/owlready2/pellet/xercesImpl-2.10.0.jar:/home/juanmhl/miniconda3/envs/uma-ontology/lib/python3.12/site-packages/owlready2/pellet/slf4j-log4j12-1.6.4.jar:/home/juanmhl/miniconda3/envs/uma-ontology/lib/python3.12/site-packages/owlready2/pellet/jena-tdb-0.10.0.jar:/home/juanmhl/miniconda3/envs/uma-ontology/lib/python3.12/site-packages/owlready2/pellet/jena-arq-2.10.0.jar:/home/juanmhl/miniconda3/envs/uma-ontology/lib/python3.12/site-packages/owlready2/pellet/log4j-core-2.19.0.jar:/home/juanmhl/miniconda3/envs/uma-ontology/lib/python3.12/site-packages/owlready2/pellet/log4j-api-2.19.0.jar:/home/juanmhl/miniconda3/envs/uma-ontology/lib/python3.12/site-packages/owlready2/pellet/jena-core-2.10.0.jar:/home/juanmhl/miniconda3/envs/uma-ontology/lib/python3.12/site-packages/owlready2/pellet/xml-apis-1.4.01.jar:/home/juanmhl/miniconda3/envs/uma-ontology/lib/python3.12/site-packages/owlready2/pellet/httpclient-4.2.3.jar:/home/juanmhl/miniconda3/envs/uma-ontology/lib/python3.12/site-packages/owlready2/pellet/pellet-2.3.1.jar:/home/juanmhl/miniconda3/envs/uma-ontology/lib/python3.12/site-packages/owlready2/pellet/antlr-3.2.jar:/home/juanmhl/miniconda3/envs/uma-ontology/lib/python3.12/site-packages/owlready2/pellet/antlr-runtime-3.2.jar:/home/juanmhl/miniconda3/envs/uma-ontology/lib/python3.12/site-packages/owlready2/pellet/jgrapht-jdk1.5.jar:/home/juanmhl/miniconda3/envs/uma-ontology/lib/python3.12/site-packages/owlready2/pellet/aterm-java-1.6.jar:/home/juanmhl/miniconda3/envs/uma-ontology/lib/python3.12/site-packages/owlready2/pellet/commons-codec-1.6.jar:/home/juanmhl/miniconda3/envs/uma-ontology/lib/python3.12/site-packages/owlready2/pellet/log4j-1.2-api-2.19.0.jar pellet.Pellet realize --loader Jena --input-format N-Triples --infer-prop-values --infer-data-prop-values --ignore-imports /tmp/tmpm6a64k42\n"
     ]
    },
    {
     "name": "stdout",
     "output_type": "stream",
     "text": [
      "* Owlready * Adding relation ontology.fase9 faseSiguiente true\n",
      "* Owlready * Adding relation ontology.fase8 faseActual true\n"
     ]
    },
    {
     "name": "stderr",
     "output_type": "stream",
     "text": [
      "* Owlready2 * Pellet took 0.6160516738891602 seconds\n",
      "* Owlready * (NB: only changes on entities loaded in Python are shown, other changes are done but not listed)\n",
      "* Owlready2 * Running Pellet...\n",
      "    /usr/bin/java -Xmx2000M -cp /home/juanmhl/miniconda3/envs/uma-ontology/lib/python3.12/site-packages/owlready2/pellet/jcl-over-slf4j-1.6.4.jar:/home/juanmhl/miniconda3/envs/uma-ontology/lib/python3.12/site-packages/owlready2/pellet/httpcore-4.2.2.jar:/home/juanmhl/miniconda3/envs/uma-ontology/lib/python3.12/site-packages/owlready2/pellet/jena-iri-0.9.5.jar:/home/juanmhl/miniconda3/envs/uma-ontology/lib/python3.12/site-packages/owlready2/pellet/owlapi-distribution-3.4.3-bin.jar:/home/juanmhl/miniconda3/envs/uma-ontology/lib/python3.12/site-packages/owlready2/pellet/slf4j-api-1.6.4.jar:/home/juanmhl/miniconda3/envs/uma-ontology/lib/python3.12/site-packages/owlready2/pellet/xercesImpl-2.10.0.jar:/home/juanmhl/miniconda3/envs/uma-ontology/lib/python3.12/site-packages/owlready2/pellet/slf4j-log4j12-1.6.4.jar:/home/juanmhl/miniconda3/envs/uma-ontology/lib/python3.12/site-packages/owlready2/pellet/jena-tdb-0.10.0.jar:/home/juanmhl/miniconda3/envs/uma-ontology/lib/python3.12/site-packages/owlready2/pellet/jena-arq-2.10.0.jar:/home/juanmhl/miniconda3/envs/uma-ontology/lib/python3.12/site-packages/owlready2/pellet/log4j-core-2.19.0.jar:/home/juanmhl/miniconda3/envs/uma-ontology/lib/python3.12/site-packages/owlready2/pellet/log4j-api-2.19.0.jar:/home/juanmhl/miniconda3/envs/uma-ontology/lib/python3.12/site-packages/owlready2/pellet/jena-core-2.10.0.jar:/home/juanmhl/miniconda3/envs/uma-ontology/lib/python3.12/site-packages/owlready2/pellet/xml-apis-1.4.01.jar:/home/juanmhl/miniconda3/envs/uma-ontology/lib/python3.12/site-packages/owlready2/pellet/httpclient-4.2.3.jar:/home/juanmhl/miniconda3/envs/uma-ontology/lib/python3.12/site-packages/owlready2/pellet/pellet-2.3.1.jar:/home/juanmhl/miniconda3/envs/uma-ontology/lib/python3.12/site-packages/owlready2/pellet/antlr-3.2.jar:/home/juanmhl/miniconda3/envs/uma-ontology/lib/python3.12/site-packages/owlready2/pellet/antlr-runtime-3.2.jar:/home/juanmhl/miniconda3/envs/uma-ontology/lib/python3.12/site-packages/owlready2/pellet/jgrapht-jdk1.5.jar:/home/juanmhl/miniconda3/envs/uma-ontology/lib/python3.12/site-packages/owlready2/pellet/aterm-java-1.6.jar:/home/juanmhl/miniconda3/envs/uma-ontology/lib/python3.12/site-packages/owlready2/pellet/commons-codec-1.6.jar:/home/juanmhl/miniconda3/envs/uma-ontology/lib/python3.12/site-packages/owlready2/pellet/log4j-1.2-api-2.19.0.jar pellet.Pellet realize --loader Jena --input-format N-Triples --infer-prop-values --infer-data-prop-values --ignore-imports /tmp/tmpg4lg7fom\n"
     ]
    },
    {
     "name": "stdout",
     "output_type": "stream",
     "text": [
      "* Owlready * Adding relation ontology.fase9 faseActual true\n",
      "* Owlready * Adding relation ontology.fase2 faseSiguiente true\n",
      "* Owlready * Adding relation ontology.fase2 faseActual true\n",
      "* Owlready * Adding relation ontology.ps2 puntoSuturaActual true\n",
      "* Owlready * Adding relation ontology.fase3 faseSiguiente true\n",
      "Phase: 5, Action: -DESPLAZAMIENTO_CAMBIO_I-, Suture Point: 1, Near: NONE\n",
      "Phase: 6, Action: -DESPLAZAMIENTO_CAMBIO_D-, Suture Point: 1, Near: NONE\n",
      "Phase: 7, Action: -CIERRE_D-, Suture Point: 1, Near: NONE\n",
      "Phase: 8, Action: -APERTURA_I-, Suture Point: 1, Near: NONE\n",
      "Phase: 9, Action: -DESPLAZAMIENTO_SUTURA_D-, Suture Point: 1, Near: NONE\n",
      "Phase: 2, Action: -DESPLAZAMIENTO_SUTURA_I--PUNCION-, Suture Point: 2, Near: NONE\n"
     ]
    },
    {
     "name": "stderr",
     "output_type": "stream",
     "text": [
      "* Owlready2 * Pellet took 0.610457181930542 seconds\n",
      "* Owlready * (NB: only changes on entities loaded in Python are shown, other changes are done but not listed)\n"
     ]
    }
   ],
   "source": [
    "from inferenceengine import *\n",
    "\n",
    "repo_implementation = CommandRepositoryOntology\n",
    "service = InferenceMotorService(repo_implementation)\n",
    "service.initialize(n_points=3, ontology_path='/home/juanmhl/ontology.owl')\n",
    "\n",
    "vp1 = [True, False, False, False, False, False, True,       [False, False, False]]\n",
    "vp2 = [True, False, False, False, True, False, True,        [False, False, False]]\n",
    "vp3 = [True, False, False, False, True, True, False,        [False, False, False]]\n",
    "vp4 = [True, True, False, False, True, True, False,         [False, False, True]]\n",
    "vp5 = [False, True, False, False, True, True, False,        [False, False, False]]\n",
    "vp6 = [False, True, False, True, True, False, False,        [False, False, False]]\n",
    "vp7 = [False, True, True, True, False, False, False,        [False, False, False]]\n",
    "vp8 = [True, True, True, True, False, False, False,         [False, False, False]]\n",
    "vp9 = [True, False, True, True, False, False, False,        [False, False, False]]\n",
    "vpt = [True, True, True, True, True, True, True,            [False, False, False]]\n",
    "vpf = [False, False, False, False, False, False, False,     [False, False, False]]\n",
    "\n",
    "predicates_vectors = [vp5, vp6, vp7, vp8, vp9,\n",
    "                      [True, False, False, False, True, False, True, [True, False, False]]\n",
    "                      ]\n",
    "\n",
    "comandos = []\n",
    "\n",
    "for vp in predicates_vectors:\n",
    "    comandos.append(service.step(vp))\n",
    "\n",
    "\n",
    "for comando in comandos:\n",
    "    print(comando)"
   ]
  },
  {
   "cell_type": "code",
   "execution_count": 1,
   "metadata": {},
   "outputs": [
    {
     "name": "stdout",
     "output_type": "stream",
     "text": [
      "Ontology loaded. \n"
     ]
    },
    {
     "name": "stderr",
     "output_type": "stream",
     "text": [
      "* Owlready2 * Running Pellet...\n",
      "    /usr/bin/java -Xmx2000M -cp /home/juanmhl/miniconda3/envs/uma-ontology/lib/python3.12/site-packages/owlready2/pellet/jcl-over-slf4j-1.6.4.jar:/home/juanmhl/miniconda3/envs/uma-ontology/lib/python3.12/site-packages/owlready2/pellet/httpcore-4.2.2.jar:/home/juanmhl/miniconda3/envs/uma-ontology/lib/python3.12/site-packages/owlready2/pellet/jena-iri-0.9.5.jar:/home/juanmhl/miniconda3/envs/uma-ontology/lib/python3.12/site-packages/owlready2/pellet/owlapi-distribution-3.4.3-bin.jar:/home/juanmhl/miniconda3/envs/uma-ontology/lib/python3.12/site-packages/owlready2/pellet/slf4j-api-1.6.4.jar:/home/juanmhl/miniconda3/envs/uma-ontology/lib/python3.12/site-packages/owlready2/pellet/xercesImpl-2.10.0.jar:/home/juanmhl/miniconda3/envs/uma-ontology/lib/python3.12/site-packages/owlready2/pellet/slf4j-log4j12-1.6.4.jar:/home/juanmhl/miniconda3/envs/uma-ontology/lib/python3.12/site-packages/owlready2/pellet/jena-tdb-0.10.0.jar:/home/juanmhl/miniconda3/envs/uma-ontology/lib/python3.12/site-packages/owlready2/pellet/jena-arq-2.10.0.jar:/home/juanmhl/miniconda3/envs/uma-ontology/lib/python3.12/site-packages/owlready2/pellet/log4j-core-2.19.0.jar:/home/juanmhl/miniconda3/envs/uma-ontology/lib/python3.12/site-packages/owlready2/pellet/log4j-api-2.19.0.jar:/home/juanmhl/miniconda3/envs/uma-ontology/lib/python3.12/site-packages/owlready2/pellet/jena-core-2.10.0.jar:/home/juanmhl/miniconda3/envs/uma-ontology/lib/python3.12/site-packages/owlready2/pellet/xml-apis-1.4.01.jar:/home/juanmhl/miniconda3/envs/uma-ontology/lib/python3.12/site-packages/owlready2/pellet/httpclient-4.2.3.jar:/home/juanmhl/miniconda3/envs/uma-ontology/lib/python3.12/site-packages/owlready2/pellet/pellet-2.3.1.jar:/home/juanmhl/miniconda3/envs/uma-ontology/lib/python3.12/site-packages/owlready2/pellet/antlr-3.2.jar:/home/juanmhl/miniconda3/envs/uma-ontology/lib/python3.12/site-packages/owlready2/pellet/antlr-runtime-3.2.jar:/home/juanmhl/miniconda3/envs/uma-ontology/lib/python3.12/site-packages/owlready2/pellet/jgrapht-jdk1.5.jar:/home/juanmhl/miniconda3/envs/uma-ontology/lib/python3.12/site-packages/owlready2/pellet/aterm-java-1.6.jar:/home/juanmhl/miniconda3/envs/uma-ontology/lib/python3.12/site-packages/owlready2/pellet/commons-codec-1.6.jar:/home/juanmhl/miniconda3/envs/uma-ontology/lib/python3.12/site-packages/owlready2/pellet/log4j-1.2-api-2.19.0.jar pellet.Pellet realize --loader Jena --input-format N-Triples --infer-prop-values --infer-data-prop-values --ignore-imports /tmp/tmpkisi0f91\n",
      "* Owlready2 * Pellet took 0.6233959197998047 seconds\n",
      "* Owlready * (NB: only changes on entities loaded in Python are shown, other changes are done but not listed)\n",
      "* Owlready2 * Running Pellet...\n",
      "    /usr/bin/java -Xmx2000M -cp /home/juanmhl/miniconda3/envs/uma-ontology/lib/python3.12/site-packages/owlready2/pellet/jcl-over-slf4j-1.6.4.jar:/home/juanmhl/miniconda3/envs/uma-ontology/lib/python3.12/site-packages/owlready2/pellet/httpcore-4.2.2.jar:/home/juanmhl/miniconda3/envs/uma-ontology/lib/python3.12/site-packages/owlready2/pellet/jena-iri-0.9.5.jar:/home/juanmhl/miniconda3/envs/uma-ontology/lib/python3.12/site-packages/owlready2/pellet/owlapi-distribution-3.4.3-bin.jar:/home/juanmhl/miniconda3/envs/uma-ontology/lib/python3.12/site-packages/owlready2/pellet/slf4j-api-1.6.4.jar:/home/juanmhl/miniconda3/envs/uma-ontology/lib/python3.12/site-packages/owlready2/pellet/xercesImpl-2.10.0.jar:/home/juanmhl/miniconda3/envs/uma-ontology/lib/python3.12/site-packages/owlready2/pellet/slf4j-log4j12-1.6.4.jar:/home/juanmhl/miniconda3/envs/uma-ontology/lib/python3.12/site-packages/owlready2/pellet/jena-tdb-0.10.0.jar:/home/juanmhl/miniconda3/envs/uma-ontology/lib/python3.12/site-packages/owlready2/pellet/jena-arq-2.10.0.jar:/home/juanmhl/miniconda3/envs/uma-ontology/lib/python3.12/site-packages/owlready2/pellet/log4j-core-2.19.0.jar:/home/juanmhl/miniconda3/envs/uma-ontology/lib/python3.12/site-packages/owlready2/pellet/log4j-api-2.19.0.jar:/home/juanmhl/miniconda3/envs/uma-ontology/lib/python3.12/site-packages/owlready2/pellet/jena-core-2.10.0.jar:/home/juanmhl/miniconda3/envs/uma-ontology/lib/python3.12/site-packages/owlready2/pellet/xml-apis-1.4.01.jar:/home/juanmhl/miniconda3/envs/uma-ontology/lib/python3.12/site-packages/owlready2/pellet/httpclient-4.2.3.jar:/home/juanmhl/miniconda3/envs/uma-ontology/lib/python3.12/site-packages/owlready2/pellet/pellet-2.3.1.jar:/home/juanmhl/miniconda3/envs/uma-ontology/lib/python3.12/site-packages/owlready2/pellet/antlr-3.2.jar:/home/juanmhl/miniconda3/envs/uma-ontology/lib/python3.12/site-packages/owlready2/pellet/antlr-runtime-3.2.jar:/home/juanmhl/miniconda3/envs/uma-ontology/lib/python3.12/site-packages/owlready2/pellet/jgrapht-jdk1.5.jar:/home/juanmhl/miniconda3/envs/uma-ontology/lib/python3.12/site-packages/owlready2/pellet/aterm-java-1.6.jar:/home/juanmhl/miniconda3/envs/uma-ontology/lib/python3.12/site-packages/owlready2/pellet/commons-codec-1.6.jar:/home/juanmhl/miniconda3/envs/uma-ontology/lib/python3.12/site-packages/owlready2/pellet/log4j-1.2-api-2.19.0.jar pellet.Pellet realize --loader Jena --input-format N-Triples --infer-prop-values --infer-data-prop-values --ignore-imports /tmp/tmpcfmyxyo1\n",
      "* Owlready2 * Pellet took 0.6010141372680664 seconds\n",
      "* Owlready * (NB: only changes on entities loaded in Python are shown, other changes are done but not listed)\n",
      "* Owlready2 * Running Pellet...\n",
      "    /usr/bin/java -Xmx2000M -cp /home/juanmhl/miniconda3/envs/uma-ontology/lib/python3.12/site-packages/owlready2/pellet/jcl-over-slf4j-1.6.4.jar:/home/juanmhl/miniconda3/envs/uma-ontology/lib/python3.12/site-packages/owlready2/pellet/httpcore-4.2.2.jar:/home/juanmhl/miniconda3/envs/uma-ontology/lib/python3.12/site-packages/owlready2/pellet/jena-iri-0.9.5.jar:/home/juanmhl/miniconda3/envs/uma-ontology/lib/python3.12/site-packages/owlready2/pellet/owlapi-distribution-3.4.3-bin.jar:/home/juanmhl/miniconda3/envs/uma-ontology/lib/python3.12/site-packages/owlready2/pellet/slf4j-api-1.6.4.jar:/home/juanmhl/miniconda3/envs/uma-ontology/lib/python3.12/site-packages/owlready2/pellet/xercesImpl-2.10.0.jar:/home/juanmhl/miniconda3/envs/uma-ontology/lib/python3.12/site-packages/owlready2/pellet/slf4j-log4j12-1.6.4.jar:/home/juanmhl/miniconda3/envs/uma-ontology/lib/python3.12/site-packages/owlready2/pellet/jena-tdb-0.10.0.jar:/home/juanmhl/miniconda3/envs/uma-ontology/lib/python3.12/site-packages/owlready2/pellet/jena-arq-2.10.0.jar:/home/juanmhl/miniconda3/envs/uma-ontology/lib/python3.12/site-packages/owlready2/pellet/log4j-core-2.19.0.jar:/home/juanmhl/miniconda3/envs/uma-ontology/lib/python3.12/site-packages/owlready2/pellet/log4j-api-2.19.0.jar:/home/juanmhl/miniconda3/envs/uma-ontology/lib/python3.12/site-packages/owlready2/pellet/jena-core-2.10.0.jar:/home/juanmhl/miniconda3/envs/uma-ontology/lib/python3.12/site-packages/owlready2/pellet/xml-apis-1.4.01.jar:/home/juanmhl/miniconda3/envs/uma-ontology/lib/python3.12/site-packages/owlready2/pellet/httpclient-4.2.3.jar:/home/juanmhl/miniconda3/envs/uma-ontology/lib/python3.12/site-packages/owlready2/pellet/pellet-2.3.1.jar:/home/juanmhl/miniconda3/envs/uma-ontology/lib/python3.12/site-packages/owlready2/pellet/antlr-3.2.jar:/home/juanmhl/miniconda3/envs/uma-ontology/lib/python3.12/site-packages/owlready2/pellet/antlr-runtime-3.2.jar:/home/juanmhl/miniconda3/envs/uma-ontology/lib/python3.12/site-packages/owlready2/pellet/jgrapht-jdk1.5.jar:/home/juanmhl/miniconda3/envs/uma-ontology/lib/python3.12/site-packages/owlready2/pellet/aterm-java-1.6.jar:/home/juanmhl/miniconda3/envs/uma-ontology/lib/python3.12/site-packages/owlready2/pellet/commons-codec-1.6.jar:/home/juanmhl/miniconda3/envs/uma-ontology/lib/python3.12/site-packages/owlready2/pellet/log4j-1.2-api-2.19.0.jar pellet.Pellet realize --loader Jena --input-format N-Triples --infer-prop-values --infer-data-prop-values --ignore-imports /tmp/tmp9xk5y6q2\n"
     ]
    },
    {
     "name": "stdout",
     "output_type": "stream",
     "text": [
      "* Owlready * Adding relation ontology.ps2 puntoSuturaActual true\n"
     ]
    },
    {
     "name": "stderr",
     "output_type": "stream",
     "text": [
      "* Owlready2 * Pellet took 0.594588041305542 seconds\n",
      "* Owlready * (NB: only changes on entities loaded in Python are shown, other changes are done but not listed)\n",
      "* Owlready2 * Running Pellet...\n",
      "    /usr/bin/java -Xmx2000M -cp /home/juanmhl/miniconda3/envs/uma-ontology/lib/python3.12/site-packages/owlready2/pellet/jcl-over-slf4j-1.6.4.jar:/home/juanmhl/miniconda3/envs/uma-ontology/lib/python3.12/site-packages/owlready2/pellet/httpcore-4.2.2.jar:/home/juanmhl/miniconda3/envs/uma-ontology/lib/python3.12/site-packages/owlready2/pellet/jena-iri-0.9.5.jar:/home/juanmhl/miniconda3/envs/uma-ontology/lib/python3.12/site-packages/owlready2/pellet/owlapi-distribution-3.4.3-bin.jar:/home/juanmhl/miniconda3/envs/uma-ontology/lib/python3.12/site-packages/owlready2/pellet/slf4j-api-1.6.4.jar:/home/juanmhl/miniconda3/envs/uma-ontology/lib/python3.12/site-packages/owlready2/pellet/xercesImpl-2.10.0.jar:/home/juanmhl/miniconda3/envs/uma-ontology/lib/python3.12/site-packages/owlready2/pellet/slf4j-log4j12-1.6.4.jar:/home/juanmhl/miniconda3/envs/uma-ontology/lib/python3.12/site-packages/owlready2/pellet/jena-tdb-0.10.0.jar:/home/juanmhl/miniconda3/envs/uma-ontology/lib/python3.12/site-packages/owlready2/pellet/jena-arq-2.10.0.jar:/home/juanmhl/miniconda3/envs/uma-ontology/lib/python3.12/site-packages/owlready2/pellet/log4j-core-2.19.0.jar:/home/juanmhl/miniconda3/envs/uma-ontology/lib/python3.12/site-packages/owlready2/pellet/log4j-api-2.19.0.jar:/home/juanmhl/miniconda3/envs/uma-ontology/lib/python3.12/site-packages/owlready2/pellet/jena-core-2.10.0.jar:/home/juanmhl/miniconda3/envs/uma-ontology/lib/python3.12/site-packages/owlready2/pellet/xml-apis-1.4.01.jar:/home/juanmhl/miniconda3/envs/uma-ontology/lib/python3.12/site-packages/owlready2/pellet/httpclient-4.2.3.jar:/home/juanmhl/miniconda3/envs/uma-ontology/lib/python3.12/site-packages/owlready2/pellet/pellet-2.3.1.jar:/home/juanmhl/miniconda3/envs/uma-ontology/lib/python3.12/site-packages/owlready2/pellet/antlr-3.2.jar:/home/juanmhl/miniconda3/envs/uma-ontology/lib/python3.12/site-packages/owlready2/pellet/antlr-runtime-3.2.jar:/home/juanmhl/miniconda3/envs/uma-ontology/lib/python3.12/site-packages/owlready2/pellet/jgrapht-jdk1.5.jar:/home/juanmhl/miniconda3/envs/uma-ontology/lib/python3.12/site-packages/owlready2/pellet/aterm-java-1.6.jar:/home/juanmhl/miniconda3/envs/uma-ontology/lib/python3.12/site-packages/owlready2/pellet/commons-codec-1.6.jar:/home/juanmhl/miniconda3/envs/uma-ontology/lib/python3.12/site-packages/owlready2/pellet/log4j-1.2-api-2.19.0.jar pellet.Pellet realize --loader Jena --input-format N-Triples --infer-prop-values --infer-data-prop-values --ignore-imports /tmp/tmpo11s0db6\n"
     ]
    },
    {
     "name": "stdout",
     "output_type": "stream",
     "text": [
      "* Owlready * Adding relation ontology.fase2 faseActual true\n",
      "* Owlready * Adding relation ontology.fase3 faseSiguiente true\n"
     ]
    },
    {
     "name": "stderr",
     "output_type": "stream",
     "text": [
      "* Owlready2 * Pellet took 0.6206760406494141 seconds\n",
      "* Owlready * (NB: only changes on entities loaded in Python are shown, other changes are done but not listed)\n",
      "* Owlready2 * Running Pellet...\n",
      "    /usr/bin/java -Xmx2000M -cp /home/juanmhl/miniconda3/envs/uma-ontology/lib/python3.12/site-packages/owlready2/pellet/jcl-over-slf4j-1.6.4.jar:/home/juanmhl/miniconda3/envs/uma-ontology/lib/python3.12/site-packages/owlready2/pellet/httpcore-4.2.2.jar:/home/juanmhl/miniconda3/envs/uma-ontology/lib/python3.12/site-packages/owlready2/pellet/jena-iri-0.9.5.jar:/home/juanmhl/miniconda3/envs/uma-ontology/lib/python3.12/site-packages/owlready2/pellet/owlapi-distribution-3.4.3-bin.jar:/home/juanmhl/miniconda3/envs/uma-ontology/lib/python3.12/site-packages/owlready2/pellet/slf4j-api-1.6.4.jar:/home/juanmhl/miniconda3/envs/uma-ontology/lib/python3.12/site-packages/owlready2/pellet/xercesImpl-2.10.0.jar:/home/juanmhl/miniconda3/envs/uma-ontology/lib/python3.12/site-packages/owlready2/pellet/slf4j-log4j12-1.6.4.jar:/home/juanmhl/miniconda3/envs/uma-ontology/lib/python3.12/site-packages/owlready2/pellet/jena-tdb-0.10.0.jar:/home/juanmhl/miniconda3/envs/uma-ontology/lib/python3.12/site-packages/owlready2/pellet/jena-arq-2.10.0.jar:/home/juanmhl/miniconda3/envs/uma-ontology/lib/python3.12/site-packages/owlready2/pellet/log4j-core-2.19.0.jar:/home/juanmhl/miniconda3/envs/uma-ontology/lib/python3.12/site-packages/owlready2/pellet/log4j-api-2.19.0.jar:/home/juanmhl/miniconda3/envs/uma-ontology/lib/python3.12/site-packages/owlready2/pellet/jena-core-2.10.0.jar:/home/juanmhl/miniconda3/envs/uma-ontology/lib/python3.12/site-packages/owlready2/pellet/xml-apis-1.4.01.jar:/home/juanmhl/miniconda3/envs/uma-ontology/lib/python3.12/site-packages/owlready2/pellet/httpclient-4.2.3.jar:/home/juanmhl/miniconda3/envs/uma-ontology/lib/python3.12/site-packages/owlready2/pellet/pellet-2.3.1.jar:/home/juanmhl/miniconda3/envs/uma-ontology/lib/python3.12/site-packages/owlready2/pellet/antlr-3.2.jar:/home/juanmhl/miniconda3/envs/uma-ontology/lib/python3.12/site-packages/owlready2/pellet/antlr-runtime-3.2.jar:/home/juanmhl/miniconda3/envs/uma-ontology/lib/python3.12/site-packages/owlready2/pellet/jgrapht-jdk1.5.jar:/home/juanmhl/miniconda3/envs/uma-ontology/lib/python3.12/site-packages/owlready2/pellet/aterm-java-1.6.jar:/home/juanmhl/miniconda3/envs/uma-ontology/lib/python3.12/site-packages/owlready2/pellet/commons-codec-1.6.jar:/home/juanmhl/miniconda3/envs/uma-ontology/lib/python3.12/site-packages/owlready2/pellet/log4j-1.2-api-2.19.0.jar pellet.Pellet realize --loader Jena --input-format N-Triples --infer-prop-values --infer-data-prop-values --ignore-imports /tmp/tmp_lvwtcd4\n"
     ]
    },
    {
     "name": "stdout",
     "output_type": "stream",
     "text": [
      "* Owlready * Adding relation ontology.fase3 faseActual true\n",
      "* Owlready * Adding relation ontology.fase4 faseSiguiente true\n"
     ]
    },
    {
     "name": "stderr",
     "output_type": "stream",
     "text": [
      "* Owlready2 * Pellet took 0.6106839179992676 seconds\n",
      "* Owlready * (NB: only changes on entities loaded in Python are shown, other changes are done but not listed)\n",
      "* Owlready2 * Running Pellet...\n",
      "    /usr/bin/java -Xmx2000M -cp /home/juanmhl/miniconda3/envs/uma-ontology/lib/python3.12/site-packages/owlready2/pellet/jcl-over-slf4j-1.6.4.jar:/home/juanmhl/miniconda3/envs/uma-ontology/lib/python3.12/site-packages/owlready2/pellet/httpcore-4.2.2.jar:/home/juanmhl/miniconda3/envs/uma-ontology/lib/python3.12/site-packages/owlready2/pellet/jena-iri-0.9.5.jar:/home/juanmhl/miniconda3/envs/uma-ontology/lib/python3.12/site-packages/owlready2/pellet/owlapi-distribution-3.4.3-bin.jar:/home/juanmhl/miniconda3/envs/uma-ontology/lib/python3.12/site-packages/owlready2/pellet/slf4j-api-1.6.4.jar:/home/juanmhl/miniconda3/envs/uma-ontology/lib/python3.12/site-packages/owlready2/pellet/xercesImpl-2.10.0.jar:/home/juanmhl/miniconda3/envs/uma-ontology/lib/python3.12/site-packages/owlready2/pellet/slf4j-log4j12-1.6.4.jar:/home/juanmhl/miniconda3/envs/uma-ontology/lib/python3.12/site-packages/owlready2/pellet/jena-tdb-0.10.0.jar:/home/juanmhl/miniconda3/envs/uma-ontology/lib/python3.12/site-packages/owlready2/pellet/jena-arq-2.10.0.jar:/home/juanmhl/miniconda3/envs/uma-ontology/lib/python3.12/site-packages/owlready2/pellet/log4j-core-2.19.0.jar:/home/juanmhl/miniconda3/envs/uma-ontology/lib/python3.12/site-packages/owlready2/pellet/log4j-api-2.19.0.jar:/home/juanmhl/miniconda3/envs/uma-ontology/lib/python3.12/site-packages/owlready2/pellet/jena-core-2.10.0.jar:/home/juanmhl/miniconda3/envs/uma-ontology/lib/python3.12/site-packages/owlready2/pellet/xml-apis-1.4.01.jar:/home/juanmhl/miniconda3/envs/uma-ontology/lib/python3.12/site-packages/owlready2/pellet/httpclient-4.2.3.jar:/home/juanmhl/miniconda3/envs/uma-ontology/lib/python3.12/site-packages/owlready2/pellet/pellet-2.3.1.jar:/home/juanmhl/miniconda3/envs/uma-ontology/lib/python3.12/site-packages/owlready2/pellet/antlr-3.2.jar:/home/juanmhl/miniconda3/envs/uma-ontology/lib/python3.12/site-packages/owlready2/pellet/antlr-runtime-3.2.jar:/home/juanmhl/miniconda3/envs/uma-ontology/lib/python3.12/site-packages/owlready2/pellet/jgrapht-jdk1.5.jar:/home/juanmhl/miniconda3/envs/uma-ontology/lib/python3.12/site-packages/owlready2/pellet/aterm-java-1.6.jar:/home/juanmhl/miniconda3/envs/uma-ontology/lib/python3.12/site-packages/owlready2/pellet/commons-codec-1.6.jar:/home/juanmhl/miniconda3/envs/uma-ontology/lib/python3.12/site-packages/owlready2/pellet/log4j-1.2-api-2.19.0.jar pellet.Pellet realize --loader Jena --input-format N-Triples --infer-prop-values --infer-data-prop-values --ignore-imports /tmp/tmppe5cmgwo\n"
     ]
    },
    {
     "name": "stdout",
     "output_type": "stream",
     "text": [
      "* Owlready * Adding relation ontology.fase5 faseSiguiente true\n",
      "* Owlready * Adding relation ontology.fase4 faseActual true\n"
     ]
    },
    {
     "name": "stderr",
     "output_type": "stream",
     "text": [
      "* Owlready2 * Pellet took 0.6022112369537354 seconds\n",
      "* Owlready * (NB: only changes on entities loaded in Python are shown, other changes are done but not listed)\n",
      "* Owlready2 * Running Pellet...\n",
      "    /usr/bin/java -Xmx2000M -cp /home/juanmhl/miniconda3/envs/uma-ontology/lib/python3.12/site-packages/owlready2/pellet/jcl-over-slf4j-1.6.4.jar:/home/juanmhl/miniconda3/envs/uma-ontology/lib/python3.12/site-packages/owlready2/pellet/httpcore-4.2.2.jar:/home/juanmhl/miniconda3/envs/uma-ontology/lib/python3.12/site-packages/owlready2/pellet/jena-iri-0.9.5.jar:/home/juanmhl/miniconda3/envs/uma-ontology/lib/python3.12/site-packages/owlready2/pellet/owlapi-distribution-3.4.3-bin.jar:/home/juanmhl/miniconda3/envs/uma-ontology/lib/python3.12/site-packages/owlready2/pellet/slf4j-api-1.6.4.jar:/home/juanmhl/miniconda3/envs/uma-ontology/lib/python3.12/site-packages/owlready2/pellet/xercesImpl-2.10.0.jar:/home/juanmhl/miniconda3/envs/uma-ontology/lib/python3.12/site-packages/owlready2/pellet/slf4j-log4j12-1.6.4.jar:/home/juanmhl/miniconda3/envs/uma-ontology/lib/python3.12/site-packages/owlready2/pellet/jena-tdb-0.10.0.jar:/home/juanmhl/miniconda3/envs/uma-ontology/lib/python3.12/site-packages/owlready2/pellet/jena-arq-2.10.0.jar:/home/juanmhl/miniconda3/envs/uma-ontology/lib/python3.12/site-packages/owlready2/pellet/log4j-core-2.19.0.jar:/home/juanmhl/miniconda3/envs/uma-ontology/lib/python3.12/site-packages/owlready2/pellet/log4j-api-2.19.0.jar:/home/juanmhl/miniconda3/envs/uma-ontology/lib/python3.12/site-packages/owlready2/pellet/jena-core-2.10.0.jar:/home/juanmhl/miniconda3/envs/uma-ontology/lib/python3.12/site-packages/owlready2/pellet/xml-apis-1.4.01.jar:/home/juanmhl/miniconda3/envs/uma-ontology/lib/python3.12/site-packages/owlready2/pellet/httpclient-4.2.3.jar:/home/juanmhl/miniconda3/envs/uma-ontology/lib/python3.12/site-packages/owlready2/pellet/pellet-2.3.1.jar:/home/juanmhl/miniconda3/envs/uma-ontology/lib/python3.12/site-packages/owlready2/pellet/antlr-3.2.jar:/home/juanmhl/miniconda3/envs/uma-ontology/lib/python3.12/site-packages/owlready2/pellet/antlr-runtime-3.2.jar:/home/juanmhl/miniconda3/envs/uma-ontology/lib/python3.12/site-packages/owlready2/pellet/jgrapht-jdk1.5.jar:/home/juanmhl/miniconda3/envs/uma-ontology/lib/python3.12/site-packages/owlready2/pellet/aterm-java-1.6.jar:/home/juanmhl/miniconda3/envs/uma-ontology/lib/python3.12/site-packages/owlready2/pellet/commons-codec-1.6.jar:/home/juanmhl/miniconda3/envs/uma-ontology/lib/python3.12/site-packages/owlready2/pellet/log4j-1.2-api-2.19.0.jar pellet.Pellet realize --loader Jena --input-format N-Triples --infer-prop-values --infer-data-prop-values --ignore-imports /tmp/tmpb0l49u2_\n"
     ]
    },
    {
     "name": "stdout",
     "output_type": "stream",
     "text": [
      "* Owlready * Adding relation ontology.fase6 faseSiguiente true\n",
      "* Owlready * Adding relation ontology.fase5 faseActual true\n"
     ]
    },
    {
     "name": "stderr",
     "output_type": "stream",
     "text": [
      "* Owlready2 * Pellet took 0.6458265781402588 seconds\n",
      "* Owlready * (NB: only changes on entities loaded in Python are shown, other changes are done but not listed)\n",
      "* Owlready2 * Running Pellet...\n",
      "    /usr/bin/java -Xmx2000M -cp /home/juanmhl/miniconda3/envs/uma-ontology/lib/python3.12/site-packages/owlready2/pellet/jcl-over-slf4j-1.6.4.jar:/home/juanmhl/miniconda3/envs/uma-ontology/lib/python3.12/site-packages/owlready2/pellet/httpcore-4.2.2.jar:/home/juanmhl/miniconda3/envs/uma-ontology/lib/python3.12/site-packages/owlready2/pellet/jena-iri-0.9.5.jar:/home/juanmhl/miniconda3/envs/uma-ontology/lib/python3.12/site-packages/owlready2/pellet/owlapi-distribution-3.4.3-bin.jar:/home/juanmhl/miniconda3/envs/uma-ontology/lib/python3.12/site-packages/owlready2/pellet/slf4j-api-1.6.4.jar:/home/juanmhl/miniconda3/envs/uma-ontology/lib/python3.12/site-packages/owlready2/pellet/xercesImpl-2.10.0.jar:/home/juanmhl/miniconda3/envs/uma-ontology/lib/python3.12/site-packages/owlready2/pellet/slf4j-log4j12-1.6.4.jar:/home/juanmhl/miniconda3/envs/uma-ontology/lib/python3.12/site-packages/owlready2/pellet/jena-tdb-0.10.0.jar:/home/juanmhl/miniconda3/envs/uma-ontology/lib/python3.12/site-packages/owlready2/pellet/jena-arq-2.10.0.jar:/home/juanmhl/miniconda3/envs/uma-ontology/lib/python3.12/site-packages/owlready2/pellet/log4j-core-2.19.0.jar:/home/juanmhl/miniconda3/envs/uma-ontology/lib/python3.12/site-packages/owlready2/pellet/log4j-api-2.19.0.jar:/home/juanmhl/miniconda3/envs/uma-ontology/lib/python3.12/site-packages/owlready2/pellet/jena-core-2.10.0.jar:/home/juanmhl/miniconda3/envs/uma-ontology/lib/python3.12/site-packages/owlready2/pellet/xml-apis-1.4.01.jar:/home/juanmhl/miniconda3/envs/uma-ontology/lib/python3.12/site-packages/owlready2/pellet/httpclient-4.2.3.jar:/home/juanmhl/miniconda3/envs/uma-ontology/lib/python3.12/site-packages/owlready2/pellet/pellet-2.3.1.jar:/home/juanmhl/miniconda3/envs/uma-ontology/lib/python3.12/site-packages/owlready2/pellet/antlr-3.2.jar:/home/juanmhl/miniconda3/envs/uma-ontology/lib/python3.12/site-packages/owlready2/pellet/antlr-runtime-3.2.jar:/home/juanmhl/miniconda3/envs/uma-ontology/lib/python3.12/site-packages/owlready2/pellet/jgrapht-jdk1.5.jar:/home/juanmhl/miniconda3/envs/uma-ontology/lib/python3.12/site-packages/owlready2/pellet/aterm-java-1.6.jar:/home/juanmhl/miniconda3/envs/uma-ontology/lib/python3.12/site-packages/owlready2/pellet/commons-codec-1.6.jar:/home/juanmhl/miniconda3/envs/uma-ontology/lib/python3.12/site-packages/owlready2/pellet/log4j-1.2-api-2.19.0.jar pellet.Pellet realize --loader Jena --input-format N-Triples --infer-prop-values --infer-data-prop-values --ignore-imports /tmp/tmp5o80l484\n"
     ]
    },
    {
     "name": "stdout",
     "output_type": "stream",
     "text": [
      "* Owlready * Adding relation ontology.fase6 faseActual true\n",
      "* Owlready * Adding relation ontology.fase7 faseSiguiente true\n"
     ]
    },
    {
     "name": "stderr",
     "output_type": "stream",
     "text": [
      "* Owlready2 * Pellet took 0.6122064590454102 seconds\n",
      "* Owlready * (NB: only changes on entities loaded in Python are shown, other changes are done but not listed)\n",
      "* Owlready2 * Running Pellet...\n",
      "    /usr/bin/java -Xmx2000M -cp /home/juanmhl/miniconda3/envs/uma-ontology/lib/python3.12/site-packages/owlready2/pellet/jcl-over-slf4j-1.6.4.jar:/home/juanmhl/miniconda3/envs/uma-ontology/lib/python3.12/site-packages/owlready2/pellet/httpcore-4.2.2.jar:/home/juanmhl/miniconda3/envs/uma-ontology/lib/python3.12/site-packages/owlready2/pellet/jena-iri-0.9.5.jar:/home/juanmhl/miniconda3/envs/uma-ontology/lib/python3.12/site-packages/owlready2/pellet/owlapi-distribution-3.4.3-bin.jar:/home/juanmhl/miniconda3/envs/uma-ontology/lib/python3.12/site-packages/owlready2/pellet/slf4j-api-1.6.4.jar:/home/juanmhl/miniconda3/envs/uma-ontology/lib/python3.12/site-packages/owlready2/pellet/xercesImpl-2.10.0.jar:/home/juanmhl/miniconda3/envs/uma-ontology/lib/python3.12/site-packages/owlready2/pellet/slf4j-log4j12-1.6.4.jar:/home/juanmhl/miniconda3/envs/uma-ontology/lib/python3.12/site-packages/owlready2/pellet/jena-tdb-0.10.0.jar:/home/juanmhl/miniconda3/envs/uma-ontology/lib/python3.12/site-packages/owlready2/pellet/jena-arq-2.10.0.jar:/home/juanmhl/miniconda3/envs/uma-ontology/lib/python3.12/site-packages/owlready2/pellet/log4j-core-2.19.0.jar:/home/juanmhl/miniconda3/envs/uma-ontology/lib/python3.12/site-packages/owlready2/pellet/log4j-api-2.19.0.jar:/home/juanmhl/miniconda3/envs/uma-ontology/lib/python3.12/site-packages/owlready2/pellet/jena-core-2.10.0.jar:/home/juanmhl/miniconda3/envs/uma-ontology/lib/python3.12/site-packages/owlready2/pellet/xml-apis-1.4.01.jar:/home/juanmhl/miniconda3/envs/uma-ontology/lib/python3.12/site-packages/owlready2/pellet/httpclient-4.2.3.jar:/home/juanmhl/miniconda3/envs/uma-ontology/lib/python3.12/site-packages/owlready2/pellet/pellet-2.3.1.jar:/home/juanmhl/miniconda3/envs/uma-ontology/lib/python3.12/site-packages/owlready2/pellet/antlr-3.2.jar:/home/juanmhl/miniconda3/envs/uma-ontology/lib/python3.12/site-packages/owlready2/pellet/antlr-runtime-3.2.jar:/home/juanmhl/miniconda3/envs/uma-ontology/lib/python3.12/site-packages/owlready2/pellet/jgrapht-jdk1.5.jar:/home/juanmhl/miniconda3/envs/uma-ontology/lib/python3.12/site-packages/owlready2/pellet/aterm-java-1.6.jar:/home/juanmhl/miniconda3/envs/uma-ontology/lib/python3.12/site-packages/owlready2/pellet/commons-codec-1.6.jar:/home/juanmhl/miniconda3/envs/uma-ontology/lib/python3.12/site-packages/owlready2/pellet/log4j-1.2-api-2.19.0.jar pellet.Pellet realize --loader Jena --input-format N-Triples --infer-prop-values --infer-data-prop-values --ignore-imports /tmp/tmpo89c1jos\n"
     ]
    },
    {
     "name": "stdout",
     "output_type": "stream",
     "text": [
      "* Owlready * Adding relation ontology.fase8 faseSiguiente true\n",
      "* Owlready * Adding relation ontology.fase7 faseActual true\n"
     ]
    },
    {
     "name": "stderr",
     "output_type": "stream",
     "text": [
      "* Owlready2 * Pellet took 0.6052780151367188 seconds\n",
      "* Owlready * (NB: only changes on entities loaded in Python are shown, other changes are done but not listed)\n",
      "* Owlready2 * Running Pellet...\n",
      "    /usr/bin/java -Xmx2000M -cp /home/juanmhl/miniconda3/envs/uma-ontology/lib/python3.12/site-packages/owlready2/pellet/jcl-over-slf4j-1.6.4.jar:/home/juanmhl/miniconda3/envs/uma-ontology/lib/python3.12/site-packages/owlready2/pellet/httpcore-4.2.2.jar:/home/juanmhl/miniconda3/envs/uma-ontology/lib/python3.12/site-packages/owlready2/pellet/jena-iri-0.9.5.jar:/home/juanmhl/miniconda3/envs/uma-ontology/lib/python3.12/site-packages/owlready2/pellet/owlapi-distribution-3.4.3-bin.jar:/home/juanmhl/miniconda3/envs/uma-ontology/lib/python3.12/site-packages/owlready2/pellet/slf4j-api-1.6.4.jar:/home/juanmhl/miniconda3/envs/uma-ontology/lib/python3.12/site-packages/owlready2/pellet/xercesImpl-2.10.0.jar:/home/juanmhl/miniconda3/envs/uma-ontology/lib/python3.12/site-packages/owlready2/pellet/slf4j-log4j12-1.6.4.jar:/home/juanmhl/miniconda3/envs/uma-ontology/lib/python3.12/site-packages/owlready2/pellet/jena-tdb-0.10.0.jar:/home/juanmhl/miniconda3/envs/uma-ontology/lib/python3.12/site-packages/owlready2/pellet/jena-arq-2.10.0.jar:/home/juanmhl/miniconda3/envs/uma-ontology/lib/python3.12/site-packages/owlready2/pellet/log4j-core-2.19.0.jar:/home/juanmhl/miniconda3/envs/uma-ontology/lib/python3.12/site-packages/owlready2/pellet/log4j-api-2.19.0.jar:/home/juanmhl/miniconda3/envs/uma-ontology/lib/python3.12/site-packages/owlready2/pellet/jena-core-2.10.0.jar:/home/juanmhl/miniconda3/envs/uma-ontology/lib/python3.12/site-packages/owlready2/pellet/xml-apis-1.4.01.jar:/home/juanmhl/miniconda3/envs/uma-ontology/lib/python3.12/site-packages/owlready2/pellet/httpclient-4.2.3.jar:/home/juanmhl/miniconda3/envs/uma-ontology/lib/python3.12/site-packages/owlready2/pellet/pellet-2.3.1.jar:/home/juanmhl/miniconda3/envs/uma-ontology/lib/python3.12/site-packages/owlready2/pellet/antlr-3.2.jar:/home/juanmhl/miniconda3/envs/uma-ontology/lib/python3.12/site-packages/owlready2/pellet/antlr-runtime-3.2.jar:/home/juanmhl/miniconda3/envs/uma-ontology/lib/python3.12/site-packages/owlready2/pellet/jgrapht-jdk1.5.jar:/home/juanmhl/miniconda3/envs/uma-ontology/lib/python3.12/site-packages/owlready2/pellet/aterm-java-1.6.jar:/home/juanmhl/miniconda3/envs/uma-ontology/lib/python3.12/site-packages/owlready2/pellet/commons-codec-1.6.jar:/home/juanmhl/miniconda3/envs/uma-ontology/lib/python3.12/site-packages/owlready2/pellet/log4j-1.2-api-2.19.0.jar pellet.Pellet realize --loader Jena --input-format N-Triples --infer-prop-values --infer-data-prop-values --ignore-imports /tmp/tmp20i5t4vj\n"
     ]
    },
    {
     "name": "stdout",
     "output_type": "stream",
     "text": [
      "* Owlready * Adding relation ontology.fase9 faseSiguiente true\n",
      "* Owlready * Adding relation ontology.fase8 faseActual true\n"
     ]
    },
    {
     "name": "stderr",
     "output_type": "stream",
     "text": [
      "* Owlready2 * Pellet took 0.5973670482635498 seconds\n",
      "* Owlready * (NB: only changes on entities loaded in Python are shown, other changes are done but not listed)\n",
      "* Owlready2 * Running Pellet...\n",
      "    /usr/bin/java -Xmx2000M -cp /home/juanmhl/miniconda3/envs/uma-ontology/lib/python3.12/site-packages/owlready2/pellet/jcl-over-slf4j-1.6.4.jar:/home/juanmhl/miniconda3/envs/uma-ontology/lib/python3.12/site-packages/owlready2/pellet/httpcore-4.2.2.jar:/home/juanmhl/miniconda3/envs/uma-ontology/lib/python3.12/site-packages/owlready2/pellet/jena-iri-0.9.5.jar:/home/juanmhl/miniconda3/envs/uma-ontology/lib/python3.12/site-packages/owlready2/pellet/owlapi-distribution-3.4.3-bin.jar:/home/juanmhl/miniconda3/envs/uma-ontology/lib/python3.12/site-packages/owlready2/pellet/slf4j-api-1.6.4.jar:/home/juanmhl/miniconda3/envs/uma-ontology/lib/python3.12/site-packages/owlready2/pellet/xercesImpl-2.10.0.jar:/home/juanmhl/miniconda3/envs/uma-ontology/lib/python3.12/site-packages/owlready2/pellet/slf4j-log4j12-1.6.4.jar:/home/juanmhl/miniconda3/envs/uma-ontology/lib/python3.12/site-packages/owlready2/pellet/jena-tdb-0.10.0.jar:/home/juanmhl/miniconda3/envs/uma-ontology/lib/python3.12/site-packages/owlready2/pellet/jena-arq-2.10.0.jar:/home/juanmhl/miniconda3/envs/uma-ontology/lib/python3.12/site-packages/owlready2/pellet/log4j-core-2.19.0.jar:/home/juanmhl/miniconda3/envs/uma-ontology/lib/python3.12/site-packages/owlready2/pellet/log4j-api-2.19.0.jar:/home/juanmhl/miniconda3/envs/uma-ontology/lib/python3.12/site-packages/owlready2/pellet/jena-core-2.10.0.jar:/home/juanmhl/miniconda3/envs/uma-ontology/lib/python3.12/site-packages/owlready2/pellet/xml-apis-1.4.01.jar:/home/juanmhl/miniconda3/envs/uma-ontology/lib/python3.12/site-packages/owlready2/pellet/httpclient-4.2.3.jar:/home/juanmhl/miniconda3/envs/uma-ontology/lib/python3.12/site-packages/owlready2/pellet/pellet-2.3.1.jar:/home/juanmhl/miniconda3/envs/uma-ontology/lib/python3.12/site-packages/owlready2/pellet/antlr-3.2.jar:/home/juanmhl/miniconda3/envs/uma-ontology/lib/python3.12/site-packages/owlready2/pellet/antlr-runtime-3.2.jar:/home/juanmhl/miniconda3/envs/uma-ontology/lib/python3.12/site-packages/owlready2/pellet/jgrapht-jdk1.5.jar:/home/juanmhl/miniconda3/envs/uma-ontology/lib/python3.12/site-packages/owlready2/pellet/aterm-java-1.6.jar:/home/juanmhl/miniconda3/envs/uma-ontology/lib/python3.12/site-packages/owlready2/pellet/commons-codec-1.6.jar:/home/juanmhl/miniconda3/envs/uma-ontology/lib/python3.12/site-packages/owlready2/pellet/log4j-1.2-api-2.19.0.jar pellet.Pellet realize --loader Jena --input-format N-Triples --infer-prop-values --infer-data-prop-values --ignore-imports /tmp/tmpj9br094p\n"
     ]
    },
    {
     "name": "stdout",
     "output_type": "stream",
     "text": [
      "* Owlready * Adding relation ontology.fase9 faseActual true\n",
      "* Owlready * Adding relation ontology.fase2 faseSiguiente true\n",
      "* Owlready * Adding relation ontology.puncion accionEjecutable ontology.ps3\n",
      "* Owlready * Adding relation ontology.desplazamiento_suturaI accionEjecutable ontology.ps3\n",
      "* Owlready * Adding relation ontology.desplazamiento_suturaD accionEjecutable ontology.ps3\n",
      "* Owlready * Adding relation ontology.fase2 faseSiguiente true\n",
      "* Owlready * Adding relation ontology.fase2 faseActual true\n",
      "* Owlready * Adding relation ontology.fase3 faseSiguiente true\n",
      "* Owlready * Adding relation ontology.fase1 faseActual true\n",
      "* Owlready * Adding relation ontology.ps3 puntoSuturaActual true\n",
      "Phase: 1, Action: -DESPLAZAMIENTO_SUTURA_D-, Suture Point: 2, Near: NONE\n",
      "Phase: 2, Action: -DESPLAZAMIENTO_SUTURA_I--PUNCION-, Suture Point: 2, Near: NONE\n",
      "Phase: 3, Action: -CIERRE_I-, Suture Point: 2, Near: NONE\n",
      "Phase: 4, Action: -APERTURA_D-, Suture Point: 2, Near: NONE\n",
      "Phase: 5, Action: -DESPLAZAMIENTO_CAMBIO_I-, Suture Point: 2, Near: NONE\n",
      "Phase: 6, Action: -DESPLAZAMIENTO_CAMBIO_D-, Suture Point: 2, Near: NONE\n",
      "Phase: 7, Action: -CIERRE_D-, Suture Point: 2, Near: NONE\n",
      "Phase: 8, Action: -APERTURA_I-, Suture Point: 2, Near: NONE\n",
      "Phase: 9, Action: -DESPLAZAMIENTO_SUTURA_D-, Suture Point: 2, Near: NONE\n",
      "Phase: 2, Action: -DESPLAZAMIENTO_SUTURA_I--PUNCION-, Suture Point: 3, Near: NONE\n"
     ]
    },
    {
     "name": "stderr",
     "output_type": "stream",
     "text": [
      "* Owlready2 * Pellet took 0.6142463684082031 seconds\n",
      "* Owlready * (NB: only changes on entities loaded in Python are shown, other changes are done but not listed)\n"
     ]
    }
   ],
   "source": [
    "from inferenceengine import *\n",
    "\n",
    "repo_implementation = CommandRepositoryOntology\n",
    "service = InferenceMotorService(repo_implementation)\n",
    "service.initialize(n_points=3, ontology_path='/home/juanmhl/ontology.owl')\n",
    "\n",
    "vp1 = [True, False, False, False, False, False, True,       [True, False, False]]\n",
    "vp2 = [True, False, False, False, True, False, True,        [True, False, False]]\n",
    "vp3 = [True, False, False, False, True, True, False,        [True, False, False]]\n",
    "vp4 = [True, True, False, False, True, True, False,         [True, False, False]]\n",
    "vp5 = [False, True, False, False, True, True, False,        [True, False, False]]\n",
    "vp6 = [False, True, False, True, True, False, False,        [True, False, False]]\n",
    "vp7 = [False, True, True, True, False, False, False,        [True, False, False]]\n",
    "vp8 = [True, True, True, True, False, False, False,         [True, False, False]]\n",
    "vp9 = [True, False, True, True, False, False, False,        [True, False, False]]\n",
    "vpt = [True, True, True, True, True, True, True,            [True, False, False]]\n",
    "vpf = [False, False, False, False, False, False, False,     [True, False, False]]\n",
    "\n",
    "predicates_vectors = [vp1, vp2, vp3, vp4, vp5, vp6, vp7, vp8, vp9,\n",
    "                      [True, False, False, False, True, False, True, [True, True, False]]\n",
    "                      ]\n",
    "\n",
    "comandos = []\n",
    "\n",
    "for vp in predicates_vectors:\n",
    "    comandos.append(service.step(vp))\n",
    "\n",
    "\n",
    "for comando in comandos:\n",
    "    print(comando)"
   ]
  },
  {
   "cell_type": "code",
   "execution_count": 1,
   "metadata": {},
   "outputs": [
    {
     "name": "stdout",
     "output_type": "stream",
     "text": [
      "Ontology loaded. \n"
     ]
    },
    {
     "name": "stderr",
     "output_type": "stream",
     "text": [
      "* Owlready2 * Running Pellet...\n",
      "    /usr/bin/java -Xmx2000M -cp /home/juanmhl/miniconda3/envs/uma-race/lib/python3.11/site-packages/owlready2/pellet/jcl-over-slf4j-1.6.4.jar:/home/juanmhl/miniconda3/envs/uma-race/lib/python3.11/site-packages/owlready2/pellet/httpcore-4.2.2.jar:/home/juanmhl/miniconda3/envs/uma-race/lib/python3.11/site-packages/owlready2/pellet/jena-iri-0.9.5.jar:/home/juanmhl/miniconda3/envs/uma-race/lib/python3.11/site-packages/owlready2/pellet/owlapi-distribution-3.4.3-bin.jar:/home/juanmhl/miniconda3/envs/uma-race/lib/python3.11/site-packages/owlready2/pellet/slf4j-api-1.6.4.jar:/home/juanmhl/miniconda3/envs/uma-race/lib/python3.11/site-packages/owlready2/pellet/xercesImpl-2.10.0.jar:/home/juanmhl/miniconda3/envs/uma-race/lib/python3.11/site-packages/owlready2/pellet/slf4j-log4j12-1.6.4.jar:/home/juanmhl/miniconda3/envs/uma-race/lib/python3.11/site-packages/owlready2/pellet/jena-tdb-0.10.0.jar:/home/juanmhl/miniconda3/envs/uma-race/lib/python3.11/site-packages/owlready2/pellet/jena-arq-2.10.0.jar:/home/juanmhl/miniconda3/envs/uma-race/lib/python3.11/site-packages/owlready2/pellet/log4j-core-2.19.0.jar:/home/juanmhl/miniconda3/envs/uma-race/lib/python3.11/site-packages/owlready2/pellet/log4j-api-2.19.0.jar:/home/juanmhl/miniconda3/envs/uma-race/lib/python3.11/site-packages/owlready2/pellet/jena-core-2.10.0.jar:/home/juanmhl/miniconda3/envs/uma-race/lib/python3.11/site-packages/owlready2/pellet/xml-apis-1.4.01.jar:/home/juanmhl/miniconda3/envs/uma-race/lib/python3.11/site-packages/owlready2/pellet/httpclient-4.2.3.jar:/home/juanmhl/miniconda3/envs/uma-race/lib/python3.11/site-packages/owlready2/pellet/pellet-2.3.1.jar:/home/juanmhl/miniconda3/envs/uma-race/lib/python3.11/site-packages/owlready2/pellet/antlr-3.2.jar:/home/juanmhl/miniconda3/envs/uma-race/lib/python3.11/site-packages/owlready2/pellet/antlr-runtime-3.2.jar:/home/juanmhl/miniconda3/envs/uma-race/lib/python3.11/site-packages/owlready2/pellet/jgrapht-jdk1.5.jar:/home/juanmhl/miniconda3/envs/uma-race/lib/python3.11/site-packages/owlready2/pellet/aterm-java-1.6.jar:/home/juanmhl/miniconda3/envs/uma-race/lib/python3.11/site-packages/owlready2/pellet/commons-codec-1.6.jar:/home/juanmhl/miniconda3/envs/uma-race/lib/python3.11/site-packages/owlready2/pellet/log4j-1.2-api-2.19.0.jar pellet.Pellet realize --loader Jena --input-format N-Triples --infer-prop-values --infer-data-prop-values --ignore-imports /tmp/tmp8jyhwedh\n",
      "* Owlready2 * Pellet took 0.6783721446990967 seconds\n",
      "* Owlready * (NB: only changes on entities loaded in Python are shown, other changes are done but not listed)\n",
      "* Owlready2 * Running Pellet...\n",
      "    /usr/bin/java -Xmx2000M -cp /home/juanmhl/miniconda3/envs/uma-race/lib/python3.11/site-packages/owlready2/pellet/jcl-over-slf4j-1.6.4.jar:/home/juanmhl/miniconda3/envs/uma-race/lib/python3.11/site-packages/owlready2/pellet/httpcore-4.2.2.jar:/home/juanmhl/miniconda3/envs/uma-race/lib/python3.11/site-packages/owlready2/pellet/jena-iri-0.9.5.jar:/home/juanmhl/miniconda3/envs/uma-race/lib/python3.11/site-packages/owlready2/pellet/owlapi-distribution-3.4.3-bin.jar:/home/juanmhl/miniconda3/envs/uma-race/lib/python3.11/site-packages/owlready2/pellet/slf4j-api-1.6.4.jar:/home/juanmhl/miniconda3/envs/uma-race/lib/python3.11/site-packages/owlready2/pellet/xercesImpl-2.10.0.jar:/home/juanmhl/miniconda3/envs/uma-race/lib/python3.11/site-packages/owlready2/pellet/slf4j-log4j12-1.6.4.jar:/home/juanmhl/miniconda3/envs/uma-race/lib/python3.11/site-packages/owlready2/pellet/jena-tdb-0.10.0.jar:/home/juanmhl/miniconda3/envs/uma-race/lib/python3.11/site-packages/owlready2/pellet/jena-arq-2.10.0.jar:/home/juanmhl/miniconda3/envs/uma-race/lib/python3.11/site-packages/owlready2/pellet/log4j-core-2.19.0.jar:/home/juanmhl/miniconda3/envs/uma-race/lib/python3.11/site-packages/owlready2/pellet/log4j-api-2.19.0.jar:/home/juanmhl/miniconda3/envs/uma-race/lib/python3.11/site-packages/owlready2/pellet/jena-core-2.10.0.jar:/home/juanmhl/miniconda3/envs/uma-race/lib/python3.11/site-packages/owlready2/pellet/xml-apis-1.4.01.jar:/home/juanmhl/miniconda3/envs/uma-race/lib/python3.11/site-packages/owlready2/pellet/httpclient-4.2.3.jar:/home/juanmhl/miniconda3/envs/uma-race/lib/python3.11/site-packages/owlready2/pellet/pellet-2.3.1.jar:/home/juanmhl/miniconda3/envs/uma-race/lib/python3.11/site-packages/owlready2/pellet/antlr-3.2.jar:/home/juanmhl/miniconda3/envs/uma-race/lib/python3.11/site-packages/owlready2/pellet/antlr-runtime-3.2.jar:/home/juanmhl/miniconda3/envs/uma-race/lib/python3.11/site-packages/owlready2/pellet/jgrapht-jdk1.5.jar:/home/juanmhl/miniconda3/envs/uma-race/lib/python3.11/site-packages/owlready2/pellet/aterm-java-1.6.jar:/home/juanmhl/miniconda3/envs/uma-race/lib/python3.11/site-packages/owlready2/pellet/commons-codec-1.6.jar:/home/juanmhl/miniconda3/envs/uma-race/lib/python3.11/site-packages/owlready2/pellet/log4j-1.2-api-2.19.0.jar pellet.Pellet realize --loader Jena --input-format N-Triples --infer-prop-values --infer-data-prop-values --ignore-imports /tmp/tmp32v91vsw\n",
      "* Owlready2 * Pellet took 0.6153421401977539 seconds\n",
      "* Owlready * (NB: only changes on entities loaded in Python are shown, other changes are done but not listed)\n",
      "* Owlready2 * Running Pellet...\n",
      "    /usr/bin/java -Xmx2000M -cp /home/juanmhl/miniconda3/envs/uma-race/lib/python3.11/site-packages/owlready2/pellet/jcl-over-slf4j-1.6.4.jar:/home/juanmhl/miniconda3/envs/uma-race/lib/python3.11/site-packages/owlready2/pellet/httpcore-4.2.2.jar:/home/juanmhl/miniconda3/envs/uma-race/lib/python3.11/site-packages/owlready2/pellet/jena-iri-0.9.5.jar:/home/juanmhl/miniconda3/envs/uma-race/lib/python3.11/site-packages/owlready2/pellet/owlapi-distribution-3.4.3-bin.jar:/home/juanmhl/miniconda3/envs/uma-race/lib/python3.11/site-packages/owlready2/pellet/slf4j-api-1.6.4.jar:/home/juanmhl/miniconda3/envs/uma-race/lib/python3.11/site-packages/owlready2/pellet/xercesImpl-2.10.0.jar:/home/juanmhl/miniconda3/envs/uma-race/lib/python3.11/site-packages/owlready2/pellet/slf4j-log4j12-1.6.4.jar:/home/juanmhl/miniconda3/envs/uma-race/lib/python3.11/site-packages/owlready2/pellet/jena-tdb-0.10.0.jar:/home/juanmhl/miniconda3/envs/uma-race/lib/python3.11/site-packages/owlready2/pellet/jena-arq-2.10.0.jar:/home/juanmhl/miniconda3/envs/uma-race/lib/python3.11/site-packages/owlready2/pellet/log4j-core-2.19.0.jar:/home/juanmhl/miniconda3/envs/uma-race/lib/python3.11/site-packages/owlready2/pellet/log4j-api-2.19.0.jar:/home/juanmhl/miniconda3/envs/uma-race/lib/python3.11/site-packages/owlready2/pellet/jena-core-2.10.0.jar:/home/juanmhl/miniconda3/envs/uma-race/lib/python3.11/site-packages/owlready2/pellet/xml-apis-1.4.01.jar:/home/juanmhl/miniconda3/envs/uma-race/lib/python3.11/site-packages/owlready2/pellet/httpclient-4.2.3.jar:/home/juanmhl/miniconda3/envs/uma-race/lib/python3.11/site-packages/owlready2/pellet/pellet-2.3.1.jar:/home/juanmhl/miniconda3/envs/uma-race/lib/python3.11/site-packages/owlready2/pellet/antlr-3.2.jar:/home/juanmhl/miniconda3/envs/uma-race/lib/python3.11/site-packages/owlready2/pellet/antlr-runtime-3.2.jar:/home/juanmhl/miniconda3/envs/uma-race/lib/python3.11/site-packages/owlready2/pellet/jgrapht-jdk1.5.jar:/home/juanmhl/miniconda3/envs/uma-race/lib/python3.11/site-packages/owlready2/pellet/aterm-java-1.6.jar:/home/juanmhl/miniconda3/envs/uma-race/lib/python3.11/site-packages/owlready2/pellet/commons-codec-1.6.jar:/home/juanmhl/miniconda3/envs/uma-race/lib/python3.11/site-packages/owlready2/pellet/log4j-1.2-api-2.19.0.jar pellet.Pellet realize --loader Jena --input-format N-Triples --infer-prop-values --infer-data-prop-values --ignore-imports /tmp/tmpukuf3xak\n"
     ]
    },
    {
     "name": "stdout",
     "output_type": "stream",
     "text": [
      "* Owlready * Adding relation ontology.ps3 puntoSuturaActual true\n"
     ]
    },
    {
     "name": "stderr",
     "output_type": "stream",
     "text": [
      "* Owlready2 * Pellet took 0.6335358619689941 seconds\n",
      "* Owlready * (NB: only changes on entities loaded in Python are shown, other changes are done but not listed)\n",
      "* Owlready2 * Running Pellet...\n",
      "    /usr/bin/java -Xmx2000M -cp /home/juanmhl/miniconda3/envs/uma-race/lib/python3.11/site-packages/owlready2/pellet/jcl-over-slf4j-1.6.4.jar:/home/juanmhl/miniconda3/envs/uma-race/lib/python3.11/site-packages/owlready2/pellet/httpcore-4.2.2.jar:/home/juanmhl/miniconda3/envs/uma-race/lib/python3.11/site-packages/owlready2/pellet/jena-iri-0.9.5.jar:/home/juanmhl/miniconda3/envs/uma-race/lib/python3.11/site-packages/owlready2/pellet/owlapi-distribution-3.4.3-bin.jar:/home/juanmhl/miniconda3/envs/uma-race/lib/python3.11/site-packages/owlready2/pellet/slf4j-api-1.6.4.jar:/home/juanmhl/miniconda3/envs/uma-race/lib/python3.11/site-packages/owlready2/pellet/xercesImpl-2.10.0.jar:/home/juanmhl/miniconda3/envs/uma-race/lib/python3.11/site-packages/owlready2/pellet/slf4j-log4j12-1.6.4.jar:/home/juanmhl/miniconda3/envs/uma-race/lib/python3.11/site-packages/owlready2/pellet/jena-tdb-0.10.0.jar:/home/juanmhl/miniconda3/envs/uma-race/lib/python3.11/site-packages/owlready2/pellet/jena-arq-2.10.0.jar:/home/juanmhl/miniconda3/envs/uma-race/lib/python3.11/site-packages/owlready2/pellet/log4j-core-2.19.0.jar:/home/juanmhl/miniconda3/envs/uma-race/lib/python3.11/site-packages/owlready2/pellet/log4j-api-2.19.0.jar:/home/juanmhl/miniconda3/envs/uma-race/lib/python3.11/site-packages/owlready2/pellet/jena-core-2.10.0.jar:/home/juanmhl/miniconda3/envs/uma-race/lib/python3.11/site-packages/owlready2/pellet/xml-apis-1.4.01.jar:/home/juanmhl/miniconda3/envs/uma-race/lib/python3.11/site-packages/owlready2/pellet/httpclient-4.2.3.jar:/home/juanmhl/miniconda3/envs/uma-race/lib/python3.11/site-packages/owlready2/pellet/pellet-2.3.1.jar:/home/juanmhl/miniconda3/envs/uma-race/lib/python3.11/site-packages/owlready2/pellet/antlr-3.2.jar:/home/juanmhl/miniconda3/envs/uma-race/lib/python3.11/site-packages/owlready2/pellet/antlr-runtime-3.2.jar:/home/juanmhl/miniconda3/envs/uma-race/lib/python3.11/site-packages/owlready2/pellet/jgrapht-jdk1.5.jar:/home/juanmhl/miniconda3/envs/uma-race/lib/python3.11/site-packages/owlready2/pellet/aterm-java-1.6.jar:/home/juanmhl/miniconda3/envs/uma-race/lib/python3.11/site-packages/owlready2/pellet/commons-codec-1.6.jar:/home/juanmhl/miniconda3/envs/uma-race/lib/python3.11/site-packages/owlready2/pellet/log4j-1.2-api-2.19.0.jar pellet.Pellet realize --loader Jena --input-format N-Triples --infer-prop-values --infer-data-prop-values --ignore-imports /tmp/tmpimk90zxi\n"
     ]
    },
    {
     "name": "stdout",
     "output_type": "stream",
     "text": [
      "* Owlready * Adding relation ontology.fase2 faseActual true\n",
      "* Owlready * Adding relation ontology.fase3 faseSiguiente true\n"
     ]
    },
    {
     "name": "stderr",
     "output_type": "stream",
     "text": [
      "* Owlready2 * Pellet took 0.6162314414978027 seconds\n",
      "* Owlready * (NB: only changes on entities loaded in Python are shown, other changes are done but not listed)\n",
      "* Owlready2 * Running Pellet...\n",
      "    /usr/bin/java -Xmx2000M -cp /home/juanmhl/miniconda3/envs/uma-race/lib/python3.11/site-packages/owlready2/pellet/jcl-over-slf4j-1.6.4.jar:/home/juanmhl/miniconda3/envs/uma-race/lib/python3.11/site-packages/owlready2/pellet/httpcore-4.2.2.jar:/home/juanmhl/miniconda3/envs/uma-race/lib/python3.11/site-packages/owlready2/pellet/jena-iri-0.9.5.jar:/home/juanmhl/miniconda3/envs/uma-race/lib/python3.11/site-packages/owlready2/pellet/owlapi-distribution-3.4.3-bin.jar:/home/juanmhl/miniconda3/envs/uma-race/lib/python3.11/site-packages/owlready2/pellet/slf4j-api-1.6.4.jar:/home/juanmhl/miniconda3/envs/uma-race/lib/python3.11/site-packages/owlready2/pellet/xercesImpl-2.10.0.jar:/home/juanmhl/miniconda3/envs/uma-race/lib/python3.11/site-packages/owlready2/pellet/slf4j-log4j12-1.6.4.jar:/home/juanmhl/miniconda3/envs/uma-race/lib/python3.11/site-packages/owlready2/pellet/jena-tdb-0.10.0.jar:/home/juanmhl/miniconda3/envs/uma-race/lib/python3.11/site-packages/owlready2/pellet/jena-arq-2.10.0.jar:/home/juanmhl/miniconda3/envs/uma-race/lib/python3.11/site-packages/owlready2/pellet/log4j-core-2.19.0.jar:/home/juanmhl/miniconda3/envs/uma-race/lib/python3.11/site-packages/owlready2/pellet/log4j-api-2.19.0.jar:/home/juanmhl/miniconda3/envs/uma-race/lib/python3.11/site-packages/owlready2/pellet/jena-core-2.10.0.jar:/home/juanmhl/miniconda3/envs/uma-race/lib/python3.11/site-packages/owlready2/pellet/xml-apis-1.4.01.jar:/home/juanmhl/miniconda3/envs/uma-race/lib/python3.11/site-packages/owlready2/pellet/httpclient-4.2.3.jar:/home/juanmhl/miniconda3/envs/uma-race/lib/python3.11/site-packages/owlready2/pellet/pellet-2.3.1.jar:/home/juanmhl/miniconda3/envs/uma-race/lib/python3.11/site-packages/owlready2/pellet/antlr-3.2.jar:/home/juanmhl/miniconda3/envs/uma-race/lib/python3.11/site-packages/owlready2/pellet/antlr-runtime-3.2.jar:/home/juanmhl/miniconda3/envs/uma-race/lib/python3.11/site-packages/owlready2/pellet/jgrapht-jdk1.5.jar:/home/juanmhl/miniconda3/envs/uma-race/lib/python3.11/site-packages/owlready2/pellet/aterm-java-1.6.jar:/home/juanmhl/miniconda3/envs/uma-race/lib/python3.11/site-packages/owlready2/pellet/commons-codec-1.6.jar:/home/juanmhl/miniconda3/envs/uma-race/lib/python3.11/site-packages/owlready2/pellet/log4j-1.2-api-2.19.0.jar pellet.Pellet realize --loader Jena --input-format N-Triples --infer-prop-values --infer-data-prop-values --ignore-imports /tmp/tmpq061mjds\n"
     ]
    },
    {
     "name": "stdout",
     "output_type": "stream",
     "text": [
      "* Owlready * Adding relation ontology.fase3 faseActual true\n",
      "* Owlready * Adding relation ontology.fase4 faseSiguiente true\n"
     ]
    },
    {
     "name": "stderr",
     "output_type": "stream",
     "text": [
      "* Owlready2 * Pellet took 0.723705530166626 seconds\n",
      "* Owlready * (NB: only changes on entities loaded in Python are shown, other changes are done but not listed)\n",
      "* Owlready2 * Running Pellet...\n",
      "    /usr/bin/java -Xmx2000M -cp /home/juanmhl/miniconda3/envs/uma-race/lib/python3.11/site-packages/owlready2/pellet/jcl-over-slf4j-1.6.4.jar:/home/juanmhl/miniconda3/envs/uma-race/lib/python3.11/site-packages/owlready2/pellet/httpcore-4.2.2.jar:/home/juanmhl/miniconda3/envs/uma-race/lib/python3.11/site-packages/owlready2/pellet/jena-iri-0.9.5.jar:/home/juanmhl/miniconda3/envs/uma-race/lib/python3.11/site-packages/owlready2/pellet/owlapi-distribution-3.4.3-bin.jar:/home/juanmhl/miniconda3/envs/uma-race/lib/python3.11/site-packages/owlready2/pellet/slf4j-api-1.6.4.jar:/home/juanmhl/miniconda3/envs/uma-race/lib/python3.11/site-packages/owlready2/pellet/xercesImpl-2.10.0.jar:/home/juanmhl/miniconda3/envs/uma-race/lib/python3.11/site-packages/owlready2/pellet/slf4j-log4j12-1.6.4.jar:/home/juanmhl/miniconda3/envs/uma-race/lib/python3.11/site-packages/owlready2/pellet/jena-tdb-0.10.0.jar:/home/juanmhl/miniconda3/envs/uma-race/lib/python3.11/site-packages/owlready2/pellet/jena-arq-2.10.0.jar:/home/juanmhl/miniconda3/envs/uma-race/lib/python3.11/site-packages/owlready2/pellet/log4j-core-2.19.0.jar:/home/juanmhl/miniconda3/envs/uma-race/lib/python3.11/site-packages/owlready2/pellet/log4j-api-2.19.0.jar:/home/juanmhl/miniconda3/envs/uma-race/lib/python3.11/site-packages/owlready2/pellet/jena-core-2.10.0.jar:/home/juanmhl/miniconda3/envs/uma-race/lib/python3.11/site-packages/owlready2/pellet/xml-apis-1.4.01.jar:/home/juanmhl/miniconda3/envs/uma-race/lib/python3.11/site-packages/owlready2/pellet/httpclient-4.2.3.jar:/home/juanmhl/miniconda3/envs/uma-race/lib/python3.11/site-packages/owlready2/pellet/pellet-2.3.1.jar:/home/juanmhl/miniconda3/envs/uma-race/lib/python3.11/site-packages/owlready2/pellet/antlr-3.2.jar:/home/juanmhl/miniconda3/envs/uma-race/lib/python3.11/site-packages/owlready2/pellet/antlr-runtime-3.2.jar:/home/juanmhl/miniconda3/envs/uma-race/lib/python3.11/site-packages/owlready2/pellet/jgrapht-jdk1.5.jar:/home/juanmhl/miniconda3/envs/uma-race/lib/python3.11/site-packages/owlready2/pellet/aterm-java-1.6.jar:/home/juanmhl/miniconda3/envs/uma-race/lib/python3.11/site-packages/owlready2/pellet/commons-codec-1.6.jar:/home/juanmhl/miniconda3/envs/uma-race/lib/python3.11/site-packages/owlready2/pellet/log4j-1.2-api-2.19.0.jar pellet.Pellet realize --loader Jena --input-format N-Triples --infer-prop-values --infer-data-prop-values --ignore-imports /tmp/tmpt3n1cm59\n"
     ]
    },
    {
     "name": "stdout",
     "output_type": "stream",
     "text": [
      "* Owlready * Adding relation ontology.fase5 faseSiguiente true\n",
      "* Owlready * Adding relation ontology.fase4 faseActual true\n"
     ]
    },
    {
     "name": "stderr",
     "output_type": "stream",
     "text": [
      "* Owlready2 * Pellet took 0.6576433181762695 seconds\n",
      "* Owlready * (NB: only changes on entities loaded in Python are shown, other changes are done but not listed)\n",
      "* Owlready2 * Running Pellet...\n",
      "    /usr/bin/java -Xmx2000M -cp /home/juanmhl/miniconda3/envs/uma-race/lib/python3.11/site-packages/owlready2/pellet/jcl-over-slf4j-1.6.4.jar:/home/juanmhl/miniconda3/envs/uma-race/lib/python3.11/site-packages/owlready2/pellet/httpcore-4.2.2.jar:/home/juanmhl/miniconda3/envs/uma-race/lib/python3.11/site-packages/owlready2/pellet/jena-iri-0.9.5.jar:/home/juanmhl/miniconda3/envs/uma-race/lib/python3.11/site-packages/owlready2/pellet/owlapi-distribution-3.4.3-bin.jar:/home/juanmhl/miniconda3/envs/uma-race/lib/python3.11/site-packages/owlready2/pellet/slf4j-api-1.6.4.jar:/home/juanmhl/miniconda3/envs/uma-race/lib/python3.11/site-packages/owlready2/pellet/xercesImpl-2.10.0.jar:/home/juanmhl/miniconda3/envs/uma-race/lib/python3.11/site-packages/owlready2/pellet/slf4j-log4j12-1.6.4.jar:/home/juanmhl/miniconda3/envs/uma-race/lib/python3.11/site-packages/owlready2/pellet/jena-tdb-0.10.0.jar:/home/juanmhl/miniconda3/envs/uma-race/lib/python3.11/site-packages/owlready2/pellet/jena-arq-2.10.0.jar:/home/juanmhl/miniconda3/envs/uma-race/lib/python3.11/site-packages/owlready2/pellet/log4j-core-2.19.0.jar:/home/juanmhl/miniconda3/envs/uma-race/lib/python3.11/site-packages/owlready2/pellet/log4j-api-2.19.0.jar:/home/juanmhl/miniconda3/envs/uma-race/lib/python3.11/site-packages/owlready2/pellet/jena-core-2.10.0.jar:/home/juanmhl/miniconda3/envs/uma-race/lib/python3.11/site-packages/owlready2/pellet/xml-apis-1.4.01.jar:/home/juanmhl/miniconda3/envs/uma-race/lib/python3.11/site-packages/owlready2/pellet/httpclient-4.2.3.jar:/home/juanmhl/miniconda3/envs/uma-race/lib/python3.11/site-packages/owlready2/pellet/pellet-2.3.1.jar:/home/juanmhl/miniconda3/envs/uma-race/lib/python3.11/site-packages/owlready2/pellet/antlr-3.2.jar:/home/juanmhl/miniconda3/envs/uma-race/lib/python3.11/site-packages/owlready2/pellet/antlr-runtime-3.2.jar:/home/juanmhl/miniconda3/envs/uma-race/lib/python3.11/site-packages/owlready2/pellet/jgrapht-jdk1.5.jar:/home/juanmhl/miniconda3/envs/uma-race/lib/python3.11/site-packages/owlready2/pellet/aterm-java-1.6.jar:/home/juanmhl/miniconda3/envs/uma-race/lib/python3.11/site-packages/owlready2/pellet/commons-codec-1.6.jar:/home/juanmhl/miniconda3/envs/uma-race/lib/python3.11/site-packages/owlready2/pellet/log4j-1.2-api-2.19.0.jar pellet.Pellet realize --loader Jena --input-format N-Triples --infer-prop-values --infer-data-prop-values --ignore-imports /tmp/tmp4irg8zx9\n"
     ]
    },
    {
     "name": "stdout",
     "output_type": "stream",
     "text": [
      "* Owlready * Adding relation ontology.fase6 faseSiguiente true\n",
      "* Owlready * Adding relation ontology.fase5 faseActual true\n"
     ]
    },
    {
     "name": "stderr",
     "output_type": "stream",
     "text": [
      "* Owlready2 * Pellet took 0.6465933322906494 seconds\n",
      "* Owlready * (NB: only changes on entities loaded in Python are shown, other changes are done but not listed)\n",
      "* Owlready2 * Running Pellet...\n",
      "    /usr/bin/java -Xmx2000M -cp /home/juanmhl/miniconda3/envs/uma-race/lib/python3.11/site-packages/owlready2/pellet/jcl-over-slf4j-1.6.4.jar:/home/juanmhl/miniconda3/envs/uma-race/lib/python3.11/site-packages/owlready2/pellet/httpcore-4.2.2.jar:/home/juanmhl/miniconda3/envs/uma-race/lib/python3.11/site-packages/owlready2/pellet/jena-iri-0.9.5.jar:/home/juanmhl/miniconda3/envs/uma-race/lib/python3.11/site-packages/owlready2/pellet/owlapi-distribution-3.4.3-bin.jar:/home/juanmhl/miniconda3/envs/uma-race/lib/python3.11/site-packages/owlready2/pellet/slf4j-api-1.6.4.jar:/home/juanmhl/miniconda3/envs/uma-race/lib/python3.11/site-packages/owlready2/pellet/xercesImpl-2.10.0.jar:/home/juanmhl/miniconda3/envs/uma-race/lib/python3.11/site-packages/owlready2/pellet/slf4j-log4j12-1.6.4.jar:/home/juanmhl/miniconda3/envs/uma-race/lib/python3.11/site-packages/owlready2/pellet/jena-tdb-0.10.0.jar:/home/juanmhl/miniconda3/envs/uma-race/lib/python3.11/site-packages/owlready2/pellet/jena-arq-2.10.0.jar:/home/juanmhl/miniconda3/envs/uma-race/lib/python3.11/site-packages/owlready2/pellet/log4j-core-2.19.0.jar:/home/juanmhl/miniconda3/envs/uma-race/lib/python3.11/site-packages/owlready2/pellet/log4j-api-2.19.0.jar:/home/juanmhl/miniconda3/envs/uma-race/lib/python3.11/site-packages/owlready2/pellet/jena-core-2.10.0.jar:/home/juanmhl/miniconda3/envs/uma-race/lib/python3.11/site-packages/owlready2/pellet/xml-apis-1.4.01.jar:/home/juanmhl/miniconda3/envs/uma-race/lib/python3.11/site-packages/owlready2/pellet/httpclient-4.2.3.jar:/home/juanmhl/miniconda3/envs/uma-race/lib/python3.11/site-packages/owlready2/pellet/pellet-2.3.1.jar:/home/juanmhl/miniconda3/envs/uma-race/lib/python3.11/site-packages/owlready2/pellet/antlr-3.2.jar:/home/juanmhl/miniconda3/envs/uma-race/lib/python3.11/site-packages/owlready2/pellet/antlr-runtime-3.2.jar:/home/juanmhl/miniconda3/envs/uma-race/lib/python3.11/site-packages/owlready2/pellet/jgrapht-jdk1.5.jar:/home/juanmhl/miniconda3/envs/uma-race/lib/python3.11/site-packages/owlready2/pellet/aterm-java-1.6.jar:/home/juanmhl/miniconda3/envs/uma-race/lib/python3.11/site-packages/owlready2/pellet/commons-codec-1.6.jar:/home/juanmhl/miniconda3/envs/uma-race/lib/python3.11/site-packages/owlready2/pellet/log4j-1.2-api-2.19.0.jar pellet.Pellet realize --loader Jena --input-format N-Triples --infer-prop-values --infer-data-prop-values --ignore-imports /tmp/tmpk9ywc0b7\n"
     ]
    },
    {
     "name": "stdout",
     "output_type": "stream",
     "text": [
      "* Owlready * Adding relation ontology.fase6 faseActual true\n",
      "* Owlready * Adding relation ontology.fase7 faseSiguiente true\n"
     ]
    },
    {
     "name": "stderr",
     "output_type": "stream",
     "text": [
      "* Owlready2 * Pellet took 0.6506612300872803 seconds\n",
      "* Owlready * (NB: only changes on entities loaded in Python are shown, other changes are done but not listed)\n",
      "* Owlready2 * Running Pellet...\n",
      "    /usr/bin/java -Xmx2000M -cp /home/juanmhl/miniconda3/envs/uma-race/lib/python3.11/site-packages/owlready2/pellet/jcl-over-slf4j-1.6.4.jar:/home/juanmhl/miniconda3/envs/uma-race/lib/python3.11/site-packages/owlready2/pellet/httpcore-4.2.2.jar:/home/juanmhl/miniconda3/envs/uma-race/lib/python3.11/site-packages/owlready2/pellet/jena-iri-0.9.5.jar:/home/juanmhl/miniconda3/envs/uma-race/lib/python3.11/site-packages/owlready2/pellet/owlapi-distribution-3.4.3-bin.jar:/home/juanmhl/miniconda3/envs/uma-race/lib/python3.11/site-packages/owlready2/pellet/slf4j-api-1.6.4.jar:/home/juanmhl/miniconda3/envs/uma-race/lib/python3.11/site-packages/owlready2/pellet/xercesImpl-2.10.0.jar:/home/juanmhl/miniconda3/envs/uma-race/lib/python3.11/site-packages/owlready2/pellet/slf4j-log4j12-1.6.4.jar:/home/juanmhl/miniconda3/envs/uma-race/lib/python3.11/site-packages/owlready2/pellet/jena-tdb-0.10.0.jar:/home/juanmhl/miniconda3/envs/uma-race/lib/python3.11/site-packages/owlready2/pellet/jena-arq-2.10.0.jar:/home/juanmhl/miniconda3/envs/uma-race/lib/python3.11/site-packages/owlready2/pellet/log4j-core-2.19.0.jar:/home/juanmhl/miniconda3/envs/uma-race/lib/python3.11/site-packages/owlready2/pellet/log4j-api-2.19.0.jar:/home/juanmhl/miniconda3/envs/uma-race/lib/python3.11/site-packages/owlready2/pellet/jena-core-2.10.0.jar:/home/juanmhl/miniconda3/envs/uma-race/lib/python3.11/site-packages/owlready2/pellet/xml-apis-1.4.01.jar:/home/juanmhl/miniconda3/envs/uma-race/lib/python3.11/site-packages/owlready2/pellet/httpclient-4.2.3.jar:/home/juanmhl/miniconda3/envs/uma-race/lib/python3.11/site-packages/owlready2/pellet/pellet-2.3.1.jar:/home/juanmhl/miniconda3/envs/uma-race/lib/python3.11/site-packages/owlready2/pellet/antlr-3.2.jar:/home/juanmhl/miniconda3/envs/uma-race/lib/python3.11/site-packages/owlready2/pellet/antlr-runtime-3.2.jar:/home/juanmhl/miniconda3/envs/uma-race/lib/python3.11/site-packages/owlready2/pellet/jgrapht-jdk1.5.jar:/home/juanmhl/miniconda3/envs/uma-race/lib/python3.11/site-packages/owlready2/pellet/aterm-java-1.6.jar:/home/juanmhl/miniconda3/envs/uma-race/lib/python3.11/site-packages/owlready2/pellet/commons-codec-1.6.jar:/home/juanmhl/miniconda3/envs/uma-race/lib/python3.11/site-packages/owlready2/pellet/log4j-1.2-api-2.19.0.jar pellet.Pellet realize --loader Jena --input-format N-Triples --infer-prop-values --infer-data-prop-values --ignore-imports /tmp/tmph41_6z1c\n"
     ]
    },
    {
     "name": "stdout",
     "output_type": "stream",
     "text": [
      "* Owlready * Adding relation ontology.fase8 faseSiguiente true\n",
      "* Owlready * Adding relation ontology.fase7 faseActual true\n"
     ]
    },
    {
     "name": "stderr",
     "output_type": "stream",
     "text": [
      "* Owlready2 * Pellet took 0.635223388671875 seconds\n",
      "* Owlready * (NB: only changes on entities loaded in Python are shown, other changes are done but not listed)\n",
      "* Owlready2 * Running Pellet...\n",
      "    /usr/bin/java -Xmx2000M -cp /home/juanmhl/miniconda3/envs/uma-race/lib/python3.11/site-packages/owlready2/pellet/jcl-over-slf4j-1.6.4.jar:/home/juanmhl/miniconda3/envs/uma-race/lib/python3.11/site-packages/owlready2/pellet/httpcore-4.2.2.jar:/home/juanmhl/miniconda3/envs/uma-race/lib/python3.11/site-packages/owlready2/pellet/jena-iri-0.9.5.jar:/home/juanmhl/miniconda3/envs/uma-race/lib/python3.11/site-packages/owlready2/pellet/owlapi-distribution-3.4.3-bin.jar:/home/juanmhl/miniconda3/envs/uma-race/lib/python3.11/site-packages/owlready2/pellet/slf4j-api-1.6.4.jar:/home/juanmhl/miniconda3/envs/uma-race/lib/python3.11/site-packages/owlready2/pellet/xercesImpl-2.10.0.jar:/home/juanmhl/miniconda3/envs/uma-race/lib/python3.11/site-packages/owlready2/pellet/slf4j-log4j12-1.6.4.jar:/home/juanmhl/miniconda3/envs/uma-race/lib/python3.11/site-packages/owlready2/pellet/jena-tdb-0.10.0.jar:/home/juanmhl/miniconda3/envs/uma-race/lib/python3.11/site-packages/owlready2/pellet/jena-arq-2.10.0.jar:/home/juanmhl/miniconda3/envs/uma-race/lib/python3.11/site-packages/owlready2/pellet/log4j-core-2.19.0.jar:/home/juanmhl/miniconda3/envs/uma-race/lib/python3.11/site-packages/owlready2/pellet/log4j-api-2.19.0.jar:/home/juanmhl/miniconda3/envs/uma-race/lib/python3.11/site-packages/owlready2/pellet/jena-core-2.10.0.jar:/home/juanmhl/miniconda3/envs/uma-race/lib/python3.11/site-packages/owlready2/pellet/xml-apis-1.4.01.jar:/home/juanmhl/miniconda3/envs/uma-race/lib/python3.11/site-packages/owlready2/pellet/httpclient-4.2.3.jar:/home/juanmhl/miniconda3/envs/uma-race/lib/python3.11/site-packages/owlready2/pellet/pellet-2.3.1.jar:/home/juanmhl/miniconda3/envs/uma-race/lib/python3.11/site-packages/owlready2/pellet/antlr-3.2.jar:/home/juanmhl/miniconda3/envs/uma-race/lib/python3.11/site-packages/owlready2/pellet/antlr-runtime-3.2.jar:/home/juanmhl/miniconda3/envs/uma-race/lib/python3.11/site-packages/owlready2/pellet/jgrapht-jdk1.5.jar:/home/juanmhl/miniconda3/envs/uma-race/lib/python3.11/site-packages/owlready2/pellet/aterm-java-1.6.jar:/home/juanmhl/miniconda3/envs/uma-race/lib/python3.11/site-packages/owlready2/pellet/commons-codec-1.6.jar:/home/juanmhl/miniconda3/envs/uma-race/lib/python3.11/site-packages/owlready2/pellet/log4j-1.2-api-2.19.0.jar pellet.Pellet realize --loader Jena --input-format N-Triples --infer-prop-values --infer-data-prop-values --ignore-imports /tmp/tmptx84j9ky\n"
     ]
    },
    {
     "name": "stdout",
     "output_type": "stream",
     "text": [
      "* Owlready * Adding relation ontology.fase9 faseSiguiente true\n",
      "* Owlready * Adding relation ontology.fase8 faseActual true\n"
     ]
    },
    {
     "name": "stderr",
     "output_type": "stream",
     "text": [
      "* Owlready2 * Pellet took 0.6138601303100586 seconds\n",
      "* Owlready * (NB: only changes on entities loaded in Python are shown, other changes are done but not listed)\n",
      "* Owlready2 * Running Pellet...\n",
      "    /usr/bin/java -Xmx2000M -cp /home/juanmhl/miniconda3/envs/uma-race/lib/python3.11/site-packages/owlready2/pellet/jcl-over-slf4j-1.6.4.jar:/home/juanmhl/miniconda3/envs/uma-race/lib/python3.11/site-packages/owlready2/pellet/httpcore-4.2.2.jar:/home/juanmhl/miniconda3/envs/uma-race/lib/python3.11/site-packages/owlready2/pellet/jena-iri-0.9.5.jar:/home/juanmhl/miniconda3/envs/uma-race/lib/python3.11/site-packages/owlready2/pellet/owlapi-distribution-3.4.3-bin.jar:/home/juanmhl/miniconda3/envs/uma-race/lib/python3.11/site-packages/owlready2/pellet/slf4j-api-1.6.4.jar:/home/juanmhl/miniconda3/envs/uma-race/lib/python3.11/site-packages/owlready2/pellet/xercesImpl-2.10.0.jar:/home/juanmhl/miniconda3/envs/uma-race/lib/python3.11/site-packages/owlready2/pellet/slf4j-log4j12-1.6.4.jar:/home/juanmhl/miniconda3/envs/uma-race/lib/python3.11/site-packages/owlready2/pellet/jena-tdb-0.10.0.jar:/home/juanmhl/miniconda3/envs/uma-race/lib/python3.11/site-packages/owlready2/pellet/jena-arq-2.10.0.jar:/home/juanmhl/miniconda3/envs/uma-race/lib/python3.11/site-packages/owlready2/pellet/log4j-core-2.19.0.jar:/home/juanmhl/miniconda3/envs/uma-race/lib/python3.11/site-packages/owlready2/pellet/log4j-api-2.19.0.jar:/home/juanmhl/miniconda3/envs/uma-race/lib/python3.11/site-packages/owlready2/pellet/jena-core-2.10.0.jar:/home/juanmhl/miniconda3/envs/uma-race/lib/python3.11/site-packages/owlready2/pellet/xml-apis-1.4.01.jar:/home/juanmhl/miniconda3/envs/uma-race/lib/python3.11/site-packages/owlready2/pellet/httpclient-4.2.3.jar:/home/juanmhl/miniconda3/envs/uma-race/lib/python3.11/site-packages/owlready2/pellet/pellet-2.3.1.jar:/home/juanmhl/miniconda3/envs/uma-race/lib/python3.11/site-packages/owlready2/pellet/antlr-3.2.jar:/home/juanmhl/miniconda3/envs/uma-race/lib/python3.11/site-packages/owlready2/pellet/antlr-runtime-3.2.jar:/home/juanmhl/miniconda3/envs/uma-race/lib/python3.11/site-packages/owlready2/pellet/jgrapht-jdk1.5.jar:/home/juanmhl/miniconda3/envs/uma-race/lib/python3.11/site-packages/owlready2/pellet/aterm-java-1.6.jar:/home/juanmhl/miniconda3/envs/uma-race/lib/python3.11/site-packages/owlready2/pellet/commons-codec-1.6.jar:/home/juanmhl/miniconda3/envs/uma-race/lib/python3.11/site-packages/owlready2/pellet/log4j-1.2-api-2.19.0.jar pellet.Pellet realize --loader Jena --input-format N-Triples --infer-prop-values --infer-data-prop-values --ignore-imports /tmp/tmpoc1acow2\n"
     ]
    },
    {
     "name": "stdout",
     "output_type": "stream",
     "text": [
      "* Owlready * Adding relation ontology.fase9 faseActual true\n",
      "* Owlready * Adding relation ontology.fase2 faseSiguiente true\n",
      "* Owlready * Adding relation ontology.fase2 faseSiguiente true\n",
      "* Owlready * Adding relation ontology.fase2 faseActual true\n",
      "* Owlready * Adding relation ontology.fase3 faseSiguiente true\n",
      "* Owlready * Adding relation ontology.fase1 faseActual true\n",
      "Phase: 1, Action: -DESPLAZAMIENTO_SUTURA_D-, Suture Point: 3, Near: NONE\n",
      "Phase: 2, Action: -DESPLAZAMIENTO_SUTURA_I--PUNCION-, Suture Point: 3, Near: NONE\n",
      "Phase: 3, Action: -CIERRE_I-, Suture Point: 3, Near: NONE\n",
      "Phase: 4, Action: -APERTURA_D-, Suture Point: 3, Near: NONE\n",
      "Phase: 5, Action: -DESPLAZAMIENTO_CAMBIO_I-, Suture Point: 3, Near: NONE\n",
      "Phase: 6, Action: -DESPLAZAMIENTO_CAMBIO_D-, Suture Point: 3, Near: NONE\n",
      "Phase: 7, Action: -CIERRE_D-, Suture Point: 3, Near: NONE\n",
      "Phase: 8, Action: -APERTURA_I-, Suture Point: 3, Near: NONE\n",
      "Phase: 9, Action: -DESPLAZAMIENTO_SUTURA_D-, Suture Point: 3, Near: NONE\n",
      "Phase: 2, Action: -DESPLAZAMIENTO_SUTURA_I--PUNCION-, Suture Point: 3, Near: NONE\n"
     ]
    },
    {
     "name": "stderr",
     "output_type": "stream",
     "text": [
      "* Owlready2 * Pellet took 0.6249039173126221 seconds\n",
      "* Owlready * (NB: only changes on entities loaded in Python are shown, other changes are done but not listed)\n"
     ]
    }
   ],
   "source": [
    "from inferenceengine import *\n",
    "\n",
    "repo_implementation = CommandRepositoryOntology\n",
    "service = InferenceMotorService(repo_implementation)\n",
    "service.initialize(n_points=3, ontology_path='/home/juanmhl/ontology.owl')\n",
    "\n",
    "vp1 = [True, False, False, False, False, False, True,       [True, True, False]]\n",
    "vp2 = [True, False, False, False, True, False, True,        [True, True, False]]\n",
    "vp3 = [True, False, False, False, True, True, False,        [True, True, False]]\n",
    "vp4 = [True, True, False, False, True, True, False,         [True, True, False]]\n",
    "vp5 = [False, True, False, False, True, True, False,        [True, True, False]]\n",
    "vp6 = [False, True, False, True, True, False, False,        [True, True, False]]\n",
    "vp7 = [False, True, True, True, False, False, False,        [True, True, False]]\n",
    "vp8 = [True, True, True, True, False, False, False,         [True, True, False]]\n",
    "vp9 = [True, False, True, True, False, False, False,        [True, True, False]]\n",
    "vpt = [True, True, True, True, True, True, True,            [True, True, False]]\n",
    "vpf = [False, False, False, False, False, False, False,     [True, True, False]]\n",
    "\n",
    "predicates_vectors = [vp1, vp2, vp3, vp4, vp5, vp6, vp7, vp8, vp9,\n",
    "                      [True, False, False, False, True, False, True, [True, True, True]]\n",
    "                      ]\n",
    "\n",
    "comandos = []\n",
    "\n",
    "for vp in predicates_vectors:\n",
    "    comandos.append(service.step(vp))\n",
    "\n",
    "\n",
    "for comando in comandos:\n",
    "    print(comando)"
   ]
  },
  {
   "cell_type": "code",
   "execution_count": 2,
   "metadata": {},
   "outputs": [
    {
     "name": "stdout",
     "output_type": "stream",
     "text": [
      "Ontology loaded. \n"
     ]
    },
    {
     "name": "stderr",
     "output_type": "stream",
     "text": [
      "* Owlready2 * Running Pellet...\n",
      "    /usr/bin/java -Xmx2000M -cp /home/juanmhl/miniconda3/envs/uma-race/lib/python3.11/site-packages/owlready2/pellet/jcl-over-slf4j-1.6.4.jar:/home/juanmhl/miniconda3/envs/uma-race/lib/python3.11/site-packages/owlready2/pellet/httpcore-4.2.2.jar:/home/juanmhl/miniconda3/envs/uma-race/lib/python3.11/site-packages/owlready2/pellet/jena-iri-0.9.5.jar:/home/juanmhl/miniconda3/envs/uma-race/lib/python3.11/site-packages/owlready2/pellet/owlapi-distribution-3.4.3-bin.jar:/home/juanmhl/miniconda3/envs/uma-race/lib/python3.11/site-packages/owlready2/pellet/slf4j-api-1.6.4.jar:/home/juanmhl/miniconda3/envs/uma-race/lib/python3.11/site-packages/owlready2/pellet/xercesImpl-2.10.0.jar:/home/juanmhl/miniconda3/envs/uma-race/lib/python3.11/site-packages/owlready2/pellet/slf4j-log4j12-1.6.4.jar:/home/juanmhl/miniconda3/envs/uma-race/lib/python3.11/site-packages/owlready2/pellet/jena-tdb-0.10.0.jar:/home/juanmhl/miniconda3/envs/uma-race/lib/python3.11/site-packages/owlready2/pellet/jena-arq-2.10.0.jar:/home/juanmhl/miniconda3/envs/uma-race/lib/python3.11/site-packages/owlready2/pellet/log4j-core-2.19.0.jar:/home/juanmhl/miniconda3/envs/uma-race/lib/python3.11/site-packages/owlready2/pellet/log4j-api-2.19.0.jar:/home/juanmhl/miniconda3/envs/uma-race/lib/python3.11/site-packages/owlready2/pellet/jena-core-2.10.0.jar:/home/juanmhl/miniconda3/envs/uma-race/lib/python3.11/site-packages/owlready2/pellet/xml-apis-1.4.01.jar:/home/juanmhl/miniconda3/envs/uma-race/lib/python3.11/site-packages/owlready2/pellet/httpclient-4.2.3.jar:/home/juanmhl/miniconda3/envs/uma-race/lib/python3.11/site-packages/owlready2/pellet/pellet-2.3.1.jar:/home/juanmhl/miniconda3/envs/uma-race/lib/python3.11/site-packages/owlready2/pellet/antlr-3.2.jar:/home/juanmhl/miniconda3/envs/uma-race/lib/python3.11/site-packages/owlready2/pellet/antlr-runtime-3.2.jar:/home/juanmhl/miniconda3/envs/uma-race/lib/python3.11/site-packages/owlready2/pellet/jgrapht-jdk1.5.jar:/home/juanmhl/miniconda3/envs/uma-race/lib/python3.11/site-packages/owlready2/pellet/aterm-java-1.6.jar:/home/juanmhl/miniconda3/envs/uma-race/lib/python3.11/site-packages/owlready2/pellet/commons-codec-1.6.jar:/home/juanmhl/miniconda3/envs/uma-race/lib/python3.11/site-packages/owlready2/pellet/log4j-1.2-api-2.19.0.jar pellet.Pellet realize --loader Jena --input-format N-Triples --infer-prop-values --infer-data-prop-values --ignore-imports /tmp/tmpkqdy103o\n",
      "* Owlready2 * Pellet took 0.6252660751342773 seconds\n",
      "* Owlready * (NB: only changes on entities loaded in Python are shown, other changes are done but not listed)\n",
      "* Owlready2 * Running Pellet...\n",
      "    /usr/bin/java -Xmx2000M -cp /home/juanmhl/miniconda3/envs/uma-race/lib/python3.11/site-packages/owlready2/pellet/jcl-over-slf4j-1.6.4.jar:/home/juanmhl/miniconda3/envs/uma-race/lib/python3.11/site-packages/owlready2/pellet/httpcore-4.2.2.jar:/home/juanmhl/miniconda3/envs/uma-race/lib/python3.11/site-packages/owlready2/pellet/jena-iri-0.9.5.jar:/home/juanmhl/miniconda3/envs/uma-race/lib/python3.11/site-packages/owlready2/pellet/owlapi-distribution-3.4.3-bin.jar:/home/juanmhl/miniconda3/envs/uma-race/lib/python3.11/site-packages/owlready2/pellet/slf4j-api-1.6.4.jar:/home/juanmhl/miniconda3/envs/uma-race/lib/python3.11/site-packages/owlready2/pellet/xercesImpl-2.10.0.jar:/home/juanmhl/miniconda3/envs/uma-race/lib/python3.11/site-packages/owlready2/pellet/slf4j-log4j12-1.6.4.jar:/home/juanmhl/miniconda3/envs/uma-race/lib/python3.11/site-packages/owlready2/pellet/jena-tdb-0.10.0.jar:/home/juanmhl/miniconda3/envs/uma-race/lib/python3.11/site-packages/owlready2/pellet/jena-arq-2.10.0.jar:/home/juanmhl/miniconda3/envs/uma-race/lib/python3.11/site-packages/owlready2/pellet/log4j-core-2.19.0.jar:/home/juanmhl/miniconda3/envs/uma-race/lib/python3.11/site-packages/owlready2/pellet/log4j-api-2.19.0.jar:/home/juanmhl/miniconda3/envs/uma-race/lib/python3.11/site-packages/owlready2/pellet/jena-core-2.10.0.jar:/home/juanmhl/miniconda3/envs/uma-race/lib/python3.11/site-packages/owlready2/pellet/xml-apis-1.4.01.jar:/home/juanmhl/miniconda3/envs/uma-race/lib/python3.11/site-packages/owlready2/pellet/httpclient-4.2.3.jar:/home/juanmhl/miniconda3/envs/uma-race/lib/python3.11/site-packages/owlready2/pellet/pellet-2.3.1.jar:/home/juanmhl/miniconda3/envs/uma-race/lib/python3.11/site-packages/owlready2/pellet/antlr-3.2.jar:/home/juanmhl/miniconda3/envs/uma-race/lib/python3.11/site-packages/owlready2/pellet/antlr-runtime-3.2.jar:/home/juanmhl/miniconda3/envs/uma-race/lib/python3.11/site-packages/owlready2/pellet/jgrapht-jdk1.5.jar:/home/juanmhl/miniconda3/envs/uma-race/lib/python3.11/site-packages/owlready2/pellet/aterm-java-1.6.jar:/home/juanmhl/miniconda3/envs/uma-race/lib/python3.11/site-packages/owlready2/pellet/commons-codec-1.6.jar:/home/juanmhl/miniconda3/envs/uma-race/lib/python3.11/site-packages/owlready2/pellet/log4j-1.2-api-2.19.0.jar pellet.Pellet realize --loader Jena --input-format N-Triples --infer-prop-values --infer-data-prop-values --ignore-imports /tmp/tmp_7ku092p\n",
      "* Owlready2 * Pellet took 0.6113321781158447 seconds\n",
      "* Owlready * (NB: only changes on entities loaded in Python are shown, other changes are done but not listed)\n",
      "* Owlready2 * Running Pellet...\n",
      "    /usr/bin/java -Xmx2000M -cp /home/juanmhl/miniconda3/envs/uma-race/lib/python3.11/site-packages/owlready2/pellet/jcl-over-slf4j-1.6.4.jar:/home/juanmhl/miniconda3/envs/uma-race/lib/python3.11/site-packages/owlready2/pellet/httpcore-4.2.2.jar:/home/juanmhl/miniconda3/envs/uma-race/lib/python3.11/site-packages/owlready2/pellet/jena-iri-0.9.5.jar:/home/juanmhl/miniconda3/envs/uma-race/lib/python3.11/site-packages/owlready2/pellet/owlapi-distribution-3.4.3-bin.jar:/home/juanmhl/miniconda3/envs/uma-race/lib/python3.11/site-packages/owlready2/pellet/slf4j-api-1.6.4.jar:/home/juanmhl/miniconda3/envs/uma-race/lib/python3.11/site-packages/owlready2/pellet/xercesImpl-2.10.0.jar:/home/juanmhl/miniconda3/envs/uma-race/lib/python3.11/site-packages/owlready2/pellet/slf4j-log4j12-1.6.4.jar:/home/juanmhl/miniconda3/envs/uma-race/lib/python3.11/site-packages/owlready2/pellet/jena-tdb-0.10.0.jar:/home/juanmhl/miniconda3/envs/uma-race/lib/python3.11/site-packages/owlready2/pellet/jena-arq-2.10.0.jar:/home/juanmhl/miniconda3/envs/uma-race/lib/python3.11/site-packages/owlready2/pellet/log4j-core-2.19.0.jar:/home/juanmhl/miniconda3/envs/uma-race/lib/python3.11/site-packages/owlready2/pellet/log4j-api-2.19.0.jar:/home/juanmhl/miniconda3/envs/uma-race/lib/python3.11/site-packages/owlready2/pellet/jena-core-2.10.0.jar:/home/juanmhl/miniconda3/envs/uma-race/lib/python3.11/site-packages/owlready2/pellet/xml-apis-1.4.01.jar:/home/juanmhl/miniconda3/envs/uma-race/lib/python3.11/site-packages/owlready2/pellet/httpclient-4.2.3.jar:/home/juanmhl/miniconda3/envs/uma-race/lib/python3.11/site-packages/owlready2/pellet/pellet-2.3.1.jar:/home/juanmhl/miniconda3/envs/uma-race/lib/python3.11/site-packages/owlready2/pellet/antlr-3.2.jar:/home/juanmhl/miniconda3/envs/uma-race/lib/python3.11/site-packages/owlready2/pellet/antlr-runtime-3.2.jar:/home/juanmhl/miniconda3/envs/uma-race/lib/python3.11/site-packages/owlready2/pellet/jgrapht-jdk1.5.jar:/home/juanmhl/miniconda3/envs/uma-race/lib/python3.11/site-packages/owlready2/pellet/aterm-java-1.6.jar:/home/juanmhl/miniconda3/envs/uma-race/lib/python3.11/site-packages/owlready2/pellet/commons-codec-1.6.jar:/home/juanmhl/miniconda3/envs/uma-race/lib/python3.11/site-packages/owlready2/pellet/log4j-1.2-api-2.19.0.jar pellet.Pellet realize --loader Jena --input-format N-Triples --infer-prop-values --infer-data-prop-values --ignore-imports /tmp/tmprg2gv4w2\n"
     ]
    },
    {
     "name": "stdout",
     "output_type": "stream",
     "text": [
      "* Owlready * Adding relation ontology.ps3 puntoSuturaActual true\n"
     ]
    },
    {
     "name": "stderr",
     "output_type": "stream",
     "text": [
      "* Owlready2 * Pellet took 0.6126875877380371 seconds\n",
      "* Owlready * (NB: only changes on entities loaded in Python are shown, other changes are done but not listed)\n",
      "* Owlready2 * Running Pellet...\n",
      "    /usr/bin/java -Xmx2000M -cp /home/juanmhl/miniconda3/envs/uma-race/lib/python3.11/site-packages/owlready2/pellet/jcl-over-slf4j-1.6.4.jar:/home/juanmhl/miniconda3/envs/uma-race/lib/python3.11/site-packages/owlready2/pellet/httpcore-4.2.2.jar:/home/juanmhl/miniconda3/envs/uma-race/lib/python3.11/site-packages/owlready2/pellet/jena-iri-0.9.5.jar:/home/juanmhl/miniconda3/envs/uma-race/lib/python3.11/site-packages/owlready2/pellet/owlapi-distribution-3.4.3-bin.jar:/home/juanmhl/miniconda3/envs/uma-race/lib/python3.11/site-packages/owlready2/pellet/slf4j-api-1.6.4.jar:/home/juanmhl/miniconda3/envs/uma-race/lib/python3.11/site-packages/owlready2/pellet/xercesImpl-2.10.0.jar:/home/juanmhl/miniconda3/envs/uma-race/lib/python3.11/site-packages/owlready2/pellet/slf4j-log4j12-1.6.4.jar:/home/juanmhl/miniconda3/envs/uma-race/lib/python3.11/site-packages/owlready2/pellet/jena-tdb-0.10.0.jar:/home/juanmhl/miniconda3/envs/uma-race/lib/python3.11/site-packages/owlready2/pellet/jena-arq-2.10.0.jar:/home/juanmhl/miniconda3/envs/uma-race/lib/python3.11/site-packages/owlready2/pellet/log4j-core-2.19.0.jar:/home/juanmhl/miniconda3/envs/uma-race/lib/python3.11/site-packages/owlready2/pellet/log4j-api-2.19.0.jar:/home/juanmhl/miniconda3/envs/uma-race/lib/python3.11/site-packages/owlready2/pellet/jena-core-2.10.0.jar:/home/juanmhl/miniconda3/envs/uma-race/lib/python3.11/site-packages/owlready2/pellet/xml-apis-1.4.01.jar:/home/juanmhl/miniconda3/envs/uma-race/lib/python3.11/site-packages/owlready2/pellet/httpclient-4.2.3.jar:/home/juanmhl/miniconda3/envs/uma-race/lib/python3.11/site-packages/owlready2/pellet/pellet-2.3.1.jar:/home/juanmhl/miniconda3/envs/uma-race/lib/python3.11/site-packages/owlready2/pellet/antlr-3.2.jar:/home/juanmhl/miniconda3/envs/uma-race/lib/python3.11/site-packages/owlready2/pellet/antlr-runtime-3.2.jar:/home/juanmhl/miniconda3/envs/uma-race/lib/python3.11/site-packages/owlready2/pellet/jgrapht-jdk1.5.jar:/home/juanmhl/miniconda3/envs/uma-race/lib/python3.11/site-packages/owlready2/pellet/aterm-java-1.6.jar:/home/juanmhl/miniconda3/envs/uma-race/lib/python3.11/site-packages/owlready2/pellet/commons-codec-1.6.jar:/home/juanmhl/miniconda3/envs/uma-race/lib/python3.11/site-packages/owlready2/pellet/log4j-1.2-api-2.19.0.jar pellet.Pellet realize --loader Jena --input-format N-Triples --infer-prop-values --infer-data-prop-values --ignore-imports /tmp/tmpv9ui23zf\n"
     ]
    },
    {
     "name": "stdout",
     "output_type": "stream",
     "text": [
      "* Owlready * Adding relation ontology.fase6 faseActual true\n",
      "* Owlready * Adding relation ontology.fase7 faseSiguiente true\n"
     ]
    },
    {
     "name": "stderr",
     "output_type": "stream",
     "text": [
      "* Owlready2 * Pellet took 0.608154296875 seconds\n",
      "* Owlready * (NB: only changes on entities loaded in Python are shown, other changes are done but not listed)\n",
      "* Owlready2 * Running Pellet...\n",
      "    /usr/bin/java -Xmx2000M -cp /home/juanmhl/miniconda3/envs/uma-race/lib/python3.11/site-packages/owlready2/pellet/jcl-over-slf4j-1.6.4.jar:/home/juanmhl/miniconda3/envs/uma-race/lib/python3.11/site-packages/owlready2/pellet/httpcore-4.2.2.jar:/home/juanmhl/miniconda3/envs/uma-race/lib/python3.11/site-packages/owlready2/pellet/jena-iri-0.9.5.jar:/home/juanmhl/miniconda3/envs/uma-race/lib/python3.11/site-packages/owlready2/pellet/owlapi-distribution-3.4.3-bin.jar:/home/juanmhl/miniconda3/envs/uma-race/lib/python3.11/site-packages/owlready2/pellet/slf4j-api-1.6.4.jar:/home/juanmhl/miniconda3/envs/uma-race/lib/python3.11/site-packages/owlready2/pellet/xercesImpl-2.10.0.jar:/home/juanmhl/miniconda3/envs/uma-race/lib/python3.11/site-packages/owlready2/pellet/slf4j-log4j12-1.6.4.jar:/home/juanmhl/miniconda3/envs/uma-race/lib/python3.11/site-packages/owlready2/pellet/jena-tdb-0.10.0.jar:/home/juanmhl/miniconda3/envs/uma-race/lib/python3.11/site-packages/owlready2/pellet/jena-arq-2.10.0.jar:/home/juanmhl/miniconda3/envs/uma-race/lib/python3.11/site-packages/owlready2/pellet/log4j-core-2.19.0.jar:/home/juanmhl/miniconda3/envs/uma-race/lib/python3.11/site-packages/owlready2/pellet/log4j-api-2.19.0.jar:/home/juanmhl/miniconda3/envs/uma-race/lib/python3.11/site-packages/owlready2/pellet/jena-core-2.10.0.jar:/home/juanmhl/miniconda3/envs/uma-race/lib/python3.11/site-packages/owlready2/pellet/xml-apis-1.4.01.jar:/home/juanmhl/miniconda3/envs/uma-race/lib/python3.11/site-packages/owlready2/pellet/httpclient-4.2.3.jar:/home/juanmhl/miniconda3/envs/uma-race/lib/python3.11/site-packages/owlready2/pellet/pellet-2.3.1.jar:/home/juanmhl/miniconda3/envs/uma-race/lib/python3.11/site-packages/owlready2/pellet/antlr-3.2.jar:/home/juanmhl/miniconda3/envs/uma-race/lib/python3.11/site-packages/owlready2/pellet/antlr-runtime-3.2.jar:/home/juanmhl/miniconda3/envs/uma-race/lib/python3.11/site-packages/owlready2/pellet/jgrapht-jdk1.5.jar:/home/juanmhl/miniconda3/envs/uma-race/lib/python3.11/site-packages/owlready2/pellet/aterm-java-1.6.jar:/home/juanmhl/miniconda3/envs/uma-race/lib/python3.11/site-packages/owlready2/pellet/commons-codec-1.6.jar:/home/juanmhl/miniconda3/envs/uma-race/lib/python3.11/site-packages/owlready2/pellet/log4j-1.2-api-2.19.0.jar pellet.Pellet realize --loader Jena --input-format N-Triples --infer-prop-values --infer-data-prop-values --ignore-imports /tmp/tmpis4gm4wv\n"
     ]
    },
    {
     "name": "stdout",
     "output_type": "stream",
     "text": [
      "* Owlready * Adding relation ontology.fase8 faseSiguiente true\n",
      "* Owlready * Adding relation ontology.fase7 faseActual true\n"
     ]
    },
    {
     "name": "stderr",
     "output_type": "stream",
     "text": [
      "* Owlready2 * Pellet took 0.6202189922332764 seconds\n",
      "* Owlready * (NB: only changes on entities loaded in Python are shown, other changes are done but not listed)\n",
      "* Owlready2 * Running Pellet...\n",
      "    /usr/bin/java -Xmx2000M -cp /home/juanmhl/miniconda3/envs/uma-race/lib/python3.11/site-packages/owlready2/pellet/jcl-over-slf4j-1.6.4.jar:/home/juanmhl/miniconda3/envs/uma-race/lib/python3.11/site-packages/owlready2/pellet/httpcore-4.2.2.jar:/home/juanmhl/miniconda3/envs/uma-race/lib/python3.11/site-packages/owlready2/pellet/jena-iri-0.9.5.jar:/home/juanmhl/miniconda3/envs/uma-race/lib/python3.11/site-packages/owlready2/pellet/owlapi-distribution-3.4.3-bin.jar:/home/juanmhl/miniconda3/envs/uma-race/lib/python3.11/site-packages/owlready2/pellet/slf4j-api-1.6.4.jar:/home/juanmhl/miniconda3/envs/uma-race/lib/python3.11/site-packages/owlready2/pellet/xercesImpl-2.10.0.jar:/home/juanmhl/miniconda3/envs/uma-race/lib/python3.11/site-packages/owlready2/pellet/slf4j-log4j12-1.6.4.jar:/home/juanmhl/miniconda3/envs/uma-race/lib/python3.11/site-packages/owlready2/pellet/jena-tdb-0.10.0.jar:/home/juanmhl/miniconda3/envs/uma-race/lib/python3.11/site-packages/owlready2/pellet/jena-arq-2.10.0.jar:/home/juanmhl/miniconda3/envs/uma-race/lib/python3.11/site-packages/owlready2/pellet/log4j-core-2.19.0.jar:/home/juanmhl/miniconda3/envs/uma-race/lib/python3.11/site-packages/owlready2/pellet/log4j-api-2.19.0.jar:/home/juanmhl/miniconda3/envs/uma-race/lib/python3.11/site-packages/owlready2/pellet/jena-core-2.10.0.jar:/home/juanmhl/miniconda3/envs/uma-race/lib/python3.11/site-packages/owlready2/pellet/xml-apis-1.4.01.jar:/home/juanmhl/miniconda3/envs/uma-race/lib/python3.11/site-packages/owlready2/pellet/httpclient-4.2.3.jar:/home/juanmhl/miniconda3/envs/uma-race/lib/python3.11/site-packages/owlready2/pellet/pellet-2.3.1.jar:/home/juanmhl/miniconda3/envs/uma-race/lib/python3.11/site-packages/owlready2/pellet/antlr-3.2.jar:/home/juanmhl/miniconda3/envs/uma-race/lib/python3.11/site-packages/owlready2/pellet/antlr-runtime-3.2.jar:/home/juanmhl/miniconda3/envs/uma-race/lib/python3.11/site-packages/owlready2/pellet/jgrapht-jdk1.5.jar:/home/juanmhl/miniconda3/envs/uma-race/lib/python3.11/site-packages/owlready2/pellet/aterm-java-1.6.jar:/home/juanmhl/miniconda3/envs/uma-race/lib/python3.11/site-packages/owlready2/pellet/commons-codec-1.6.jar:/home/juanmhl/miniconda3/envs/uma-race/lib/python3.11/site-packages/owlready2/pellet/log4j-1.2-api-2.19.0.jar pellet.Pellet realize --loader Jena --input-format N-Triples --infer-prop-values --infer-data-prop-values --ignore-imports /tmp/tmp48aa9o84\n"
     ]
    },
    {
     "name": "stdout",
     "output_type": "stream",
     "text": [
      "* Owlready * Adding relation ontology.fase5 faseSiguiente true\n",
      "* Owlready * Adding relation ontology.fase9 faseSiguiente true\n",
      "* Owlready * Adding relation ontology.fase8 faseActual true\n",
      "* Owlready * Adding relation ontology.fase4 faseActual true\n"
     ]
    },
    {
     "name": "stderr",
     "output_type": "stream",
     "text": [
      "* Owlready2 * Pellet took 0.619683027267456 seconds\n",
      "* Owlready * (NB: only changes on entities loaded in Python are shown, other changes are done but not listed)\n",
      "* Owlready2 * Running Pellet...\n",
      "    /usr/bin/java -Xmx2000M -cp /home/juanmhl/miniconda3/envs/uma-race/lib/python3.11/site-packages/owlready2/pellet/jcl-over-slf4j-1.6.4.jar:/home/juanmhl/miniconda3/envs/uma-race/lib/python3.11/site-packages/owlready2/pellet/httpcore-4.2.2.jar:/home/juanmhl/miniconda3/envs/uma-race/lib/python3.11/site-packages/owlready2/pellet/jena-iri-0.9.5.jar:/home/juanmhl/miniconda3/envs/uma-race/lib/python3.11/site-packages/owlready2/pellet/owlapi-distribution-3.4.3-bin.jar:/home/juanmhl/miniconda3/envs/uma-race/lib/python3.11/site-packages/owlready2/pellet/slf4j-api-1.6.4.jar:/home/juanmhl/miniconda3/envs/uma-race/lib/python3.11/site-packages/owlready2/pellet/xercesImpl-2.10.0.jar:/home/juanmhl/miniconda3/envs/uma-race/lib/python3.11/site-packages/owlready2/pellet/slf4j-log4j12-1.6.4.jar:/home/juanmhl/miniconda3/envs/uma-race/lib/python3.11/site-packages/owlready2/pellet/jena-tdb-0.10.0.jar:/home/juanmhl/miniconda3/envs/uma-race/lib/python3.11/site-packages/owlready2/pellet/jena-arq-2.10.0.jar:/home/juanmhl/miniconda3/envs/uma-race/lib/python3.11/site-packages/owlready2/pellet/log4j-core-2.19.0.jar:/home/juanmhl/miniconda3/envs/uma-race/lib/python3.11/site-packages/owlready2/pellet/log4j-api-2.19.0.jar:/home/juanmhl/miniconda3/envs/uma-race/lib/python3.11/site-packages/owlready2/pellet/jena-core-2.10.0.jar:/home/juanmhl/miniconda3/envs/uma-race/lib/python3.11/site-packages/owlready2/pellet/xml-apis-1.4.01.jar:/home/juanmhl/miniconda3/envs/uma-race/lib/python3.11/site-packages/owlready2/pellet/httpclient-4.2.3.jar:/home/juanmhl/miniconda3/envs/uma-race/lib/python3.11/site-packages/owlready2/pellet/pellet-2.3.1.jar:/home/juanmhl/miniconda3/envs/uma-race/lib/python3.11/site-packages/owlready2/pellet/antlr-3.2.jar:/home/juanmhl/miniconda3/envs/uma-race/lib/python3.11/site-packages/owlready2/pellet/antlr-runtime-3.2.jar:/home/juanmhl/miniconda3/envs/uma-race/lib/python3.11/site-packages/owlready2/pellet/jgrapht-jdk1.5.jar:/home/juanmhl/miniconda3/envs/uma-race/lib/python3.11/site-packages/owlready2/pellet/aterm-java-1.6.jar:/home/juanmhl/miniconda3/envs/uma-race/lib/python3.11/site-packages/owlready2/pellet/commons-codec-1.6.jar:/home/juanmhl/miniconda3/envs/uma-race/lib/python3.11/site-packages/owlready2/pellet/log4j-1.2-api-2.19.0.jar pellet.Pellet realize --loader Jena --input-format N-Triples --infer-prop-values --infer-data-prop-values --ignore-imports /tmp/tmp4heh7cqq\n"
     ]
    },
    {
     "name": "stdout",
     "output_type": "stream",
     "text": [
      "* Owlready * Adding relation ontology.fase9 faseActual true\n",
      "* Owlready * Adding relation ontology.fase2 faseSiguiente true\n",
      "* Owlready * Adding relation ontology.fase3 faseActual true\n",
      "* Owlready * Adding relation ontology.fase4 faseSiguiente true\n",
      "* Owlready * Adding relation ontology.fase5 faseSiguiente true\n",
      "* Owlready * Adding relation ontology.fase2 faseActual true\n",
      "* Owlready * Adding relation ontology.fase3 faseSiguiente true\n",
      "Phase: 5, Action: -DESPLAZAMIENTO_CAMBIO_I-, Suture Point: 3, Near: NONE\n",
      "Phase: 6, Action: -DESPLAZAMIENTO_CAMBIO_D-, Suture Point: 3, Near: NONE\n",
      "Phase: 7, Action: -CIERRE_D-, Suture Point: 3, Near: NONE\n",
      "Phase: 8, Action: -APERTURA_I-, Suture Point: 3, Near: NONE\n",
      "Phase: 9, Action: -DESPLAZAMIENTO_SUTURA_D-, Suture Point: 3, Near: NONE\n",
      "Phase: 4, Action: -APERTURA_D-, Suture Point: 3, Near: NONE\n"
     ]
    },
    {
     "name": "stderr",
     "output_type": "stream",
     "text": [
      "* Owlready2 * Pellet took 0.6305105686187744 seconds\n",
      "* Owlready * (NB: only changes on entities loaded in Python are shown, other changes are done but not listed)\n"
     ]
    }
   ],
   "source": [
    "from inferenceengine import *\n",
    "\n",
    "repo_implementation = CommandRepositoryOntology\n",
    "service = InferenceMotorService(repo_implementation)\n",
    "service.initialize(n_points=3, ontology_path='/home/juanmhl/ontology.owl')\n",
    "\n",
    "vp1 = [True, False, False, False, False, False, True,       [True, True, False]]\n",
    "vp2 = [True, False, False, False, True, False, True,        [True, True, False]]\n",
    "vp3 = [True, False, False, False, True, True, False,        [True, True, False]]\n",
    "vp4 = [True, True, False, False, True, True, False,         [True, True, False]]\n",
    "vp5 = [False, True, False, False, True, True, False,        [True, True, False]]\n",
    "vp6 = [False, True, False, True, True, False, False,        [True, True, False]]\n",
    "vp7 = [False, True, True, True, False, False, False,        [True, True, False]]\n",
    "vp8 = [True, True, True, True, False, False, False,         [True, True, False]]\n",
    "vp9 = [True, False, True, True, False, False, False,        [True, True, False]]\n",
    "vpt = [True, True, True, True, True, True, True,            [True, True, False]]\n",
    "vpf = [False, False, False, False, False, False, False,     [True, True, False]]\n",
    "\n",
    "predicates_vectors = [vp5, vp6, vp7, vp8, vp9,\n",
    "                      [True, False, False, False, True, False, True, [True, True, True]]\n",
    "                      ]\n",
    "\n",
    "comandos = []\n",
    "\n",
    "for vp in predicates_vectors:\n",
    "    comandos.append(service.step(vp))\n",
    "\n",
    "\n",
    "for comando in comandos:\n",
    "    print(comando)"
   ]
  },
  {
   "cell_type": "code",
   "execution_count": 1,
   "metadata": {},
   "outputs": [
    {
     "name": "stdout",
     "output_type": "stream",
     "text": [
      "Ontology loaded. \n"
     ]
    },
    {
     "name": "stderr",
     "output_type": "stream",
     "text": [
      "* Owlready2 * Running Pellet...\n",
      "    /usr/bin/java -Xmx2000M -cp /home/juanmhl/miniconda3/envs/uma-ontology/lib/python3.12/site-packages/owlready2/pellet/jcl-over-slf4j-1.6.4.jar:/home/juanmhl/miniconda3/envs/uma-ontology/lib/python3.12/site-packages/owlready2/pellet/httpcore-4.2.2.jar:/home/juanmhl/miniconda3/envs/uma-ontology/lib/python3.12/site-packages/owlready2/pellet/jena-iri-0.9.5.jar:/home/juanmhl/miniconda3/envs/uma-ontology/lib/python3.12/site-packages/owlready2/pellet/owlapi-distribution-3.4.3-bin.jar:/home/juanmhl/miniconda3/envs/uma-ontology/lib/python3.12/site-packages/owlready2/pellet/slf4j-api-1.6.4.jar:/home/juanmhl/miniconda3/envs/uma-ontology/lib/python3.12/site-packages/owlready2/pellet/xercesImpl-2.10.0.jar:/home/juanmhl/miniconda3/envs/uma-ontology/lib/python3.12/site-packages/owlready2/pellet/slf4j-log4j12-1.6.4.jar:/home/juanmhl/miniconda3/envs/uma-ontology/lib/python3.12/site-packages/owlready2/pellet/jena-tdb-0.10.0.jar:/home/juanmhl/miniconda3/envs/uma-ontology/lib/python3.12/site-packages/owlready2/pellet/jena-arq-2.10.0.jar:/home/juanmhl/miniconda3/envs/uma-ontology/lib/python3.12/site-packages/owlready2/pellet/log4j-core-2.19.0.jar:/home/juanmhl/miniconda3/envs/uma-ontology/lib/python3.12/site-packages/owlready2/pellet/log4j-api-2.19.0.jar:/home/juanmhl/miniconda3/envs/uma-ontology/lib/python3.12/site-packages/owlready2/pellet/jena-core-2.10.0.jar:/home/juanmhl/miniconda3/envs/uma-ontology/lib/python3.12/site-packages/owlready2/pellet/xml-apis-1.4.01.jar:/home/juanmhl/miniconda3/envs/uma-ontology/lib/python3.12/site-packages/owlready2/pellet/httpclient-4.2.3.jar:/home/juanmhl/miniconda3/envs/uma-ontology/lib/python3.12/site-packages/owlready2/pellet/pellet-2.3.1.jar:/home/juanmhl/miniconda3/envs/uma-ontology/lib/python3.12/site-packages/owlready2/pellet/antlr-3.2.jar:/home/juanmhl/miniconda3/envs/uma-ontology/lib/python3.12/site-packages/owlready2/pellet/antlr-runtime-3.2.jar:/home/juanmhl/miniconda3/envs/uma-ontology/lib/python3.12/site-packages/owlready2/pellet/jgrapht-jdk1.5.jar:/home/juanmhl/miniconda3/envs/uma-ontology/lib/python3.12/site-packages/owlready2/pellet/aterm-java-1.6.jar:/home/juanmhl/miniconda3/envs/uma-ontology/lib/python3.12/site-packages/owlready2/pellet/commons-codec-1.6.jar:/home/juanmhl/miniconda3/envs/uma-ontology/lib/python3.12/site-packages/owlready2/pellet/log4j-1.2-api-2.19.0.jar pellet.Pellet realize --loader Jena --input-format N-Triples --infer-prop-values --infer-data-prop-values --ignore-imports /tmp/tmphmjf5z3q\n",
      "* Owlready2 * Pellet took 0.6188948154449463 seconds\n",
      "* Owlready * (NB: only changes on entities loaded in Python are shown, other changes are done but not listed)\n",
      "* Owlready2 * Running Pellet...\n",
      "    /usr/bin/java -Xmx2000M -cp /home/juanmhl/miniconda3/envs/uma-ontology/lib/python3.12/site-packages/owlready2/pellet/jcl-over-slf4j-1.6.4.jar:/home/juanmhl/miniconda3/envs/uma-ontology/lib/python3.12/site-packages/owlready2/pellet/httpcore-4.2.2.jar:/home/juanmhl/miniconda3/envs/uma-ontology/lib/python3.12/site-packages/owlready2/pellet/jena-iri-0.9.5.jar:/home/juanmhl/miniconda3/envs/uma-ontology/lib/python3.12/site-packages/owlready2/pellet/owlapi-distribution-3.4.3-bin.jar:/home/juanmhl/miniconda3/envs/uma-ontology/lib/python3.12/site-packages/owlready2/pellet/slf4j-api-1.6.4.jar:/home/juanmhl/miniconda3/envs/uma-ontology/lib/python3.12/site-packages/owlready2/pellet/xercesImpl-2.10.0.jar:/home/juanmhl/miniconda3/envs/uma-ontology/lib/python3.12/site-packages/owlready2/pellet/slf4j-log4j12-1.6.4.jar:/home/juanmhl/miniconda3/envs/uma-ontology/lib/python3.12/site-packages/owlready2/pellet/jena-tdb-0.10.0.jar:/home/juanmhl/miniconda3/envs/uma-ontology/lib/python3.12/site-packages/owlready2/pellet/jena-arq-2.10.0.jar:/home/juanmhl/miniconda3/envs/uma-ontology/lib/python3.12/site-packages/owlready2/pellet/log4j-core-2.19.0.jar:/home/juanmhl/miniconda3/envs/uma-ontology/lib/python3.12/site-packages/owlready2/pellet/log4j-api-2.19.0.jar:/home/juanmhl/miniconda3/envs/uma-ontology/lib/python3.12/site-packages/owlready2/pellet/jena-core-2.10.0.jar:/home/juanmhl/miniconda3/envs/uma-ontology/lib/python3.12/site-packages/owlready2/pellet/xml-apis-1.4.01.jar:/home/juanmhl/miniconda3/envs/uma-ontology/lib/python3.12/site-packages/owlready2/pellet/httpclient-4.2.3.jar:/home/juanmhl/miniconda3/envs/uma-ontology/lib/python3.12/site-packages/owlready2/pellet/pellet-2.3.1.jar:/home/juanmhl/miniconda3/envs/uma-ontology/lib/python3.12/site-packages/owlready2/pellet/antlr-3.2.jar:/home/juanmhl/miniconda3/envs/uma-ontology/lib/python3.12/site-packages/owlready2/pellet/antlr-runtime-3.2.jar:/home/juanmhl/miniconda3/envs/uma-ontology/lib/python3.12/site-packages/owlready2/pellet/jgrapht-jdk1.5.jar:/home/juanmhl/miniconda3/envs/uma-ontology/lib/python3.12/site-packages/owlready2/pellet/aterm-java-1.6.jar:/home/juanmhl/miniconda3/envs/uma-ontology/lib/python3.12/site-packages/owlready2/pellet/commons-codec-1.6.jar:/home/juanmhl/miniconda3/envs/uma-ontology/lib/python3.12/site-packages/owlready2/pellet/log4j-1.2-api-2.19.0.jar pellet.Pellet realize --loader Jena --input-format N-Triples --infer-prop-values --infer-data-prop-values --ignore-imports /tmp/tmpqcei8179\n",
      "* Owlready2 * Pellet took 0.6149120330810547 seconds\n",
      "* Owlready * (NB: only changes on entities loaded in Python are shown, other changes are done but not listed)\n",
      "* Owlready2 * Running Pellet...\n",
      "    /usr/bin/java -Xmx2000M -cp /home/juanmhl/miniconda3/envs/uma-ontology/lib/python3.12/site-packages/owlready2/pellet/jcl-over-slf4j-1.6.4.jar:/home/juanmhl/miniconda3/envs/uma-ontology/lib/python3.12/site-packages/owlready2/pellet/httpcore-4.2.2.jar:/home/juanmhl/miniconda3/envs/uma-ontology/lib/python3.12/site-packages/owlready2/pellet/jena-iri-0.9.5.jar:/home/juanmhl/miniconda3/envs/uma-ontology/lib/python3.12/site-packages/owlready2/pellet/owlapi-distribution-3.4.3-bin.jar:/home/juanmhl/miniconda3/envs/uma-ontology/lib/python3.12/site-packages/owlready2/pellet/slf4j-api-1.6.4.jar:/home/juanmhl/miniconda3/envs/uma-ontology/lib/python3.12/site-packages/owlready2/pellet/xercesImpl-2.10.0.jar:/home/juanmhl/miniconda3/envs/uma-ontology/lib/python3.12/site-packages/owlready2/pellet/slf4j-log4j12-1.6.4.jar:/home/juanmhl/miniconda3/envs/uma-ontology/lib/python3.12/site-packages/owlready2/pellet/jena-tdb-0.10.0.jar:/home/juanmhl/miniconda3/envs/uma-ontology/lib/python3.12/site-packages/owlready2/pellet/jena-arq-2.10.0.jar:/home/juanmhl/miniconda3/envs/uma-ontology/lib/python3.12/site-packages/owlready2/pellet/log4j-core-2.19.0.jar:/home/juanmhl/miniconda3/envs/uma-ontology/lib/python3.12/site-packages/owlready2/pellet/log4j-api-2.19.0.jar:/home/juanmhl/miniconda3/envs/uma-ontology/lib/python3.12/site-packages/owlready2/pellet/jena-core-2.10.0.jar:/home/juanmhl/miniconda3/envs/uma-ontology/lib/python3.12/site-packages/owlready2/pellet/xml-apis-1.4.01.jar:/home/juanmhl/miniconda3/envs/uma-ontology/lib/python3.12/site-packages/owlready2/pellet/httpclient-4.2.3.jar:/home/juanmhl/miniconda3/envs/uma-ontology/lib/python3.12/site-packages/owlready2/pellet/pellet-2.3.1.jar:/home/juanmhl/miniconda3/envs/uma-ontology/lib/python3.12/site-packages/owlready2/pellet/antlr-3.2.jar:/home/juanmhl/miniconda3/envs/uma-ontology/lib/python3.12/site-packages/owlready2/pellet/antlr-runtime-3.2.jar:/home/juanmhl/miniconda3/envs/uma-ontology/lib/python3.12/site-packages/owlready2/pellet/jgrapht-jdk1.5.jar:/home/juanmhl/miniconda3/envs/uma-ontology/lib/python3.12/site-packages/owlready2/pellet/aterm-java-1.6.jar:/home/juanmhl/miniconda3/envs/uma-ontology/lib/python3.12/site-packages/owlready2/pellet/commons-codec-1.6.jar:/home/juanmhl/miniconda3/envs/uma-ontology/lib/python3.12/site-packages/owlready2/pellet/log4j-1.2-api-2.19.0.jar pellet.Pellet realize --loader Jena --input-format N-Triples --infer-prop-values --infer-data-prop-values --ignore-imports /tmp/tmpnmddq_c5\n",
      "* Owlready2 * Pellet took 0.6021573543548584 seconds\n",
      "* Owlready * (NB: only changes on entities loaded in Python are shown, other changes are done but not listed)\n",
      "* Owlready2 * Running Pellet...\n",
      "    /usr/bin/java -Xmx2000M -cp /home/juanmhl/miniconda3/envs/uma-ontology/lib/python3.12/site-packages/owlready2/pellet/jcl-over-slf4j-1.6.4.jar:/home/juanmhl/miniconda3/envs/uma-ontology/lib/python3.12/site-packages/owlready2/pellet/httpcore-4.2.2.jar:/home/juanmhl/miniconda3/envs/uma-ontology/lib/python3.12/site-packages/owlready2/pellet/jena-iri-0.9.5.jar:/home/juanmhl/miniconda3/envs/uma-ontology/lib/python3.12/site-packages/owlready2/pellet/owlapi-distribution-3.4.3-bin.jar:/home/juanmhl/miniconda3/envs/uma-ontology/lib/python3.12/site-packages/owlready2/pellet/slf4j-api-1.6.4.jar:/home/juanmhl/miniconda3/envs/uma-ontology/lib/python3.12/site-packages/owlready2/pellet/xercesImpl-2.10.0.jar:/home/juanmhl/miniconda3/envs/uma-ontology/lib/python3.12/site-packages/owlready2/pellet/slf4j-log4j12-1.6.4.jar:/home/juanmhl/miniconda3/envs/uma-ontology/lib/python3.12/site-packages/owlready2/pellet/jena-tdb-0.10.0.jar:/home/juanmhl/miniconda3/envs/uma-ontology/lib/python3.12/site-packages/owlready2/pellet/jena-arq-2.10.0.jar:/home/juanmhl/miniconda3/envs/uma-ontology/lib/python3.12/site-packages/owlready2/pellet/log4j-core-2.19.0.jar:/home/juanmhl/miniconda3/envs/uma-ontology/lib/python3.12/site-packages/owlready2/pellet/log4j-api-2.19.0.jar:/home/juanmhl/miniconda3/envs/uma-ontology/lib/python3.12/site-packages/owlready2/pellet/jena-core-2.10.0.jar:/home/juanmhl/miniconda3/envs/uma-ontology/lib/python3.12/site-packages/owlready2/pellet/xml-apis-1.4.01.jar:/home/juanmhl/miniconda3/envs/uma-ontology/lib/python3.12/site-packages/owlready2/pellet/httpclient-4.2.3.jar:/home/juanmhl/miniconda3/envs/uma-ontology/lib/python3.12/site-packages/owlready2/pellet/pellet-2.3.1.jar:/home/juanmhl/miniconda3/envs/uma-ontology/lib/python3.12/site-packages/owlready2/pellet/antlr-3.2.jar:/home/juanmhl/miniconda3/envs/uma-ontology/lib/python3.12/site-packages/owlready2/pellet/antlr-runtime-3.2.jar:/home/juanmhl/miniconda3/envs/uma-ontology/lib/python3.12/site-packages/owlready2/pellet/jgrapht-jdk1.5.jar:/home/juanmhl/miniconda3/envs/uma-ontology/lib/python3.12/site-packages/owlready2/pellet/aterm-java-1.6.jar:/home/juanmhl/miniconda3/envs/uma-ontology/lib/python3.12/site-packages/owlready2/pellet/commons-codec-1.6.jar:/home/juanmhl/miniconda3/envs/uma-ontology/lib/python3.12/site-packages/owlready2/pellet/log4j-1.2-api-2.19.0.jar pellet.Pellet realize --loader Jena --input-format N-Triples --infer-prop-values --infer-data-prop-values --ignore-imports /tmp/tmp8ja55kn3\n"
     ]
    },
    {
     "name": "stdout",
     "output_type": "stream",
     "text": [
      "* Owlready * Adding relation ontology.fase6 faseSiguiente true\n",
      "* Owlready * Adding relation ontology.fase5 faseActual true\n"
     ]
    },
    {
     "name": "stderr",
     "output_type": "stream",
     "text": [
      "* Owlready2 * Pellet took 0.6189072132110596 seconds\n",
      "* Owlready * (NB: only changes on entities loaded in Python are shown, other changes are done but not listed)\n",
      "* Owlready2 * Running Pellet...\n",
      "    /usr/bin/java -Xmx2000M -cp /home/juanmhl/miniconda3/envs/uma-ontology/lib/python3.12/site-packages/owlready2/pellet/jcl-over-slf4j-1.6.4.jar:/home/juanmhl/miniconda3/envs/uma-ontology/lib/python3.12/site-packages/owlready2/pellet/httpcore-4.2.2.jar:/home/juanmhl/miniconda3/envs/uma-ontology/lib/python3.12/site-packages/owlready2/pellet/jena-iri-0.9.5.jar:/home/juanmhl/miniconda3/envs/uma-ontology/lib/python3.12/site-packages/owlready2/pellet/owlapi-distribution-3.4.3-bin.jar:/home/juanmhl/miniconda3/envs/uma-ontology/lib/python3.12/site-packages/owlready2/pellet/slf4j-api-1.6.4.jar:/home/juanmhl/miniconda3/envs/uma-ontology/lib/python3.12/site-packages/owlready2/pellet/xercesImpl-2.10.0.jar:/home/juanmhl/miniconda3/envs/uma-ontology/lib/python3.12/site-packages/owlready2/pellet/slf4j-log4j12-1.6.4.jar:/home/juanmhl/miniconda3/envs/uma-ontology/lib/python3.12/site-packages/owlready2/pellet/jena-tdb-0.10.0.jar:/home/juanmhl/miniconda3/envs/uma-ontology/lib/python3.12/site-packages/owlready2/pellet/jena-arq-2.10.0.jar:/home/juanmhl/miniconda3/envs/uma-ontology/lib/python3.12/site-packages/owlready2/pellet/log4j-core-2.19.0.jar:/home/juanmhl/miniconda3/envs/uma-ontology/lib/python3.12/site-packages/owlready2/pellet/log4j-api-2.19.0.jar:/home/juanmhl/miniconda3/envs/uma-ontology/lib/python3.12/site-packages/owlready2/pellet/jena-core-2.10.0.jar:/home/juanmhl/miniconda3/envs/uma-ontology/lib/python3.12/site-packages/owlready2/pellet/xml-apis-1.4.01.jar:/home/juanmhl/miniconda3/envs/uma-ontology/lib/python3.12/site-packages/owlready2/pellet/httpclient-4.2.3.jar:/home/juanmhl/miniconda3/envs/uma-ontology/lib/python3.12/site-packages/owlready2/pellet/pellet-2.3.1.jar:/home/juanmhl/miniconda3/envs/uma-ontology/lib/python3.12/site-packages/owlready2/pellet/antlr-3.2.jar:/home/juanmhl/miniconda3/envs/uma-ontology/lib/python3.12/site-packages/owlready2/pellet/antlr-runtime-3.2.jar:/home/juanmhl/miniconda3/envs/uma-ontology/lib/python3.12/site-packages/owlready2/pellet/jgrapht-jdk1.5.jar:/home/juanmhl/miniconda3/envs/uma-ontology/lib/python3.12/site-packages/owlready2/pellet/aterm-java-1.6.jar:/home/juanmhl/miniconda3/envs/uma-ontology/lib/python3.12/site-packages/owlready2/pellet/commons-codec-1.6.jar:/home/juanmhl/miniconda3/envs/uma-ontology/lib/python3.12/site-packages/owlready2/pellet/log4j-1.2-api-2.19.0.jar pellet.Pellet realize --loader Jena --input-format N-Triples --infer-prop-values --infer-data-prop-values --ignore-imports /tmp/tmpemp80_mj\n"
     ]
    },
    {
     "name": "stdout",
     "output_type": "stream",
     "text": [
      "* Owlready * Adding relation ontology.fase9 faseActual true\n",
      "* Owlready * Adding relation ontology.fase2 faseSiguiente true\n",
      "* Owlready * Adding relation ontology.ps2 puntoSuturaActual true\n",
      "* Owlready * Adding relation ontology.fase3 faseActual true\n",
      "* Owlready * Adding relation ontology.fase4 faseSiguiente true\n",
      "Phase: 1, Action: -DESPLAZAMIENTO_SUTURA_D-, Suture Point: 1, Near: NONE\n",
      "Phase: 5, Action: -DESPLAZAMIENTO_CAMBIO_I-, Suture Point: 1, Near: NONE\n",
      "Phase: 9, Action: -DESPLAZAMIENTO_SUTURA_D-, Suture Point: 1, Near: NONE\n",
      "Phase: 3, Action: -CIERRE_I-, Suture Point: 2, Near: NONE\n"
     ]
    },
    {
     "name": "stderr",
     "output_type": "stream",
     "text": [
      "* Owlready2 * Pellet took 0.6157271862030029 seconds\n",
      "* Owlready * (NB: only changes on entities loaded in Python are shown, other changes are done but not listed)\n"
     ]
    }
   ],
   "source": [
    "from inferenceengine import *\n",
    "\n",
    "repo_implementation = CommandRepositoryOntology\n",
    "service = InferenceMotorService(repo_implementation)\n",
    "service.initialize(n_points=3, ontology_path='/home/juanmhl/ontology.owl')\n",
    "\n",
    "vp1 = [True, False, False, False, False, False, True,       [False, False, False]]\n",
    "vp2 = [True, False, False, False, True, False, True,        [False, False, False]]\n",
    "vp3 = [True, False, False, False, True, True, False,        [False, False, False]]\n",
    "vp4 = [True, True, False, False, True, True, False,         [False, False, False]]\n",
    "vp5 = [False, True, False, False, True, True, False,        [False, False, False]]\n",
    "vp6 = [False, True, False, True, True, False, False,        [False, False, False]]\n",
    "vp7 = [False, True, True, True, False, False, False,        [False, False, False]]\n",
    "vp8 = [True, True, True, True, False, False, False,         [False, False, False]]\n",
    "vp9 = [True, False, True, True, False, False, False,        [False, False, False]]\n",
    "vpt = [True, True, True, True, True, True, True,            [False, False, False]]\n",
    "vpf = [False, False, False, False, False, False, False,     [False, False, False]]\n",
    "\n",
    "predicates_vectors = [vp1, vp5, vp9,\n",
    "                      [True, False, False, False, True, True, False, [True, False, False]]\n",
    "                      ]\n",
    "\n",
    "comandos = []\n",
    "\n",
    "for vp in predicates_vectors:\n",
    "    comandos.append(service.step(vp))\n",
    "\n",
    "\n",
    "for comando in comandos:\n",
    "    print(comando)"
   ]
  },
  {
   "cell_type": "code",
   "execution_count": 1,
   "metadata": {},
   "outputs": [
    {
     "name": "stdout",
     "output_type": "stream",
     "text": [
      "Ontology loaded. \n"
     ]
    },
    {
     "name": "stderr",
     "output_type": "stream",
     "text": [
      "* Owlready2 * Running Pellet...\n",
      "    /usr/bin/java -Xmx2000M -cp /home/juanmhl/miniconda3/envs/uma-race/lib/python3.11/site-packages/owlready2/pellet/jcl-over-slf4j-1.6.4.jar:/home/juanmhl/miniconda3/envs/uma-race/lib/python3.11/site-packages/owlready2/pellet/httpcore-4.2.2.jar:/home/juanmhl/miniconda3/envs/uma-race/lib/python3.11/site-packages/owlready2/pellet/jena-iri-0.9.5.jar:/home/juanmhl/miniconda3/envs/uma-race/lib/python3.11/site-packages/owlready2/pellet/owlapi-distribution-3.4.3-bin.jar:/home/juanmhl/miniconda3/envs/uma-race/lib/python3.11/site-packages/owlready2/pellet/slf4j-api-1.6.4.jar:/home/juanmhl/miniconda3/envs/uma-race/lib/python3.11/site-packages/owlready2/pellet/xercesImpl-2.10.0.jar:/home/juanmhl/miniconda3/envs/uma-race/lib/python3.11/site-packages/owlready2/pellet/slf4j-log4j12-1.6.4.jar:/home/juanmhl/miniconda3/envs/uma-race/lib/python3.11/site-packages/owlready2/pellet/jena-tdb-0.10.0.jar:/home/juanmhl/miniconda3/envs/uma-race/lib/python3.11/site-packages/owlready2/pellet/jena-arq-2.10.0.jar:/home/juanmhl/miniconda3/envs/uma-race/lib/python3.11/site-packages/owlready2/pellet/log4j-core-2.19.0.jar:/home/juanmhl/miniconda3/envs/uma-race/lib/python3.11/site-packages/owlready2/pellet/log4j-api-2.19.0.jar:/home/juanmhl/miniconda3/envs/uma-race/lib/python3.11/site-packages/owlready2/pellet/jena-core-2.10.0.jar:/home/juanmhl/miniconda3/envs/uma-race/lib/python3.11/site-packages/owlready2/pellet/xml-apis-1.4.01.jar:/home/juanmhl/miniconda3/envs/uma-race/lib/python3.11/site-packages/owlready2/pellet/httpclient-4.2.3.jar:/home/juanmhl/miniconda3/envs/uma-race/lib/python3.11/site-packages/owlready2/pellet/pellet-2.3.1.jar:/home/juanmhl/miniconda3/envs/uma-race/lib/python3.11/site-packages/owlready2/pellet/antlr-3.2.jar:/home/juanmhl/miniconda3/envs/uma-race/lib/python3.11/site-packages/owlready2/pellet/antlr-runtime-3.2.jar:/home/juanmhl/miniconda3/envs/uma-race/lib/python3.11/site-packages/owlready2/pellet/jgrapht-jdk1.5.jar:/home/juanmhl/miniconda3/envs/uma-race/lib/python3.11/site-packages/owlready2/pellet/aterm-java-1.6.jar:/home/juanmhl/miniconda3/envs/uma-race/lib/python3.11/site-packages/owlready2/pellet/commons-codec-1.6.jar:/home/juanmhl/miniconda3/envs/uma-race/lib/python3.11/site-packages/owlready2/pellet/log4j-1.2-api-2.19.0.jar pellet.Pellet realize --loader Jena --input-format N-Triples --infer-prop-values --infer-data-prop-values --ignore-imports /tmp/tmp5llh267b\n",
      "* Owlready2 * Pellet took 0.6386501789093018 seconds\n",
      "* Owlready * (NB: only changes on entities loaded in Python are shown, other changes are done but not listed)\n",
      "* Owlready2 * Running Pellet...\n",
      "    /usr/bin/java -Xmx2000M -cp /home/juanmhl/miniconda3/envs/uma-race/lib/python3.11/site-packages/owlready2/pellet/jcl-over-slf4j-1.6.4.jar:/home/juanmhl/miniconda3/envs/uma-race/lib/python3.11/site-packages/owlready2/pellet/httpcore-4.2.2.jar:/home/juanmhl/miniconda3/envs/uma-race/lib/python3.11/site-packages/owlready2/pellet/jena-iri-0.9.5.jar:/home/juanmhl/miniconda3/envs/uma-race/lib/python3.11/site-packages/owlready2/pellet/owlapi-distribution-3.4.3-bin.jar:/home/juanmhl/miniconda3/envs/uma-race/lib/python3.11/site-packages/owlready2/pellet/slf4j-api-1.6.4.jar:/home/juanmhl/miniconda3/envs/uma-race/lib/python3.11/site-packages/owlready2/pellet/xercesImpl-2.10.0.jar:/home/juanmhl/miniconda3/envs/uma-race/lib/python3.11/site-packages/owlready2/pellet/slf4j-log4j12-1.6.4.jar:/home/juanmhl/miniconda3/envs/uma-race/lib/python3.11/site-packages/owlready2/pellet/jena-tdb-0.10.0.jar:/home/juanmhl/miniconda3/envs/uma-race/lib/python3.11/site-packages/owlready2/pellet/jena-arq-2.10.0.jar:/home/juanmhl/miniconda3/envs/uma-race/lib/python3.11/site-packages/owlready2/pellet/log4j-core-2.19.0.jar:/home/juanmhl/miniconda3/envs/uma-race/lib/python3.11/site-packages/owlready2/pellet/log4j-api-2.19.0.jar:/home/juanmhl/miniconda3/envs/uma-race/lib/python3.11/site-packages/owlready2/pellet/jena-core-2.10.0.jar:/home/juanmhl/miniconda3/envs/uma-race/lib/python3.11/site-packages/owlready2/pellet/xml-apis-1.4.01.jar:/home/juanmhl/miniconda3/envs/uma-race/lib/python3.11/site-packages/owlready2/pellet/httpclient-4.2.3.jar:/home/juanmhl/miniconda3/envs/uma-race/lib/python3.11/site-packages/owlready2/pellet/pellet-2.3.1.jar:/home/juanmhl/miniconda3/envs/uma-race/lib/python3.11/site-packages/owlready2/pellet/antlr-3.2.jar:/home/juanmhl/miniconda3/envs/uma-race/lib/python3.11/site-packages/owlready2/pellet/antlr-runtime-3.2.jar:/home/juanmhl/miniconda3/envs/uma-race/lib/python3.11/site-packages/owlready2/pellet/jgrapht-jdk1.5.jar:/home/juanmhl/miniconda3/envs/uma-race/lib/python3.11/site-packages/owlready2/pellet/aterm-java-1.6.jar:/home/juanmhl/miniconda3/envs/uma-race/lib/python3.11/site-packages/owlready2/pellet/commons-codec-1.6.jar:/home/juanmhl/miniconda3/envs/uma-race/lib/python3.11/site-packages/owlready2/pellet/log4j-1.2-api-2.19.0.jar pellet.Pellet realize --loader Jena --input-format N-Triples --infer-prop-values --infer-data-prop-values --ignore-imports /tmp/tmpetcd6ycq\n",
      "* Owlready2 * Pellet took 0.6381809711456299 seconds\n",
      "* Owlready * (NB: only changes on entities loaded in Python are shown, other changes are done but not listed)\n",
      "* Owlready2 * Running Pellet...\n",
      "    /usr/bin/java -Xmx2000M -cp /home/juanmhl/miniconda3/envs/uma-race/lib/python3.11/site-packages/owlready2/pellet/jcl-over-slf4j-1.6.4.jar:/home/juanmhl/miniconda3/envs/uma-race/lib/python3.11/site-packages/owlready2/pellet/httpcore-4.2.2.jar:/home/juanmhl/miniconda3/envs/uma-race/lib/python3.11/site-packages/owlready2/pellet/jena-iri-0.9.5.jar:/home/juanmhl/miniconda3/envs/uma-race/lib/python3.11/site-packages/owlready2/pellet/owlapi-distribution-3.4.3-bin.jar:/home/juanmhl/miniconda3/envs/uma-race/lib/python3.11/site-packages/owlready2/pellet/slf4j-api-1.6.4.jar:/home/juanmhl/miniconda3/envs/uma-race/lib/python3.11/site-packages/owlready2/pellet/xercesImpl-2.10.0.jar:/home/juanmhl/miniconda3/envs/uma-race/lib/python3.11/site-packages/owlready2/pellet/slf4j-log4j12-1.6.4.jar:/home/juanmhl/miniconda3/envs/uma-race/lib/python3.11/site-packages/owlready2/pellet/jena-tdb-0.10.0.jar:/home/juanmhl/miniconda3/envs/uma-race/lib/python3.11/site-packages/owlready2/pellet/jena-arq-2.10.0.jar:/home/juanmhl/miniconda3/envs/uma-race/lib/python3.11/site-packages/owlready2/pellet/log4j-core-2.19.0.jar:/home/juanmhl/miniconda3/envs/uma-race/lib/python3.11/site-packages/owlready2/pellet/log4j-api-2.19.0.jar:/home/juanmhl/miniconda3/envs/uma-race/lib/python3.11/site-packages/owlready2/pellet/jena-core-2.10.0.jar:/home/juanmhl/miniconda3/envs/uma-race/lib/python3.11/site-packages/owlready2/pellet/xml-apis-1.4.01.jar:/home/juanmhl/miniconda3/envs/uma-race/lib/python3.11/site-packages/owlready2/pellet/httpclient-4.2.3.jar:/home/juanmhl/miniconda3/envs/uma-race/lib/python3.11/site-packages/owlready2/pellet/pellet-2.3.1.jar:/home/juanmhl/miniconda3/envs/uma-race/lib/python3.11/site-packages/owlready2/pellet/antlr-3.2.jar:/home/juanmhl/miniconda3/envs/uma-race/lib/python3.11/site-packages/owlready2/pellet/antlr-runtime-3.2.jar:/home/juanmhl/miniconda3/envs/uma-race/lib/python3.11/site-packages/owlready2/pellet/jgrapht-jdk1.5.jar:/home/juanmhl/miniconda3/envs/uma-race/lib/python3.11/site-packages/owlready2/pellet/aterm-java-1.6.jar:/home/juanmhl/miniconda3/envs/uma-race/lib/python3.11/site-packages/owlready2/pellet/commons-codec-1.6.jar:/home/juanmhl/miniconda3/envs/uma-race/lib/python3.11/site-packages/owlready2/pellet/log4j-1.2-api-2.19.0.jar pellet.Pellet realize --loader Jena --input-format N-Triples --infer-prop-values --infer-data-prop-values --ignore-imports /tmp/tmppiz5tvw8\n",
      "* Owlready2 * Pellet took 0.6088263988494873 seconds\n",
      "* Owlready * (NB: only changes on entities loaded in Python are shown, other changes are done but not listed)\n",
      "* Owlready2 * Running Pellet...\n",
      "    /usr/bin/java -Xmx2000M -cp /home/juanmhl/miniconda3/envs/uma-race/lib/python3.11/site-packages/owlready2/pellet/jcl-over-slf4j-1.6.4.jar:/home/juanmhl/miniconda3/envs/uma-race/lib/python3.11/site-packages/owlready2/pellet/httpcore-4.2.2.jar:/home/juanmhl/miniconda3/envs/uma-race/lib/python3.11/site-packages/owlready2/pellet/jena-iri-0.9.5.jar:/home/juanmhl/miniconda3/envs/uma-race/lib/python3.11/site-packages/owlready2/pellet/owlapi-distribution-3.4.3-bin.jar:/home/juanmhl/miniconda3/envs/uma-race/lib/python3.11/site-packages/owlready2/pellet/slf4j-api-1.6.4.jar:/home/juanmhl/miniconda3/envs/uma-race/lib/python3.11/site-packages/owlready2/pellet/xercesImpl-2.10.0.jar:/home/juanmhl/miniconda3/envs/uma-race/lib/python3.11/site-packages/owlready2/pellet/slf4j-log4j12-1.6.4.jar:/home/juanmhl/miniconda3/envs/uma-race/lib/python3.11/site-packages/owlready2/pellet/jena-tdb-0.10.0.jar:/home/juanmhl/miniconda3/envs/uma-race/lib/python3.11/site-packages/owlready2/pellet/jena-arq-2.10.0.jar:/home/juanmhl/miniconda3/envs/uma-race/lib/python3.11/site-packages/owlready2/pellet/log4j-core-2.19.0.jar:/home/juanmhl/miniconda3/envs/uma-race/lib/python3.11/site-packages/owlready2/pellet/log4j-api-2.19.0.jar:/home/juanmhl/miniconda3/envs/uma-race/lib/python3.11/site-packages/owlready2/pellet/jena-core-2.10.0.jar:/home/juanmhl/miniconda3/envs/uma-race/lib/python3.11/site-packages/owlready2/pellet/xml-apis-1.4.01.jar:/home/juanmhl/miniconda3/envs/uma-race/lib/python3.11/site-packages/owlready2/pellet/httpclient-4.2.3.jar:/home/juanmhl/miniconda3/envs/uma-race/lib/python3.11/site-packages/owlready2/pellet/pellet-2.3.1.jar:/home/juanmhl/miniconda3/envs/uma-race/lib/python3.11/site-packages/owlready2/pellet/antlr-3.2.jar:/home/juanmhl/miniconda3/envs/uma-race/lib/python3.11/site-packages/owlready2/pellet/antlr-runtime-3.2.jar:/home/juanmhl/miniconda3/envs/uma-race/lib/python3.11/site-packages/owlready2/pellet/jgrapht-jdk1.5.jar:/home/juanmhl/miniconda3/envs/uma-race/lib/python3.11/site-packages/owlready2/pellet/aterm-java-1.6.jar:/home/juanmhl/miniconda3/envs/uma-race/lib/python3.11/site-packages/owlready2/pellet/commons-codec-1.6.jar:/home/juanmhl/miniconda3/envs/uma-race/lib/python3.11/site-packages/owlready2/pellet/log4j-1.2-api-2.19.0.jar pellet.Pellet realize --loader Jena --input-format N-Triples --infer-prop-values --infer-data-prop-values --ignore-imports /tmp/tmprp8cj5g5\n"
     ]
    },
    {
     "name": "stdout",
     "output_type": "stream",
     "text": [
      "* Owlready * Adding relation ontology.fase5 faseActual true\n",
      "* Owlready * Adding relation ontology.fase6 faseSiguiente true\n"
     ]
    },
    {
     "name": "stderr",
     "output_type": "stream",
     "text": [
      "* Owlready2 * Pellet took 0.6291086673736572 seconds\n",
      "* Owlready * (NB: only changes on entities loaded in Python are shown, other changes are done but not listed)\n",
      "* Owlready2 * Running Pellet...\n",
      "    /usr/bin/java -Xmx2000M -cp /home/juanmhl/miniconda3/envs/uma-race/lib/python3.11/site-packages/owlready2/pellet/jcl-over-slf4j-1.6.4.jar:/home/juanmhl/miniconda3/envs/uma-race/lib/python3.11/site-packages/owlready2/pellet/httpcore-4.2.2.jar:/home/juanmhl/miniconda3/envs/uma-race/lib/python3.11/site-packages/owlready2/pellet/jena-iri-0.9.5.jar:/home/juanmhl/miniconda3/envs/uma-race/lib/python3.11/site-packages/owlready2/pellet/owlapi-distribution-3.4.3-bin.jar:/home/juanmhl/miniconda3/envs/uma-race/lib/python3.11/site-packages/owlready2/pellet/slf4j-api-1.6.4.jar:/home/juanmhl/miniconda3/envs/uma-race/lib/python3.11/site-packages/owlready2/pellet/xercesImpl-2.10.0.jar:/home/juanmhl/miniconda3/envs/uma-race/lib/python3.11/site-packages/owlready2/pellet/slf4j-log4j12-1.6.4.jar:/home/juanmhl/miniconda3/envs/uma-race/lib/python3.11/site-packages/owlready2/pellet/jena-tdb-0.10.0.jar:/home/juanmhl/miniconda3/envs/uma-race/lib/python3.11/site-packages/owlready2/pellet/jena-arq-2.10.0.jar:/home/juanmhl/miniconda3/envs/uma-race/lib/python3.11/site-packages/owlready2/pellet/log4j-core-2.19.0.jar:/home/juanmhl/miniconda3/envs/uma-race/lib/python3.11/site-packages/owlready2/pellet/log4j-api-2.19.0.jar:/home/juanmhl/miniconda3/envs/uma-race/lib/python3.11/site-packages/owlready2/pellet/jena-core-2.10.0.jar:/home/juanmhl/miniconda3/envs/uma-race/lib/python3.11/site-packages/owlready2/pellet/xml-apis-1.4.01.jar:/home/juanmhl/miniconda3/envs/uma-race/lib/python3.11/site-packages/owlready2/pellet/httpclient-4.2.3.jar:/home/juanmhl/miniconda3/envs/uma-race/lib/python3.11/site-packages/owlready2/pellet/pellet-2.3.1.jar:/home/juanmhl/miniconda3/envs/uma-race/lib/python3.11/site-packages/owlready2/pellet/antlr-3.2.jar:/home/juanmhl/miniconda3/envs/uma-race/lib/python3.11/site-packages/owlready2/pellet/antlr-runtime-3.2.jar:/home/juanmhl/miniconda3/envs/uma-race/lib/python3.11/site-packages/owlready2/pellet/jgrapht-jdk1.5.jar:/home/juanmhl/miniconda3/envs/uma-race/lib/python3.11/site-packages/owlready2/pellet/aterm-java-1.6.jar:/home/juanmhl/miniconda3/envs/uma-race/lib/python3.11/site-packages/owlready2/pellet/commons-codec-1.6.jar:/home/juanmhl/miniconda3/envs/uma-race/lib/python3.11/site-packages/owlready2/pellet/log4j-1.2-api-2.19.0.jar pellet.Pellet realize --loader Jena --input-format N-Triples --infer-prop-values --infer-data-prop-values --ignore-imports /tmp/tmpw1pvhhkq\n"
     ]
    },
    {
     "name": "stdout",
     "output_type": "stream",
     "text": [
      "* Owlready * Adding relation ontology.fase6 faseActual true\n",
      "* Owlready * Adding relation ontology.fase7 faseSiguiente true\n",
      "* Owlready * Adding relation ontology.fase2 faseActual true\n",
      "* Owlready * Adding relation ontology.ps2 puntoSuturaActual true\n",
      "* Owlready * Adding relation ontology.fase3 faseSiguiente true\n",
      "Phase: 1, Action: -DESPLAZAMIENTO_SUTURA_D-, Suture Point: 1, Near: NONE\n",
      "Phase: 5, Action: -DESPLAZAMIENTO_CAMBIO_I-, Suture Point: 1, Near: NONE\n",
      "Phase: 6, Action: -DESPLAZAMIENTO_CAMBIO_D-, Suture Point: 1, Near: NONE\n",
      "Phase: 2, Action: -DESPLAZAMIENTO_SUTURA_I--PUNCION-, Suture Point: 2, Near: NONE\n"
     ]
    },
    {
     "name": "stderr",
     "output_type": "stream",
     "text": [
      "* Owlready2 * Pellet took 0.6572904586791992 seconds\n",
      "* Owlready * (NB: only changes on entities loaded in Python are shown, other changes are done but not listed)\n"
     ]
    }
   ],
   "source": [
    "from inferenceengine import *\n",
    "\n",
    "repo_implementation = CommandRepositoryOntology\n",
    "service = InferenceMotorService(repo_implementation)\n",
    "service.initialize(n_points=3, ontology_path='/home/juanmhl/ontology.owl')\n",
    "\n",
    "vp1 = [True, False, False, False, False, False, True,       [False, False, False]]\n",
    "vp2 = [True, False, False, False, True, False, True,        [False, False, False]]\n",
    "vp3 = [True, False, False, False, True, True, False,        [False, False, False]]\n",
    "vp4 = [True, True, False, False, True, True, False,         [False, False, False]]\n",
    "vp5 = [False, True, False, False, True, True, False,        [False, False, False]]\n",
    "vp6 = [False, True, False, True, True, False, False,        [False, False, False]]\n",
    "vp7 = [False, True, True, True, False, False, False,        [False, False, False]]\n",
    "vp8 = [True, True, True, True, False, False, False,         [False, False, False]]\n",
    "vp9 = [True, False, True, True, False, False, False,        [False, False, False]]\n",
    "vpt = [True, True, True, True, True, True, True,            [False, False, False]]\n",
    "vpf = [False, False, False, False, False, False, False,     [False, False, False]]\n",
    "\n",
    "predicates_vectors = [vp1, vp5, vp6,\n",
    "                      [True, False, False, False, True, False, True, [True, False, False]]\n",
    "                      ]\n",
    "\n",
    "comandos = []\n",
    "\n",
    "for vp in predicates_vectors:\n",
    "    comandos.append(service.step(vp))\n",
    "\n",
    "\n",
    "for comando in comandos:\n",
    "    print(comando)"
   ]
  }
 ],
 "metadata": {
  "kernelspec": {
   "display_name": "uma-ontology",
   "language": "python",
   "name": "python3"
  },
  "language_info": {
   "codemirror_mode": {
    "name": "ipython",
    "version": 3
   },
   "file_extension": ".py",
   "mimetype": "text/x-python",
   "name": "python",
   "nbconvert_exporter": "python",
   "pygments_lexer": "ipython3",
   "version": "3.11.6"
  }
 },
 "nbformat": 4,
 "nbformat_minor": 2
}
